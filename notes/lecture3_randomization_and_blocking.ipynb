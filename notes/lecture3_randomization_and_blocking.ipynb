{
 "cells": [
  {
   "cell_type": "markdown",
   "id": "5f1184bb",
   "metadata": {
    "slideshow": {
     "slide_type": "slide"
    }
   },
   "source": [
    "# Lecture 3 - Randomization and Blocking"
   ]
  },
  {
   "cell_type": "markdown",
   "id": "63823d2d",
   "metadata": {
    "slideshow": {
     "slide_type": "slide"
    }
   },
   "source": [
    "## Today's Learning Objectives\n",
    "\n",
    "1. Explain foundational concepts of statistical design and analysis of experiments in a Data Science context.\n",
    "2. Relate A/B and A/B/n testings to common statistical models via ordinary least-squares (OLS).\n",
    "3. Fit and interpret appropriate OLS models from a factorial experiment.\n",
    "4. Relate the corresponding ANOVA table to the substantive question of interest.\n",
    "5. Introduce the concept of blocking in experimental design.\n",
    "6. Contrast a blocking versus a non-blocking experimental model."
   ]
  },
  {
   "cell_type": "markdown",
   "id": "65c4928e",
   "metadata": {
    "slideshow": {
     "slide_type": "skip"
    }
   },
   "source": [
    "## Loading `R` Packages"
   ]
  },
  {
   "cell_type": "code",
   "execution_count": 1,
   "id": "d724c2c0",
   "metadata": {
    "slideshow": {
     "slide_type": "skip"
    },
    "tags": [
     "remove-output"
    ]
   },
   "outputs": [
    {
     "name": "stderr",
     "output_type": "stream",
     "text": [
      "── \u001b[1mAttaching core tidyverse packages\u001b[22m ────────────────────────────────────────────────────────────────────────────────────────────────────────── tidyverse 2.0.0 ──\n",
      "\u001b[32m✔\u001b[39m \u001b[34mdplyr    \u001b[39m 1.1.4     \u001b[32m✔\u001b[39m \u001b[34mreadr    \u001b[39m 2.1.5\n",
      "\u001b[32m✔\u001b[39m \u001b[34mforcats  \u001b[39m 1.0.0     \u001b[32m✔\u001b[39m \u001b[34mstringr  \u001b[39m 1.5.1\n",
      "\u001b[32m✔\u001b[39m \u001b[34mggplot2  \u001b[39m 3.5.1     \u001b[32m✔\u001b[39m \u001b[34mtibble   \u001b[39m 3.2.1\n",
      "\u001b[32m✔\u001b[39m \u001b[34mlubridate\u001b[39m 1.9.3     \u001b[32m✔\u001b[39m \u001b[34mtidyr    \u001b[39m 1.3.1\n",
      "\u001b[32m✔\u001b[39m \u001b[34mpurrr    \u001b[39m 1.0.2     \n",
      "── \u001b[1mConflicts\u001b[22m ──────────────────────────────────────────────────────────────────────────────────────────────────────────────────────────── tidyverse_conflicts() ──\n",
      "\u001b[31m✖\u001b[39m \u001b[34mdplyr\u001b[39m::\u001b[32mfilter()\u001b[39m masks \u001b[34mstats\u001b[39m::filter()\n",
      "\u001b[31m✖\u001b[39m \u001b[34mdplyr\u001b[39m::\u001b[32mlag()\u001b[39m    masks \u001b[34mstats\u001b[39m::lag()\n",
      "\u001b[36mℹ\u001b[39m Use the conflicted package (\u001b[3m\u001b[34m<http://conflicted.r-lib.org/>\u001b[39m\u001b[23m) to force all conflicts to become errors\n"
     ]
    }
   ],
   "source": [
    "options(repr.matrix.max.rows = 8)\n",
    "library(tidyverse)\n",
    "library(broom)"
   ]
  },
  {
   "cell_type": "markdown",
   "id": "390d2a91",
   "metadata": {
    "slideshow": {
     "slide_type": "slide"
    }
   },
   "source": [
    "## Previously...\n",
    "\n",
    "In {doc}`lecture1_multiple_comparisons`, we explored key concepts such as **multiple testing** and its implications on the **inflation of the type I error** (**false positives!**) in hypothesis testing. This concept allowed you to draw proper inferential conclusions in the `lab1` case coming from [*Improving Library User Experience with A/B Testing: Principles and Process*](https://quod.lib.umich.edu/w/weave/12535642.0001.101?view=text;rgn=main) (Young, 2014)."
   ]
  },
  {
   "cell_type": "markdown",
   "id": "a2ccad6d",
   "metadata": {
    "slideshow": {
     "slide_type": "fragment"
    }
   },
   "source": [
    "Moreover, in {doc}`lecture2_simpson_confounding`, we discussed **confounding** and its role in critical issues such as the **Simpson's paradox**. Then, we explored the importance of **randomization** to obtain **accurate model estimates** in an **experimental study**. Randomization takes care of the confounders present in our population of interest, even when we do not include them in our modelling setup!"
   ]
  },
  {
   "cell_type": "markdown",
   "id": "321078d4",
   "metadata": {
    "slideshow": {
     "slide_type": "slide"
    }
   },
   "source": [
    "Even though we already introduced the concept of **A/B testing**, it is essential to keep digging into more experimental jargon (statistically speaking!). At the end of the day, **A/B testing** is basically a statistical experiment but with a really \"self-descriptive\" name.\n",
    "\n",
    "Let us start with the foundations of **Design and Analysis of Experiments** in a Data Science context."
   ]
  },
  {
   "cell_type": "markdown",
   "id": "3d941541",
   "metadata": {
    "slideshow": {
     "slide_type": "slide"
    }
   },
   "source": [
    "## 1. Foundations of A/B and A/B/n Testings\n",
    "\n",
    "**A/B testing** involves a **randomized** experiment between two stategies: **control** (baseline or status quo) and **experimental** (variation) treatments. \n",
    "\n",
    "```{admonition} Example\n",
    ":class: hint\n",
    "Will changing the design of the website lead to a change in customer engagement (measured by the click-through-rates, CTRs)?\n",
    "```"
   ]
  },
  {
   "cell_type": "markdown",
   "id": "ae6c7ed8",
   "metadata": {
    "slideshow": {
     "slide_type": "slide"
    }
   },
   "source": [
    "**A/B testing** is an experiment that aims to determine whether there is a statistical difference between both treatments in terms of a given **outcome of interest** (i.e., $Y$). \n",
    "\n",
    "More specifically, **A/B testing** is the Data Science-term applied to comparisons between two or more categories of a **factor-type variable** $X$ (i.e., its levels are our treatments of interest)."
   ]
  },
  {
   "cell_type": "markdown",
   "id": "5d637bbf",
   "metadata": {
    "slideshow": {
     "slide_type": "fragment"
    }
   },
   "source": [
    "```{important}\n",
    "Depending on the nature of the outcome (**continuous** or **discrete**), the statistical tool to compare the experimental treatments will vary. Let us practice our data modelling skills with some [**iCliker**](https://student.iclicker.com/#/login) questions.\n",
    "```"
   ]
  },
  {
   "cell_type": "markdown",
   "id": "df7bae1e",
   "metadata": {
    "slideshow": {
     "slide_type": "slide"
    }
   },
   "source": [
    "```{exercise}\n",
    ":label: lecture3-q1\n",
    "\n",
    "In a given online store, when compared to a current website layout, you want to assess whether a new website layout will increase the average user spending in CAD (compared to the current website layout). \n",
    "\n",
    "**What statistical tool is suitable for analyzing your A/B testing data?**\n",
    "\n",
    "**A.** A two-sample $t$-test.\n",
    "\n",
    "**B.** Ordinary Least-squares (OLS) regression.\n",
    "\n",
    "**C.** Multinomial Logistic regression.\n",
    "\n",
    "**D.** A $Z$-test for two proportions.\n",
    "```"
   ]
  },
  {
   "cell_type": "markdown",
   "id": "fad82c89",
   "metadata": {},
   "source": [
    "```{exercise}\n",
    ":label: lecture3-q2\n",
    "\n",
    "Suppose you own a website and want to increase the visits to a specific section of interest (whose access button appears on the homepage). Thus, you randomize your experimental visitors to either one of two homepage layouts: $1$ or $2$. After the experiment, you compute the corresponding CTRs ($i = 1, 2$):\n",
    "\n",
    "$$\\text{CTR}_i = \\frac{\\text{Total number of clicks on the access button in the } i\\text{th layout}}{\\text{Total number of visits to the homepage under the } i\\text{th layout}}.$$\n",
    "\n",
    "**What statistical tool is suitable for analyzing your A/B testing data?**\n",
    "\n",
    "**A.** A two-sample $t$-test.\n",
    "\n",
    "**B.** Ordinary Least-squares (OLS) regression.\n",
    "\n",
    "**C.** Multinomial Logistic regression.\n",
    "\n",
    "**D.** A $Z$-test for two proportions.\n",
    "```"
   ]
  },
  {
   "cell_type": "markdown",
   "id": "aa3487c0",
   "metadata": {},
   "source": [
    "```{exercise}\n",
    ":label: lecture3-q3\n",
    "\n",
    "Suppose you own a streaming service and want to increase the number of members in your **premium plan**. Then, you will run an A/B testing with current customers under the **standard plan**. You will **randomize** these current customers to one of these promotional videos on the premium plan: **current** or **new**. Furthermore, you also have **average customer-level monthly data** regarding how much time these customers spend on the platform (and want to incorporate that into your analysis!).\n",
    "\n",
    "Finally, you will collect data on **whether these experimental customers migrated to the premium plan or not**.\n",
    "\n",
    "**What statistical tool is suitable for analyzing your A/B testing data?**\n",
    "\n",
    "**A.** Binary Logistic regression.\n",
    "\n",
    "**B.** Ordinal Logistic regression.\n",
    "\n",
    "**C.** Multinomial Logistic regression.\n",
    "\n",
    "**D.** A $Z$-test for two proportions.\n",
    "```"
   ]
  },
  {
   "cell_type": "markdown",
   "id": "25114c1b",
   "metadata": {},
   "source": [
    "```{exercise}\n",
    ":label: lecture3-q4\n",
    "\n",
    "Suppose you want to increase customer satisfaction by improving your online store layout. Then, you will run an A/B testing. You will **randomize** your customers to one of these layouts: **current** or **new**.\n",
    "\n",
    "Once the customer is done with their purchase, you will record their satisfaction via a quick question:\n",
    "\n",
    "> **How satisfied were you with the purchase experience? Select one:**\n",
    ">\n",
    "> **1.** *Unsatisfied.*\n",
    ">\n",
    "> **2.** *A little bit unsatisfied.*\n",
    ">\n",
    "> **3.** *Neutral.*\n",
    ">\n",
    "> **4.** *A little bit satisfied.*\n",
    ">\n",
    "> **5.** *Satisfied.*\n",
    "\n",
    "**What statistical tool is suitable for analyzing your A/B testing data?**\n",
    "\n",
    "**A.** Binary Logistic regression.\n",
    "\n",
    "**B.** Ordinal Logistic regression.\n",
    "\n",
    "**C.** Multinomial Logistic regression.\n",
    "\n",
    "**D.** A $Z$-test for two proportions.\n",
    "```"
   ]
  },
  {
   "cell_type": "markdown",
   "id": "3aa2e9f6",
   "metadata": {
    "slideshow": {
     "slide_type": "slide"
    }
   },
   "source": [
    "Recall the **beauty of randomization**: it will make the regressor $X$ inherently independent of any possible confounding variables. Therefore, we will have the license to infer **causality**, rather than some weaker word such as **association**."
   ]
  },
  {
   "cell_type": "markdown",
   "id": "99e30cda",
   "metadata": {
    "slideshow": {
     "slide_type": "fragment"
    }
   },
   "source": [
    "### What if we want to test more than two experimental treatments in our A/B testing?\n",
    "\n",
    "In that case, the experiment will be called **A/B/n testing**. Note the **n** is not related to the sample size $n$. They just decided to call the testing that way."
   ]
  },
  {
   "cell_type": "markdown",
   "id": "a3a81bf7",
   "metadata": {
    "slideshow": {
     "slide_type": "slide"
    }
   },
   "source": [
    "## 2. A/B/n Testing with a Continuous Response\n",
    "\n",
    "In {doc}`lecture2_simpson_confounding`, we firstly mentioned **Analysis of Variance (ANOVA)** as one possible **A/B testing** approach. This is just one specific class of OLS model (**a continuous response versus a categorical regressor**). **ANOVA** can also be used in **A/B/n testing**. We will explore this model via an example."
   ]
  },
  {
   "cell_type": "markdown",
   "id": "262f34f9",
   "metadata": {
    "slideshow": {
     "slide_type": "slide"
    }
   },
   "source": [
    "### 2.1. The Website Dataset\n",
    "\n",
    "In your **A/B/n testing**, the next $n = 72$ visitors to your website will get assigned to a random version that varies in six possible ways according to combinations of the following variables:\n",
    "\n",
    "- `Font`: A **factor-type** variable with three levels (`small`, `medium`, and `large`).\n",
    "- Button `Colour`: A **factor-type** variable with two levels (`Red` and `Blue`).\n",
    "\n",
    "Your outcome of interest $Y$ is the **continuous** `Duration` of the visit recorded for each visitor in minutes. The experimental data is contained in `AB_data`."
   ]
  },
  {
   "cell_type": "code",
   "execution_count": 2,
   "id": "dc46e63e",
   "metadata": {
    "slideshow": {
     "slide_type": "slide"
    }
   },
   "outputs": [
    {
     "data": {
      "text/html": [
       "<table class=\"dataframe\">\n",
       "<caption>A tibble: 72 × 3</caption>\n",
       "<thead>\n",
       "\t<tr><th scope=col>Duration</th><th scope=col>Colour</th><th scope=col>Font</th></tr>\n",
       "\t<tr><th scope=col>&lt;dbl&gt;</th><th scope=col>&lt;fct&gt;</th><th scope=col>&lt;fct&gt;</th></tr>\n",
       "</thead>\n",
       "<tbody>\n",
       "\t<tr><td> 90</td><td>Red</td><td>Small </td></tr>\n",
       "\t<tr><td> 95</td><td>Red</td><td>Large </td></tr>\n",
       "\t<tr><td>107</td><td>Red</td><td>Medium</td></tr>\n",
       "\t<tr><td> 92</td><td>Red</td><td>Small </td></tr>\n",
       "\t<tr><td>⋮</td><td>⋮</td><td>⋮</td></tr>\n",
       "\t<tr><td>126</td><td>Blue</td><td>Medium</td></tr>\n",
       "\t<tr><td>116</td><td>Blue</td><td>Small </td></tr>\n",
       "\t<tr><td>136</td><td>Blue</td><td>Large </td></tr>\n",
       "\t<tr><td>133</td><td>Blue</td><td>Medium</td></tr>\n",
       "</tbody>\n",
       "</table>\n"
      ],
      "text/latex": [
       "A tibble: 72 × 3\n",
       "\\begin{tabular}{lll}\n",
       " Duration & Colour & Font\\\\\n",
       " <dbl> & <fct> & <fct>\\\\\n",
       "\\hline\n",
       "\t  90 & Red & Small \\\\\n",
       "\t  95 & Red & Large \\\\\n",
       "\t 107 & Red & Medium\\\\\n",
       "\t  92 & Red & Small \\\\\n",
       "\t ⋮ & ⋮ & ⋮\\\\\n",
       "\t 126 & Blue & Medium\\\\\n",
       "\t 116 & Blue & Small \\\\\n",
       "\t 136 & Blue & Large \\\\\n",
       "\t 133 & Blue & Medium\\\\\n",
       "\\end{tabular}\n"
      ],
      "text/markdown": [
       "\n",
       "A tibble: 72 × 3\n",
       "\n",
       "| Duration &lt;dbl&gt; | Colour &lt;fct&gt; | Font &lt;fct&gt; |\n",
       "|---|---|---|\n",
       "|  90 | Red | Small  |\n",
       "|  95 | Red | Large  |\n",
       "| 107 | Red | Medium |\n",
       "|  92 | Red | Small  |\n",
       "| ⋮ | ⋮ | ⋮ |\n",
       "| 126 | Blue | Medium |\n",
       "| 116 | Blue | Small  |\n",
       "| 136 | Blue | Large  |\n",
       "| 133 | Blue | Medium |\n",
       "\n"
      ],
      "text/plain": [
       "   Duration Colour Font  \n",
       "1   90      Red    Small \n",
       "2   95      Red    Large \n",
       "3  107      Red    Medium\n",
       "4   92      Red    Small \n",
       "⋮  ⋮        ⋮      ⋮     \n",
       "69 126      Blue   Medium\n",
       "70 116      Blue   Small \n",
       "71 136      Blue   Large \n",
       "72 133      Blue   Medium"
      ]
     },
     "metadata": {},
     "output_type": "display_data"
    }
   ],
   "source": [
    "ABn_data <- read_csv(\"../data/ABn_data.csv\", show_col_types = FALSE)\n",
    "ABn_data <- ABn_data %>%\n",
    "   mutate(Colour = as.factor(Colour), Font = as.factor(Font))\n",
    "ABn_data"
   ]
  },
  {
   "cell_type": "markdown",
   "id": "7418f6f1",
   "metadata": {
    "slideshow": {
     "slide_type": "slide"
    }
   },
   "source": [
    "### 2.2. Experimental Terminology\n",
    "\n",
    "The field of Design and Analysis of Experiments has some **key jargon** we need to learn. In the context of this problem, we will introduce some experimental design terminology.\n",
    "\n",
    "Note that each subgroup of visitors sees one version of the website (**all possible six pairwise combinations** of `Small`/`Medium`/`Large` fonts and `Blue`/`Red` button colours). Therefore, let us make a list of experimental characteristics:"
   ]
  },
  {
   "cell_type": "markdown",
   "id": "0be81c25",
   "metadata": {
    "slideshow": {
     "slide_type": "slide"
    }
   },
   "source": [
    "- The variables `Font` and `Colour` are called **experimental factors**.\n",
    "- We consider an experiment with six **treatments** (i.e., the six possible pairwise level combinations of `Font` and `Colour`). This characteristic makes our experiment an **A/B/n testing** (more than two treatments!)."
   ]
  },
  {
   "cell_type": "markdown",
   "id": "e79e955b",
   "metadata": {
    "slideshow": {
     "slide_type": "slide"
    }
   },
   "source": [
    "- Each visitor is called an **experimental unit**.\n",
    "- Since we have more than one **experimental unit** by **treatment**, the experiment involves **replicates** (**$72 / 6 = 12$ per treatment**).\n",
    "- Because the same number of **experimental units** is assigned to each treatment, the experiment is **balanced**.\n",
    "- The **experimental units** were **randomized** to either one of the six **experimental treatments**."
   ]
  },
  {
   "cell_type": "markdown",
   "id": "ade12d32",
   "metadata": {
    "slideshow": {
     "slide_type": "fragment"
    }
   },
   "source": [
    "- All six possible combinations of factor levels were used, so the experimental design is called a **full factorial** design.\n",
    "- We might specifically call this a $2 \\times 3$ **full factorial** design, since there are two factors (`Colour` with two levels and `Font` with three levels)."
   ]
  },
  {
   "cell_type": "markdown",
   "id": "d114a901",
   "metadata": {
    "slideshow": {
     "slide_type": "fragment"
    }
   },
   "source": [
    "### 2.3. Main Statistical Inquiry\n",
    "\n",
    "Once we have defined our experimental terminology, our main statistical inquiry is: \n",
    "\n",
    "> **What experimental treatment maximizes the `Duration` of the visit?** Suppose the **control treatment** corresponds to the **small font and blue colour**."
   ]
  },
  {
   "cell_type": "markdown",
   "id": "276a569a",
   "metadata": {
    "slideshow": {
     "slide_type": "slide"
    }
   },
   "source": [
    "### 2.4. Exploratory Data Analysis\n",
    "\n",
    "As in any other statistical analysis, we need to start with an exploratory data analysis (EDA). Since we have two **experimental factors** and a **continuous outcome**, we will use side-by-side boxplots."
   ]
  },
  {
   "cell_type": "code",
   "execution_count": 3,
   "id": "221a4d69",
   "metadata": {
    "slideshow": {
     "slide_type": "skip"
    }
   },
   "outputs": [],
   "source": [
    "options(repr.plot.height = 8, repr.plot.width = 14)\n",
    "\n",
    "ABn_boxplots <- ggplot(ABn_data) +\n",
    "  geom_boxplot(aes(Font, Duration, fill = Colour)) +\n",
    "  theme(\n",
    "    plot.title = element_text(size = 24, face = \"bold\"),\n",
    "    axis.text = element_text(size = 17),\n",
    "    axis.title = element_text(size = 21),\n",
    "    legend.position = \"bottom\",\n",
    "    legend.title = element_text(size = 21, face = \"bold\", margin = margin(r = 1, unit = \"cm\")), \n",
    "    legend.text = element_text(size = 17, margin = margin(r = 1, unit = \"cm\")),\n",
    "    legend.key.size = unit(2, 'cm')\n",
    "  ) +\n",
    "  ggtitle(\"Side-by-Side Boxplots of Six Experimental Treatments\") +\n",
    "  xlab(\"Font\") +\n",
    "  ylab(\"Visit Duration (min)\") + \n",
    "  scale_fill_manual(values = c(\"blue\", \"red\"))"
   ]
  },
  {
   "cell_type": "code",
   "execution_count": 4,
   "id": "0236056a",
   "metadata": {
    "slideshow": {
     "slide_type": "fragment"
    }
   },
   "outputs": [
    {
     "data": {
      "image/png": "[encoded data removed]",
      "text/plain": [
       "plot without title"
      ]
     },
     "metadata": {
      "image/png": {
       "height": 480,
       "width": 840
      }
     },
     "output_type": "display_data"
    }
   ],
   "source": [
    "ABn_boxplots"
   ]
  },
  {
   "cell_type": "markdown",
   "id": "8bceef6e",
   "metadata": {
    "slideshow": {
     "slide_type": "fragment"
    }
   },
   "source": [
    "We can **graphically** see that the treatments corresponding to the blue colour with medium font and the blue colour with large font maximize our outcome of interest."
   ]
  },
  {
   "cell_type": "markdown",
   "id": "6b5aca7e",
   "metadata": {
    "slideshow": {
     "slide_type": "slide"
    }
   },
   "source": [
    "### 2.5. Initial Data Modelling\n",
    "\n",
    "We will proceed with some statistical modelling. The first model is called a **two-way ANOVA with main effects only**. \n",
    "\n",
    "```{important}\n",
    "A **main effect** refers to a standalone regressor in our model.\n",
    "```\n",
    "\n",
    "In **experimental notation**, the response $Y_{i, j, k}$ for the $i$th `Font` level, the $j$th `Colour` level, and the $k$th **experimental unit** is decomposed as:"
   ]
  },
  {
   "cell_type": "markdown",
   "id": "e355c5fc",
   "metadata": {
    "slideshow": {
     "slide_type": "fragment"
    }
   },
   "source": [
    "$$Y_{i,j,k} = \\mu_{i} + \\tau_{j} + \\varepsilon_{i, j, k},$$\n",
    "\n",
    "where:\n",
    "\n",
    "- $\\mu_i$ is the main effect on the mean response of the $i$th `Font` level (for $i = 1, 2, 3$),\n",
    "- $\\tau_{j}$ is the main effect on the mean response of the $j$th `Colour` level (for $j = 1, 2$), and \n",
    "- $\\varepsilon_{i, j, k}$ is the error component assumed as independent, normally distributed, with mean zero and common variance $\\sigma^2$ (for $k = 1, \\dots, 12$)."
   ]
  },
  {
   "cell_type": "markdown",
   "id": "6474fe50",
   "metadata": {
    "slideshow": {
     "slide_type": "slide"
    }
   },
   "source": [
    "We can fit this model with the `lm()` function."
   ]
  },
  {
   "cell_type": "code",
   "execution_count": 5,
   "id": "7c2954a2",
   "metadata": {
    "slideshow": {
     "slide_type": "fragment"
    }
   },
   "outputs": [],
   "source": [
    "# Releveling factors according to the control treatment\n",
    "ABn_data$Colour <- fct_relevel(\n",
    "  ABn_data$Colour,\n",
    "  c(\"Blue\", \"Red\")\n",
    ")\n",
    "ABn_data$Font <- fct_relevel(\n",
    "  ABn_data$Font,\n",
    "  c(\"Small\", \"Medium\", \"Large\")\n",
    ")"
   ]
  },
  {
   "cell_type": "code",
   "execution_count": 6,
   "id": "0146e8ea",
   "metadata": {
    "slideshow": {
     "slide_type": "fragment"
    }
   },
   "outputs": [
    {
     "data": {
      "text/html": [
       "<table class=\"dataframe\">\n",
       "<caption>A tibble: 4 × 7</caption>\n",
       "<thead>\n",
       "\t<tr><th scope=col>term</th><th scope=col>estimate</th><th scope=col>std.error</th><th scope=col>statistic</th><th scope=col>p.value</th><th scope=col>conf.low</th><th scope=col>conf.high</th></tr>\n",
       "\t<tr><th scope=col>&lt;chr&gt;</th><th scope=col>&lt;dbl&gt;</th><th scope=col>&lt;dbl&gt;</th><th scope=col>&lt;dbl&gt;</th><th scope=col>&lt;dbl&gt;</th><th scope=col>&lt;dbl&gt;</th><th scope=col>&lt;dbl&gt;</th></tr>\n",
       "</thead>\n",
       "<tbody>\n",
       "\t<tr><td>(Intercept)</td><td>103.64</td><td>3.32</td><td>31.20</td><td>0.00</td><td> 97.01</td><td>110.27</td></tr>\n",
       "\t<tr><td>FontMedium </td><td> 12.75</td><td>4.07</td><td> 3.13</td><td>0.00</td><td>  4.63</td><td> 20.87</td></tr>\n",
       "\t<tr><td>FontLarge  </td><td>  7.67</td><td>4.07</td><td> 1.88</td><td>0.06</td><td> -0.45</td><td> 15.78</td></tr>\n",
       "\t<tr><td>ColourRed  </td><td>-21.44</td><td>3.32</td><td>-6.46</td><td>0.00</td><td>-28.07</td><td>-14.82</td></tr>\n",
       "</tbody>\n",
       "</table>\n"
      ],
      "text/latex": [
       "A tibble: 4 × 7\n",
       "\\begin{tabular}{lllllll}\n",
       " term & estimate & std.error & statistic & p.value & conf.low & conf.high\\\\\n",
       " <chr> & <dbl> & <dbl> & <dbl> & <dbl> & <dbl> & <dbl>\\\\\n",
       "\\hline\n",
       "\t (Intercept) & 103.64 & 3.32 & 31.20 & 0.00 &  97.01 & 110.27\\\\\n",
       "\t FontMedium  &  12.75 & 4.07 &  3.13 & 0.00 &   4.63 &  20.87\\\\\n",
       "\t FontLarge   &   7.67 & 4.07 &  1.88 & 0.06 &  -0.45 &  15.78\\\\\n",
       "\t ColourRed   & -21.44 & 3.32 & -6.46 & 0.00 & -28.07 & -14.82\\\\\n",
       "\\end{tabular}\n"
      ],
      "text/markdown": [
       "\n",
       "A tibble: 4 × 7\n",
       "\n",
       "| term &lt;chr&gt; | estimate &lt;dbl&gt; | std.error &lt;dbl&gt; | statistic &lt;dbl&gt; | p.value &lt;dbl&gt; | conf.low &lt;dbl&gt; | conf.high &lt;dbl&gt; |\n",
       "|---|---|---|---|---|---|---|\n",
       "| (Intercept) | 103.64 | 3.32 | 31.20 | 0.00 |  97.01 | 110.27 |\n",
       "| FontMedium  |  12.75 | 4.07 |  3.13 | 0.00 |   4.63 |  20.87 |\n",
       "| FontLarge   |   7.67 | 4.07 |  1.88 | 0.06 |  -0.45 |  15.78 |\n",
       "| ColourRed   | -21.44 | 3.32 | -6.46 | 0.00 | -28.07 | -14.82 |\n",
       "\n"
      ],
      "text/plain": [
       "  term        estimate std.error statistic p.value conf.low conf.high\n",
       "1 (Intercept) 103.64   3.32      31.20     0.00     97.01   110.27   \n",
       "2 FontMedium   12.75   4.07       3.13     0.00      4.63    20.87   \n",
       "3 FontLarge     7.67   4.07       1.88     0.06     -0.45    15.78   \n",
       "4 ColourRed   -21.44   3.32      -6.46     0.00    -28.07   -14.82   "
      ]
     },
     "metadata": {},
     "output_type": "display_data"
    }
   ],
   "source": [
    "OLS_ABn_main_effects <- lm(formula = Duration ~ Font + Colour, data = ABn_data)\n",
    "tidy(OLS_ABn_main_effects, conf.int = TRUE) %>% mutate_if(is.numeric, round, 2)"
   ]
  },
  {
   "cell_type": "markdown",
   "id": "44da8e3b",
   "metadata": {
    "slideshow": {
     "slide_type": "fragment"
    }
   },
   "source": [
    "The above `tidy()` output only sheds light on the fact that the **medium** `Font` and **red** `Colour` are statistically significant with $\\alpha = 0.05$ to the baseline levels (**small** and **blue**). Nonetheless, we might better use an **ANOVA table**. "
   ]
  },
  {
   "cell_type": "markdown",
   "id": "1ef9acc6",
   "metadata": {
    "slideshow": {
     "slide_type": "slide"
    }
   },
   "source": [
    "```{important}\n",
    "**ANOVA tables** go hand-in-hand with randomized experiments. **They are helpful to organize regression fits to factorial experiment data.** The table decomposes the **sum of squares** (i.e., variability) for each **experimental factor**. To obtain these tables, we can use the function `anova()`.\n",
    "```"
   ]
  },
  {
   "cell_type": "code",
   "execution_count": 7,
   "id": "f9470df3",
   "metadata": {
    "slideshow": {
     "slide_type": "fragment"
    }
   },
   "outputs": [
    {
     "data": {
      "text/html": [
       "<table class=\"dataframe\">\n",
       "<caption>A anova: 3 × 5</caption>\n",
       "<thead>\n",
       "\t<tr><th></th><th scope=col>Df</th><th scope=col>Sum Sq</th><th scope=col>Mean Sq</th><th scope=col>F value</th><th scope=col>Pr(&gt;F)</th></tr>\n",
       "\t<tr><th></th><th scope=col>&lt;dbl&gt;</th><th scope=col>&lt;dbl&gt;</th><th scope=col>&lt;dbl&gt;</th><th scope=col>&lt;dbl&gt;</th><th scope=col>&lt;dbl&gt;</th></tr>\n",
       "</thead>\n",
       "<tbody>\n",
       "\t<tr><th scope=row>Font</th><td> 2</td><td> 1977.44</td><td> 988.72</td><td> 4.98</td><td>0.01</td></tr>\n",
       "\t<tr><th scope=row>Colour</th><td> 1</td><td> 8277.56</td><td>8277.56</td><td>41.69</td><td>0.00</td></tr>\n",
       "\t<tr><th scope=row>Residuals</th><td>68</td><td>13501.44</td><td> 198.55</td><td>   NA</td><td>  NA</td></tr>\n",
       "</tbody>\n",
       "</table>\n"
      ],
      "text/latex": [
       "A anova: 3 × 5\n",
       "\\begin{tabular}{r|lllll}\n",
       "  & Df & Sum Sq & Mean Sq & F value & Pr(>F)\\\\\n",
       "  & <dbl> & <dbl> & <dbl> & <dbl> & <dbl>\\\\\n",
       "\\hline\n",
       "\tFont &  2 &  1977.44 &  988.72 &  4.98 & 0.01\\\\\n",
       "\tColour &  1 &  8277.56 & 8277.56 & 41.69 & 0.00\\\\\n",
       "\tResiduals & 68 & 13501.44 &  198.55 &    NA &   NA\\\\\n",
       "\\end{tabular}\n"
      ],
      "text/markdown": [
       "\n",
       "A anova: 3 × 5\n",
       "\n",
       "| <!--/--> | Df &lt;dbl&gt; | Sum Sq &lt;dbl&gt; | Mean Sq &lt;dbl&gt; | F value &lt;dbl&gt; | Pr(&gt;F) &lt;dbl&gt; |\n",
       "|---|---|---|---|---|---|\n",
       "| Font |  2 |  1977.44 |  988.72 |  4.98 | 0.01 |\n",
       "| Colour |  1 |  8277.56 | 8277.56 | 41.69 | 0.00 |\n",
       "| Residuals | 68 | 13501.44 |  198.55 |    NA |   NA |\n",
       "\n"
      ],
      "text/plain": [
       "          Df Sum Sq   Mean Sq F value Pr(>F)\n",
       "Font       2  1977.44  988.72  4.98   0.01  \n",
       "Colour     1  8277.56 8277.56 41.69   0.00  \n",
       "Residuals 68 13501.44  198.55    NA     NA  "
      ]
     },
     "metadata": {},
     "output_type": "display_data"
    }
   ],
   "source": [
    "anova(OLS_ABn_main_effects) %>% mutate_if(is.numeric, round, 2)"
   ]
  },
  {
   "cell_type": "markdown",
   "id": "01b52c33",
   "metadata": {
    "slideshow": {
     "slide_type": "fragment"
    }
   },
   "source": [
    "The previous table will allow us to test the following **composite hypotheses** (i.e., we test more than one parameter at the same time) by **experimental factor**:\n",
    "\n",
    "`Font`\n",
    "\n",
    "```{math}\n",
    "\\begin{gather*}\n",
    "H_0\\text{: } \\mu_1 = \\mu_2 = \\mu_3 \\\\\n",
    "H_a\\text{: at least one pair } \\mu_u \\neq \\mu_v \\text{ with } u \\neq v.\n",
    "\\end{gather*}\n",
    "```\n",
    "\n",
    "`Colour`\n",
    "\n",
    "```{math}\n",
    "\\begin{gather*}\n",
    "H_0\\text{: } \\tau_1 = \\tau_2 \\\\\n",
    "H_a\\text{: } \\tau_1 \\neq \\tau_2.\n",
    "\\end{gather*}\n",
    "```"
   ]
  },
  {
   "cell_type": "markdown",
   "id": "c54fbf20",
   "metadata": {
    "slideshow": {
     "slide_type": "slide"
    }
   },
   "source": [
    "With $\\alpha = 0.05$, we can state that at least one pair of factor levels in `Font` is statistically different in terms of their mean responses. In the case of `Colour`, its two levels are statistically different in terms of their mean responses."
   ]
  },
  {
   "cell_type": "markdown",
   "id": "e9519f53",
   "metadata": {
    "slideshow": {
     "slide_type": "slide"
    }
   },
   "source": [
    "### 2.6. Data Modelling with Interaction\n",
    "\n",
    "As a **general experimental guideline**, we should consider the potential for **interactions** with two or more factors. A **two-factor interaction plot** will give us a graphical insight into a statistically significant interaction."
   ]
  },
  {
   "cell_type": "markdown",
   "id": "a777e9a8",
   "metadata": {
    "slideshow": {
     "slide_type": "fragment"
    }
   },
   "source": [
    "```{important}\n",
    "A **two-factor interaction plot** has the continuous outcome of interest on the $y$-axis and the **first factor** levels on the $x$-axis. The plot illustrates lines whose nodes correspond to mean responses by factor level. We can also plot error bars by a node. There will be as many coloured lines as levels in the **second factor**.\n",
    "```"
   ]
  },
  {
   "cell_type": "code",
   "execution_count": 8,
   "id": "8a814ad4",
   "metadata": {
    "slideshow": {
     "slide_type": "skip"
    }
   },
   "outputs": [],
   "source": [
    "ABn_int_plots <- ABn_data %>% \n",
    "  ggplot(aes(x = Font, colour = Colour, group = Colour, y = Duration)) +\n",
    "  stat_summary(fun = mean, geom = \"point\", size = 5) +\n",
    "  stat_summary(fun = mean, geom = \"line\") +\n",
    "  stat_summary(fun.data = mean_se, geom = \"errorbar\", width = 0.1) +\n",
    "  theme(\n",
    "    plot.title = element_text(size = 24, face = \"bold\"),\n",
    "    axis.text = element_text(size = 17),\n",
    "    axis.title = element_text(size = 21),\n",
    "    legend.position = \"bottom\",\n",
    "    legend.title = element_text(size = 21, face = \"bold\", margin = margin(r = 1, unit = \"cm\")), \n",
    "    legend.text = element_text(size = 17, margin = margin(r = 1, unit = \"cm\"))\n",
    "  ) +\n",
    "  ggtitle(\"Interaction Plots\") +\n",
    "  xlab(\"Font\") +\n",
    "  ylab(\"Visit Duration (min)\") + \n",
    "  scale_color_manual(values = c(\"blue\", \"red\"))"
   ]
  },
  {
   "cell_type": "markdown",
   "id": "abd7b11a",
   "metadata": {
    "slideshow": {
     "slide_type": "slide"
    }
   },
   "source": [
    "The interaction plot below corresponds to our case study. A graphical interaction will occur if one factor level (`Font`) differs by the level of the other factor (`Colour`) **while the lines cross**."
   ]
  },
  {
   "cell_type": "code",
   "execution_count": 9,
   "id": "be119e5b",
   "metadata": {
    "slideshow": {
     "slide_type": "fragment"
    }
   },
   "outputs": [
    {
     "data": {
      "image/png": "[encoded data removed]",
      "text/plain": [
       "plot without title"
      ]
     },
     "metadata": {
      "image/png": {
       "height": 480,
       "width": 840
      }
     },
     "output_type": "display_data"
    }
   ],
   "source": [
    "ABn_int_plots"
   ]
  },
  {
   "cell_type": "markdown",
   "id": "2398ebfe",
   "metadata": {
    "slideshow": {
     "slide_type": "fragment"
    }
   },
   "source": [
    "In this case, the lines by `Colour` level do not cross while we vary `Font` sizes. Hence, **we do not have graphical evidence of a two-factor interaction**."
   ]
  },
  {
   "cell_type": "markdown",
   "id": "a3ec80d4",
   "metadata": {
    "slideshow": {
     "slide_type": "slide"
    }
   },
   "source": [
    "Now let us confirm the previous graphical result by fitting an OLS model that includes an interaction term, as shown below. This model is called a **two-way ANOVA with interaction effects**. This model includes both **main effects** and **two-factor interaction terms**. In **experimental notation**, the response $Y_{i, j, k}$ for the $i$th `Font` level, the $j$th `Colour` level, and the $k$th **experimental unit** is decomposed as:"
   ]
  },
  {
   "cell_type": "markdown",
   "id": "b320358a",
   "metadata": {
    "slideshow": {
     "slide_type": "fragment"
    }
   },
   "source": [
    "$$Y_{i,j,k} = \\mu_{i} + \\tau_{j} + (\\mu \\tau)_{i, j} + \\varepsilon_{i, j, k},$$\n",
    "\n",
    "where:\n",
    "\n",
    "- $\\mu_i$ is the main effect on the mean response of the $i$th `Font` level (for $i = 1, 2, 3$), \n",
    "- $\\tau_{j}$ is the main effect on the mean response of the $j$th `Colour` level (for $j = 1, 2$), \n",
    "- $(\\mu \\tau)_{i, j}$ is the interaction effect of both factors on the mean response of the $i$th and $j$th levels, and \n",
    "- $\\varepsilon_{i, j, k}$ is the error component assumed as independent, normally distributed, with mean zero and common variance $\\sigma^2$ (for $k = 1, \\dots, 12$)."
   ]
  },
  {
   "cell_type": "markdown",
   "id": "652a9157",
   "metadata": {
    "slideshow": {
     "slide_type": "fragment"
    }
   },
   "source": [
    "```{caution}\n",
    "The term $(\\mu \\tau)_{i, j}$ **DOES NOT** indicate that the main effects are multiplying each other. Mathematically, it is **another** modelling term.\n",
    "```"
   ]
  },
  {
   "cell_type": "markdown",
   "id": "16352231",
   "metadata": {
    "slideshow": {
     "slide_type": "slide"
    }
   },
   "source": [
    "We use `Duration ~ Colour * Font` as a `formula` argument in `lm()`."
   ]
  },
  {
   "cell_type": "code",
   "execution_count": 10,
   "id": "6dd02e07",
   "metadata": {
    "slideshow": {
     "slide_type": "fragment"
    }
   },
   "outputs": [
    {
     "data": {
      "text/html": [
       "<table class=\"dataframe\">\n",
       "<caption>A tibble: 6 × 5</caption>\n",
       "<thead>\n",
       "\t<tr><th scope=col>term</th><th scope=col>estimate</th><th scope=col>std.error</th><th scope=col>statistic</th><th scope=col>p.value</th></tr>\n",
       "\t<tr><th scope=col>&lt;chr&gt;</th><th scope=col>&lt;dbl&gt;</th><th scope=col>&lt;dbl&gt;</th><th scope=col>&lt;dbl&gt;</th><th scope=col>&lt;dbl&gt;</th></tr>\n",
       "</thead>\n",
       "<tbody>\n",
       "\t<tr><td>(Intercept)         </td><td> 98.58</td><td>3.98</td><td>24.77</td><td>0.00</td></tr>\n",
       "\t<tr><td>ColourRed           </td><td>-11.33</td><td>5.63</td><td>-2.01</td><td>0.05</td></tr>\n",
       "\t<tr><td>FontMedium          </td><td> 21.17</td><td>5.63</td><td> 3.76</td><td>0.00</td></tr>\n",
       "\t<tr><td>FontLarge           </td><td> 14.42</td><td>5.63</td><td> 2.56</td><td>0.01</td></tr>\n",
       "\t<tr><td>ColourRed:FontMedium</td><td>-16.83</td><td>7.96</td><td>-2.11</td><td>0.04</td></tr>\n",
       "\t<tr><td>ColourRed:FontLarge </td><td>-13.50</td><td>7.96</td><td>-1.70</td><td>0.09</td></tr>\n",
       "</tbody>\n",
       "</table>\n"
      ],
      "text/latex": [
       "A tibble: 6 × 5\n",
       "\\begin{tabular}{lllll}\n",
       " term & estimate & std.error & statistic & p.value\\\\\n",
       " <chr> & <dbl> & <dbl> & <dbl> & <dbl>\\\\\n",
       "\\hline\n",
       "\t (Intercept)          &  98.58 & 3.98 & 24.77 & 0.00\\\\\n",
       "\t ColourRed            & -11.33 & 5.63 & -2.01 & 0.05\\\\\n",
       "\t FontMedium           &  21.17 & 5.63 &  3.76 & 0.00\\\\\n",
       "\t FontLarge            &  14.42 & 5.63 &  2.56 & 0.01\\\\\n",
       "\t ColourRed:FontMedium & -16.83 & 7.96 & -2.11 & 0.04\\\\\n",
       "\t ColourRed:FontLarge  & -13.50 & 7.96 & -1.70 & 0.09\\\\\n",
       "\\end{tabular}\n"
      ],
      "text/markdown": [
       "\n",
       "A tibble: 6 × 5\n",
       "\n",
       "| term &lt;chr&gt; | estimate &lt;dbl&gt; | std.error &lt;dbl&gt; | statistic &lt;dbl&gt; | p.value &lt;dbl&gt; |\n",
       "|---|---|---|---|---|\n",
       "| (Intercept)          |  98.58 | 3.98 | 24.77 | 0.00 |\n",
       "| ColourRed            | -11.33 | 5.63 | -2.01 | 0.05 |\n",
       "| FontMedium           |  21.17 | 5.63 |  3.76 | 0.00 |\n",
       "| FontLarge            |  14.42 | 5.63 |  2.56 | 0.01 |\n",
       "| ColourRed:FontMedium | -16.83 | 7.96 | -2.11 | 0.04 |\n",
       "| ColourRed:FontLarge  | -13.50 | 7.96 | -1.70 | 0.09 |\n",
       "\n"
      ],
      "text/plain": [
       "  term                 estimate std.error statistic p.value\n",
       "1 (Intercept)           98.58   3.98      24.77     0.00   \n",
       "2 ColourRed            -11.33   5.63      -2.01     0.05   \n",
       "3 FontMedium            21.17   5.63       3.76     0.00   \n",
       "4 FontLarge             14.42   5.63       2.56     0.01   \n",
       "5 ColourRed:FontMedium -16.83   7.96      -2.11     0.04   \n",
       "6 ColourRed:FontLarge  -13.50   7.96      -1.70     0.09   "
      ]
     },
     "metadata": {},
     "output_type": "display_data"
    }
   ],
   "source": [
    "OLS_ABn_interaction <- lm(formula = Duration ~ Colour * Font, data = ABn_data)\n",
    "tidy(OLS_ABn_interaction) %>% mutate_if(is.numeric, round, 2)"
   ]
  },
  {
   "cell_type": "markdown",
   "id": "092745bc",
   "metadata": {
    "slideshow": {
     "slide_type": "slide"
    }
   },
   "source": [
    "Again, the `tidy()` output might not be entirely informative. Hence, we use the function `anova()` to obtain the **ANOVA table** for this interaction model."
   ]
  },
  {
   "cell_type": "code",
   "execution_count": 11,
   "id": "5cec9186",
   "metadata": {
    "slideshow": {
     "slide_type": "fragment"
    }
   },
   "outputs": [
    {
     "data": {
      "text/html": [
       "<table class=\"dataframe\">\n",
       "<caption>A anova: 4 × 5</caption>\n",
       "<thead>\n",
       "\t<tr><th></th><th scope=col>Df</th><th scope=col>Sum Sq</th><th scope=col>Mean Sq</th><th scope=col>F value</th><th scope=col>Pr(&gt;F)</th></tr>\n",
       "\t<tr><th></th><th scope=col>&lt;dbl&gt;</th><th scope=col>&lt;dbl&gt;</th><th scope=col>&lt;dbl&gt;</th><th scope=col>&lt;dbl&gt;</th><th scope=col>&lt;dbl&gt;</th></tr>\n",
       "</thead>\n",
       "<tbody>\n",
       "\t<tr><th scope=row>Colour</th><td> 1</td><td> 8277.56</td><td>8277.56</td><td>43.54</td><td>0.00</td></tr>\n",
       "\t<tr><th scope=row>Font</th><td> 2</td><td> 1977.44</td><td> 988.72</td><td> 5.20</td><td>0.01</td></tr>\n",
       "\t<tr><th scope=row>Colour:Font</th><td> 2</td><td>  953.44</td><td> 476.72</td><td> 2.51</td><td>0.09</td></tr>\n",
       "\t<tr><th scope=row>Residuals</th><td>66</td><td>12548.00</td><td> 190.12</td><td>   NA</td><td>  NA</td></tr>\n",
       "</tbody>\n",
       "</table>\n"
      ],
      "text/latex": [
       "A anova: 4 × 5\n",
       "\\begin{tabular}{r|lllll}\n",
       "  & Df & Sum Sq & Mean Sq & F value & Pr(>F)\\\\\n",
       "  & <dbl> & <dbl> & <dbl> & <dbl> & <dbl>\\\\\n",
       "\\hline\n",
       "\tColour &  1 &  8277.56 & 8277.56 & 43.54 & 0.00\\\\\n",
       "\tFont &  2 &  1977.44 &  988.72 &  5.20 & 0.01\\\\\n",
       "\tColour:Font &  2 &   953.44 &  476.72 &  2.51 & 0.09\\\\\n",
       "\tResiduals & 66 & 12548.00 &  190.12 &    NA &   NA\\\\\n",
       "\\end{tabular}\n"
      ],
      "text/markdown": [
       "\n",
       "A anova: 4 × 5\n",
       "\n",
       "| <!--/--> | Df &lt;dbl&gt; | Sum Sq &lt;dbl&gt; | Mean Sq &lt;dbl&gt; | F value &lt;dbl&gt; | Pr(&gt;F) &lt;dbl&gt; |\n",
       "|---|---|---|---|---|---|\n",
       "| Colour |  1 |  8277.56 | 8277.56 | 43.54 | 0.00 |\n",
       "| Font |  2 |  1977.44 |  988.72 |  5.20 | 0.01 |\n",
       "| Colour:Font |  2 |   953.44 |  476.72 |  2.51 | 0.09 |\n",
       "| Residuals | 66 | 12548.00 |  190.12 |    NA |   NA |\n",
       "\n"
      ],
      "text/plain": [
       "            Df Sum Sq   Mean Sq F value Pr(>F)\n",
       "Colour       1  8277.56 8277.56 43.54   0.00  \n",
       "Font         2  1977.44  988.72  5.20   0.01  \n",
       "Colour:Font  2   953.44  476.72  2.51   0.09  \n",
       "Residuals   66 12548.00  190.12    NA     NA  "
      ]
     },
     "metadata": {},
     "output_type": "display_data"
    }
   ],
   "source": [
    "anova(OLS_ABn_interaction) %>% mutate_if(is.numeric, round, 2)"
   ]
  },
  {
   "cell_type": "markdown",
   "id": "1b5a0a3a",
   "metadata": {
    "slideshow": {
     "slide_type": "slide"
    }
   },
   "source": [
    "The previous table will allow us to test the same **composite hypotheses** for the previous main effects plus the ones corresponding to the **two-factor interaction terms**:\n",
    "\n",
    "\n",
    "```{math}\n",
    "H_0\\text{: } (\\mu \\tau)_{1, 1} = (\\mu \\tau)_{1, 2} = (\\mu \\tau)_{2, 1} = (\\mu \\tau)_{2, 2} = (\\mu \\tau)_{3, 1} = (\\mu \\tau)_{3, 2} \\\\\n",
    "H_a\\text{: at least one pair } (\\mu \\tau)_{u, v} \\neq (\\mu \\tau)_{u', v'}.\n",
    "```\n",
    "\n",
    "The null hypothesis indicates that all interaction terms are on the status quo."
   ]
  },
  {
   "cell_type": "markdown",
   "id": "f4fd4cdd",
   "metadata": {
    "slideshow": {
     "slide_type": "slide"
    }
   },
   "source": [
    "With $\\alpha = 0.05$, we have evidence to reject the null hypotheses for the main effects **but not for the interaction effects**. Hence, any specific interaction (among the six possible ones) **DOES NOT** stand out as statistically significant."
   ]
  },
  {
   "cell_type": "markdown",
   "id": "ecf8cc72",
   "metadata": {
    "slideshow": {
     "slide_type": "fragment"
    }
   },
   "source": [
    "```{admonition} Interlude: Counting parameters for main effects and two-factor interactions\n",
    ":class: hint\n",
    "The column `Df` in the **ANOVA table** represents the degrees of freedom for each class of modelling term. In a **two-way ANOVA with interaction effects**, if factor 1 has $p_{1}$ levels and factor 2 has $p_{2}$ levels then:\n",
    "\n",
    "- $p_1 - 1$ degrees of freedom are needed for the main effect of factor 1.\n",
    "- $p_2 - 1$ degrees of freedom are needed for the main effect of factor 2.\n",
    "- $(p_1 - 1) \\times (p_2 - 1)$ degrees of freedom are needed for the interaction between factor 1 and factor 2.\n",
    "```"
   ]
  },
  {
   "cell_type": "markdown",
   "id": "6220f7a4",
   "metadata": {
    "slideshow": {
     "slide_type": "slide"
    }
   },
   "source": [
    "### 2.7. Post-Hoc Tests\n",
    "\n",
    "Recall our main statistical inquiry:\n",
    "\n",
    "> **What experimental treatment maximizes the `Duration` of the visit?** Suppose the **control treatment** corresponds to the **small font and blue colour**.\n",
    "\n",
    "We will use the **two-way ANOVA with interaction effects** to answer this. However, we have only been able to answer whether the main or interaction effects are statistically significant or not **in general**. Therefore, we need to run **post-hoc tests**."
   ]
  },
  {
   "cell_type": "markdown",
   "id": "8876733b",
   "metadata": {
    "slideshow": {
     "slide_type": "fragment"
    }
   },
   "source": [
    "```{important}\n",
    "The term \"post hoc\" means \"after this\" in Latin. A **post hoc test** in this class of experimental models refers to **all possible pairwise comparisons among the levels of the main and interactions effects after the model is estimated**. This matter involves **multiple testing corrections.**\n",
    "```"
   ]
  },
  {
   "cell_type": "markdown",
   "id": "0166e71f",
   "metadata": {
    "slideshow": {
     "slide_type": "slide"
    }
   },
   "source": [
    "As discussed in {doc}`lecture1_multiple_comparisons`, there is more than one multiple testing correction method. The same situation applies in ANOVA models. We will use the **Tukey's honestly significant differences (HSD)**. \n",
    "\n",
    "```{attention}\n",
    "Tukey's HSD keeps the **family-wise error rate (FWER)** at $\\alpha$ or below. **This method is only designed for ANOVA models.**\n",
    "```"
   ]
  },
  {
   "cell_type": "markdown",
   "id": "94e2ff9a",
   "metadata": {
    "slideshow": {
     "slide_type": "fragment"
    }
   },
   "source": [
    "We will use the function `TukeyHSD()` to run this method. The function needs an `aov()` object as an input. **Function `aov()` is just an `lm()` wrapper specifically programmed for ANOVA models.** It also has `formula` and `data` arguments. The `tidy()` output is an **ANOVA table**."
   ]
  },
  {
   "cell_type": "markdown",
   "id": "4a3a4a99",
   "metadata": {
    "slideshow": {
     "slide_type": "fragment"
    }
   },
   "source": [
    "```{important} \n",
    "`TukeyHSD()` function also has a `tidy()` output. We highlight the following:\n",
    "\n",
    "- The output will show all the pairwise difference estimates (column `estimate`) among all main and interaction effect levels along with their corresponding confidence intervals (CIs) and adjusted $p$-values. \n",
    "- The column `null.value` corresponds to the hypothesized status quo difference, i.e., a difference equal to zero in $H_0$.\n",
    "- An adjusted $p\\text{-value} < \\alpha$ indicates a statistically significant difference in a given level pair (column `contrast`) with significance level $\\alpha$.\n",
    "```"
   ]
  },
  {
   "cell_type": "code",
   "execution_count": 12,
   "id": "5fe4852c",
   "metadata": {
    "slideshow": {
     "slide_type": "skip"
    }
   },
   "outputs": [],
   "source": [
    "options(repr.matrix.max.rows = 20)"
   ]
  },
  {
   "cell_type": "code",
   "execution_count": 13,
   "id": "a3f74047",
   "metadata": {
    "slideshow": {
     "slide_type": "slide"
    }
   },
   "outputs": [
    {
     "data": {
      "text/html": [
       "<table class=\"dataframe\">\n",
       "<caption>A tibble: 4 × 6</caption>\n",
       "<thead>\n",
       "\t<tr><th scope=col>term</th><th scope=col>df</th><th scope=col>sumsq</th><th scope=col>meansq</th><th scope=col>statistic</th><th scope=col>p.value</th></tr>\n",
       "\t<tr><th scope=col>&lt;chr&gt;</th><th scope=col>&lt;dbl&gt;</th><th scope=col>&lt;dbl&gt;</th><th scope=col>&lt;dbl&gt;</th><th scope=col>&lt;dbl&gt;</th><th scope=col>&lt;dbl&gt;</th></tr>\n",
       "</thead>\n",
       "<tbody>\n",
       "\t<tr><td>Colour     </td><td> 1</td><td> 8277.56</td><td>8277.56</td><td>43.54</td><td>0.00</td></tr>\n",
       "\t<tr><td>Font       </td><td> 2</td><td> 1977.44</td><td> 988.72</td><td> 5.20</td><td>0.01</td></tr>\n",
       "\t<tr><td>Colour:Font</td><td> 2</td><td>  953.44</td><td> 476.72</td><td> 2.51</td><td>0.09</td></tr>\n",
       "\t<tr><td>Residuals  </td><td>66</td><td>12548.00</td><td> 190.12</td><td>   NA</td><td>  NA</td></tr>\n",
       "</tbody>\n",
       "</table>\n"
      ],
      "text/latex": [
       "A tibble: 4 × 6\n",
       "\\begin{tabular}{llllll}\n",
       " term & df & sumsq & meansq & statistic & p.value\\\\\n",
       " <chr> & <dbl> & <dbl> & <dbl> & <dbl> & <dbl>\\\\\n",
       "\\hline\n",
       "\t Colour      &  1 &  8277.56 & 8277.56 & 43.54 & 0.00\\\\\n",
       "\t Font        &  2 &  1977.44 &  988.72 &  5.20 & 0.01\\\\\n",
       "\t Colour:Font &  2 &   953.44 &  476.72 &  2.51 & 0.09\\\\\n",
       "\t Residuals   & 66 & 12548.00 &  190.12 &    NA &   NA\\\\\n",
       "\\end{tabular}\n"
      ],
      "text/markdown": [
       "\n",
       "A tibble: 4 × 6\n",
       "\n",
       "| term &lt;chr&gt; | df &lt;dbl&gt; | sumsq &lt;dbl&gt; | meansq &lt;dbl&gt; | statistic &lt;dbl&gt; | p.value &lt;dbl&gt; |\n",
       "|---|---|---|---|---|---|\n",
       "| Colour      |  1 |  8277.56 | 8277.56 | 43.54 | 0.00 |\n",
       "| Font        |  2 |  1977.44 |  988.72 |  5.20 | 0.01 |\n",
       "| Colour:Font |  2 |   953.44 |  476.72 |  2.51 | 0.09 |\n",
       "| Residuals   | 66 | 12548.00 |  190.12 |    NA |   NA |\n",
       "\n"
      ],
      "text/plain": [
       "  term        df sumsq    meansq  statistic p.value\n",
       "1 Colour       1  8277.56 8277.56 43.54     0.00   \n",
       "2 Font         2  1977.44  988.72  5.20     0.01   \n",
       "3 Colour:Font  2   953.44  476.72  2.51     0.09   \n",
       "4 Residuals   66 12548.00  190.12    NA       NA   "
      ]
     },
     "metadata": {},
     "output_type": "display_data"
    }
   ],
   "source": [
    "OLS_aov_ABn_interaction <- aov(formula = Duration ~ Colour * Font, data = ABn_data)\n",
    "tidy(OLS_aov_ABn_interaction) %>% mutate_if(is.numeric, round, 2)"
   ]
  },
  {
   "cell_type": "code",
   "execution_count": 14,
   "id": "b09f45a7",
   "metadata": {
    "slideshow": {
     "slide_type": "fragment"
    }
   },
   "outputs": [
    {
     "data": {
      "text/html": [
       "<table class=\"dataframe\">\n",
       "<caption>A tibble: 19 × 7</caption>\n",
       "<thead>\n",
       "\t<tr><th scope=col>term</th><th scope=col>contrast</th><th scope=col>null.value</th><th scope=col>estimate</th><th scope=col>conf.low</th><th scope=col>conf.high</th><th scope=col>adj.p.value</th></tr>\n",
       "\t<tr><th scope=col>&lt;chr&gt;</th><th scope=col>&lt;chr&gt;</th><th scope=col>&lt;dbl&gt;</th><th scope=col>&lt;dbl&gt;</th><th scope=col>&lt;dbl&gt;</th><th scope=col>&lt;dbl&gt;</th><th scope=col>&lt;dbl&gt;</th></tr>\n",
       "</thead>\n",
       "<tbody>\n",
       "\t<tr><td>Colour     </td><td>Red-Blue              </td><td>0</td><td>-21.44</td><td>-27.93</td><td>-14.96</td><td>0.00</td></tr>\n",
       "\t<tr><td>Font       </td><td>Medium-Small          </td><td>0</td><td> 12.75</td><td>  3.21</td><td> 22.29</td><td>0.01</td></tr>\n",
       "\t<tr><td>Font       </td><td>Large-Small           </td><td>0</td><td>  7.67</td><td> -1.88</td><td> 17.21</td><td>0.14</td></tr>\n",
       "\t<tr><td>Font       </td><td>Large-Medium          </td><td>0</td><td> -5.08</td><td>-14.63</td><td>  4.46</td><td>0.41</td></tr>\n",
       "\t<tr><td>Colour:Font</td><td>Red:Small-Blue:Small  </td><td>0</td><td>-11.33</td><td>-27.86</td><td>  5.19</td><td>0.35</td></tr>\n",
       "\t<tr><td>Colour:Font</td><td>Blue:Medium-Blue:Small</td><td>0</td><td> 21.17</td><td>  4.64</td><td> 37.69</td><td>0.00</td></tr>\n",
       "\t<tr><td>Colour:Font</td><td>Red:Medium-Blue:Small </td><td>0</td><td> -7.00</td><td>-23.52</td><td>  9.52</td><td>0.81</td></tr>\n",
       "\t<tr><td>Colour:Font</td><td>Blue:Large-Blue:Small </td><td>0</td><td> 14.42</td><td> -2.11</td><td> 30.94</td><td>0.12</td></tr>\n",
       "\t<tr><td>Colour:Font</td><td>Red:Large-Blue:Small  </td><td>0</td><td>-10.42</td><td>-26.94</td><td>  6.11</td><td>0.44</td></tr>\n",
       "\t<tr><td>Colour:Font</td><td>Blue:Medium-Red:Small </td><td>0</td><td> 32.50</td><td> 15.98</td><td> 49.02</td><td>0.00</td></tr>\n",
       "\t<tr><td>Colour:Font</td><td>Red:Medium-Red:Small  </td><td>0</td><td>  4.33</td><td>-12.19</td><td> 20.86</td><td>0.97</td></tr>\n",
       "\t<tr><td>Colour:Font</td><td>Blue:Large-Red:Small  </td><td>0</td><td> 25.75</td><td>  9.23</td><td> 42.27</td><td>0.00</td></tr>\n",
       "\t<tr><td>Colour:Font</td><td>Red:Large-Red:Small   </td><td>0</td><td>  0.92</td><td>-15.61</td><td> 17.44</td><td>1.00</td></tr>\n",
       "\t<tr><td>Colour:Font</td><td>Red:Medium-Blue:Medium</td><td>0</td><td>-28.17</td><td>-44.69</td><td>-11.64</td><td>0.00</td></tr>\n",
       "\t<tr><td>Colour:Font</td><td>Blue:Large-Blue:Medium</td><td>0</td><td> -6.75</td><td>-23.27</td><td>  9.77</td><td>0.84</td></tr>\n",
       "\t<tr><td>Colour:Font</td><td>Red:Large-Blue:Medium </td><td>0</td><td>-31.58</td><td>-48.11</td><td>-15.06</td><td>0.00</td></tr>\n",
       "\t<tr><td>Colour:Font</td><td>Blue:Large-Red:Medium </td><td>0</td><td> 21.42</td><td>  4.89</td><td> 37.94</td><td>0.00</td></tr>\n",
       "\t<tr><td>Colour:Font</td><td>Red:Large-Red:Medium  </td><td>0</td><td> -3.42</td><td>-19.94</td><td> 13.11</td><td>0.99</td></tr>\n",
       "\t<tr><td>Colour:Font</td><td>Red:Large-Blue:Large  </td><td>0</td><td>-24.83</td><td>-41.36</td><td> -8.31</td><td>0.00</td></tr>\n",
       "</tbody>\n",
       "</table>\n"
      ],
      "text/latex": [
       "A tibble: 19 × 7\n",
       "\\begin{tabular}{lllllll}\n",
       " term & contrast & null.value & estimate & conf.low & conf.high & adj.p.value\\\\\n",
       " <chr> & <chr> & <dbl> & <dbl> & <dbl> & <dbl> & <dbl>\\\\\n",
       "\\hline\n",
       "\t Colour      & Red-Blue               & 0 & -21.44 & -27.93 & -14.96 & 0.00\\\\\n",
       "\t Font        & Medium-Small           & 0 &  12.75 &   3.21 &  22.29 & 0.01\\\\\n",
       "\t Font        & Large-Small            & 0 &   7.67 &  -1.88 &  17.21 & 0.14\\\\\n",
       "\t Font        & Large-Medium           & 0 &  -5.08 & -14.63 &   4.46 & 0.41\\\\\n",
       "\t Colour:Font & Red:Small-Blue:Small   & 0 & -11.33 & -27.86 &   5.19 & 0.35\\\\\n",
       "\t Colour:Font & Blue:Medium-Blue:Small & 0 &  21.17 &   4.64 &  37.69 & 0.00\\\\\n",
       "\t Colour:Font & Red:Medium-Blue:Small  & 0 &  -7.00 & -23.52 &   9.52 & 0.81\\\\\n",
       "\t Colour:Font & Blue:Large-Blue:Small  & 0 &  14.42 &  -2.11 &  30.94 & 0.12\\\\\n",
       "\t Colour:Font & Red:Large-Blue:Small   & 0 & -10.42 & -26.94 &   6.11 & 0.44\\\\\n",
       "\t Colour:Font & Blue:Medium-Red:Small  & 0 &  32.50 &  15.98 &  49.02 & 0.00\\\\\n",
       "\t Colour:Font & Red:Medium-Red:Small   & 0 &   4.33 & -12.19 &  20.86 & 0.97\\\\\n",
       "\t Colour:Font & Blue:Large-Red:Small   & 0 &  25.75 &   9.23 &  42.27 & 0.00\\\\\n",
       "\t Colour:Font & Red:Large-Red:Small    & 0 &   0.92 & -15.61 &  17.44 & 1.00\\\\\n",
       "\t Colour:Font & Red:Medium-Blue:Medium & 0 & -28.17 & -44.69 & -11.64 & 0.00\\\\\n",
       "\t Colour:Font & Blue:Large-Blue:Medium & 0 &  -6.75 & -23.27 &   9.77 & 0.84\\\\\n",
       "\t Colour:Font & Red:Large-Blue:Medium  & 0 & -31.58 & -48.11 & -15.06 & 0.00\\\\\n",
       "\t Colour:Font & Blue:Large-Red:Medium  & 0 &  21.42 &   4.89 &  37.94 & 0.00\\\\\n",
       "\t Colour:Font & Red:Large-Red:Medium   & 0 &  -3.42 & -19.94 &  13.11 & 0.99\\\\\n",
       "\t Colour:Font & Red:Large-Blue:Large   & 0 & -24.83 & -41.36 &  -8.31 & 0.00\\\\\n",
       "\\end{tabular}\n"
      ],
      "text/markdown": [
       "\n",
       "A tibble: 19 × 7\n",
       "\n",
       "| term &lt;chr&gt; | contrast &lt;chr&gt; | null.value &lt;dbl&gt; | estimate &lt;dbl&gt; | conf.low &lt;dbl&gt; | conf.high &lt;dbl&gt; | adj.p.value &lt;dbl&gt; |\n",
       "|---|---|---|---|---|---|---|\n",
       "| Colour      | Red-Blue               | 0 | -21.44 | -27.93 | -14.96 | 0.00 |\n",
       "| Font        | Medium-Small           | 0 |  12.75 |   3.21 |  22.29 | 0.01 |\n",
       "| Font        | Large-Small            | 0 |   7.67 |  -1.88 |  17.21 | 0.14 |\n",
       "| Font        | Large-Medium           | 0 |  -5.08 | -14.63 |   4.46 | 0.41 |\n",
       "| Colour:Font | Red:Small-Blue:Small   | 0 | -11.33 | -27.86 |   5.19 | 0.35 |\n",
       "| Colour:Font | Blue:Medium-Blue:Small | 0 |  21.17 |   4.64 |  37.69 | 0.00 |\n",
       "| Colour:Font | Red:Medium-Blue:Small  | 0 |  -7.00 | -23.52 |   9.52 | 0.81 |\n",
       "| Colour:Font | Blue:Large-Blue:Small  | 0 |  14.42 |  -2.11 |  30.94 | 0.12 |\n",
       "| Colour:Font | Red:Large-Blue:Small   | 0 | -10.42 | -26.94 |   6.11 | 0.44 |\n",
       "| Colour:Font | Blue:Medium-Red:Small  | 0 |  32.50 |  15.98 |  49.02 | 0.00 |\n",
       "| Colour:Font | Red:Medium-Red:Small   | 0 |   4.33 | -12.19 |  20.86 | 0.97 |\n",
       "| Colour:Font | Blue:Large-Red:Small   | 0 |  25.75 |   9.23 |  42.27 | 0.00 |\n",
       "| Colour:Font | Red:Large-Red:Small    | 0 |   0.92 | -15.61 |  17.44 | 1.00 |\n",
       "| Colour:Font | Red:Medium-Blue:Medium | 0 | -28.17 | -44.69 | -11.64 | 0.00 |\n",
       "| Colour:Font | Blue:Large-Blue:Medium | 0 |  -6.75 | -23.27 |   9.77 | 0.84 |\n",
       "| Colour:Font | Red:Large-Blue:Medium  | 0 | -31.58 | -48.11 | -15.06 | 0.00 |\n",
       "| Colour:Font | Blue:Large-Red:Medium  | 0 |  21.42 |   4.89 |  37.94 | 0.00 |\n",
       "| Colour:Font | Red:Large-Red:Medium   | 0 |  -3.42 | -19.94 |  13.11 | 0.99 |\n",
       "| Colour:Font | Red:Large-Blue:Large   | 0 | -24.83 | -41.36 |  -8.31 | 0.00 |\n",
       "\n"
      ],
      "text/plain": [
       "   term        contrast               null.value estimate conf.low conf.high\n",
       "1  Colour      Red-Blue               0          -21.44   -27.93   -14.96   \n",
       "2  Font        Medium-Small           0           12.75     3.21    22.29   \n",
       "3  Font        Large-Small            0            7.67    -1.88    17.21   \n",
       "4  Font        Large-Medium           0           -5.08   -14.63     4.46   \n",
       "5  Colour:Font Red:Small-Blue:Small   0          -11.33   -27.86     5.19   \n",
       "6  Colour:Font Blue:Medium-Blue:Small 0           21.17     4.64    37.69   \n",
       "7  Colour:Font Red:Medium-Blue:Small  0           -7.00   -23.52     9.52   \n",
       "8  Colour:Font Blue:Large-Blue:Small  0           14.42    -2.11    30.94   \n",
       "9  Colour:Font Red:Large-Blue:Small   0          -10.42   -26.94     6.11   \n",
       "10 Colour:Font Blue:Medium-Red:Small  0           32.50    15.98    49.02   \n",
       "11 Colour:Font Red:Medium-Red:Small   0            4.33   -12.19    20.86   \n",
       "12 Colour:Font Blue:Large-Red:Small   0           25.75     9.23    42.27   \n",
       "13 Colour:Font Red:Large-Red:Small    0            0.92   -15.61    17.44   \n",
       "14 Colour:Font Red:Medium-Blue:Medium 0          -28.17   -44.69   -11.64   \n",
       "15 Colour:Font Blue:Large-Blue:Medium 0           -6.75   -23.27     9.77   \n",
       "16 Colour:Font Red:Large-Blue:Medium  0          -31.58   -48.11   -15.06   \n",
       "17 Colour:Font Blue:Large-Red:Medium  0           21.42     4.89    37.94   \n",
       "18 Colour:Font Red:Large-Red:Medium   0           -3.42   -19.94    13.11   \n",
       "19 Colour:Font Red:Large-Blue:Large   0          -24.83   -41.36    -8.31   \n",
       "   adj.p.value\n",
       "1  0.00       \n",
       "2  0.01       \n",
       "3  0.14       \n",
       "4  0.41       \n",
       "5  0.35       \n",
       "6  0.00       \n",
       "7  0.81       \n",
       "8  0.12       \n",
       "9  0.44       \n",
       "10 0.00       \n",
       "11 0.97       \n",
       "12 0.00       \n",
       "13 1.00       \n",
       "14 0.00       \n",
       "15 0.84       \n",
       "16 0.00       \n",
       "17 0.00       \n",
       "18 0.99       \n",
       "19 0.00       "
      ]
     },
     "metadata": {},
     "output_type": "display_data"
    }
   ],
   "source": [
    "tidy_tukey <- tidy(TukeyHSD(OLS_aov_ABn_interaction, conf.level = 0.95)) %>% mutate_if(is.numeric, round, 2)\n",
    "tidy_tukey"
   ]
  },
  {
   "cell_type": "markdown",
   "id": "8a16743e",
   "metadata": {
    "slideshow": {
     "slide_type": "slide"
    }
   },
   "source": [
    "Let us focus on the **significant** difference corresponding to the two-factor interaction, **specifically that containing the control treatment blue `Colour` and small `Font` (our CONTROL treatment)**. We can see that the **largest positive estimated difference** corresponds to `Blue:Medium-Blue:Small` with $21.17$ and a 95% CI of $[4.64, 37.69]$."
   ]
  },
  {
   "cell_type": "code",
   "execution_count": 15,
   "id": "788b67a1",
   "metadata": {
    "slideshow": {
     "slide_type": "fragment"
    }
   },
   "outputs": [
    {
     "data": {
      "text/html": [
       "<table class=\"dataframe\">\n",
       "<caption>A tibble: 1 × 7</caption>\n",
       "<thead>\n",
       "\t<tr><th scope=col>term</th><th scope=col>contrast</th><th scope=col>null.value</th><th scope=col>estimate</th><th scope=col>conf.low</th><th scope=col>conf.high</th><th scope=col>adj.p.value</th></tr>\n",
       "\t<tr><th scope=col>&lt;chr&gt;</th><th scope=col>&lt;chr&gt;</th><th scope=col>&lt;dbl&gt;</th><th scope=col>&lt;dbl&gt;</th><th scope=col>&lt;dbl&gt;</th><th scope=col>&lt;dbl&gt;</th><th scope=col>&lt;dbl&gt;</th></tr>\n",
       "</thead>\n",
       "<tbody>\n",
       "\t<tr><td>Colour:Font</td><td>Blue:Medium-Blue:Small</td><td>0</td><td>21.17</td><td>4.64</td><td>37.69</td><td>0</td></tr>\n",
       "</tbody>\n",
       "</table>\n"
      ],
      "text/latex": [
       "A tibble: 1 × 7\n",
       "\\begin{tabular}{lllllll}\n",
       " term & contrast & null.value & estimate & conf.low & conf.high & adj.p.value\\\\\n",
       " <chr> & <chr> & <dbl> & <dbl> & <dbl> & <dbl> & <dbl>\\\\\n",
       "\\hline\n",
       "\t Colour:Font & Blue:Medium-Blue:Small & 0 & 21.17 & 4.64 & 37.69 & 0\\\\\n",
       "\\end{tabular}\n"
      ],
      "text/markdown": [
       "\n",
       "A tibble: 1 × 7\n",
       "\n",
       "| term &lt;chr&gt; | contrast &lt;chr&gt; | null.value &lt;dbl&gt; | estimate &lt;dbl&gt; | conf.low &lt;dbl&gt; | conf.high &lt;dbl&gt; | adj.p.value &lt;dbl&gt; |\n",
       "|---|---|---|---|---|---|---|\n",
       "| Colour:Font | Blue:Medium-Blue:Small | 0 | 21.17 | 4.64 | 37.69 | 0 |\n",
       "\n"
      ],
      "text/plain": [
       "  term        contrast               null.value estimate conf.low conf.high\n",
       "1 Colour:Font Blue:Medium-Blue:Small 0          21.17    4.64     37.69    \n",
       "  adj.p.value\n",
       "1 0          "
      ]
     },
     "metadata": {},
     "output_type": "display_data"
    }
   ],
   "source": [
    "tidy_tukey %>%\n",
    "  filter(adj.p.value < 0.05 & grepl(\"Blue:Small\", contrast))"
   ]
  },
  {
   "cell_type": "markdown",
   "id": "a79f7646",
   "metadata": {
    "slideshow": {
     "slide_type": "slide"
    }
   },
   "source": [
    "**Hence, given the results of the A/B/n testing, the experimental treatment that maximizes the outcome of interest compared to the control treatment is the blue `Colour` with medium `Font`.** Note `Colour` did not make any difference but the `Font`. This fact is consistent with our interaction plot!"
   ]
  },
  {
   "cell_type": "markdown",
   "id": "3844740d",
   "metadata": {
    "slideshow": {
     "slide_type": "fragment"
    }
   },
   "source": [
    "```{attention}\n",
    "Other `aov()` post hoc tests are available through the `PostHocTest()` function via the package `DescTools`. Bonferroni correction is one of these alternative methods.\n",
    "```"
   ]
  },
  {
   "cell_type": "markdown",
   "id": "112148ec",
   "metadata": {
    "slideshow": {
     "slide_type": "slide"
    }
   },
   "source": [
    "## 3. Blocking\n",
    "\n",
    "The previous example involved two experimental factors (`Font` and `Colour`). Nonetheless, these two factors were our primary interest in the A/B testing. In some other cases, another class of factor could arise **and it will not be necessarily of our primary interest, nor we can control it**! These are the **blocking factors**."
   ]
  },
  {
   "cell_type": "markdown",
   "id": "aaecdd45",
   "metadata": {
    "slideshow": {
     "slide_type": "fragment"
    }
   },
   "source": [
    "```{important}\n",
    "A **blocking factor** allows us to group our **experimental units** by common characteristics. Note that the experimenter does not have control over the blocking factor. **They just consider it as a grouping factor.**\n",
    "\n",
    "These are some examples of blocking:\n",
    "\n",
    "- Grouping the experimental units as **batches of material**.\n",
    "- Grouping the experimental units by **time periods** during which the A/B testing occurs.\n",
    "- Grouping our experimental units by **working shifts**.\n",
    "```"
   ]
  },
  {
   "cell_type": "markdown",
   "id": "0ff02d20",
   "metadata": {
    "slideshow": {
     "slide_type": "slide"
    }
   },
   "source": [
    "One of the greatest statisticians who made important contributions to the field of Design and Analysis of Experiments was George E. P. Box (1919-2013). He is famous for his phrase: [\"**Essentially all models are wrong, but some are useful.**\"](https://rss.onlinelibrary.wiley.com/doi/pdf/10.1111/j.1740-9713.2010.00442.x) However, he also has another great phrase: \"**Block what you can, randomize what you cannot.**\""
   ]
  },
  {
   "cell_type": "markdown",
   "id": "b5befb81",
   "metadata": {
    "slideshow": {
     "slide_type": "slide"
    }
   },
   "source": [
    "```{hint}\n",
    "Essentially, this phrase implicates the following:\n",
    "\n",
    "- The **core idea** of blocking is removing the effect of secondary measurable variables from our response of interest. Hence, our statistical model could shed light on some statistical **association/causation** between the levels of a secondary blocking factor and our response of interest. \n",
    "- On the other hand, **experimental treatment** randomization takes care of other nuisance variables, which we cannot measure.\n",
    "```"
   ]
  },
  {
   "cell_type": "markdown",
   "id": "153b3399",
   "metadata": {
    "slideshow": {
     "slide_type": "slide"
    }
   },
   "source": [
    "###  3.1. Blocking Procedure\n",
    "\n",
    "So far, we have been discussing experiments where all of our experimental units are directly randomized to some treatment. Nevertheless, blocking involves a two-step process as follows.\n",
    "\n",
    "1. Stratify your experimental units into homogeneous blocks. For instance, this stratification might be some relevant demographic variable in the case of human beings. Each stratum will be a block.\n",
    "2. Randomize the units to the experimental treatments of interest within each block."
   ]
  },
  {
   "cell_type": "markdown",
   "id": "4511b9f5",
   "metadata": {
    "slideshow": {
     "slide_type": "slide"
    }
   },
   "source": [
    "###  3.2. Simulation Setup\n",
    "\n",
    "To get a handle on what blocking does, let us do a numerical experiment. \n",
    "\n",
    "```{admonition} Main statistical inquiry\n",
    "Suppose you want to run an **A/B testing** on a **subscription website** to experiment with a new layout (i.e., the **experimental treatment**) to increase the mean duration time (hours) on your website (i.e., the **response**). You will compare this new layout versus the existing one (i.e., the **control treatment**). Thus, you will have an **experimental factor of interest** with two levels: **current** versus **new** layout.\n",
    "```\n",
    "\n",
    "```{admonition} Experimental Limitations\n",
    "From the company's financial perspective, **A/B testing** is costly. Hence, they will only restrict the experiment to a sample of $n = 200$ subscribers.\n",
    "```"
   ]
  },
  {
   "cell_type": "code",
   "execution_count": 16,
   "id": "ef3c7c86",
   "metadata": {
    "slideshow": {
     "slide_type": "fragment"
    }
   },
   "outputs": [],
   "source": [
    "set.seed(134) # Global reproducibility\n",
    "\n",
    "n <- 200"
   ]
  },
  {
   "cell_type": "markdown",
   "id": "2ac5f4b4",
   "metadata": {
    "slideshow": {
     "slide_type": "slide"
    }
   },
   "source": [
    "```{admonition} Blocking Arrangement\n",
    "Since this is a subscription website, assume we have access to **specific demographic categories** on our sampled subscribers. More particularly, there are ten demographic categories. We will take these categories as **blocks**. Therefore, our block-based A/B testing will be **balanced**, i.e., an equal number of sampled subscribers by block.\n",
    "```"
   ]
  },
  {
   "cell_type": "code",
   "execution_count": 17,
   "id": "5c567338",
   "metadata": {
    "slideshow": {
     "slide_type": "fragment"
    }
   },
   "outputs": [],
   "source": [
    "num_block <- 10\n",
    "size_block <- n / num_block"
   ]
  },
  {
   "cell_type": "markdown",
   "id": "aa7f61e9",
   "metadata": {
    "slideshow": {
     "slide_type": "slide"
    }
   },
   "source": [
    "###  3.3. Building our Synthetic Data\n",
    "\n",
    "As done in {doc}`lecture2_simpson_confounding`, we will start by building our synthetic data (response and regressors). We already clarified our case will have ten demographic categories (or **blocks**). Each one of these categories will have **a different mean duration time on your website**. For the $i$th subscriber in the $j$th block, the response $Y_{i,j}$ will be decomposed and simulated as\n",
    "\n",
    "$$Y_{i, j} = 8 + \\alpha_{D_{j}} + \\theta I_{\\text{trt},i} + \\varepsilon_{i, j},$$\n"
   ]
  },
  {
   "cell_type": "markdown",
   "id": "fb5c2f88",
   "metadata": {
    "slideshow": {
     "slide_type": "fragment"
    }
   },
   "source": [
    "where:\n",
    "\n",
    "- $Y_{i,j}$ is the subscriber's duration time on the website.\n",
    "- 8 hours is the average duration time on the website for all the **current subscribers**.\n",
    "- $\\alpha_{D_{j}}$ is the $j$th block effect **difference** (with respect to previous average duration time) which will take on ten values (depending on which block the subscriber belongs to, i.e., $j = 1, \\dots, 10$). **The between-block variance will be $\\sigma_D^2 = 2.5^ 2$.**\n",
    "- $\\theta$ is our **experimental treatment effect of interest**, i.e., by how much the response increases/decreases with the `new` layout compared to the `current` one."
   ]
  },
  {
   "cell_type": "markdown",
   "id": "e3f2421b",
   "metadata": {
    "slideshow": {
     "slide_type": "slide"
    }
   },
   "source": [
    "- $\\varepsilon_{i,j}$ is normally distributed **random noise** with mean zero and variance $\\sigma^2 = 0.8^ 2$ (**this is the within-block variance**).\n",
    "- $I_{\\text{trt},i}$ is the indicator variable set up as\n",
    "\n",
    "$$\n",
    "I_{\\text{trt},i} =\n",
    "\\begin{cases}\n",
    "1 \\; \\; \\; \\; \\mbox{if the subscriber was assigned to the } \\texttt{new} \\mbox{ layout},\\\\\n",
    "0 \\; \\; \\; \\; \t\\mbox{otherwise.}\n",
    "\\end{cases}\n",
    "$$"
   ]
  },
  {
   "cell_type": "markdown",
   "id": "714274be",
   "metadata": {
    "slideshow": {
     "slide_type": "fragment"
    }
   },
   "source": [
    "We begin by simulating the ten values $\\alpha_{D_{i, j}}$. They will be ten fixed values coming from a normal distribution with **mean zero** and between-block variance $\\sigma_D^2 = 2.5^ 2$."
   ]
  },
  {
   "cell_type": "code",
   "execution_count": 18,
   "id": "101256d4",
   "metadata": {
    "slideshow": {
     "slide_type": "fragment"
    }
   },
   "outputs": [
    {
     "data": {
      "text/html": [
       "<style>\n",
       ".list-inline {list-style: none; margin:0; padding: 0}\n",
       ".list-inline>li {display: inline-block}\n",
       ".list-inline>li:not(:last-child)::after {content: \"\\00b7\"; padding: 0 .5ex}\n",
       "</style>\n",
       "<ol class=list-inline><li>-2.101</li><li>2.956</li><li>0.698</li><li>-0.877</li><li>-3.195</li><li>1.541</li><li>4.831</li><li>-0.132</li><li>0.633</li><li>3.453</li></ol>\n"
      ],
      "text/latex": [
       "\\begin{enumerate*}\n",
       "\\item -2.101\n",
       "\\item 2.956\n",
       "\\item 0.698\n",
       "\\item -0.877\n",
       "\\item -3.195\n",
       "\\item 1.541\n",
       "\\item 4.831\n",
       "\\item -0.132\n",
       "\\item 0.633\n",
       "\\item 3.453\n",
       "\\end{enumerate*}\n"
      ],
      "text/markdown": [
       "1. -2.101\n",
       "2. 2.956\n",
       "3. 0.698\n",
       "4. -0.877\n",
       "5. -3.195\n",
       "6. 1.541\n",
       "7. 4.831\n",
       "8. -0.132\n",
       "9. 0.633\n",
       "10. 3.453\n",
       "\n",
       "\n"
      ],
      "text/plain": [
       " [1] -2.101  2.956  0.698 -0.877 -3.195  1.541  4.831 -0.132  0.633  3.453"
      ]
     },
     "metadata": {},
     "output_type": "display_data"
    }
   ],
   "source": [
    "alpha <- rnorm(num_block, sd = 2.5)\n",
    "round(alpha, 3)"
   ]
  },
  {
   "cell_type": "markdown",
   "id": "a158b536",
   "metadata": {
    "slideshow": {
     "slide_type": "fragment"
    }
   },
   "source": [
    "We also assign the **within-block standard deviation**:"
   ]
  },
  {
   "cell_type": "code",
   "execution_count": 19,
   "id": "5c6ac3ed",
   "metadata": {
    "slideshow": {
     "slide_type": "fragment"
    }
   },
   "outputs": [],
   "source": [
    "sigma <- 0.8"
   ]
  },
  {
   "cell_type": "markdown",
   "id": "ff51cfe3",
   "metadata": {
    "slideshow": {
     "slide_type": "slide"
    }
   },
   "source": [
    "And our experimental treatment effect of interest (the `new` layout increases the response by 0.5 hours compared to the `current` layout):"
   ]
  },
  {
   "cell_type": "code",
   "execution_count": 20,
   "id": "655b2107",
   "metadata": {
    "slideshow": {
     "slide_type": "fragment"
    }
   },
   "outputs": [],
   "source": [
    "theta <- 0.5"
   ]
  },
  {
   "cell_type": "markdown",
   "id": "ba5f141a",
   "metadata": {
    "slideshow": {
     "slide_type": "fragment"
    }
   },
   "source": [
    "Finally, we will create a **discrete probability distribution** to define how the subscriber population is distributed across the demographic strata."
   ]
  },
  {
   "cell_type": "code",
   "execution_count": 21,
   "id": "1b7c6b69",
   "metadata": {
    "slideshow": {
     "slide_type": "fragment"
    }
   },
   "outputs": [
    {
     "data": {
      "text/html": [
       "<style>\n",
       ".list-inline {list-style: none; margin:0; padding: 0}\n",
       ".list-inline>li {display: inline-block}\n",
       ".list-inline>li:not(:last-child)::after {content: \"\\00b7\"; padding: 0 .5ex}\n",
       "</style>\n",
       "<ol class=list-inline><li>0.17</li><li>0.15</li><li>0.14</li><li>0.12</li><li>0.11</li><li>0.09</li><li>0.08</li><li>0.06</li><li>0.05</li><li>0.03</li></ol>\n"
      ],
      "text/latex": [
       "\\begin{enumerate*}\n",
       "\\item 0.17\n",
       "\\item 0.15\n",
       "\\item 0.14\n",
       "\\item 0.12\n",
       "\\item 0.11\n",
       "\\item 0.09\n",
       "\\item 0.08\n",
       "\\item 0.06\n",
       "\\item 0.05\n",
       "\\item 0.03\n",
       "\\end{enumerate*}\n"
      ],
      "text/markdown": [
       "1. 0.17\n",
       "2. 0.15\n",
       "3. 0.14\n",
       "4. 0.12\n",
       "5. 0.11\n",
       "6. 0.09\n",
       "7. 0.08\n",
       "8. 0.06\n",
       "9. 0.05\n",
       "10. 0.03\n",
       "\n",
       "\n"
      ],
      "text/plain": [
       " [1] 0.17 0.15 0.14 0.12 0.11 0.09 0.08 0.06 0.05 0.03"
      ]
     },
     "metadata": {},
     "output_type": "display_data"
    },
    {
     "data": {
      "text/html": [
       "1"
      ],
      "text/latex": [
       "1"
      ],
      "text/markdown": [
       "1"
      ],
      "text/plain": [
       "[1] 1"
      ]
     },
     "metadata": {},
     "output_type": "display_data"
    }
   ],
   "source": [
    "dmg_dist <- seq(from = 5, to = 1, length = num_block)\n",
    "dmg_dist <- dmg_dist / sum(dmg_dist)\n",
    "round(dmg_dist, 2)\n",
    "sum(dmg_dist)"
   ]
  },
  {
   "cell_type": "markdown",
   "id": "0033b2bd",
   "metadata": {
    "slideshow": {
     "slide_type": "fragment"
    }
   },
   "source": [
    "Thus; 17% of the population belongs to demographic `1`, 15% to demographic `2`, 14% to demographic `3`, etc."
   ]
  },
  {
   "cell_type": "markdown",
   "id": "812f7200",
   "metadata": {
    "slideshow": {
     "slide_type": "slide"
    }
   },
   "source": [
    "###  3.4. Experiment A: Without Blocking\n",
    "\n",
    "Let us assume we obtain our sample of $n = 200$ subscribers, and we randomly assign them to either one of the experimental treatments of interest (`treat_exp_A`) **without taking into account the demographic blocks they belong to**.  "
   ]
  },
  {
   "cell_type": "code",
   "execution_count": 22,
   "id": "2816b5d5",
   "metadata": {
    "slideshow": {
     "slide_type": "fragment"
    }
   },
   "outputs": [],
   "source": [
    "options(repr.matrix.max.rows = 8)\n",
    "\n",
    "# We directly sample n = 200 subscribers from the population\n",
    "# Balanced randomization by experimental treatment of interest (no blocking!)\n",
    "treat_exp_A <- sample(c(rep(0, n / 2), rep(1, n / 2)))\n",
    "\n",
    "# We need to simulate the demographic category (1 to 10) to construct our response y using \n",
    "# the discrete probability distribution dmg_dist!\n",
    "dmg_exp_A <- sample(1:num_block, size = n, prob = dmg_dist, replace = T)\n",
    "\n",
    "# Building our responses for experiment A according to our previous equation\n",
    "y_exp_A <- rnorm(n, mean = 8 + alpha[dmg_exp_A] + theta * treat_exp_A, sd = sigma)"
   ]
  },
  {
   "cell_type": "markdown",
   "id": "40b84ccd",
   "metadata": {
    "slideshow": {
     "slide_type": "slide"
    }
   },
   "source": [
    "Our simulated data for **experiment A** is the following:"
   ]
  },
  {
   "cell_type": "code",
   "execution_count": 23,
   "id": "8afc6814",
   "metadata": {
    "slideshow": {
     "slide_type": "fragment"
    }
   },
   "outputs": [
    {
     "data": {
      "text/html": [
       "<table class=\"dataframe\">\n",
       "<caption>A tibble: 200 × 3</caption>\n",
       "<thead>\n",
       "\t<tr><th scope=col>x</th><th scope=col>dmg</th><th scope=col>y</th></tr>\n",
       "\t<tr><th scope=col>&lt;fct&gt;</th><th scope=col>&lt;fct&gt;</th><th scope=col>&lt;dbl&gt;</th></tr>\n",
       "</thead>\n",
       "<tbody>\n",
       "\t<tr><td>New Layout</td><td>7</td><td>13.605402</td></tr>\n",
       "\t<tr><td>New Layout</td><td>7</td><td>11.835148</td></tr>\n",
       "\t<tr><td>New Layout</td><td>6</td><td>10.475998</td></tr>\n",
       "\t<tr><td>New Layout</td><td>5</td><td> 4.683586</td></tr>\n",
       "\t<tr><td>⋮</td><td>⋮</td><td>⋮</td></tr>\n",
       "\t<tr><td>Current Layout</td><td>1</td><td> 4.919427</td></tr>\n",
       "\t<tr><td>Current Layout</td><td>3</td><td> 9.636866</td></tr>\n",
       "\t<tr><td>Current Layout</td><td>2</td><td>12.277997</td></tr>\n",
       "\t<tr><td>New Layout    </td><td>1</td><td> 7.338009</td></tr>\n",
       "</tbody>\n",
       "</table>\n"
      ],
      "text/latex": [
       "A tibble: 200 × 3\n",
       "\\begin{tabular}{lll}\n",
       " x & dmg & y\\\\\n",
       " <fct> & <fct> & <dbl>\\\\\n",
       "\\hline\n",
       "\t New Layout & 7 & 13.605402\\\\\n",
       "\t New Layout & 7 & 11.835148\\\\\n",
       "\t New Layout & 6 & 10.475998\\\\\n",
       "\t New Layout & 5 &  4.683586\\\\\n",
       "\t ⋮ & ⋮ & ⋮\\\\\n",
       "\t Current Layout & 1 &  4.919427\\\\\n",
       "\t Current Layout & 3 &  9.636866\\\\\n",
       "\t Current Layout & 2 & 12.277997\\\\\n",
       "\t New Layout     & 1 &  7.338009\\\\\n",
       "\\end{tabular}\n"
      ],
      "text/markdown": [
       "\n",
       "A tibble: 200 × 3\n",
       "\n",
       "| x &lt;fct&gt; | dmg &lt;fct&gt; | y &lt;dbl&gt; |\n",
       "|---|---|---|\n",
       "| New Layout | 7 | 13.605402 |\n",
       "| New Layout | 7 | 11.835148 |\n",
       "| New Layout | 6 | 10.475998 |\n",
       "| New Layout | 5 |  4.683586 |\n",
       "| ⋮ | ⋮ | ⋮ |\n",
       "| Current Layout | 1 |  4.919427 |\n",
       "| Current Layout | 3 |  9.636866 |\n",
       "| Current Layout | 2 | 12.277997 |\n",
       "| New Layout     | 1 |  7.338009 |\n",
       "\n"
      ],
      "text/plain": [
       "    x              dmg y        \n",
       "1   New Layout     7   13.605402\n",
       "2   New Layout     7   11.835148\n",
       "3   New Layout     6   10.475998\n",
       "4   New Layout     5    4.683586\n",
       "⋮   ⋮              ⋮   ⋮        \n",
       "197 Current Layout 1    4.919427\n",
       "198 Current Layout 3    9.636866\n",
       "199 Current Layout 2   12.277997\n",
       "200 New Layout     1    7.338009"
      ]
     },
     "metadata": {},
     "output_type": "display_data"
    }
   ],
   "source": [
    "data_exp_A <- tibble(x = treat_exp_A, dmg = as.factor(dmg_exp_A), y = y_exp_A) %>%\n",
    "   mutate(x = as.factor(ifelse(x == 1, \"New Layout\", \"Current Layout\")))\n",
    "data_exp_A"
   ]
  },
  {
   "cell_type": "markdown",
   "id": "04fa613c",
   "metadata": {
    "slideshow": {
     "slide_type": "slide"
    }
   },
   "source": [
    "###  3.5. Experiment B: With Blocking\n",
    "\n",
    "Now, let us randomize our treatments of interest within each one of the ten blocks. **There is no need to simulate the demographic category in this case since we exactly need 20 sampled subscribers per block.**"
   ]
  },
  {
   "cell_type": "code",
   "execution_count": 24,
   "id": "242510e4",
   "metadata": {
    "slideshow": {
     "slide_type": "fragment"
    }
   },
   "outputs": [],
   "source": [
    "treat_exp_B <- NULL\n",
    "dmg_exp_B <- NULL\n",
    "\n",
    "for (i in 1:num_block) {\n",
    "\n",
    "  # Each block has own balanced randomization\n",
    "  treat_exp_B <- c(treat_exp_B, sample(c(\n",
    "    rep(0, size_block / 2),\n",
    "    rep(1, size_block / 2)\n",
    "  )))\n",
    "\n",
    "  dmg_exp_B <- c(dmg_exp_B, rep(i, size_block))\n",
    "}\n",
    "\n",
    "# Building our responses for experiment B according to our previous equation\n",
    "y_exp_B <- rnorm(n, mean = 8 + alpha[dmg_exp_B] + theta * treat_exp_B, sd = sigma)"
   ]
  },
  {
   "cell_type": "markdown",
   "id": "3aca62eb",
   "metadata": {
    "slideshow": {
     "slide_type": "slide"
    }
   },
   "source": [
    "Our simulated data for **experiment B** is the following:"
   ]
  },
  {
   "cell_type": "code",
   "execution_count": 25,
   "id": "ee368b57",
   "metadata": {
    "slideshow": {
     "slide_type": "fragment"
    }
   },
   "outputs": [
    {
     "data": {
      "text/html": [
       "<table class=\"dataframe\">\n",
       "<caption>A tibble: 200 × 3</caption>\n",
       "<thead>\n",
       "\t<tr><th scope=col>x</th><th scope=col>dmg</th><th scope=col>y</th></tr>\n",
       "\t<tr><th scope=col>&lt;fct&gt;</th><th scope=col>&lt;fct&gt;</th><th scope=col>&lt;dbl&gt;</th></tr>\n",
       "</thead>\n",
       "<tbody>\n",
       "\t<tr><td>Current Layout</td><td>1</td><td>6.151177</td></tr>\n",
       "\t<tr><td>New Layout    </td><td>1</td><td>5.371058</td></tr>\n",
       "\t<tr><td>Current Layout</td><td>1</td><td>5.009473</td></tr>\n",
       "\t<tr><td>New Layout    </td><td>1</td><td>6.584605</td></tr>\n",
       "\t<tr><td>⋮</td><td>⋮</td><td>⋮</td></tr>\n",
       "\t<tr><td>Current Layout</td><td>10</td><td>10.56169</td></tr>\n",
       "\t<tr><td>New Layout    </td><td>10</td><td>12.59774</td></tr>\n",
       "\t<tr><td>New Layout    </td><td>10</td><td>11.96537</td></tr>\n",
       "\t<tr><td>Current Layout</td><td>10</td><td>11.08343</td></tr>\n",
       "</tbody>\n",
       "</table>\n"
      ],
      "text/latex": [
       "A tibble: 200 × 3\n",
       "\\begin{tabular}{lll}\n",
       " x & dmg & y\\\\\n",
       " <fct> & <fct> & <dbl>\\\\\n",
       "\\hline\n",
       "\t Current Layout & 1 & 6.151177\\\\\n",
       "\t New Layout     & 1 & 5.371058\\\\\n",
       "\t Current Layout & 1 & 5.009473\\\\\n",
       "\t New Layout     & 1 & 6.584605\\\\\n",
       "\t ⋮ & ⋮ & ⋮\\\\\n",
       "\t Current Layout & 10 & 10.56169\\\\\n",
       "\t New Layout     & 10 & 12.59774\\\\\n",
       "\t New Layout     & 10 & 11.96537\\\\\n",
       "\t Current Layout & 10 & 11.08343\\\\\n",
       "\\end{tabular}\n"
      ],
      "text/markdown": [
       "\n",
       "A tibble: 200 × 3\n",
       "\n",
       "| x &lt;fct&gt; | dmg &lt;fct&gt; | y &lt;dbl&gt; |\n",
       "|---|---|---|\n",
       "| Current Layout | 1 | 6.151177 |\n",
       "| New Layout     | 1 | 5.371058 |\n",
       "| Current Layout | 1 | 5.009473 |\n",
       "| New Layout     | 1 | 6.584605 |\n",
       "| ⋮ | ⋮ | ⋮ |\n",
       "| Current Layout | 10 | 10.56169 |\n",
       "| New Layout     | 10 | 12.59774 |\n",
       "| New Layout     | 10 | 11.96537 |\n",
       "| Current Layout | 10 | 11.08343 |\n",
       "\n"
      ],
      "text/plain": [
       "    x              dmg y       \n",
       "1   Current Layout 1   6.151177\n",
       "2   New Layout     1   5.371058\n",
       "3   Current Layout 1   5.009473\n",
       "4   New Layout     1   6.584605\n",
       "⋮   ⋮              ⋮   ⋮       \n",
       "197 Current Layout 10  10.56169\n",
       "198 New Layout     10  12.59774\n",
       "199 New Layout     10  11.96537\n",
       "200 Current Layout 10  11.08343"
      ]
     },
     "metadata": {},
     "output_type": "display_data"
    }
   ],
   "source": [
    "data_exp_B <- tibble(x = as.factor(treat_exp_B), dmg = as.factor(dmg_exp_B), y = y_exp_B) %>%\n",
    "   mutate(x = as.factor(ifelse(x == 1, \"New Layout\", \"Current Layout\")))\n",
    "data_exp_B"
   ]
  },
  {
   "cell_type": "markdown",
   "id": "5aa45ca1",
   "metadata": {
    "slideshow": {
     "slide_type": "slide"
    }
   },
   "source": [
    "###  3.6. Data Analysis\n",
    "\n",
    "```{attention}\n",
    "Labels **A** and **B** for our experimental designs **ARE NOT** related to the name A/B testing.\n",
    "```\n",
    "\n",
    "We will use our simulated datasets `data_exp_A` and `data_exp_B` to fit the corresponding regression models. We will follow three modelling strategies.\n",
    "\n",
    "#### Experiment A: Raw Model\n",
    "\n",
    "This model will only regress the `y` on `x` (**current** versus **new** layout). This model is **STATISTICALLY TERRIBLE** since the regression coefficient of interest is not even significant! The only significant estimate is the one for the baseline `(Intercept)`, which is $8.10$. **This is happening because we are not capturing the right systematic component.**"
   ]
  },
  {
   "cell_type": "code",
   "execution_count": 26,
   "id": "4d445a25",
   "metadata": {
    "slideshow": {
     "slide_type": "fragment"
    }
   },
   "outputs": [
    {
     "data": {
      "text/html": [
       "<table class=\"dataframe\">\n",
       "<caption>A tibble: 2 × 7</caption>\n",
       "<thead>\n",
       "\t<tr><th scope=col>term</th><th scope=col>estimate</th><th scope=col>std.error</th><th scope=col>statistic</th><th scope=col>p.value</th><th scope=col>conf.low</th><th scope=col>conf.high</th></tr>\n",
       "\t<tr><th scope=col>&lt;chr&gt;</th><th scope=col>&lt;dbl&gt;</th><th scope=col>&lt;dbl&gt;</th><th scope=col>&lt;dbl&gt;</th><th scope=col>&lt;dbl&gt;</th><th scope=col>&lt;dbl&gt;</th><th scope=col>&lt;dbl&gt;</th></tr>\n",
       "</thead>\n",
       "<tbody>\n",
       "\t<tr><td>(Intercept)</td><td>8.10</td><td>0.26</td><td>31.32</td><td>0.00</td><td> 7.59</td><td>8.61</td></tr>\n",
       "\t<tr><td>xNew Layout</td><td>0.56</td><td>0.37</td><td> 1.54</td><td>0.12</td><td>-0.16</td><td>1.29</td></tr>\n",
       "</tbody>\n",
       "</table>\n"
      ],
      "text/latex": [
       "A tibble: 2 × 7\n",
       "\\begin{tabular}{lllllll}\n",
       " term & estimate & std.error & statistic & p.value & conf.low & conf.high\\\\\n",
       " <chr> & <dbl> & <dbl> & <dbl> & <dbl> & <dbl> & <dbl>\\\\\n",
       "\\hline\n",
       "\t (Intercept) & 8.10 & 0.26 & 31.32 & 0.00 &  7.59 & 8.61\\\\\n",
       "\t xNew Layout & 0.56 & 0.37 &  1.54 & 0.12 & -0.16 & 1.29\\\\\n",
       "\\end{tabular}\n"
      ],
      "text/markdown": [
       "\n",
       "A tibble: 2 × 7\n",
       "\n",
       "| term &lt;chr&gt; | estimate &lt;dbl&gt; | std.error &lt;dbl&gt; | statistic &lt;dbl&gt; | p.value &lt;dbl&gt; | conf.low &lt;dbl&gt; | conf.high &lt;dbl&gt; |\n",
       "|---|---|---|---|---|---|---|\n",
       "| (Intercept) | 8.10 | 0.26 | 31.32 | 0.00 |  7.59 | 8.61 |\n",
       "| xNew Layout | 0.56 | 0.37 |  1.54 | 0.12 | -0.16 | 1.29 |\n",
       "\n"
      ],
      "text/plain": [
       "  term        estimate std.error statistic p.value conf.low conf.high\n",
       "1 (Intercept) 8.10     0.26      31.32     0.00     7.59    8.61     \n",
       "2 xNew Layout 0.56     0.37       1.54     0.12    -0.16    1.29     "
      ]
     },
     "metadata": {},
     "output_type": "display_data"
    }
   ],
   "source": [
    "exp_A_raw_model <- lm(y ~ x, data = data_exp_A) \n",
    "tidy(exp_A_raw_model, conf.int = TRUE) %>% mutate_if(is.numeric, round, 2)"
   ]
  },
  {
   "cell_type": "markdown",
   "id": "07ceed2f",
   "metadata": {
    "slideshow": {
     "slide_type": "slide"
    }
   },
   "source": [
    "#### Experiment A: Model with Post-Hoc Adjustment for Demographics\n",
    "\n",
    "This model still uses the sample from **experiment A**, but we also include the sample demographic category `dmg` as a regressor. We have an accurate and precise estimate of $\\theta$ of $0.42$ whose 95% confidence interval (CI) is $[0.20, 0.64]$. Note the `(Intercept)` estimate will include the baseline time plus the effect of the demographic category `1.`"
   ]
  },
  {
   "cell_type": "code",
   "execution_count": 27,
   "id": "4a3709c8",
   "metadata": {
    "slideshow": {
     "slide_type": "fragment"
    }
   },
   "outputs": [
    {
     "data": {
      "text/html": [
       "<table class=\"dataframe\">\n",
       "<caption>A tibble: 11 × 7</caption>\n",
       "<thead>\n",
       "\t<tr><th scope=col>term</th><th scope=col>estimate</th><th scope=col>std.error</th><th scope=col>statistic</th><th scope=col>p.value</th><th scope=col>conf.low</th><th scope=col>conf.high</th></tr>\n",
       "\t<tr><th scope=col>&lt;chr&gt;</th><th scope=col>&lt;dbl&gt;</th><th scope=col>&lt;dbl&gt;</th><th scope=col>&lt;dbl&gt;</th><th scope=col>&lt;dbl&gt;</th><th scope=col>&lt;dbl&gt;</th><th scope=col>&lt;dbl&gt;</th></tr>\n",
       "</thead>\n",
       "<tbody>\n",
       "\t<tr><td>(Intercept)</td><td> 5.89</td><td>0.13</td><td>43.86</td><td>0</td><td> 5.63</td><td> 6.16</td></tr>\n",
       "\t<tr><td>xNew Layout</td><td> 0.42</td><td>0.11</td><td> 3.72</td><td>0</td><td> 0.20</td><td> 0.64</td></tr>\n",
       "\t<tr><td>dmg2       </td><td> 5.13</td><td>0.19</td><td>26.69</td><td>0</td><td> 4.75</td><td> 5.51</td></tr>\n",
       "\t<tr><td>dmg3       </td><td> 2.85</td><td>0.19</td><td>14.67</td><td>0</td><td> 2.46</td><td> 3.23</td></tr>\n",
       "\t<tr><td>dmg4       </td><td> 1.21</td><td>0.19</td><td> 6.22</td><td>0</td><td> 0.82</td><td> 1.59</td></tr>\n",
       "\t<tr><td>dmg5       </td><td>-1.03</td><td>0.19</td><td>-5.30</td><td>0</td><td>-1.41</td><td>-0.65</td></tr>\n",
       "\t<tr><td>dmg6       </td><td> 3.71</td><td>0.24</td><td>15.27</td><td>0</td><td> 3.23</td><td> 4.19</td></tr>\n",
       "\t<tr><td>dmg7       </td><td> 6.93</td><td>0.21</td><td>32.68</td><td>0</td><td> 6.51</td><td> 7.35</td></tr>\n",
       "\t<tr><td>dmg8       </td><td> 1.74</td><td>0.26</td><td> 6.72</td><td>0</td><td> 1.23</td><td> 2.25</td></tr>\n",
       "\t<tr><td>dmg9       </td><td> 2.93</td><td>0.26</td><td>11.28</td><td>0</td><td> 2.42</td><td> 3.45</td></tr>\n",
       "\t<tr><td>dmg10      </td><td> 5.33</td><td>0.46</td><td>11.54</td><td>0</td><td> 4.42</td><td> 6.24</td></tr>\n",
       "</tbody>\n",
       "</table>\n"
      ],
      "text/latex": [
       "A tibble: 11 × 7\n",
       "\\begin{tabular}{lllllll}\n",
       " term & estimate & std.error & statistic & p.value & conf.low & conf.high\\\\\n",
       " <chr> & <dbl> & <dbl> & <dbl> & <dbl> & <dbl> & <dbl>\\\\\n",
       "\\hline\n",
       "\t (Intercept) &  5.89 & 0.13 & 43.86 & 0 &  5.63 &  6.16\\\\\n",
       "\t xNew Layout &  0.42 & 0.11 &  3.72 & 0 &  0.20 &  0.64\\\\\n",
       "\t dmg2        &  5.13 & 0.19 & 26.69 & 0 &  4.75 &  5.51\\\\\n",
       "\t dmg3        &  2.85 & 0.19 & 14.67 & 0 &  2.46 &  3.23\\\\\n",
       "\t dmg4        &  1.21 & 0.19 &  6.22 & 0 &  0.82 &  1.59\\\\\n",
       "\t dmg5        & -1.03 & 0.19 & -5.30 & 0 & -1.41 & -0.65\\\\\n",
       "\t dmg6        &  3.71 & 0.24 & 15.27 & 0 &  3.23 &  4.19\\\\\n",
       "\t dmg7        &  6.93 & 0.21 & 32.68 & 0 &  6.51 &  7.35\\\\\n",
       "\t dmg8        &  1.74 & 0.26 &  6.72 & 0 &  1.23 &  2.25\\\\\n",
       "\t dmg9        &  2.93 & 0.26 & 11.28 & 0 &  2.42 &  3.45\\\\\n",
       "\t dmg10       &  5.33 & 0.46 & 11.54 & 0 &  4.42 &  6.24\\\\\n",
       "\\end{tabular}\n"
      ],
      "text/markdown": [
       "\n",
       "A tibble: 11 × 7\n",
       "\n",
       "| term &lt;chr&gt; | estimate &lt;dbl&gt; | std.error &lt;dbl&gt; | statistic &lt;dbl&gt; | p.value &lt;dbl&gt; | conf.low &lt;dbl&gt; | conf.high &lt;dbl&gt; |\n",
       "|---|---|---|---|---|---|---|\n",
       "| (Intercept) |  5.89 | 0.13 | 43.86 | 0 |  5.63 |  6.16 |\n",
       "| xNew Layout |  0.42 | 0.11 |  3.72 | 0 |  0.20 |  0.64 |\n",
       "| dmg2        |  5.13 | 0.19 | 26.69 | 0 |  4.75 |  5.51 |\n",
       "| dmg3        |  2.85 | 0.19 | 14.67 | 0 |  2.46 |  3.23 |\n",
       "| dmg4        |  1.21 | 0.19 |  6.22 | 0 |  0.82 |  1.59 |\n",
       "| dmg5        | -1.03 | 0.19 | -5.30 | 0 | -1.41 | -0.65 |\n",
       "| dmg6        |  3.71 | 0.24 | 15.27 | 0 |  3.23 |  4.19 |\n",
       "| dmg7        |  6.93 | 0.21 | 32.68 | 0 |  6.51 |  7.35 |\n",
       "| dmg8        |  1.74 | 0.26 |  6.72 | 0 |  1.23 |  2.25 |\n",
       "| dmg9        |  2.93 | 0.26 | 11.28 | 0 |  2.42 |  3.45 |\n",
       "| dmg10       |  5.33 | 0.46 | 11.54 | 0 |  4.42 |  6.24 |\n",
       "\n"
      ],
      "text/plain": [
       "   term        estimate std.error statistic p.value conf.low conf.high\n",
       "1  (Intercept)  5.89    0.13      43.86     0        5.63     6.16    \n",
       "2  xNew Layout  0.42    0.11       3.72     0        0.20     0.64    \n",
       "3  dmg2         5.13    0.19      26.69     0        4.75     5.51    \n",
       "4  dmg3         2.85    0.19      14.67     0        2.46     3.23    \n",
       "5  dmg4         1.21    0.19       6.22     0        0.82     1.59    \n",
       "6  dmg5        -1.03    0.19      -5.30     0       -1.41    -0.65    \n",
       "7  dmg6         3.71    0.24      15.27     0        3.23     4.19    \n",
       "8  dmg7         6.93    0.21      32.68     0        6.51     7.35    \n",
       "9  dmg8         1.74    0.26       6.72     0        1.23     2.25    \n",
       "10 dmg9         2.93    0.26      11.28     0        2.42     3.45    \n",
       "11 dmg10        5.33    0.46      11.54     0        4.42     6.24    "
      ]
     },
     "metadata": {},
     "output_type": "display_data"
    }
   ],
   "source": [
    "options(repr.matrix.max.rows = 15)\n",
    "\n",
    "exp_A_adj <- lm(y ~ x + dmg, data = data_exp_A)\n",
    "tidy(exp_A_adj, conf.int = TRUE) %>% mutate_if(is.numeric, round, 2)"
   ]
  },
  {
   "cell_type": "markdown",
   "id": "a5fe68d0",
   "metadata": {
    "slideshow": {
     "slide_type": "slide"
    }
   },
   "source": [
    "#### Experiment B: Model with Blocking\n",
    "\n",
    "This model uses our data coming from the blocking design. It includes `x` and `dmg` as regressors. Again, we have an accurate and precise estimate of $\\theta$ of $0.63$ whose 95% CI is $[0.42, 0.84]$. Note the `(Intercept)` estimate will include the baseline time plus the effect of the demographic category `1.` "
   ]
  },
  {
   "cell_type": "code",
   "execution_count": 28,
   "id": "a79527c1",
   "metadata": {
    "slideshow": {
     "slide_type": "fragment"
    }
   },
   "outputs": [
    {
     "data": {
      "text/html": [
       "<table class=\"dataframe\">\n",
       "<caption>A tibble: 11 × 7</caption>\n",
       "<thead>\n",
       "\t<tr><th scope=col>term</th><th scope=col>estimate</th><th scope=col>std.error</th><th scope=col>statistic</th><th scope=col>p.value</th><th scope=col>conf.low</th><th scope=col>conf.high</th></tr>\n",
       "\t<tr><th scope=col>&lt;chr&gt;</th><th scope=col>&lt;dbl&gt;</th><th scope=col>&lt;dbl&gt;</th><th scope=col>&lt;dbl&gt;</th><th scope=col>&lt;dbl&gt;</th><th scope=col>&lt;dbl&gt;</th><th scope=col>&lt;dbl&gt;</th></tr>\n",
       "</thead>\n",
       "<tbody>\n",
       "\t<tr><td>(Intercept)</td><td> 5.71</td><td>0.18</td><td>32.24</td><td>0</td><td> 5.36</td><td> 6.06</td></tr>\n",
       "\t<tr><td>xNew Layout</td><td> 0.63</td><td>0.11</td><td> 5.90</td><td>0</td><td> 0.42</td><td> 0.84</td></tr>\n",
       "\t<tr><td>dmg2       </td><td> 5.35</td><td>0.24</td><td>22.40</td><td>0</td><td> 4.88</td><td> 5.82</td></tr>\n",
       "\t<tr><td>dmg3       </td><td> 2.80</td><td>0.24</td><td>11.72</td><td>0</td><td> 2.33</td><td> 3.27</td></tr>\n",
       "\t<tr><td>dmg4       </td><td> 1.48</td><td>0.24</td><td> 6.21</td><td>0</td><td> 1.01</td><td> 1.95</td></tr>\n",
       "\t<tr><td>dmg5       </td><td>-1.09</td><td>0.24</td><td>-4.56</td><td>0</td><td>-1.56</td><td>-0.62</td></tr>\n",
       "\t<tr><td>dmg6       </td><td> 3.66</td><td>0.24</td><td>15.32</td><td>0</td><td> 3.19</td><td> 4.13</td></tr>\n",
       "\t<tr><td>dmg7       </td><td> 7.45</td><td>0.24</td><td>31.18</td><td>0</td><td> 6.98</td><td> 7.92</td></tr>\n",
       "\t<tr><td>dmg8       </td><td> 2.72</td><td>0.24</td><td>11.40</td><td>0</td><td> 2.25</td><td> 3.19</td></tr>\n",
       "\t<tr><td>dmg9       </td><td> 2.76</td><td>0.24</td><td>11.55</td><td>0</td><td> 2.29</td><td> 3.23</td></tr>\n",
       "\t<tr><td>dmg10      </td><td> 5.82</td><td>0.24</td><td>24.39</td><td>0</td><td> 5.35</td><td> 6.30</td></tr>\n",
       "</tbody>\n",
       "</table>\n"
      ],
      "text/latex": [
       "A tibble: 11 × 7\n",
       "\\begin{tabular}{lllllll}\n",
       " term & estimate & std.error & statistic & p.value & conf.low & conf.high\\\\\n",
       " <chr> & <dbl> & <dbl> & <dbl> & <dbl> & <dbl> & <dbl>\\\\\n",
       "\\hline\n",
       "\t (Intercept) &  5.71 & 0.18 & 32.24 & 0 &  5.36 &  6.06\\\\\n",
       "\t xNew Layout &  0.63 & 0.11 &  5.90 & 0 &  0.42 &  0.84\\\\\n",
       "\t dmg2        &  5.35 & 0.24 & 22.40 & 0 &  4.88 &  5.82\\\\\n",
       "\t dmg3        &  2.80 & 0.24 & 11.72 & 0 &  2.33 &  3.27\\\\\n",
       "\t dmg4        &  1.48 & 0.24 &  6.21 & 0 &  1.01 &  1.95\\\\\n",
       "\t dmg5        & -1.09 & 0.24 & -4.56 & 0 & -1.56 & -0.62\\\\\n",
       "\t dmg6        &  3.66 & 0.24 & 15.32 & 0 &  3.19 &  4.13\\\\\n",
       "\t dmg7        &  7.45 & 0.24 & 31.18 & 0 &  6.98 &  7.92\\\\\n",
       "\t dmg8        &  2.72 & 0.24 & 11.40 & 0 &  2.25 &  3.19\\\\\n",
       "\t dmg9        &  2.76 & 0.24 & 11.55 & 0 &  2.29 &  3.23\\\\\n",
       "\t dmg10       &  5.82 & 0.24 & 24.39 & 0 &  5.35 &  6.30\\\\\n",
       "\\end{tabular}\n"
      ],
      "text/markdown": [
       "\n",
       "A tibble: 11 × 7\n",
       "\n",
       "| term &lt;chr&gt; | estimate &lt;dbl&gt; | std.error &lt;dbl&gt; | statistic &lt;dbl&gt; | p.value &lt;dbl&gt; | conf.low &lt;dbl&gt; | conf.high &lt;dbl&gt; |\n",
       "|---|---|---|---|---|---|---|\n",
       "| (Intercept) |  5.71 | 0.18 | 32.24 | 0 |  5.36 |  6.06 |\n",
       "| xNew Layout |  0.63 | 0.11 |  5.90 | 0 |  0.42 |  0.84 |\n",
       "| dmg2        |  5.35 | 0.24 | 22.40 | 0 |  4.88 |  5.82 |\n",
       "| dmg3        |  2.80 | 0.24 | 11.72 | 0 |  2.33 |  3.27 |\n",
       "| dmg4        |  1.48 | 0.24 |  6.21 | 0 |  1.01 |  1.95 |\n",
       "| dmg5        | -1.09 | 0.24 | -4.56 | 0 | -1.56 | -0.62 |\n",
       "| dmg6        |  3.66 | 0.24 | 15.32 | 0 |  3.19 |  4.13 |\n",
       "| dmg7        |  7.45 | 0.24 | 31.18 | 0 |  6.98 |  7.92 |\n",
       "| dmg8        |  2.72 | 0.24 | 11.40 | 0 |  2.25 |  3.19 |\n",
       "| dmg9        |  2.76 | 0.24 | 11.55 | 0 |  2.29 |  3.23 |\n",
       "| dmg10       |  5.82 | 0.24 | 24.39 | 0 |  5.35 |  6.30 |\n",
       "\n"
      ],
      "text/plain": [
       "   term        estimate std.error statistic p.value conf.low conf.high\n",
       "1  (Intercept)  5.71    0.18      32.24     0        5.36     6.06    \n",
       "2  xNew Layout  0.63    0.11       5.90     0        0.42     0.84    \n",
       "3  dmg2         5.35    0.24      22.40     0        4.88     5.82    \n",
       "4  dmg3         2.80    0.24      11.72     0        2.33     3.27    \n",
       "5  dmg4         1.48    0.24       6.21     0        1.01     1.95    \n",
       "6  dmg5        -1.09    0.24      -4.56     0       -1.56    -0.62    \n",
       "7  dmg6         3.66    0.24      15.32     0        3.19     4.13    \n",
       "8  dmg7         7.45    0.24      31.18     0        6.98     7.92    \n",
       "9  dmg8         2.72    0.24      11.40     0        2.25     3.19    \n",
       "10 dmg9         2.76    0.24      11.55     0        2.29     3.23    \n",
       "11 dmg10        5.82    0.24      24.39     0        5.35     6.30    "
      ]
     },
     "metadata": {},
     "output_type": "display_data"
    }
   ],
   "source": [
    "exp_B <- lm(y ~ x + dmg, data = data_exp_B) \n",
    "tidy(exp_B, conf.int = TRUE) %>% mutate_if(is.numeric, round, 2)"
   ]
  },
  {
   "cell_type": "markdown",
   "id": "ba1a5dbd",
   "metadata": {
    "slideshow": {
     "slide_type": "slide"
    }
   },
   "source": [
    "#### So, where are we standing?\n",
    "\n",
    "It seems like **analyzing** the data in a way that acknowledges the demographic stratification is important for two strategies: **Model with Post-Hoc Adjustment for Demographics** and **Model with Blocking**. Therefore, **does a model with a blocking design have any advantage?**"
   ]
  },
  {
   "cell_type": "markdown",
   "id": "9f627742",
   "metadata": {
    "slideshow": {
     "slide_type": "fragment"
    }
   },
   "source": [
    "Let us take a step further from our simulation in {doc}`lecture2_simpson_confounding` and obtain many samples **so we can deliver OVERALL PERFORMANCE METRICS** for our Monte Carlo simulation."
   ]
  },
  {
   "cell_type": "markdown",
   "id": "2141dde0",
   "metadata": {
    "slideshow": {
     "slide_type": "slide"
    }
   },
   "source": [
    "### 3.7. Running More Replicates\n",
    "\n",
    "We can think of a single simulated dataset as a **demo** per strategy. Nonetheless, if we repeat our previous data simulations a considerable number of times (e.g., 500 replicates), we can look at the **average behaviour** of each modelling strategy. This is what we call a **statistical simulation study**."
   ]
  },
  {
   "cell_type": "markdown",
   "id": "72515084",
   "metadata": {
    "slideshow": {
     "slide_type": "fragment"
    }
   },
   "source": [
    "The **average behaviour** will be tracked with the following metrics **per modelling strategy** with $\\theta = 0.5$:\n",
    "\n",
    "- **BIAS:** The average, over the 500 replicates, of $\\hat{\\theta} - \\theta$. The larger the average, the less accuracy.\n",
    "- **ROOT-MEAN-SQUARED ERROR (RMSE):** The square root of the average (over the 500 replicates) of $(\\hat{\\theta}-\\theta)^{2}$.  It has the following characteristics:\n",
    "    - Interpretable as the typical magnitude of estimation error.\n",
    "    - Captures bias and variance involved in the procedure.\n",
    "- **COVERAGE:** The proportion (among the 500 replicates) of the 95% CIs that contain the true $\\theta$ value.\n",
    "- **POWER:** It is applicable when $\\theta \\neq 0$. The proportion of the 500 95% CIs that exclude zero.\n",
    "\n",
    "The code below executes the previous three strategies 500 times (`num_replicates`)."
   ]
  },
  {
   "cell_type": "code",
   "execution_count": 29,
   "id": "0f51e37f",
   "metadata": {
    "slideshow": {
     "slide_type": "slide"
    }
   },
   "outputs": [],
   "source": [
    "set.seed(554) # Global reproducibility\n",
    "res <- list(NULL)\n",
    "num_replicates <- 500\n",
    "res[[1]] <- res[[2]] <- res[[3]] <- matrix(NA, num_replicates, 3)\n",
    "\n",
    "for (lp in 1:num_replicates) {\n",
    "\n",
    "  # No blocking\n",
    "  treat_exp_A <- sample(c(rep(0, n / 2), rep(1, n / 2)))\n",
    "  dmg_exp_A <- sample(1:num_block, size = n, prob = dmg_dist, replace = T)\n",
    "  y_exp_A <- rnorm(n, mean = 8 + alpha[dmg_exp_A] + theta * treat_exp_A, sd = sigma)\n",
    "  data_exp_A <- tibble(x = treat_exp_A, dmg = as.factor(dmg_exp_A), y = y_exp_A)\n",
    "\n",
    "  # Blocking\n",
    "  treat_exp_B <- NULL\n",
    "  dmg_exp_B <- NULL\n",
    "  for (i in 1:num_block) {\n",
    "      \n",
    "     treat_exp_B <- c(treat_exp_B, sample(c(\n",
    "       rep(0, size_block / 2),\n",
    "       rep(1, size_block / 2)\n",
    "     )))\n",
    "\n",
    "     dmg_exp_B <- c(dmg_exp_B, rep(i, size_block))\n",
    "   }\n",
    "  y_exp_B <- rnorm(n, mean = 8 + alpha[dmg_exp_B] + theta * treat_exp_B, sd = sigma)\n",
    "  data_exp_B <- tibble(x = treat_exp_B, dmg = as.factor(dmg_exp_B), y = y_exp_B) \n",
    "\n",
    "  \n",
    "  # Do the three analyses\n",
    "  exp_A_raw_model <- lm(y ~ x, data = data_exp_A) \n",
    "  exp_A_adj <- lm(y ~ x + dmg, data = data_exp_A) \n",
    "  exp_B <- lm(y ~ x + dmg, data = data_exp_B)\n",
    "\n",
    "  # And the takeaways\n",
    "  res[[1]][lp, ] <- c(coef(exp_A_raw_model)[\"x\"], confint(exp_A_raw_model)[\"x\", ])\n",
    "  res[[2]][lp, ] <- c(coef(exp_A_adj)[\"x\"], confint(exp_A_adj)[\"x\", ])\n",
    "  res[[3]][lp, ] <- c(coef(exp_B)[\"x\"], confint(exp_B)[\"x\", ])\n",
    "}"
   ]
  },
  {
   "cell_type": "markdown",
   "id": "37a00dca",
   "metadata": {
    "slideshow": {
     "slide_type": "slide"
    }
   },
   "source": [
    "Then, we compute each one of the above metrics."
   ]
  },
  {
   "cell_type": "code",
   "execution_count": 30,
   "id": "02fa150d",
   "metadata": {
    "slideshow": {
     "slide_type": "fragment"
    }
   },
   "outputs": [],
   "source": [
    "### Summaries\n",
    "BIAS <- sapply(\n",
    "  res,\n",
    "  function(mat) {\n",
    "    mean(mat[, 1]) - theta\n",
    "  }\n",
    ")\n",
    "vrnc <- sapply(res, function(mat) {\n",
    "  var(mat[, 1])\n",
    "})\n",
    "CVRG <- sapply(res,\n",
    "  function(mat, trg) {\n",
    "    mean((mat[, 2] < trg) & (trg < mat[, 3]))\n",
    "  },\n",
    "  trg = theta\n",
    ")\n",
    "PWR <- sapply(res, function(mat) {\n",
    "  mean(mat[, 2] > 0)\n",
    "})\n",
    "RMSE <- sqrt(BIAS^2 + vrnc)\n",
    "\n",
    "opt <- cbind(BIAS, RMSE, CVRG, PWR)\n",
    "rownames(opt) <- c(\"Raw Model A (nothing)\", \"Adjusted Model A (dmg as a covariate)\", \"Model B (blocking)\")"
   ]
  },
  {
   "cell_type": "markdown",
   "id": "81a2bce2",
   "metadata": {
    "slideshow": {
     "slide_type": "slide"
    }
   },
   "source": [
    "#### What is the conclusion by looking at these metrics by strategy?\n",
    "\n",
    "Blocking can be your friend, both in study design as in **Model B (blocking)** and data analysis as in **Adjusted Model A (`dmg` as a covariate)**. We can see that **Model B (blocking)** has a slightly smaller **BIAS** and **RMSE**. "
   ]
  },
  {
   "cell_type": "code",
   "execution_count": 31,
   "id": "9d359217",
   "metadata": {
    "slideshow": {
     "slide_type": "fragment"
    }
   },
   "outputs": [
    {
     "data": {
      "text/html": [
       "<table class=\"dataframe\">\n",
       "<caption>A matrix: 3 × 4 of type dbl</caption>\n",
       "<thead>\n",
       "\t<tr><th></th><th scope=col>BIAS</th><th scope=col>RMSE</th><th scope=col>CVRG</th><th scope=col>PWR</th></tr>\n",
       "</thead>\n",
       "<tbody>\n",
       "\t<tr><th scope=row>Raw Model A (nothing)</th><td> 0.0092</td><td>0.3652</td><td>0.934</td><td>0.286</td></tr>\n",
       "\t<tr><th scope=row>Adjusted Model A (dmg as a covariate)</th><td> 0.0047</td><td>0.1145</td><td>0.946</td><td>0.986</td></tr>\n",
       "\t<tr><th scope=row>Model B (blocking)</th><td>-0.0011</td><td>0.1135</td><td>0.950</td><td>0.992</td></tr>\n",
       "</tbody>\n",
       "</table>\n"
      ],
      "text/latex": [
       "A matrix: 3 × 4 of type dbl\n",
       "\\begin{tabular}{r|llll}\n",
       "  & BIAS & RMSE & CVRG & PWR\\\\\n",
       "\\hline\n",
       "\tRaw Model A (nothing) &  0.0092 & 0.3652 & 0.934 & 0.286\\\\\n",
       "\tAdjusted Model A (dmg as a covariate) &  0.0047 & 0.1145 & 0.946 & 0.986\\\\\n",
       "\tModel B (blocking) & -0.0011 & 0.1135 & 0.950 & 0.992\\\\\n",
       "\\end{tabular}\n"
      ],
      "text/markdown": [
       "\n",
       "A matrix: 3 × 4 of type dbl\n",
       "\n",
       "| <!--/--> | BIAS | RMSE | CVRG | PWR |\n",
       "|---|---|---|---|---|\n",
       "| Raw Model A (nothing) |  0.0092 | 0.3652 | 0.934 | 0.286 |\n",
       "| Adjusted Model A (dmg as a covariate) |  0.0047 | 0.1145 | 0.946 | 0.986 |\n",
       "| Model B (blocking) | -0.0011 | 0.1135 | 0.950 | 0.992 |\n",
       "\n"
      ],
      "text/plain": [
       "                                      BIAS    RMSE   CVRG  PWR  \n",
       "Raw Model A (nothing)                  0.0092 0.3652 0.934 0.286\n",
       "Adjusted Model A (dmg as a covariate)  0.0047 0.1145 0.946 0.986\n",
       "Model B (blocking)                    -0.0011 0.1135 0.950 0.992"
      ]
     },
     "metadata": {},
     "output_type": "display_data"
    }
   ],
   "source": [
    "round(opt, 4)"
   ]
  },
  {
   "cell_type": "markdown",
   "id": "659de8ac",
   "metadata": {
    "slideshow": {
     "slide_type": "slide"
    }
   },
   "source": [
    "##  4. Wrapping Up\n",
    "\n",
    "We have covered foundational experimental jargon and techniques, which will be helpful for A/B and A/B/n testings. Moreover, recall that these tests need to be adapted to our outcome of interest. Post hoc tests are handy to address our statistical inquiries (you actually did this in `lab1`!).\n",
    "\n",
    "An important matter to consider regarding blocking is that this strategy will work as long as the blocks are really homogeneous. This implicates stratifying the experimental units into blocks so that:\n",
    "\n",
    "- As much variation in $Y$ as possible is **across** the blocks.\n",
    "- As little variation in $Y$ as possible is **within** the blocks."
   ]
  }
 ],
 "metadata": {
  "celltoolbar": "Tags",
  "kernelspec": {
   "display_name": "R",
   "language": "R",
   "name": "ir"
  },
  "language_info": {
   "codemirror_mode": "r",
   "file_extension": ".r",
   "mimetype": "text/x-r-source",
   "name": "R",
   "pygments_lexer": "r",
   "version": "4.4.1"
  }
 },
 "nbformat": 4,
 "nbformat_minor": 5
}
