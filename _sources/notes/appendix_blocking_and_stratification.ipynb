{
 "cells": [
  {
   "cell_type": "markdown",
   "id": "23bc27aa",
   "metadata": {},
   "source": [
    "# Blocking and Stratification"
   ]
  },
  {
   "cell_type": "markdown",
   "id": "2f0472f8",
   "metadata": {},
   "source": [
    "This course covers two fundamental concepts in causal inference: **blocking** in **experimental studies**, and **stratification**. Now you might wonder:\n",
    "\n",
    "> *What is the difference between **blocking** and **stratification**?*\n",
    ">\n",
    "> *Is it that **stratification** is a general term for splitting similar data points into groups, and **blocking** is what we do when we set up an experiment by stratifying?*\n",
    "> \n",
    "> *Because I thought blocking was something done in the experimental design stage, and stratification is used in an observational study to deal with confounding.*\n",
    "\n",
    "Let us dig into some clarifying ideas."
   ]
  },
  {
   "cell_type": "markdown",
   "id": "f803b9d3",
   "metadata": {},
   "source": [
    "## Relationship between Blocking and Stratification\n",
    "\n",
    "A few terms are related to one another: **stratification**, **blocking**, **randomization**, and **confounding**.\n",
    "\n",
    "The first thing to remember is that this course (**DSCI 554**) is not about running a Machine Learning model on already collected data. Instead, it is about **planning**, **designing**, and **analyzing** an **experimental** or **observational study** to draw **causal** inferences using a certain factor-type variable $X$ on a response of interest $Y$ (either discrete or continuous). \n",
    "\n",
    "In the case of experimental studies, the **design** aspect of **DSCI 554** is why so many new statistical terms are brought up. If we do not care about the experimental design, all we are left with is the end dataset. Furthermore, we will lose the vital leverage we have using treatment randomization before collecting our experimental data. \n",
    "\n",
    "**Why is the vital leverage from the experimental design so important?** So our model could provide more precise and accurate estimates of causal interest, while dealing with non-observed variables in our experimental units (**the so-called confounders!**).\n",
    "\n",
    "Now, let us move on to the following definitions:\n",
    "\n",
    "- **Stratification.** It refers to specific attributes of the **population of interest**. This matter can be something that does not really change about the individuals in the population (e.g., *day* versus *night* visits to a website) or something we, as the researchers, can define (e.g., taking the age of individuals and putting them into age groups).\n",
    "- **Blocking.** In an **experimental study**, if we know there is a variable related to the experimental variables we care about (but not a variable we want to study per se!), then we can account for this variable with blocking. It has two steps to it:\n",
    "    1. **Stratify experimental units** by using the same strata from the population. Each stratum will be a **block**, and this variable is your **blocking variable**.\n",
    "    2. **Randomize from the population into your individual blocks.** How would we do this in terms of **sampling from the population of interest**? We stratify our population and then **randomly sample from each stratum into its corresponding block**.\n",
    "\n",
    "Once you have our data in separate blocks, we randomize the sampled experimental units into the **treatments** (**control**, **experimental treatment 1**, **experimental treatment 2**, etc.). Then, the experimental intervention will proceed based on these treatments. Finally, we collect the data and analyze it.\n",
    "\n",
    "The diagram below shows this process as an example involving a clinical trial (i.e., an experiment).\n",
    "\n",
    "```{figure} ../img/blocking.png\n",
    ":height: 450px\n",
    ":name: blocking_fig\n",
    "\n",
    "Relationship between experimental blocking and population strata (credit: [Daniel Chen](https://daniel.rbind.io)).\n",
    "```"
   ]
  },
  {
   "cell_type": "markdown",
   "id": "2c41b422",
   "metadata": {},
   "source": [
    "## Why Blocking might be confusing?\n",
    "\n",
    "Because the process of **blocking** or having a **blocking variable** is a specific term used when **designing experiments**. So, for example, if we did not know about any population strata and were given just the collected experimental dataset, nothing about that dataset would tell you that blocking occurred (unless specified by the people who ran the experiment). \n",
    "\n",
    "**Assuming you did not know about any population strata and were given just the collected experimental dataset**, you might imply that `age` (**for instance, in a given study**) may be a variable **you need to control** and fit a`result ~ age + treatment` model. **Under this assumption**, `age` will just be viewed as a **confounding variable**. Still, note that the `result ~ age + treatment` model will still have the **same systematic component** as if you were responsible for designing via `age` blocking with `treatment` randomization, running, and analyzing the whole experiment."
   ]
  },
  {
   "cell_type": "markdown",
   "id": "0001f77c",
   "metadata": {},
   "source": [
    "## So, what is a confounder or counfounding variable?\n",
    "\n",
    "It is a variable that your main study is not concerned with but is related to your experimental variables of interest. \n",
    "\n",
    "**Does not that sound like a blocking variable?** Yes, but a blocking variable will be considered since the early stages of the experimental study (i.e., planning and design). Therefore, following up with the `result ~ age + treatment` model, **we would block by `age` and randomize `treatment` within the blocks in the design before running the experiment and collecting our data**. Then, finally, we would fit our `result ~ age + treatment` model."
   ]
  },
  {
   "cell_type": "markdown",
   "id": "d8fe9265",
   "metadata": {},
   "source": [
    "## Blocking Versus Stratification\n",
    "\n",
    "**Blocking** is related to the **design of the experiment** that accounts for natural variability across subsets of experimental units that are homogeneous, while population **stratification** is more related to sampling methods (you can find more sampling information in these [**DSCI 562 notes**](https://pages.github.ubc.ca/MDS-2023-24/DSCI_562_regr-2_students/notes/lecture1-glm-link-functions-and-count-regression.html#data-collection-and-wrangling))."
   ]
  }
 ],
 "metadata": {
  "celltoolbar": "Tags",
  "kernelspec": {
   "display_name": "R",
   "language": "R",
   "name": "ir"
  },
  "language_info": {
   "codemirror_mode": "r",
   "file_extension": ".r",
   "mimetype": "text/x-r-source",
   "name": "R",
   "pygments_lexer": "r",
   "version": "4.4.1"
  }
 },
 "nbformat": 4,
 "nbformat_minor": 5
}
