{
 "cells": [
  {
   "cell_type": "markdown",
   "id": "6db4a578",
   "metadata": {
    "slideshow": {
     "slide_type": "slide"
    }
   },
   "source": [
    "# Lecture 8 - Matched Case-Control Scheme, Ordinal Regressors, and Final Wrap-Up"
   ]
  },
  {
   "cell_type": "markdown",
   "id": "ce9700e4",
   "metadata": {
    "slideshow": {
     "slide_type": "slide"
    }
   },
   "source": [
    "## Today's Learning Objectives\n",
    "\n",
    "1. Describe how case-control sampling and matching can simultaneously be used to design a study.\n",
    "2. Demonstrate the use of contrasts in ordinal regressors.\n",
    "3. Relate how data are analyzed to how they are collected."
   ]
  },
  {
   "cell_type": "markdown",
   "id": "65c4928e",
   "metadata": {
    "slideshow": {
     "slide_type": "skip"
    }
   },
   "source": [
    "## Loading `R` Packages"
   ]
  },
  {
   "cell_type": "code",
   "execution_count": 1,
   "id": "36e025b3",
   "metadata": {
    "slideshow": {
     "slide_type": "skip"
    },
    "tags": [
     "remove-output"
    ]
   },
   "outputs": [
    {
     "name": "stderr",
     "output_type": "stream",
     "text": [
      "── \u001b[1mAttaching core tidyverse packages\u001b[22m ────────────────────────────────────────────────────────────────────────────────────────────────────────── tidyverse 2.0.0 ──\n",
      "\u001b[32m✔\u001b[39m \u001b[34mdplyr    \u001b[39m 1.1.4     \u001b[32m✔\u001b[39m \u001b[34mreadr    \u001b[39m 2.1.5\n",
      "\u001b[32m✔\u001b[39m \u001b[34mforcats  \u001b[39m 1.0.0     \u001b[32m✔\u001b[39m \u001b[34mstringr  \u001b[39m 1.5.1\n",
      "\u001b[32m✔\u001b[39m \u001b[34mggplot2  \u001b[39m 3.5.1     \u001b[32m✔\u001b[39m \u001b[34mtibble   \u001b[39m 3.2.1\n",
      "\u001b[32m✔\u001b[39m \u001b[34mlubridate\u001b[39m 1.9.3     \u001b[32m✔\u001b[39m \u001b[34mtidyr    \u001b[39m 1.3.1\n",
      "\u001b[32m✔\u001b[39m \u001b[34mpurrr    \u001b[39m 1.0.2     \n",
      "── \u001b[1mConflicts\u001b[22m ──────────────────────────────────────────────────────────────────────────────────────────────────────────────────────────── tidyverse_conflicts() ──\n",
      "\u001b[31m✖\u001b[39m \u001b[34mdplyr\u001b[39m::\u001b[32mfilter()\u001b[39m masks \u001b[34mstats\u001b[39m::filter()\n",
      "\u001b[31m✖\u001b[39m \u001b[34mdplyr\u001b[39m::\u001b[32mlag()\u001b[39m    masks \u001b[34mstats\u001b[39m::lag()\n",
      "\u001b[36mℹ\u001b[39m Use the conflicted package (\u001b[3m\u001b[34m<http://conflicted.r-lib.org/>\u001b[39m\u001b[23m) to force all conflicts to become errors\n",
      "\n",
      "Attaching package: ‘MASS’\n",
      "\n",
      "\n",
      "The following object is masked from ‘package:dplyr’:\n",
      "\n",
      "    select\n",
      "\n",
      "\n"
     ]
    }
   ],
   "source": [
    "options(repr.matrix.max.rows = 8, repr.matrix.max.cols = 10, warn = -1)\n",
    "library(foreign)\n",
    "library(tidyverse)\n",
    "library(broom)\n",
    "library(MASS)"
   ]
  },
  {
   "cell_type": "markdown",
   "id": "e16f300d",
   "metadata": {
    "slideshow": {
     "slide_type": "slide"
    }
   },
   "source": [
    "## Previously...\n",
    "\n",
    "We have explored in **observational studies** how to obtain **accurate and precise** statistical models to infer causality between an exposure factor $X$ and a given outcome of interest $Y$. Furthermore, in {doc}`lecture7_obs_sampling_schemes`, we introduce three different sampling schemes to assess them using a **proxy ground truth**."
   ]
  },
  {
   "cell_type": "markdown",
   "id": "072d6063",
   "metadata": {
    "slideshow": {
     "slide_type": "fragment"
    }
   },
   "source": [
    "Via different simulation studies, we ended up concluding that a case-control (CC) scheme (with a smaller sample size $n$) has a better performance when compared to cross-sectional (CS) and cohort (CO) schemes **when $Y = 1$ is rare in the population**."
   ]
  },
  {
   "cell_type": "markdown",
   "id": "274aedd9",
   "metadata": {
    "slideshow": {
     "slide_type": "slide"
    }
   },
   "source": [
    "However, note that all sampling schemes used a **Binary Logistic regression model** to infer causality between $Y$ and $X$."
   ]
  },
  {
   "cell_type": "markdown",
   "id": "ece5ec4d",
   "metadata": {
    "slideshow": {
     "slide_type": "fragment"
    }
   },
   "source": [
    "Now, we might wonder: **can we improve our CC causal analysis even more by incorporating a more clever statistical tool?** Let us explore this."
   ]
  },
  {
   "cell_type": "markdown",
   "id": "28cd03ea",
   "metadata": {
    "slideshow": {
     "slide_type": "slide"
    }
   },
   "source": [
    "## 1. Matched Case-Control Studies\n",
    "\n",
    "Let us review the definition we provided for CC schemes:\n",
    "\n",
    "> Case-control (CC) is a **retrospective scheme**. It will sample a group of subjects with the study's response success ($Y = 1$) and a group without ($Y = 0$). Half of the overall sample will correspond to subjects with $Y = 1$ and the other half to $Y = 0$. The researcher will ask each subject: *have you ever been exposed to the condition $X$ **in the past** ($X = 0$ never and $X = 1$ ever)*.\n",
    "\n",
    "Those subjects with $Y = 1$ are the **cases** and those with $Y = 0$ are **controls**."
   ]
  },
  {
   "cell_type": "markdown",
   "id": "42742c43",
   "metadata": {
    "slideshow": {
     "slide_type": "slide"
    }
   },
   "source": [
    "Furthermore, via the **proxy ground truth**, we concluded that a CC sampling scheme is the best among the three we checked in terms of **power** with a smaller sample size $n$ when $Y = 1$ is rare in the population. Our simulation studies included fitting a regression model involving $Y$, $X$, and $p$ confounders $C_j$ ($j = 1, \\dots, p$)."
   ]
  },
  {
   "cell_type": "markdown",
   "id": "8a81572a",
   "metadata": {
    "slideshow": {
     "slide_type": "slide"
    }
   },
   "source": [
    "### 1.1. An Alternative Data Collection\n",
    "\n",
    "Regarding CC sampling schemes, **is it entirely acceptable to collect the data this way?** Yes, it is acceptable according to the following reasons:"
   ]
  },
  {
   "cell_type": "markdown",
   "id": "6669b4f8",
   "metadata": {
    "slideshow": {
     "slide_type": "fragment"
    }
   },
   "source": [
    "- Let us think about the variables  $(Y, X , C_1, \\dots, C_p)$ in the actual population of interest. Moreover, we presume the conditioned response $(Y | X, C_1, \\dots, C_p)$ in our population of interest is governed by a regression equation.\n",
    "- We create an artificial population by \"cloning subjects.\""
   ]
  },
  {
   "cell_type": "markdown",
   "id": "8fada205",
   "metadata": {
    "slideshow": {
     "slide_type": "slide"
    }
   },
   "source": [
    "- We build our artificial clone responses based on regression coefficients from an estimated model using a **previous representative sample** as training data. These responses include **induced random noise**. This is our  **proxy ground truth**.\n",
    "- Then, we **directly** collect a CC sample with half of the subjects as controls and the other half as cases from the **proxy ground truth**."
   ]
  },
  {
   "cell_type": "markdown",
   "id": "8061177a",
   "metadata": {
    "slideshow": {
     "slide_type": "slide"
    }
   },
   "source": [
    "Therefore, when sampling is costly (recall, we aim for sample sizes as small as possible!) and $Y = 1$ is rare, **a CC sampling is feasible and helpful**."
   ]
  },
  {
   "cell_type": "markdown",
   "id": "24335de5",
   "metadata": {
    "slideshow": {
     "slide_type": "fragment"
    }
   },
   "source": [
    "However, the statistical practice offers an alternative way to collect our CC data instead of **directly** collecting a CC sample with half of the subjects as controls and the other half as cases from our population of interest. It is called **CC-matching**."
   ]
  },
  {
   "cell_type": "markdown",
   "id": "1f41306b",
   "metadata": {
    "slideshow": {
     "slide_type": "slide"
    }
   },
   "source": [
    "Before we dig into this alternative CC data collection, let us build our **proxy ground truth** via the Western Collaborative Group Study (WCGS) data. Recall this study recruited **middle-aged men between the ages of 39 and 59 who were employees of ten Californian companies**. The data was collected on 3154 subjects between 1960 and 1961."
   ]
  },
  {
   "cell_type": "markdown",
   "id": "2d755b0a",
   "metadata": {
    "slideshow": {
     "slide_type": "slide"
    }
   },
   "source": [
    "Moreover, the main statistical inquiry was:\n",
    "\n",
    "> **Does a `Type A` behaviour pattern (`dibpat`) LEAD to a coronary heart disease (CHD) event (`chd69`)?**\n",
    "\n",
    "From [Brand et al. (1976)](https://www.ahajournals.org/doi/pdf/10.1161/01.CIR.53.2.348), the levels of `dibpat` are defined as follows:\n",
    "\n",
    "> *Methods for the assessment of the dichotomous behavior pattern by a structured psychological interview in the\n",
    "WCGS have been described elsewhere. **Type A** behavior is characterized by enhanced aggressiveness and competitive drive, preoccupation with deadlines, and chronic impatience and sense of time urgency, in contrast with the more relaxed and less hurried **Type B** behavior pattern.*"
   ]
  },
  {
   "cell_type": "markdown",
   "id": "6563d572",
   "metadata": {
    "slideshow": {
     "slide_type": "slide"
    }
   },
   "source": [
    "We load the data and get rid of rows with missing data."
   ]
  },
  {
   "cell_type": "code",
   "execution_count": 2,
   "id": "20c6cb73",
   "metadata": {
    "slideshow": {
     "slide_type": "fragment"
    }
   },
   "outputs": [
    {
     "data": {
      "text/html": [
       "<table class=\"dataframe\">\n",
       "<caption>A tibble: 3101 × 22</caption>\n",
       "<thead>\n",
       "\t<tr><th scope=col>age</th><th scope=col>arcus</th><th scope=col>behpat</th><th scope=col>bmi</th><th scope=col>chd69</th><th scope=col>⋯</th><th scope=col>typchd69</th><th scope=col>uni</th><th scope=col>weight</th><th scope=col>wghtcat</th><th scope=col>agec</th></tr>\n",
       "\t<tr><th scope=col>&lt;int&gt;</th><th scope=col>&lt;int&gt;</th><th scope=col>&lt;fct&gt;</th><th scope=col>&lt;dbl&gt;</th><th scope=col>&lt;fct&gt;</th><th scope=col>⋯</th><th scope=col>&lt;int&gt;</th><th scope=col>&lt;dbl&gt;</th><th scope=col>&lt;int&gt;</th><th scope=col>&lt;fct&gt;</th><th scope=col>&lt;fct&gt;</th></tr>\n",
       "</thead>\n",
       "<tbody>\n",
       "\t<tr><td>50</td><td>1</td><td>A1</td><td>31.32101</td><td>No</td><td>⋯</td><td>0</td><td>0.4860738</td><td>200</td><td>170-200</td><td>46-50</td></tr>\n",
       "\t<tr><td>51</td><td>0</td><td>A1</td><td>25.32858</td><td>No</td><td>⋯</td><td>0</td><td>0.1859543</td><td>192</td><td>170-200</td><td>51-55</td></tr>\n",
       "\t<tr><td>59</td><td>1</td><td>A1</td><td>28.69388</td><td>No</td><td>⋯</td><td>0</td><td>0.7277991</td><td>200</td><td>170-200</td><td>56-60</td></tr>\n",
       "\t<tr><td>51</td><td>1</td><td>A1</td><td>22.14871</td><td>No</td><td>⋯</td><td>0</td><td>0.6244636</td><td>150</td><td>140-170</td><td>51-55</td></tr>\n",
       "\t<tr><td>⋮</td><td>⋮</td><td>⋮</td><td>⋮</td><td>⋮</td><td>⋱</td><td>⋮</td><td>⋮</td><td>⋮</td><td>⋮</td><td>⋮</td></tr>\n",
       "\t<tr><td>41</td><td>0</td><td>B4</td><td>25.03378</td><td>No</td><td>⋯</td><td>0</td><td>0.27816987</td><td>195</td><td>170-200</td><td>41-45</td></tr>\n",
       "\t<tr><td>53</td><td>0</td><td>B4</td><td>25.79944</td><td>No</td><td>⋯</td><td>0</td><td>0.95139700</td><td>185</td><td>170-200</td><td>51-55</td></tr>\n",
       "\t<tr><td>54</td><td>0</td><td>B4</td><td>23.49076</td><td>No</td><td>⋯</td><td>0</td><td>0.57082593</td><td>150</td><td>140-170</td><td>51-55</td></tr>\n",
       "\t<tr><td>48</td><td>0</td><td>B4</td><td>30.26990</td><td>No</td><td>⋯</td><td>0</td><td>0.08677829</td><td>205</td><td><span style=white-space:pre-wrap>&gt; 200  </span></td><td>46-50</td></tr>\n",
       "</tbody>\n",
       "</table>\n"
      ],
      "text/latex": [
       "A tibble: 3101 × 22\n",
       "\\begin{tabular}{lllllllllll}\n",
       " age & arcus & behpat & bmi & chd69 & ⋯ & typchd69 & uni & weight & wghtcat & agec\\\\\n",
       " <int> & <int> & <fct> & <dbl> & <fct> & ⋯ & <int> & <dbl> & <int> & <fct> & <fct>\\\\\n",
       "\\hline\n",
       "\t 50 & 1 & A1 & 31.32101 & No & ⋯ & 0 & 0.4860738 & 200 & 170-200 & 46-50\\\\\n",
       "\t 51 & 0 & A1 & 25.32858 & No & ⋯ & 0 & 0.1859543 & 192 & 170-200 & 51-55\\\\\n",
       "\t 59 & 1 & A1 & 28.69388 & No & ⋯ & 0 & 0.7277991 & 200 & 170-200 & 56-60\\\\\n",
       "\t 51 & 1 & A1 & 22.14871 & No & ⋯ & 0 & 0.6244636 & 150 & 140-170 & 51-55\\\\\n",
       "\t ⋮ & ⋮ & ⋮ & ⋮ & ⋮ & ⋱ & ⋮ & ⋮ & ⋮ & ⋮ & ⋮\\\\\n",
       "\t 41 & 0 & B4 & 25.03378 & No & ⋯ & 0 & 0.27816987 & 195 & 170-200 & 41-45\\\\\n",
       "\t 53 & 0 & B4 & 25.79944 & No & ⋯ & 0 & 0.95139700 & 185 & 170-200 & 51-55\\\\\n",
       "\t 54 & 0 & B4 & 23.49076 & No & ⋯ & 0 & 0.57082593 & 150 & 140-170 & 51-55\\\\\n",
       "\t 48 & 0 & B4 & 30.26990 & No & ⋯ & 0 & 0.08677829 & 205 & > 200   & 46-50\\\\\n",
       "\\end{tabular}\n"
      ],
      "text/markdown": [
       "\n",
       "A tibble: 3101 × 22\n",
       "\n",
       "| age &lt;int&gt; | arcus &lt;int&gt; | behpat &lt;fct&gt; | bmi &lt;dbl&gt; | chd69 &lt;fct&gt; | ⋯ ⋯ | typchd69 &lt;int&gt; | uni &lt;dbl&gt; | weight &lt;int&gt; | wghtcat &lt;fct&gt; | agec &lt;fct&gt; |\n",
       "|---|---|---|---|---|---|---|---|---|---|---|\n",
       "| 50 | 1 | A1 | 31.32101 | No | ⋯ | 0 | 0.4860738 | 200 | 170-200 | 46-50 |\n",
       "| 51 | 0 | A1 | 25.32858 | No | ⋯ | 0 | 0.1859543 | 192 | 170-200 | 51-55 |\n",
       "| 59 | 1 | A1 | 28.69388 | No | ⋯ | 0 | 0.7277991 | 200 | 170-200 | 56-60 |\n",
       "| 51 | 1 | A1 | 22.14871 | No | ⋯ | 0 | 0.6244636 | 150 | 140-170 | 51-55 |\n",
       "| ⋮ | ⋮ | ⋮ | ⋮ | ⋮ | ⋱ | ⋮ | ⋮ | ⋮ | ⋮ | ⋮ |\n",
       "| 41 | 0 | B4 | 25.03378 | No | ⋯ | 0 | 0.27816987 | 195 | 170-200 | 41-45 |\n",
       "| 53 | 0 | B4 | 25.79944 | No | ⋯ | 0 | 0.95139700 | 185 | 170-200 | 51-55 |\n",
       "| 54 | 0 | B4 | 23.49076 | No | ⋯ | 0 | 0.57082593 | 150 | 140-170 | 51-55 |\n",
       "| 48 | 0 | B4 | 30.26990 | No | ⋯ | 0 | 0.08677829 | 205 | &gt; 200   | 46-50 |\n",
       "\n"
      ],
      "text/plain": [
       "     age arcus behpat bmi      chd69 ⋯ typchd69 uni        weight wghtcat agec \n",
       "1    50  1     A1     31.32101 No    ⋯ 0        0.4860738  200    170-200 46-50\n",
       "2    51  0     A1     25.32858 No    ⋯ 0        0.1859543  192    170-200 51-55\n",
       "3    59  1     A1     28.69388 No    ⋯ 0        0.7277991  200    170-200 56-60\n",
       "4    51  1     A1     22.14871 No    ⋯ 0        0.6244636  150    140-170 51-55\n",
       "⋮    ⋮   ⋮     ⋮      ⋮        ⋮     ⋱ ⋮        ⋮          ⋮      ⋮       ⋮    \n",
       "3098 41  0     B4     25.03378 No    ⋯ 0        0.27816987 195    170-200 41-45\n",
       "3099 53  0     B4     25.79944 No    ⋯ 0        0.95139700 185    170-200 51-55\n",
       "3100 54  0     B4     23.49076 No    ⋯ 0        0.57082593 150    140-170 51-55\n",
       "3101 48  0     B4     30.26990 No    ⋯ 0        0.08677829 205    > 200   46-50"
      ]
     },
     "metadata": {},
     "output_type": "display_data"
    }
   ],
   "source": [
    "wcgs <- as_tibble(read.dta(\"../data/wcgs.dta\"))\n",
    "wcgs <- na.omit(wcgs) \n",
    "wcgs"
   ]
  },
  {
   "cell_type": "markdown",
   "id": "a37c20ee",
   "metadata": {
    "slideshow": {
     "slide_type": "slide"
    }
   },
   "source": [
    "Then, we select our variables of interest:\n",
    "\n",
    "- `dibpat`: Dichotomous behaviour pattern, a factor-type variable with two levels (`Type A` and `Type B`).\n",
    "- `age`: Subject's age in years (a count-type variable).\n",
    "- `bmi`: Subject's body mass index (BMI) in $\\text{kg}/\\text{m}^2$ (a continuous-type variable).\n",
    "- `chol`: Subject's cholesterol levels in $\\text{mg}/100 \\text{ ml}$ (a continuous-type variable).\n",
    "- `smoke`: Whether the subject smokes or not, a factor-type variable with two levels (`Yes` and `No`).\n",
    "- `chd69`: Whether the subject experienced a coronary heart disease (CHD) event, a factor-type variable with two levels (`Yes` and `No`)."
   ]
  },
  {
   "cell_type": "code",
   "execution_count": 3,
   "id": "240769a3",
   "metadata": {
    "slideshow": {
     "slide_type": "fragment"
    }
   },
   "outputs": [],
   "source": [
    "wcgs <- wcgs %>%\n",
    "  dplyr::select(dibpat, age, bmi, chol, smoke, chd69)"
   ]
  },
  {
   "cell_type": "markdown",
   "id": "7f9eeb89",
   "metadata": {
    "slideshow": {
     "slide_type": "fragment"
    }
   },
   "source": [
    "Therefore $Y$ will be `chd69` and $X$ will be `dibpat`, whereas `age`, `bmi`, `chol` and `smoke` will be confounders."
   ]
  },
  {
   "cell_type": "markdown",
   "id": "fef98017",
   "metadata": {
    "slideshow": {
     "slide_type": "slide"
    }
   },
   "source": [
    "Given the form of the model governing our **proxy ground truth**:\n",
    "\n",
    "```\n",
    "glm(chd69 ~ dibpat + age_bins + smoke + bmi_bins + chol_bins, family = \"binomial\", data = wcgs)\n",
    "```\n",
    "\n",
    "we need to create strata by confounder (**except for `smoke` which is already categorical**). These strata will be formed on a quartile basis."
   ]
  },
  {
   "cell_type": "code",
   "execution_count": 4,
   "id": "85c78802",
   "metadata": {
    "slideshow": {
     "slide_type": "fragment"
    }
   },
   "outputs": [],
   "source": [
    "wcgs <- wcgs %>%\n",
    "  mutate(\n",
    "    age_bins = cut(age, breaks = c(min(age), quantile(age, (1:3) / 4), max(age)), include.lowest = TRUE),\n",
    "    bmi_bins = cut(bmi, breaks = c(min(bmi), quantile(bmi, (1:3) / 4), max(bmi)), include.lowest = TRUE),\n",
    "    chol_bins = cut(chol, breaks = c(min(chol), quantile(chol, (1:3) / 4), max(chol)), include.lowest = TRUE)\n",
    "  )"
   ]
  },
  {
   "cell_type": "markdown",
   "id": "6ac3cc65",
   "metadata": {
    "slideshow": {
     "slide_type": "slide"
    }
   },
   "source": [
    "Then, we fit the governing model:"
   ]
  },
  {
   "cell_type": "code",
   "execution_count": 5,
   "id": "3ef26ec4",
   "metadata": {
    "slideshow": {
     "slide_type": "fragment"
    }
   },
   "outputs": [],
   "source": [
    "wcgs_bin_log_model <- glm(chd69 ~ dibpat + age_bins + smoke + bmi_bins + chol_bins,\n",
    "  family = \"binomial\", data = wcgs\n",
    ")"
   ]
  },
  {
   "cell_type": "markdown",
   "id": "1ec57f93",
   "metadata": {
    "slideshow": {
     "slide_type": "fragment"
    }
   },
   "source": [
    "We record the corresponding estimated regression coefficients:"
   ]
  },
  {
   "cell_type": "code",
   "execution_count": 6,
   "id": "f03ade3a",
   "metadata": {
    "slideshow": {
     "slide_type": "fragment"
    }
   },
   "outputs": [],
   "source": [
    "wcgs_coef_pop <- coef(wcgs_bin_log_model)"
   ]
  },
  {
   "cell_type": "markdown",
   "id": "53987174",
   "metadata": {
    "slideshow": {
     "slide_type": "slide"
    }
   },
   "source": [
    "We proceed with creating the clones in our **proxy ground truth** `sim_pop` and shuffling its rows."
   ]
  },
  {
   "cell_type": "code",
   "execution_count": 7,
   "id": "6cd5805e",
   "metadata": {
    "slideshow": {
     "slide_type": "fragment"
    }
   },
   "outputs": [],
   "source": [
    "set.seed(554) # Reproducibility\n",
    "sim_pop <- data.frame(\n",
    "  dibpat = rep(wcgs$dibpat, each = 20),\n",
    "  age_bins = rep(wcgs$age_bins, each = 20),\n",
    "  smoke = rep(wcgs$smoke, each = 20),\n",
    "  bmi_bins = rep(wcgs$bmi_bins, each = 20),\n",
    "  chol_bins = rep(wcgs$chol_bins, each = 20)\n",
    ")\n",
    "# Shuffling rows\n",
    "rows <- sample(nrow(sim_pop))\n",
    "sim_pop <- sim_pop[rows, ]"
   ]
  },
  {
   "cell_type": "markdown",
   "id": "5a091147",
   "metadata": {
    "slideshow": {
     "slide_type": "slide"
    }
   },
   "source": [
    "Then, we build the response $Y$ (`chd69`)."
   ]
  },
  {
   "cell_type": "code",
   "execution_count": 8,
   "id": "e0406ff9",
   "metadata": {
    "slideshow": {
     "slide_type": "fragment"
    }
   },
   "outputs": [
    {
     "data": {
      "text/html": [
       "<table class=\"dataframe\">\n",
       "<caption>A data.frame: 62020 × 6</caption>\n",
       "<thead>\n",
       "\t<tr><th></th><th scope=col>dibpat</th><th scope=col>age_bins</th><th scope=col>smoke</th><th scope=col>bmi_bins</th><th scope=col>chol_bins</th><th scope=col>chd69</th></tr>\n",
       "\t<tr><th></th><th scope=col>&lt;fct&gt;</th><th scope=col>&lt;fct&gt;</th><th scope=col>&lt;fct&gt;</th><th scope=col>&lt;fct&gt;</th><th scope=col>&lt;fct&gt;</th><th scope=col>&lt;fct&gt;</th></tr>\n",
       "</thead>\n",
       "<tbody>\n",
       "\t<tr><th scope=row>46844</th><td>Type B</td><td>[39,42]</td><td>No</td><td>(24.4,25.8]</td><td>(197,223]</td><td>0</td></tr>\n",
       "\t<tr><th scope=row>36954</th><td>Type B</td><td>(50,59]</td><td>No</td><td>(25.8,38.9]</td><td>[103,197]</td><td>0</td></tr>\n",
       "\t<tr><th scope=row>47173</th><td>Type B</td><td>(42,45]</td><td>No</td><td>(23,24.4]  </td><td>[103,197]</td><td>0</td></tr>\n",
       "\t<tr><th scope=row>44779</th><td>Type B</td><td>(50,59]</td><td>No</td><td>(23,24.4]  </td><td>(197,223]</td><td>0</td></tr>\n",
       "\t<tr><th scope=row>⋮</th><td>⋮</td><td>⋮</td><td>⋮</td><td>⋮</td><td>⋮</td><td>⋮</td></tr>\n",
       "\t<tr><th scope=row>13998</th><td>Type A</td><td>(42,45]</td><td>No </td><td>(25.8,38.9]</td><td>[103,197]</td><td>0</td></tr>\n",
       "\t<tr><th scope=row>43487</th><td>Type B</td><td>[39,42]</td><td>No </td><td>[11.2,23]  </td><td>[103,197]</td><td>0</td></tr>\n",
       "\t<tr><th scope=row>14393</th><td>Type A</td><td>(42,45]</td><td>Yes</td><td>(25.8,38.9]</td><td>[103,197]</td><td>0</td></tr>\n",
       "\t<tr><th scope=row>45693</th><td>Type B</td><td>(50,59]</td><td>Yes</td><td>(25.8,38.9]</td><td>[103,197]</td><td>0</td></tr>\n",
       "</tbody>\n",
       "</table>\n"
      ],
      "text/latex": [
       "A data.frame: 62020 × 6\n",
       "\\begin{tabular}{r|llllll}\n",
       "  & dibpat & age\\_bins & smoke & bmi\\_bins & chol\\_bins & chd69\\\\\n",
       "  & <fct> & <fct> & <fct> & <fct> & <fct> & <fct>\\\\\n",
       "\\hline\n",
       "\t46844 & Type B & {[}39,42{]} & No & (24.4,25.8{]} & (197,223{]} & 0\\\\\n",
       "\t36954 & Type B & (50,59{]} & No & (25.8,38.9{]} & {[}103,197{]} & 0\\\\\n",
       "\t47173 & Type B & (42,45{]} & No & (23,24.4{]}   & {[}103,197{]} & 0\\\\\n",
       "\t44779 & Type B & (50,59{]} & No & (23,24.4{]}   & (197,223{]} & 0\\\\\n",
       "\t⋮ & ⋮ & ⋮ & ⋮ & ⋮ & ⋮ & ⋮\\\\\n",
       "\t13998 & Type A & (42,45{]} & No  & (25.8,38.9{]} & {[}103,197{]} & 0\\\\\n",
       "\t43487 & Type B & {[}39,42{]} & No  & {[}11.2,23{]}   & {[}103,197{]} & 0\\\\\n",
       "\t14393 & Type A & (42,45{]} & Yes & (25.8,38.9{]} & {[}103,197{]} & 0\\\\\n",
       "\t45693 & Type B & (50,59{]} & Yes & (25.8,38.9{]} & {[}103,197{]} & 0\\\\\n",
       "\\end{tabular}\n"
      ],
      "text/markdown": [
       "\n",
       "A data.frame: 62020 × 6\n",
       "\n",
       "| <!--/--> | dibpat &lt;fct&gt; | age_bins &lt;fct&gt; | smoke &lt;fct&gt; | bmi_bins &lt;fct&gt; | chol_bins &lt;fct&gt; | chd69 &lt;fct&gt; |\n",
       "|---|---|---|---|---|---|---|\n",
       "| 46844 | Type B | [39,42] | No | (24.4,25.8] | (197,223] | 0 |\n",
       "| 36954 | Type B | (50,59] | No | (25.8,38.9] | [103,197] | 0 |\n",
       "| 47173 | Type B | (42,45] | No | (23,24.4]   | [103,197] | 0 |\n",
       "| 44779 | Type B | (50,59] | No | (23,24.4]   | (197,223] | 0 |\n",
       "| ⋮ | ⋮ | ⋮ | ⋮ | ⋮ | ⋮ | ⋮ |\n",
       "| 13998 | Type A | (42,45] | No  | (25.8,38.9] | [103,197] | 0 |\n",
       "| 43487 | Type B | [39,42] | No  | [11.2,23]   | [103,197] | 0 |\n",
       "| 14393 | Type A | (42,45] | Yes | (25.8,38.9] | [103,197] | 0 |\n",
       "| 45693 | Type B | (50,59] | Yes | (25.8,38.9] | [103,197] | 0 |\n",
       "\n"
      ],
      "text/plain": [
       "      dibpat age_bins smoke bmi_bins    chol_bins chd69\n",
       "46844 Type B [39,42]  No    (24.4,25.8] (197,223] 0    \n",
       "36954 Type B (50,59]  No    (25.8,38.9] [103,197] 0    \n",
       "47173 Type B (42,45]  No    (23,24.4]   [103,197] 0    \n",
       "44779 Type B (50,59]  No    (23,24.4]   (197,223] 0    \n",
       "⋮     ⋮      ⋮        ⋮     ⋮           ⋮         ⋮    \n",
       "13998 Type A (42,45]  No    (25.8,38.9] [103,197] 0    \n",
       "43487 Type B [39,42]  No    [11.2,23]   [103,197] 0    \n",
       "14393 Type A (42,45]  Yes   (25.8,38.9] [103,197] 0    \n",
       "45693 Type B (50,59]  Yes   (25.8,38.9] [103,197] 0    "
      ]
     },
     "metadata": {},
     "output_type": "display_data"
    }
   ],
   "source": [
    "pred_prob <- function(logit) {exp(logit) /(1 + exp(logit))} # pi hat formula\n",
    "\n",
    "# Creating model matrix\n",
    "model_matrix_sim_pop <- model.matrix(~ dibpat + age_bins + smoke + bmi_bins + chol_bins, data = sim_pop)\n",
    "\n",
    "set.seed(554) # Reproducibility\n",
    "sim_pop$chd69 <- rbinom(\n",
    "  n = nrow(sim_pop), size = 1, prob = pred_prob(logit = model_matrix_sim_pop %*% wcgs_coef_pop)\n",
    ")\n",
    "sim_pop <- sim_pop %>% mutate(chd69 = as.factor(chd69))\n",
    "sim_pop"
   ]
  },
  {
   "cell_type": "markdown",
   "id": "3d50856d",
   "metadata": {
    "slideshow": {
     "slide_type": "slide"
    }
   },
   "source": [
    "We ended up with an artificial population of $N = 62,020$ subjects where $1,537 + 3,480 = 5,017$ subjects **experience (or will experience!)** a CHD event (`0` for `No` and `1` for `Yes`):"
   ]
  },
  {
   "cell_type": "code",
   "execution_count": 9,
   "id": "9b3b41b0",
   "metadata": {
    "slideshow": {
     "slide_type": "fragment"
    }
   },
   "outputs": [
    {
     "data": {
      "text/plain": [
       "        \n",
       "             0     1\n",
       "  Type B 29203  1537\n",
       "  Type A 27800  3480"
      ]
     },
     "metadata": {},
     "output_type": "display_data"
    }
   ],
   "source": [
    "table(sim_pop$dibpat, sim_pop$chd69)"
   ]
  },
  {
   "cell_type": "markdown",
   "id": "bc2a5faa",
   "metadata": {
    "slideshow": {
     "slide_type": "slide"
    }
   },
   "source": [
    "Once we have our artificial population `sim_pop`, let us explain what **CC-matching** is. This particular form of CC sampling occurs when we are collecting our data. It has the following characteristics:"
   ]
  },
  {
   "cell_type": "markdown",
   "id": "efa21475",
   "metadata": {
    "slideshow": {
     "slide_type": "slide"
    }
   },
   "source": [
    "- Our **overall sample size** will be $n$.\n",
    "- We sample $n / 2$ cases ($Y = 1$) from our population of interest. We already discussed the impact of oversampling cases and undersampling controls when the case $Y = 1$ is rare. Here we will keep a\n",
    "\n",
    "$$\\text{Case:Control ratio} = 1.$$\n",
    "\n",
    "- When recording the binary variables $Y$ and $X$, we also record the confounders of interest $C_j$ **as strata**."
   ]
  },
  {
   "cell_type": "markdown",
   "id": "c443626a",
   "metadata": {
    "slideshow": {
     "slide_type": "slide"
    }
   },
   "source": [
    "```{exercise}\n",
    ":label: lecture8-q1\n",
    "\n",
    "**Answer TRUE or FALSE:**\n",
    "\n",
    "If we are part of the team designing the observational study, we must determine the set of confounding variables before running the study.\n",
    "\n",
    "**A.** TRUE\n",
    "\n",
    "**B.** FALSE\n",
    "```"
   ]
  },
  {
   "cell_type": "markdown",
   "id": "5e7b4610",
   "metadata": {
    "slideshow": {
     "slide_type": "slide"
    }
   },
   "source": [
    "- Once we have the sampled $n / 2$ cases, we will start sampling our $n / 2$ controls ($Y = 0$).\n",
    "- When sampling the $n / 2$ controls, each subject **will exactly match each confounding strata to their SINGLE case counterpart**. The variable $X$ will be allowed to vary."
   ]
  },
  {
   "cell_type": "markdown",
   "id": "1ecc84af",
   "metadata": {
    "slideshow": {
     "slide_type": "slide"
    }
   },
   "source": [
    "```{admonition} What is the objective of this matched case-control sampling?\n",
    ":class: hint\n",
    "\n",
    "This alternative matching sampling also considers confounding variables, so we can allow our causal claims on the binary $X$ and $Y$ to be **STRONGER**. Note this particular scheme will be decided from the very beginning of the observational study.\n",
    "```"
   ]
  },
  {
   "cell_type": "markdown",
   "id": "9d42ee22",
   "metadata": {
    "slideshow": {
     "slide_type": "fragment"
    }
   },
   "source": [
    "**To illustrate this CC sampling scheme**, we will build the simulation function `sim_matched_CC`. The function will need the following arguments:\n",
    "\n",
    "- `pop_data`: The population data from which we will draw the sample.\n",
    "- `n`: The overall sample size $n$.\n",
    "\n",
    "The function will return the **CC-matched sample**."
   ]
  },
  {
   "cell_type": "code",
   "execution_count": 10,
   "id": "3e71d10a",
   "metadata": {
    "slideshow": {
     "slide_type": "slide"
    }
   },
   "outputs": [],
   "source": [
    "sim_matched_CC <- function(pop_data, n) {\n",
    "  subsample_size <- n / 2\n",
    "  sample_cases <- sample((1:nrow(pop_data))[pop_data$chd69 == 1],\n",
    "    size = subsample_size, replace = F\n",
    "  )\n",
    "  # Keep the same n / 2 cases, but start fresh with picking controls!\n",
    "  sample_controls <- rep(NA, length(sample_cases))\n",
    "  # Start out with T/F indicator for the pool of all controls\n",
    "  available_control <- pop_data$chd69 == 0\n",
    "  # Going through cases one at a time\n",
    "  for (i in 1:length(sample_cases)) {\n",
    "\n",
    "    # What control is eligble to match to the ith case?\n",
    "    # Any available control with matching confounder values!\n",
    "    elegible_control <- available_control &\n",
    "      (pop_data[, \"age_bins\"] == pop_data[sample_cases[i], \"age_bins\"]) &\n",
    "      (pop_data[, \"smoke\"] == pop_data[sample_cases[i], \"smoke\"]) &\n",
    "      (pop_data[, \"bmi_bins\"] == pop_data[sample_cases[i], \"bmi_bins\"]) &\n",
    "      (pop_data[, \"chol_bins\"] == pop_data[sample_cases[i], \"chol_bins\"])\n",
    "\n",
    "    # The index of the randomly selected control\n",
    "    sample_controls[i] <- sample((1:nrow(pop_data))[elegible_control], size = 1)\n",
    "\n",
    "    # And that control will be no longer available\n",
    "    available_control[sample_controls[i]] <- FALSE\n",
    "  }\n",
    "\n",
    "  # Wrangling matched sample\n",
    "  sample_by_pairs <- data.frame(\n",
    "    dibpat_case = sim_pop$dibpat[sample_cases],\n",
    "    dibpat_control = sim_pop$dibpat[sample_controls],\n",
    "    sim_pop[sample_cases, c(\"age_bins\", \"smoke\", \"bmi_bins\", \"chol_bins\")]\n",
    "  )\n",
    "  rownames(sample_by_pairs) <- 1:nrow(sample_by_pairs)\n",
    "\n",
    "  return(sample_by_pairs)\n",
    "}"
   ]
  },
  {
   "cell_type": "markdown",
   "id": "52592608",
   "metadata": {
    "slideshow": {
     "slide_type": "slide"
    }
   },
   "source": [
    "We draw a **CC-matched sample** using the previous function from `sim_pop`. The overall sample size is $n = 500$."
   ]
  },
  {
   "cell_type": "code",
   "execution_count": 11,
   "id": "00e96c88",
   "metadata": {
    "slideshow": {
     "slide_type": "fragment"
    }
   },
   "outputs": [
    {
     "data": {
      "text/html": [
       "<table class=\"dataframe\">\n",
       "<caption>A data.frame: 250 × 6</caption>\n",
       "<thead>\n",
       "\t<tr><th></th><th scope=col>dibpat_case</th><th scope=col>dibpat_control</th><th scope=col>age_bins</th><th scope=col>smoke</th><th scope=col>bmi_bins</th><th scope=col>chol_bins</th></tr>\n",
       "\t<tr><th></th><th scope=col>&lt;fct&gt;</th><th scope=col>&lt;fct&gt;</th><th scope=col>&lt;fct&gt;</th><th scope=col>&lt;fct&gt;</th><th scope=col>&lt;fct&gt;</th><th scope=col>&lt;fct&gt;</th></tr>\n",
       "</thead>\n",
       "<tbody>\n",
       "\t<tr><th scope=row>1</th><td>Type B</td><td>Type A</td><td>(50,59]</td><td>Yes</td><td>[11.2,23]  </td><td>(223,253]</td></tr>\n",
       "\t<tr><th scope=row>2</th><td>Type B</td><td>Type A</td><td>(50,59]</td><td>No </td><td>(25.8,38.9]</td><td>(223,253]</td></tr>\n",
       "\t<tr><th scope=row>3</th><td>Type B</td><td>Type A</td><td>(50,59]</td><td>Yes</td><td>(23,24.4]  </td><td>[103,197]</td></tr>\n",
       "\t<tr><th scope=row>4</th><td>Type A</td><td>Type A</td><td>(42,45]</td><td>No </td><td>[11.2,23]  </td><td>(223,253]</td></tr>\n",
       "\t<tr><th scope=row>⋮</th><td>⋮</td><td>⋮</td><td>⋮</td><td>⋮</td><td>⋮</td><td>⋮</td></tr>\n",
       "\t<tr><th scope=row>247</th><td>Type A</td><td>Type B</td><td>(50,59]</td><td>Yes</td><td>(25.8,38.9]</td><td>(253,645]</td></tr>\n",
       "\t<tr><th scope=row>248</th><td>Type A</td><td>Type A</td><td>(50,59]</td><td>No </td><td>(25.8,38.9]</td><td>(253,645]</td></tr>\n",
       "\t<tr><th scope=row>249</th><td>Type A</td><td>Type A</td><td>(50,59]</td><td>Yes</td><td>[11.2,23]  </td><td>(253,645]</td></tr>\n",
       "\t<tr><th scope=row>250</th><td>Type B</td><td>Type A</td><td>[39,42]</td><td>Yes</td><td>(23,24.4]  </td><td>(253,645]</td></tr>\n",
       "</tbody>\n",
       "</table>\n"
      ],
      "text/latex": [
       "A data.frame: 250 × 6\n",
       "\\begin{tabular}{r|llllll}\n",
       "  & dibpat\\_case & dibpat\\_control & age\\_bins & smoke & bmi\\_bins & chol\\_bins\\\\\n",
       "  & <fct> & <fct> & <fct> & <fct> & <fct> & <fct>\\\\\n",
       "\\hline\n",
       "\t1 & Type B & Type A & (50,59{]} & Yes & {[}11.2,23{]}   & (223,253{]}\\\\\n",
       "\t2 & Type B & Type A & (50,59{]} & No  & (25.8,38.9{]} & (223,253{]}\\\\\n",
       "\t3 & Type B & Type A & (50,59{]} & Yes & (23,24.4{]}   & {[}103,197{]}\\\\\n",
       "\t4 & Type A & Type A & (42,45{]} & No  & {[}11.2,23{]}   & (223,253{]}\\\\\n",
       "\t⋮ & ⋮ & ⋮ & ⋮ & ⋮ & ⋮ & ⋮\\\\\n",
       "\t247 & Type A & Type B & (50,59{]} & Yes & (25.8,38.9{]} & (253,645{]}\\\\\n",
       "\t248 & Type A & Type A & (50,59{]} & No  & (25.8,38.9{]} & (253,645{]}\\\\\n",
       "\t249 & Type A & Type A & (50,59{]} & Yes & {[}11.2,23{]}   & (253,645{]}\\\\\n",
       "\t250 & Type B & Type A & {[}39,42{]} & Yes & (23,24.4{]}   & (253,645{]}\\\\\n",
       "\\end{tabular}\n"
      ],
      "text/markdown": [
       "\n",
       "A data.frame: 250 × 6\n",
       "\n",
       "| <!--/--> | dibpat_case &lt;fct&gt; | dibpat_control &lt;fct&gt; | age_bins &lt;fct&gt; | smoke &lt;fct&gt; | bmi_bins &lt;fct&gt; | chol_bins &lt;fct&gt; |\n",
       "|---|---|---|---|---|---|---|\n",
       "| 1 | Type B | Type A | (50,59] | Yes | [11.2,23]   | (223,253] |\n",
       "| 2 | Type B | Type A | (50,59] | No  | (25.8,38.9] | (223,253] |\n",
       "| 3 | Type B | Type A | (50,59] | Yes | (23,24.4]   | [103,197] |\n",
       "| 4 | Type A | Type A | (42,45] | No  | [11.2,23]   | (223,253] |\n",
       "| ⋮ | ⋮ | ⋮ | ⋮ | ⋮ | ⋮ | ⋮ |\n",
       "| 247 | Type A | Type B | (50,59] | Yes | (25.8,38.9] | (253,645] |\n",
       "| 248 | Type A | Type A | (50,59] | No  | (25.8,38.9] | (253,645] |\n",
       "| 249 | Type A | Type A | (50,59] | Yes | [11.2,23]   | (253,645] |\n",
       "| 250 | Type B | Type A | [39,42] | Yes | (23,24.4]   | (253,645] |\n",
       "\n"
      ],
      "text/plain": [
       "    dibpat_case dibpat_control age_bins smoke bmi_bins    chol_bins\n",
       "1   Type B      Type A         (50,59]  Yes   [11.2,23]   (223,253]\n",
       "2   Type B      Type A         (50,59]  No    (25.8,38.9] (223,253]\n",
       "3   Type B      Type A         (50,59]  Yes   (23,24.4]   [103,197]\n",
       "4   Type A      Type A         (42,45]  No    [11.2,23]   (223,253]\n",
       "⋮   ⋮           ⋮              ⋮        ⋮     ⋮           ⋮        \n",
       "247 Type A      Type B         (50,59]  Yes   (25.8,38.9] (253,645]\n",
       "248 Type A      Type A         (50,59]  No    (25.8,38.9] (253,645]\n",
       "249 Type A      Type A         (50,59]  Yes   [11.2,23]   (253,645]\n",
       "250 Type B      Type A         [39,42]  Yes   (23,24.4]   (253,645]"
      ]
     },
     "metadata": {},
     "output_type": "display_data"
    }
   ],
   "source": [
    "set.seed(321) # Reproducibility\n",
    "CC_matched_sample <- sim_matched_CC(pop_data = sim_pop, n = 500)\n",
    "CC_matched_sample"
   ]
  },
  {
   "cell_type": "markdown",
   "id": "9a6847f6",
   "metadata": {
    "slideshow": {
     "slide_type": "fragment"
    }
   },
   "source": [
    "This sample has 250 rows. In the context of the WCGS data, each row shows the matched confounding strata in their corresponding columns (`age_bins`, `smoke`, `bmi_bins`, and `chol_bins`). In addition, the columns `dibpat_case` and `dibpat_control` contain the $X$ values for the matched case and control."
   ]
  },
  {
   "cell_type": "markdown",
   "id": "b45e9aeb",
   "metadata": {
    "slideshow": {
     "slide_type": "slide"
    }
   },
   "source": [
    "### 1.2. A Different Data Analysis\n",
    "\n",
    "In general, if we form a **CC-matched sample** using confounders $C_1, \\ldots, C_p$; then, there is a bespoke procedure for estimating the logarithm of the odds ratio ($\\text{log-OR}$) of $(Y , X| C_1, \\ldots, C_p)$. \n",
    "\n",
    "```{warning}\n",
    "**We do not have a free pass to fit a Binary Logistic regression model like a regular CC sample since we have matched pairs**. If we want to use the ordinary model from `glm()` with a **CC-matched sample**, **the sparse data problem** could arise (i.e., the number of strata is large relative to the amount of training data given that we also use the binned confounders to sample).\n",
    "\n",
    "So instead, we will use what is called the McNemar test.\n",
    "```"
   ]
  },
  {
   "cell_type": "markdown",
   "id": "3dbb93d0",
   "metadata": {
    "slideshow": {
     "slide_type": "slide"
    }
   },
   "source": [
    "Each **matched pair** contributes to one of the four cells in the following contingency table in terms of $X$:\n",
    "\n",
    "|  |  | **Control** |  |\n",
    "| --- | --- | --- | --- |\n",
    "|  |  | $X = 0$ | $X = 1$ |\n",
    "| **Case** | $X = 0$ | $n_{0, 0}$ | $n_{0, 1}$ |\n",
    "| | $X = 1$ | $n_{1, 0}$  | $n_{1, 1}$ |"
   ]
  },
  {
   "cell_type": "markdown",
   "id": "89cb735f",
   "metadata": {
    "slideshow": {
     "slide_type": "slide"
    }
   },
   "source": [
    "These pairs $n_{0, 0}$ and $n_{1, 1}$ are called **concordant pairs**. On the other hand, the pairs $n_{0, 1}$ and $n_{1, 0}$ are called **discordant pairs**. The estimator of the OR is based on the **discordant pairs**\n",
    "\n",
    "$$\\text{OR} = \\frac{n_{1, 0}}{n_{0, 1}}.$$"
   ]
  },
  {
   "cell_type": "markdown",
   "id": "0387048e",
   "metadata": {
    "slideshow": {
     "slide_type": "slide"
    }
   },
   "source": [
    "Recall the OR can be interpreted as follows:\n",
    "\n",
    "- $\\text{OR} = 1$ indicates the binary exposure $X$ **DOES NOT AFFECT** the odds of the binary outcome $Y$.\n",
    "- $\\text{OR} > 1$ indicates the binary exposure $X$ **IS ASSOCIATED WITH** (**OR CAUSES!**) **higher odds** of the binary outcome $Y$.\n",
    "- $\\text{OR} < 1$ indicates the binary exposure $X$ **IS ASSOCIATED WITH** (**OR CAUSES!**) **lower odds** of the binary outcome $Y$."
   ]
  },
  {
   "cell_type": "markdown",
   "id": "c051ff3b",
   "metadata": {
    "slideshow": {
     "slide_type": "slide"
    }
   },
   "source": [
    "Under the McNemar test, the hypotheses are the same as in {doc}`lecture6_obs_stratifying_modelling`:\n",
    "\n",
    "$$H_0\\text{: log-OR} = 0$$\n",
    "$$H_a\\text{: log-OR} \\neq 0.$$\n",
    "\n",
    "Failing to reject $H_0$ gives statistical evidence that the binary exposure $X$ **DOES NOT AFFECT** the odds of the binary outcome $Y$ with a significance level $\\alpha$."
   ]
  },
  {
   "cell_type": "markdown",
   "id": "3a6a717d",
   "metadata": {
    "slideshow": {
     "slide_type": "fragment"
    }
   },
   "source": [
    "The estimator of the $\\text{log-OR}$ is\n",
    "\n",
    "$$\\hat{\\text{log-OR}} = \\log \\bigg( \\frac{n_{1, 0}}{n_{0, 1}} \\bigg) = \\log(n_{1, 0}) - \\log(n_{0, 1}).$$"
   ]
  },
  {
   "cell_type": "markdown",
   "id": "19f8a102",
   "metadata": {
    "slideshow": {
     "slide_type": "slide"
    }
   },
   "source": [
    "The $\\text{log-OR}$ is **approximately Normal** with the following standard error (SE):\n",
    "\n",
    "$$\\text{SE} = \\sqrt{\\frac{1}{n_{1, 0}} + \\frac{1}{n_{0, 1}}},$$\n",
    "\n",
    "and the test statistic is\n",
    "\n",
    "$$z_{\\text{log-OR}} = \\frac{\\log(n_{1, 0}) - \\log(n_{0, 1})}{\\sqrt{\\frac{1}{n_{1, 0}} + \\frac{1}{n_{0, 1}}}}$$"
   ]
  },
  {
   "cell_type": "markdown",
   "id": "eb9b1898",
   "metadata": {
    "slideshow": {
     "slide_type": "slide"
    }
   },
   "source": [
    "In terms of our `CC_matched_sample`, we need to obtain the corresponding contingency table:"
   ]
  },
  {
   "cell_type": "code",
   "execution_count": 12,
   "id": "4defee90",
   "metadata": {
    "slideshow": {
     "slide_type": "fragment"
    }
   },
   "outputs": [
    {
     "data": {
      "text/plain": [
       "        \n",
       "         Type B Type A\n",
       "  Type B     43     39\n",
       "  Type A     73     95"
      ]
     },
     "metadata": {},
     "output_type": "display_data"
    }
   ],
   "source": [
    "CC_matched_cont_table <- table(CC_matched_sample$dibpat_case, CC_matched_sample$dibpat_control)\n",
    "CC_matched_cont_table"
   ]
  },
  {
   "cell_type": "markdown",
   "id": "d40d5024",
   "metadata": {
    "slideshow": {
     "slide_type": "fragment"
    }
   },
   "source": [
    "Then, we obtain the estimate of the $\\text{log-OR}$ and its SE:"
   ]
  },
  {
   "cell_type": "code",
   "execution_count": 13,
   "id": "29893159",
   "metadata": {
    "slideshow": {
     "slide_type": "fragment"
    }
   },
   "outputs": [
    {
     "data": {
      "text/html": [
       "0.627"
      ],
      "text/latex": [
       "0.627"
      ],
      "text/markdown": [
       "0.627"
      ],
      "text/plain": [
       "[1] 0.627"
      ]
     },
     "metadata": {},
     "output_type": "display_data"
    }
   ],
   "source": [
    "logOR_est <- log(CC_matched_cont_table[2 , 1]) - log(CC_matched_cont_table[1, 2])\n",
    "round(logOR_est, 3)"
   ]
  },
  {
   "cell_type": "code",
   "execution_count": 14,
   "id": "388b3dd4",
   "metadata": {
    "slideshow": {
     "slide_type": "fragment"
    }
   },
   "outputs": [
    {
     "data": {
      "text/html": [
       "0.198"
      ],
      "text/latex": [
       "0.198"
      ],
      "text/markdown": [
       "0.198"
      ],
      "text/plain": [
       "[1] 0.198"
      ]
     },
     "metadata": {},
     "output_type": "display_data"
    }
   ],
   "source": [
    "logOR_se <- sqrt(1 / CC_matched_cont_table[2 , 1] + 1 / CC_matched_cont_table[1, 2])\n",
    "round(logOR_se, 3)"
   ]
  },
  {
   "cell_type": "markdown",
   "id": "c7ea6bf4",
   "metadata": {
    "slideshow": {
     "slide_type": "slide"
    }
   },
   "source": [
    "We can obtain the OR by exponentiating this estimate. Note it is larger than 1, so the exposure to $X = 1$ causes **higher odds** of the binary outcome $Y$."
   ]
  },
  {
   "cell_type": "code",
   "execution_count": 15,
   "id": "e90242ba",
   "metadata": {
    "slideshow": {
     "slide_type": "fragment"
    }
   },
   "outputs": [
    {
     "data": {
      "text/html": [
       "1.872"
      ],
      "text/latex": [
       "1.872"
      ],
      "text/markdown": [
       "1.872"
      ],
      "text/plain": [
       "[1] 1.872"
      ]
     },
     "metadata": {},
     "output_type": "display_data"
    }
   ],
   "source": [
    "round(exp(logOR_est), 3)"
   ]
  },
  {
   "cell_type": "markdown",
   "id": "fcdc32c6",
   "metadata": {
    "slideshow": {
     "slide_type": "fragment"
    }
   },
   "source": [
    "Then, the test statistic is the following:"
   ]
  },
  {
   "cell_type": "code",
   "execution_count": 16,
   "id": "7d1495d2",
   "metadata": {
    "slideshow": {
     "slide_type": "fragment"
    }
   },
   "outputs": [
    {
     "data": {
      "text/html": [
       "3.161"
      ],
      "text/latex": [
       "3.161"
      ],
      "text/markdown": [
       "3.161"
      ],
      "text/plain": [
       "[1] 3.161"
      ]
     },
     "metadata": {},
     "output_type": "display_data"
    }
   ],
   "source": [
    "test_stat_logOR <- logOR_est / logOR_se\n",
    "round(test_stat_logOR, 3)"
   ]
  },
  {
   "cell_type": "markdown",
   "id": "a06380b3",
   "metadata": {
    "slideshow": {
     "slide_type": "slide"
    }
   },
   "source": [
    "With $\\alpha = 0.05$, we reject $H_0$ since\n",
    "    \n",
    "$$z_{\\text{log-OR}} = 3.161 > 1.96 = z_{1 - \\alpha /2}$$\n",
    "\n",
    "Therefore, we have statistical evidence to state that the population $\\text{log-OR} \\neq 0$. Analogously, we can build a 95% confidence interval (CI) as follows:\n",
    "\n",
    "$$\\hat{\\text{log-OR}} \\pm 1.96 \\times \\text{SE}$$"
   ]
  },
  {
   "cell_type": "code",
   "execution_count": 17,
   "id": "c4a684ac",
   "metadata": {
    "slideshow": {
     "slide_type": "fragment"
    }
   },
   "outputs": [
    {
     "data": {
      "text/html": [
       "<style>\n",
       ".list-inline {list-style: none; margin:0; padding: 0}\n",
       ".list-inline>li {display: inline-block}\n",
       ".list-inline>li:not(:last-child)::after {content: \"\\00b7\"; padding: 0 .5ex}\n",
       "</style>\n",
       "<ol class=list-inline><li>0.238</li><li>1.016</li></ol>\n"
      ],
      "text/latex": [
       "\\begin{enumerate*}\n",
       "\\item 0.238\n",
       "\\item 1.016\n",
       "\\end{enumerate*}\n"
      ],
      "text/markdown": [
       "1. 0.238\n",
       "2. 1.016\n",
       "\n",
       "\n"
      ],
      "text/plain": [
       "[1] 0.238 1.016"
      ]
     },
     "metadata": {},
     "output_type": "display_data"
    }
   ],
   "source": [
    "CI_logOR <- round(c(logOR_est - qnorm(1 - 0.05 / 2) * logOR_se, logOR_est + qnorm(1 - 0.05 / 2) * logOR_se), 3)\n",
    "CI_logOR"
   ]
  },
  {
   "cell_type": "markdown",
   "id": "b729eb54",
   "metadata": {
    "slideshow": {
     "slide_type": "slide"
    }
   },
   "source": [
    "Let us compare the results of the **CC-matched sample** versus another **CC-unmatched sample**. To obtain an estimate of the $\\text{log-OR}$, we will fit a Binary Logistic regression model."
   ]
  },
  {
   "cell_type": "code",
   "execution_count": 18,
   "id": "2afa3fc5",
   "metadata": {
    "slideshow": {
     "slide_type": "fragment"
    }
   },
   "outputs": [
    {
     "data": {
      "text/html": [
       "<table class=\"dataframe\">\n",
       "<caption>A tibble: 1 × 7</caption>\n",
       "<thead>\n",
       "\t<tr><th scope=col>term</th><th scope=col>estimate</th><th scope=col>std.error</th><th scope=col>statistic</th><th scope=col>p.value</th><th scope=col>conf.low</th><th scope=col>conf.high</th></tr>\n",
       "\t<tr><th scope=col>&lt;chr&gt;</th><th scope=col>&lt;dbl&gt;</th><th scope=col>&lt;dbl&gt;</th><th scope=col>&lt;dbl&gt;</th><th scope=col>&lt;dbl&gt;</th><th scope=col>&lt;dbl&gt;</th><th scope=col>&lt;dbl&gt;</th></tr>\n",
       "</thead>\n",
       "<tbody>\n",
       "\t<tr><td>dibpatType A</td><td>0.754</td><td>0.209</td><td>3.6</td><td>0</td><td>0.345</td><td>1.167</td></tr>\n",
       "</tbody>\n",
       "</table>\n"
      ],
      "text/latex": [
       "A tibble: 1 × 7\n",
       "\\begin{tabular}{lllllll}\n",
       " term & estimate & std.error & statistic & p.value & conf.low & conf.high\\\\\n",
       " <chr> & <dbl> & <dbl> & <dbl> & <dbl> & <dbl> & <dbl>\\\\\n",
       "\\hline\n",
       "\t dibpatType A & 0.754 & 0.209 & 3.6 & 0 & 0.345 & 1.167\\\\\n",
       "\\end{tabular}\n"
      ],
      "text/markdown": [
       "\n",
       "A tibble: 1 × 7\n",
       "\n",
       "| term &lt;chr&gt; | estimate &lt;dbl&gt; | std.error &lt;dbl&gt; | statistic &lt;dbl&gt; | p.value &lt;dbl&gt; | conf.low &lt;dbl&gt; | conf.high &lt;dbl&gt; |\n",
       "|---|---|---|---|---|---|---|\n",
       "| dibpatType A | 0.754 | 0.209 | 3.6 | 0 | 0.345 | 1.167 |\n",
       "\n"
      ],
      "text/plain": [
       "  term         estimate std.error statistic p.value conf.low conf.high\n",
       "1 dibpatType A 0.754    0.209     3.6       0       0.345    1.167    "
      ]
     },
     "metadata": {},
     "output_type": "display_data"
    }
   ],
   "source": [
    "set.seed(554) # Reproducibility\n",
    "CC_sampled_subjects <- c( sample((1:nrow(sim_pop))[sim_pop$chd69 == \"0\"], size = 500 / 2, replace = F), # Sampling subjects without replacement\n",
    "  sample((1:nrow(sim_pop))[sim_pop$chd69 == \"1\"], size = 500 / 2, replace = F)\n",
    ") \n",
    "CC_sample <- sim_pop[CC_sampled_subjects, ] # Collecting data from artificial population\n",
    "\n",
    "#Fitting Binary Logistic regression with non-matched CC sample\n",
    "CC_bin_log_model <- glm(chd69 ~ dibpat + age_bins + smoke + bmi_bins + chol_bins,\n",
    "                       family = \"binomial\", data = CC_sample\n",
    ")\n",
    "summary_CC <- tidy(CC_bin_log_model, conf.int = TRUE) %>% mutate_if(is.numeric, round, 3)\n",
    "summary_CC[2, ]"
   ]
  },
  {
   "cell_type": "markdown",
   "id": "d7d242e4",
   "metadata": {
    "slideshow": {
     "slide_type": "slide"
    }
   },
   "source": [
    "**How do both case-control sampling schemes compare?**\n",
    "\n",
    "Since the **proxy ground truth** in `sim_pop` has an underlying effect of `dibpat` as follows:"
   ]
  },
  {
   "cell_type": "code",
   "execution_count": 20,
   "id": "139cf875",
   "metadata": {
    "slideshow": {
     "slide_type": "fragment"
    }
   },
   "outputs": [
    {
     "data": {
      "text/html": [
       "<strong>dibpatType A:</strong> 0.72"
      ],
      "text/latex": [
       "\\textbf{dibpatType A:} 0.72"
      ],
      "text/markdown": [
       "**dibpatType A:** 0.72"
      ],
      "text/plain": [
       "dibpatType A \n",
       "        0.72 "
      ]
     },
     "metadata": {},
     "output_type": "display_data"
    }
   ],
   "source": [
    "round(wcgs_coef_pop[\"dibpatType A\"], 2)"
   ]
  },
  {
   "cell_type": "markdown",
   "id": "abcf2baa",
   "metadata": {
    "slideshow": {
     "slide_type": "fragment"
    }
   },
   "source": [
    "Then, both CC sampling schemes seem to be equally accurate and precise. Nevertheless, **they are just single replicates**. Hence, **we need to run their corresponding simulation studies**."
   ]
  },
  {
   "cell_type": "markdown",
   "id": "f577ff89",
   "metadata": {
    "slideshow": {
     "slide_type": "slide"
    }
   },
   "source": [
    "### 1.3. Running Simulation Studies Using the Two Case-Control Sampling Schemes\n",
    "\n",
    "The function `sim_study()` draws the corresponding samples by CC scheme. Then, it runs their corresponding statistical analysis. It needs the following arguments:\n",
    "\n",
    "- `pop_data`: The population data from which we will draw the sample.\n",
    "- `n`: The overall sample size by scheme.\n",
    "- `alpha`: Significance level $\\alpha$.\n",
    "- `log_OR`: The \"true\" log-OR each scheme is willing to estimate.\n",
    "- `num_replicates`: The number of replicates by scheme."
   ]
  },
  {
   "cell_type": "code",
   "execution_count": 21,
   "id": "3691e023",
   "metadata": {
    "slideshow": {
     "slide_type": "skip"
    }
   },
   "outputs": [],
   "source": [
    "sim_study <- function(pop_data, n, alpha, log_OR, num_replicates) {\n",
    "  res <- list(NULL) # Setting up matrix with metrics\n",
    "  res[[1]] <- res[[2]] <- matrix(NA, num_replicates, 3)\n",
    "\n",
    "  suppressMessages(\n",
    "    for (lp in 1:num_replicates) { # Otherwise, we get \"Waiting for profiling to be done...\"\n",
    "      # Obtaining samples\n",
    "      # CC\n",
    "      CC_sampled_subjects <- c(\n",
    "        sample((1:nrow(pop_data))[pop_data$chd69 == \"0\"],\n",
    "          size = n / 2, replace = F\n",
    "        ),\n",
    "        sample((1:nrow(pop_data))[pop_data$chd69 == \"1\"],\n",
    "          size = n / 2, replace = F\n",
    "        )\n",
    "      )\n",
    "      CC_sample <- pop_data[CC_sampled_subjects, ]\n",
    "\n",
    "      # CC-matched\n",
    "      CC_matched_sample <- sim_matched_CC(pop_data = sim_pop, n = n)\n",
    "      CC_matched_cont_table <- table(\n",
    "        CC_matched_sample$dibpat_case,\n",
    "        CC_matched_sample$dibpat_control\n",
    "      )\n",
    "\n",
    "      # Do the three analyses\n",
    "      # CC\n",
    "      CC_bin_log_model <- glm(chd69 ~ dibpat + age_bins + smoke + bmi_bins + chol_bins,\n",
    "        family = \"binomial\", data = CC_sample\n",
    "      )\n",
    "      # CC-matched\n",
    "      logOR_est <- log(CC_matched_cont_table[2, 1]) - log(CC_matched_cont_table[1, 2])\n",
    "      logOR_se <- sqrt(1 / CC_matched_cont_table[2, 1] + 1 / CC_matched_cont_table[1, 2])\n",
    "\n",
    "      # and the takeaways\n",
    "      res[[1]][lp, ] <- c(coef(CC_bin_log_model)[\"dibpatType A\"], confint(CC_bin_log_model)[\"dibpatType A\", ])\n",
    "      res[[2]][lp, ] <- c(\n",
    "        logOR_est, logOR_est - qnorm(1 - alpha / 2) * logOR_se,\n",
    "        logOR_est + qnorm(1 - alpha / 2) * logOR_se\n",
    "      )\n",
    "    }\n",
    "  )\n",
    "\n",
    "  # Summaries\n",
    "  BIAS <- sapply(\n",
    "    res,\n",
    "    function(mat) {\n",
    "      mean(mat[, 1]) - log_OR\n",
    "    }\n",
    "  )\n",
    "  vrnc <- sapply(res, function(mat) {\n",
    "    var(mat[, 1])\n",
    "  })\n",
    "  CVRG <- sapply(res,\n",
    "    function(mat, trg) {\n",
    "      mean((mat[, 2] < trg) & (trg < mat[, 3]))\n",
    "    },\n",
    "    trg = log_OR\n",
    "  )\n",
    "  PWR <- sapply(res, function(mat) {\n",
    "    mean(mat[, 2] > 0)\n",
    "  })\n",
    "  RMSE <- sqrt(BIAS^2 + vrnc)\n",
    "\n",
    "  opt <- cbind(BIAS, RMSE, CVRG, PWR)\n",
    "  rownames(opt) <- c(\"Case-Control (CC)\", \"Case-Control Matched (CC-Matched)\")\n",
    "\n",
    "  return(opt)\n",
    "}\n"
   ]
  },
  {
   "cell_type": "markdown",
   "id": "19ed6c5f",
   "metadata": {
    "slideshow": {
     "slide_type": "slide"
    }
   },
   "source": [
    "The function returns the following metrics:\n",
    "\n",
    "- **BIAS:** The average, over the `num_replicates`, of $\\hat{\\text{log-OR}} - \\text{log-OR}$. The larger the average, the less accuracy.\n",
    "- **ROOT-MEAN-SQUARED ERROR (RMSE):** The square root of the average (over the `num_replicates`) of $(\\hat{\\text{log-OR}} - \\text{log-OR})^{2}$.  It has the following characteristics:\n",
    "    - Interpretable as the typical magnitude of estimation error.\n",
    "    - Captures bias and variance involved in the procedure.\n",
    "- **COVERAGE (CVRG):** The proportion (among the `num_replicates`) of the 95% CIs that contain the \"true\" $\\log\\text{-OR}$.\n",
    "- **POWER (PWR):** It is applicable when $\\text{log-OR} \\neq 0$. The proportion of the `num_replicates` CIs that exclude zero."
   ]
  },
  {
   "cell_type": "markdown",
   "id": "20a8006d",
   "metadata": {
    "slideshow": {
     "slide_type": "slide"
    }
   },
   "source": [
    "We run the simulation studies with an **overall** $n = 100, 250, 500$."
   ]
  },
  {
   "cell_type": "code",
   "execution_count": 22,
   "id": "d24db6a0",
   "metadata": {
    "slideshow": {
     "slide_type": "fragment"
    }
   },
   "outputs": [],
   "source": [
    "set.seed(554) # Reproducibility\n",
    "sim_study_n_100 <- sim_study(\n",
    "  pop_data = sim_pop, n = 100, alpha = 0.05,\n",
    "  log_OR = wcgs_coef_pop[\"dibpatType A\"], num_replicates = 500\n",
    ")"
   ]
  },
  {
   "cell_type": "code",
   "execution_count": 23,
   "id": "16cee3d8",
   "metadata": {
    "slideshow": {
     "slide_type": "fragment"
    }
   },
   "outputs": [],
   "source": [
    "set.seed(554) # Reproducibility\n",
    "sim_study_n_250 <- sim_study(\n",
    "  pop_data = sim_pop, n = 250, alpha = 0.05,\n",
    "  log_OR = wcgs_coef_pop[\"dibpatType A\"], num_replicates = 500\n",
    ")"
   ]
  },
  {
   "cell_type": "code",
   "execution_count": 24,
   "id": "7df75766",
   "metadata": {
    "slideshow": {
     "slide_type": "fragment"
    }
   },
   "outputs": [],
   "source": [
    "set.seed(554) # Reproducibility\n",
    "sim_study_n_500 <- sim_study(\n",
    "  pop_data = sim_pop, n = 500, alpha = 0.05,\n",
    "  log_OR = wcgs_coef_pop[\"dibpatType A\"], num_replicates = 500\n",
    ")"
   ]
  },
  {
   "cell_type": "markdown",
   "id": "8c6930a9",
   "metadata": {
    "slideshow": {
     "slide_type": "slide"
    }
   },
   "source": [
    "Finally, we obtain the corresponding performance metrics."
   ]
  },
  {
   "cell_type": "code",
   "execution_count": 25,
   "id": "d81e4322",
   "metadata": {
    "slideshow": {
     "slide_type": "fragment"
    }
   },
   "outputs": [
    {
     "data": {
      "text/html": [
       "<table class=\"dataframe\">\n",
       "<caption>A matrix: 2 × 4 of type dbl</caption>\n",
       "<thead>\n",
       "\t<tr><th></th><th scope=col>BIAS</th><th scope=col>RMSE</th><th scope=col>CVRG</th><th scope=col>PWR</th></tr>\n",
       "</thead>\n",
       "<tbody>\n",
       "\t<tr><th scope=row>Case-Control (CC)</th><td>0.1621</td><td>0.5850</td><td>0.93</td><td>0.446</td></tr>\n",
       "\t<tr><th scope=row>Case-Control Matched (CC-Matched)</th><td>0.0283</td><td>0.4507</td><td>0.97</td><td>0.388</td></tr>\n",
       "</tbody>\n",
       "</table>\n"
      ],
      "text/latex": [
       "A matrix: 2 × 4 of type dbl\n",
       "\\begin{tabular}{r|llll}\n",
       "  & BIAS & RMSE & CVRG & PWR\\\\\n",
       "\\hline\n",
       "\tCase-Control (CC) & 0.1621 & 0.5850 & 0.93 & 0.446\\\\\n",
       "\tCase-Control Matched (CC-Matched) & 0.0283 & 0.4507 & 0.97 & 0.388\\\\\n",
       "\\end{tabular}\n"
      ],
      "text/markdown": [
       "\n",
       "A matrix: 2 × 4 of type dbl\n",
       "\n",
       "| <!--/--> | BIAS | RMSE | CVRG | PWR |\n",
       "|---|---|---|---|---|\n",
       "| Case-Control (CC) | 0.1621 | 0.5850 | 0.93 | 0.446 |\n",
       "| Case-Control Matched (CC-Matched) | 0.0283 | 0.4507 | 0.97 | 0.388 |\n",
       "\n"
      ],
      "text/plain": [
       "                                  BIAS   RMSE   CVRG PWR  \n",
       "Case-Control (CC)                 0.1621 0.5850 0.93 0.446\n",
       "Case-Control Matched (CC-Matched) 0.0283 0.4507 0.97 0.388"
      ]
     },
     "metadata": {},
     "output_type": "display_data"
    }
   ],
   "source": [
    "round(sim_study_n_100, 4)"
   ]
  },
  {
   "cell_type": "code",
   "execution_count": 26,
   "id": "c03ca91e",
   "metadata": {
    "slideshow": {
     "slide_type": "fragment"
    }
   },
   "outputs": [
    {
     "data": {
      "text/html": [
       "<table class=\"dataframe\">\n",
       "<caption>A matrix: 2 × 4 of type dbl</caption>\n",
       "<thead>\n",
       "\t<tr><th></th><th scope=col>BIAS</th><th scope=col>RMSE</th><th scope=col>CVRG</th><th scope=col>PWR</th></tr>\n",
       "</thead>\n",
       "<tbody>\n",
       "\t<tr><th scope=row>Case-Control (CC)</th><td>0.0384</td><td>0.3226</td><td>0.926</td><td>0.710</td></tr>\n",
       "\t<tr><th scope=row>Case-Control Matched (CC-Matched)</th><td>0.0369</td><td>0.2787</td><td>0.958</td><td>0.794</td></tr>\n",
       "</tbody>\n",
       "</table>\n"
      ],
      "text/latex": [
       "A matrix: 2 × 4 of type dbl\n",
       "\\begin{tabular}{r|llll}\n",
       "  & BIAS & RMSE & CVRG & PWR\\\\\n",
       "\\hline\n",
       "\tCase-Control (CC) & 0.0384 & 0.3226 & 0.926 & 0.710\\\\\n",
       "\tCase-Control Matched (CC-Matched) & 0.0369 & 0.2787 & 0.958 & 0.794\\\\\n",
       "\\end{tabular}\n"
      ],
      "text/markdown": [
       "\n",
       "A matrix: 2 × 4 of type dbl\n",
       "\n",
       "| <!--/--> | BIAS | RMSE | CVRG | PWR |\n",
       "|---|---|---|---|---|\n",
       "| Case-Control (CC) | 0.0384 | 0.3226 | 0.926 | 0.710 |\n",
       "| Case-Control Matched (CC-Matched) | 0.0369 | 0.2787 | 0.958 | 0.794 |\n",
       "\n"
      ],
      "text/plain": [
       "                                  BIAS   RMSE   CVRG  PWR  \n",
       "Case-Control (CC)                 0.0384 0.3226 0.926 0.710\n",
       "Case-Control Matched (CC-Matched) 0.0369 0.2787 0.958 0.794"
      ]
     },
     "metadata": {},
     "output_type": "display_data"
    }
   ],
   "source": [
    "round(sim_study_n_250, 4)"
   ]
  },
  {
   "cell_type": "code",
   "execution_count": 27,
   "id": "bf549029",
   "metadata": {
    "slideshow": {
     "slide_type": "fragment"
    }
   },
   "outputs": [
    {
     "data": {
      "text/html": [
       "<table class=\"dataframe\">\n",
       "<caption>A matrix: 2 × 4 of type dbl</caption>\n",
       "<thead>\n",
       "\t<tr><th></th><th scope=col>BIAS</th><th scope=col>RMSE</th><th scope=col>CVRG</th><th scope=col>PWR</th></tr>\n",
       "</thead>\n",
       "<tbody>\n",
       "\t<tr><th scope=row>Case-Control (CC)</th><td>0.0377</td><td>0.2111</td><td>0.946</td><td>0.972</td></tr>\n",
       "\t<tr><th scope=row>Case-Control Matched (CC-Matched)</th><td>0.0245</td><td>0.1893</td><td>0.968</td><td>0.972</td></tr>\n",
       "</tbody>\n",
       "</table>\n"
      ],
      "text/latex": [
       "A matrix: 2 × 4 of type dbl\n",
       "\\begin{tabular}{r|llll}\n",
       "  & BIAS & RMSE & CVRG & PWR\\\\\n",
       "\\hline\n",
       "\tCase-Control (CC) & 0.0377 & 0.2111 & 0.946 & 0.972\\\\\n",
       "\tCase-Control Matched (CC-Matched) & 0.0245 & 0.1893 & 0.968 & 0.972\\\\\n",
       "\\end{tabular}\n"
      ],
      "text/markdown": [
       "\n",
       "A matrix: 2 × 4 of type dbl\n",
       "\n",
       "| <!--/--> | BIAS | RMSE | CVRG | PWR |\n",
       "|---|---|---|---|---|\n",
       "| Case-Control (CC) | 0.0377 | 0.2111 | 0.946 | 0.972 |\n",
       "| Case-Control Matched (CC-Matched) | 0.0245 | 0.1893 | 0.968 | 0.972 |\n",
       "\n"
      ],
      "text/plain": [
       "                                  BIAS   RMSE   CVRG  PWR  \n",
       "Case-Control (CC)                 0.0377 0.2111 0.946 0.972\n",
       "Case-Control Matched (CC-Matched) 0.0245 0.1893 0.968 0.972"
      ]
     },
     "metadata": {},
     "output_type": "display_data"
    }
   ],
   "source": [
    "round(sim_study_n_500, 4)"
   ]
  },
  {
   "cell_type": "markdown",
   "id": "91cb10aa",
   "metadata": {
    "slideshow": {
     "slide_type": "slide"
    }
   },
   "source": [
    "```{admonition}  What is the conclusion by looking at these metrics by CC sampling scheme?\n",
    ":class: hint\n",
    "The **CC-matched** scheme shows a smaller average bias with $n = 100$; thus, it is more accurate than the **CC-non matched** scheme using this sample size. The same situation applies to the RMSE. Nonetheless, the trade-off is a smaller power for **CC-matched**. The power is practically equal once we increase the sample size, but the **CC-matched** shows a smaller average bias and RMSE.\n",
    "```"
   ]
  },
  {
   "cell_type": "markdown",
   "id": "0aaadb08",
   "metadata": {
    "slideshow": {
     "slide_type": "slide"
    }
   },
   "source": [
    "## 2. Ordinal Regressors\n",
    "\n",
    "You might have noticed that throughout the regression courses, until this block, we did not **explicitly** work with **ordinal regressors** (i.e., categorical factors with ordered categories). Furthermore, you might have noticed that the numerical confounding strata (such as those in the WCGS observational models) are actually ordinal regressors!"
   ]
  },
  {
   "cell_type": "markdown",
   "id": "9fcfe298",
   "metadata": {
    "slideshow": {
     "slide_type": "fragment"
    }
   },
   "source": [
    "Coding these ordinal regressors in the usual **dummy variable way** (`0`s and `1`s along with a baseline factor level) is not a substantial statistical inconsistency **compared to using Multinomial regression for an ordinal response**. However, you can gain additional insight by coding these ordinal regressors using **contrasts**."
   ]
  },
  {
   "cell_type": "markdown",
   "id": "13b4fcc9",
   "metadata": {
    "slideshow": {
     "slide_type": "fragment"
    }
   },
   "source": [
    "In Statistics, a **contrast** is **a vector whose elements add up to zero**. This **contrast** will allow us to compare the levels of a given factor. Before we get into concrete **contrast** methods, let us check the data we will use in this section."
   ]
  },
  {
   "cell_type": "markdown",
   "id": "cfb3ff63",
   "metadata": {
    "slideshow": {
     "slide_type": "slide"
    }
   },
   "source": [
    "### 2.1. The Online Store Dataset\n",
    "\n",
    "Suppose your work for a company that runs a high-end website store. You know your customers are susceptible to discounts, i.e., they tend to buy **more and more** as you increase the discount percentages. Hence, you decide to run an **A/B/n testing** using a **randomized balanced design** of 20 customers per treatment. Your sample has $n = 80$ subjects. The `ABn_purchase_data` has the following variables:\n",
    "\n",
    "- `discount`: Your treatment variable with **four increasing EQUALLY SPACED discounts** (`2.5`, `5`, `7.5`, and `10`% off).\n",
    "- `purchase`: Your continuous response of interest in CAD, the amount of money each subject spent given their respective **overall discount percentage**."
   ]
  },
  {
   "cell_type": "code",
   "execution_count": 28,
   "id": "d67ca830",
   "metadata": {
    "slideshow": {
     "slide_type": "slide"
    }
   },
   "outputs": [
    {
     "data": {
      "text/html": [
       "<table class=\"dataframe\">\n",
       "<caption>A spec_tbl_df: 80 × 2</caption>\n",
       "<thead>\n",
       "\t<tr><th scope=col>discount</th><th scope=col>purchase</th></tr>\n",
       "\t<tr><th scope=col>&lt;dbl&gt;</th><th scope=col>&lt;dbl&gt;</th></tr>\n",
       "</thead>\n",
       "<tbody>\n",
       "\t<tr><td>2.5</td><td>520.4311</td></tr>\n",
       "\t<tr><td>2.5</td><td>436.4336</td></tr>\n",
       "\t<tr><td>2.5</td><td>477.9415</td></tr>\n",
       "\t<tr><td>2.5</td><td>394.7154</td></tr>\n",
       "\t<tr><td>⋮</td><td>⋮</td></tr>\n",
       "\t<tr><td>10</td><td>4605.868</td></tr>\n",
       "\t<tr><td>10</td><td>4305.460</td></tr>\n",
       "\t<tr><td>10</td><td>4099.567</td></tr>\n",
       "\t<tr><td>10</td><td>4281.010</td></tr>\n",
       "</tbody>\n",
       "</table>\n"
      ],
      "text/latex": [
       "A spec\\_tbl\\_df: 80 × 2\n",
       "\\begin{tabular}{ll}\n",
       " discount & purchase\\\\\n",
       " <dbl> & <dbl>\\\\\n",
       "\\hline\n",
       "\t 2.5 & 520.4311\\\\\n",
       "\t 2.5 & 436.4336\\\\\n",
       "\t 2.5 & 477.9415\\\\\n",
       "\t 2.5 & 394.7154\\\\\n",
       "\t ⋮ & ⋮\\\\\n",
       "\t 10 & 4605.868\\\\\n",
       "\t 10 & 4305.460\\\\\n",
       "\t 10 & 4099.567\\\\\n",
       "\t 10 & 4281.010\\\\\n",
       "\\end{tabular}\n"
      ],
      "text/markdown": [
       "\n",
       "A spec_tbl_df: 80 × 2\n",
       "\n",
       "| discount &lt;dbl&gt; | purchase &lt;dbl&gt; |\n",
       "|---|---|\n",
       "| 2.5 | 520.4311 |\n",
       "| 2.5 | 436.4336 |\n",
       "| 2.5 | 477.9415 |\n",
       "| 2.5 | 394.7154 |\n",
       "| ⋮ | ⋮ |\n",
       "| 10 | 4605.868 |\n",
       "| 10 | 4305.460 |\n",
       "| 10 | 4099.567 |\n",
       "| 10 | 4281.010 |\n",
       "\n"
      ],
      "text/plain": [
       "   discount purchase\n",
       "1  2.5      520.4311\n",
       "2  2.5      436.4336\n",
       "3  2.5      477.9415\n",
       "4  2.5      394.7154\n",
       "⋮  ⋮        ⋮       \n",
       "77 10       4605.868\n",
       "78 10       4305.460\n",
       "79 10       4099.567\n",
       "80 10       4281.010"
      ]
     },
     "metadata": {},
     "output_type": "display_data"
    }
   ],
   "source": [
    "ABn_purchase_data <- read_csv(\"../data/ABn_purchase_data.csv\", show_col_types = FALSE)\n",
    "ABn_purchase_data"
   ]
  },
  {
   "cell_type": "markdown",
   "id": "40521428",
   "metadata": {
    "slideshow": {
     "slide_type": "slide"
    }
   },
   "source": [
    "Note that `discount` should be taken as an ordinal factor in this **A/B/n testing**. Let us convert it."
   ]
  },
  {
   "cell_type": "code",
   "execution_count": 29,
   "id": "7e556ed0",
   "metadata": {
    "slideshow": {
     "slide_type": "fragment"
    }
   },
   "outputs": [
    {
     "name": "stdout",
     "output_type": "stream",
     "text": [
      "spc_tbl_ [80 × 2] (S3: spec_tbl_df/tbl_df/tbl/data.frame)\n",
      " $ discount: Ord.factor w/ 4 levels \"2.5\"<\"5\"<\"7.5\"<..: 1 1 1 1 1 1 1 1 1 1 ...\n",
      " $ purchase: num [1:80] 520 436 478 395 458 ...\n",
      " - attr(*, \"spec\")=\n",
      "  .. cols(\n",
      "  ..   discount = \u001b[32mcol_double()\u001b[39m,\n",
      "  ..   purchase = \u001b[32mcol_double()\u001b[39m\n",
      "  .. )\n",
      " - attr(*, \"problems\")=<externalptr> \n"
     ]
    }
   ],
   "source": [
    "ABn_purchase_data$discount <- ordered(ABn_purchase_data$discount)\n",
    "str(ABn_purchase_data)"
   ]
  },
  {
   "cell_type": "markdown",
   "id": "077d6d26",
   "metadata": {
    "slideshow": {
     "slide_type": "slide"
    }
   },
   "source": [
    "### 2.2. Main Statistical Inquiry\n",
    "\n",
    "Our main statistical inquiry is: \n",
    "\n",
    "> **By how much the mean customer spending increases from one discount percentage to another?**\n",
    "\n",
    "This inquiry appeals to the ordered factor `discount`. Therefore, we will use ordinary least-squares (OLS) and contrasts to answer it. "
   ]
  },
  {
   "cell_type": "markdown",
   "id": "b66780b5",
   "metadata": {
    "slideshow": {
     "slide_type": "slide"
    }
   },
   "source": [
    "### 2.3. Exploratory Data Analysis\n",
    "\n",
    "We proceed with an exploratory data analysis (EDA). The plot shows the 20 randomized customers as points with treatments on the $x$-axis and their purchases on the $y$-axis. Note that customer spending graphically increases along with the discount percentage."
   ]
  },
  {
   "cell_type": "code",
   "execution_count": 30,
   "id": "7cff5db1",
   "metadata": {
    "slideshow": {
     "slide_type": "skip"
    }
   },
   "outputs": [],
   "source": [
    "options(repr.plot.height = 8, repr.plot.width = 14)\n",
    "\n",
    "ABn_plot <- ggplot(ABn_purchase_data) +\n",
    "  aes(x = discount, y = purchase) +\n",
    "  geom_point(shape = 1, size = 6, color = \"gold3\") +\n",
    "  theme(\n",
    "    plot.title = element_text(size = 24, face = \"bold\"),\n",
    "    axis.text = element_text(size = 17),\n",
    "    axis.title = element_text(size = 21),\n",
    "    legend.position = \"right\",\n",
    "    legend.title = element_text(size = 21, face = \"bold\", margin = margin(r = 1, unit = \"cm\")),\n",
    "    legend.text = element_text(size = 17, margin = margin(r = 3, unit = \"cm\")),\n",
    "    legend.key.size = unit(3, \"cm\")\n",
    "  ) +\n",
    "  xlab(\"Discount (% Off)\") +\n",
    "  ylab(\"Customer Spending (CAD)\") +\n",
    "  ggtitle(\"Customer Spending by Discount Scheme\")"
   ]
  },
  {
   "cell_type": "code",
   "execution_count": 31,
   "id": "45d90d76",
   "metadata": {
    "slideshow": {
     "slide_type": "fragment"
    }
   },
   "outputs": [
    {
     "data": {
      "image/png": "[encoded data removed]",
      "text/plain": [
       "plot without title"
      ]
     },
     "metadata": {
      "image/png": {
       "height": 480,
       "width": 840
      }
     },
     "output_type": "display_data"
    }
   ],
   "source": [
    "ABn_plot"
   ]
  },
  {
   "cell_type": "markdown",
   "id": "3cfcf5ff",
   "metadata": {
    "slideshow": {
     "slide_type": "slide"
    }
   },
   "source": [
    "### 2.4. Regression Model and Polynomial Contrasts\n",
    "\n",
    "We will fit a **balanced one-way analysis of variance (ANOVA)** via `lm()`, i.e., OLS with an ordered factor. But before fitting this model, we need to proceed with contrasts. \n",
    "\n",
    "By default, `R` uses **polynomial contrasts** in ordered-type factors. Roughly speaking, if we use **polynomial contrasts** in an ordered factor of $k$ levels, we would fit $k − 1$ polynomials. We will be decomposing the data into these polynomial trends. **Therefore, the primary inferential purpose of these polynomial contrasts is to TEST polynomial trends in the ordered data**."
   ]
  },
  {
   "cell_type": "markdown",
   "id": "3b9974f9",
   "metadata": {
    "slideshow": {
     "slide_type": "slide"
    }
   },
   "source": [
    "In this case, we have $k = 4$ levels in `discount`. Hence, we will have **linear (`L`)**, **quadratic (`Q`)**, and **cubic (`C`) contrasts**. These contrasts are shown below as vectors by column."
   ]
  },
  {
   "cell_type": "code",
   "execution_count": 32,
   "id": "609b1081",
   "metadata": {
    "slideshow": {
     "slide_type": "fragment"
    }
   },
   "outputs": [
    {
     "data": {
      "text/html": [
       "<table class=\"dataframe\">\n",
       "<caption>A matrix: 4 × 3 of type dbl</caption>\n",
       "<thead>\n",
       "\t<tr><th scope=col>.L</th><th scope=col>.Q</th><th scope=col>.C</th></tr>\n",
       "</thead>\n",
       "<tbody>\n",
       "\t<tr><td>-0.67</td><td> 0.5</td><td>-0.22</td></tr>\n",
       "\t<tr><td>-0.22</td><td>-0.5</td><td> 0.67</td></tr>\n",
       "\t<tr><td> 0.22</td><td>-0.5</td><td>-0.67</td></tr>\n",
       "\t<tr><td> 0.67</td><td> 0.5</td><td> 0.22</td></tr>\n",
       "</tbody>\n",
       "</table>\n"
      ],
      "text/latex": [
       "A matrix: 4 × 3 of type dbl\n",
       "\\begin{tabular}{lll}\n",
       " .L & .Q & .C\\\\\n",
       "\\hline\n",
       "\t -0.67 &  0.5 & -0.22\\\\\n",
       "\t -0.22 & -0.5 &  0.67\\\\\n",
       "\t  0.22 & -0.5 & -0.67\\\\\n",
       "\t  0.67 &  0.5 &  0.22\\\\\n",
       "\\end{tabular}\n"
      ],
      "text/markdown": [
       "\n",
       "A matrix: 4 × 3 of type dbl\n",
       "\n",
       "| .L | .Q | .C |\n",
       "|---|---|---|\n",
       "| -0.67 |  0.5 | -0.22 |\n",
       "| -0.22 | -0.5 |  0.67 |\n",
       "|  0.22 | -0.5 | -0.67 |\n",
       "|  0.67 |  0.5 |  0.22 |\n",
       "\n"
      ],
      "text/plain": [
       "     .L    .Q   .C   \n",
       "[1,] -0.67  0.5 -0.22\n",
       "[2,] -0.22 -0.5  0.67\n",
       "[3,]  0.22 -0.5 -0.67\n",
       "[4,]  0.67  0.5  0.22"
      ]
     },
     "metadata": {},
     "output_type": "display_data"
    }
   ],
   "source": [
    "round(contr.poly(4), 2)"
   ]
  },
  {
   "cell_type": "markdown",
   "id": "b118aa22",
   "metadata": {
    "slideshow": {
     "slide_type": "fragment"
    }
   },
   "source": [
    "These contrasts have the following characteristics:\n",
    "\n",
    "- As previously stated, **the elements by vector add up to zero**.\n",
    "- The three vectors are orthogonal, i.e., **the pairwise dot products are equal to zero**. **This characteristic will statistically allow decomposing the polynomial trends in the ordered data.**"
   ]
  },
  {
   "cell_type": "markdown",
   "id": "9c1f0fb5",
   "metadata": {
    "slideshow": {
     "slide_type": "slide"
    }
   },
   "source": [
    "Now, we can fit our regression model."
   ]
  },
  {
   "cell_type": "code",
   "execution_count": 33,
   "id": "49d7687a",
   "metadata": {
    "slideshow": {
     "slide_type": "fragment"
    }
   },
   "outputs": [
    {
     "data": {
      "text/html": [
       "<table class=\"dataframe\">\n",
       "<caption>A tibble: 4 × 5</caption>\n",
       "<thead>\n",
       "\t<tr><th scope=col>term</th><th scope=col>estimate</th><th scope=col>std.error</th><th scope=col>statistic</th><th scope=col>p.value</th></tr>\n",
       "\t<tr><th scope=col>&lt;chr&gt;</th><th scope=col>&lt;dbl&gt;</th><th scope=col>&lt;dbl&gt;</th><th scope=col>&lt;dbl&gt;</th><th scope=col>&lt;dbl&gt;</th></tr>\n",
       "</thead>\n",
       "<tbody>\n",
       "\t<tr><td>(Intercept)</td><td>1924.805</td><td>15.653</td><td>122.964</td><td>0.000</td></tr>\n",
       "\t<tr><td>discount.L </td><td>2740.092</td><td>31.307</td><td> 87.524</td><td>0.000</td></tr>\n",
       "\t<tr><td>discount.Q </td><td> 801.705</td><td>31.307</td><td> 25.608</td><td>0.000</td></tr>\n",
       "\t<tr><td>discount.C </td><td>  57.179</td><td>31.307</td><td>  1.826</td><td>0.072</td></tr>\n",
       "</tbody>\n",
       "</table>\n"
      ],
      "text/latex": [
       "A tibble: 4 × 5\n",
       "\\begin{tabular}{lllll}\n",
       " term & estimate & std.error & statistic & p.value\\\\\n",
       " <chr> & <dbl> & <dbl> & <dbl> & <dbl>\\\\\n",
       "\\hline\n",
       "\t (Intercept) & 1924.805 & 15.653 & 122.964 & 0.000\\\\\n",
       "\t discount.L  & 2740.092 & 31.307 &  87.524 & 0.000\\\\\n",
       "\t discount.Q  &  801.705 & 31.307 &  25.608 & 0.000\\\\\n",
       "\t discount.C  &   57.179 & 31.307 &   1.826 & 0.072\\\\\n",
       "\\end{tabular}\n"
      ],
      "text/markdown": [
       "\n",
       "A tibble: 4 × 5\n",
       "\n",
       "| term &lt;chr&gt; | estimate &lt;dbl&gt; | std.error &lt;dbl&gt; | statistic &lt;dbl&gt; | p.value &lt;dbl&gt; |\n",
       "|---|---|---|---|---|\n",
       "| (Intercept) | 1924.805 | 15.653 | 122.964 | 0.000 |\n",
       "| discount.L  | 2740.092 | 31.307 |  87.524 | 0.000 |\n",
       "| discount.Q  |  801.705 | 31.307 |  25.608 | 0.000 |\n",
       "| discount.C  |   57.179 | 31.307 |   1.826 | 0.072 |\n",
       "\n"
      ],
      "text/plain": [
       "  term        estimate std.error statistic p.value\n",
       "1 (Intercept) 1924.805 15.653    122.964   0.000  \n",
       "2 discount.L  2740.092 31.307     87.524   0.000  \n",
       "3 discount.Q   801.705 31.307     25.608   0.000  \n",
       "4 discount.C    57.179 31.307      1.826   0.072  "
      ]
     },
     "metadata": {},
     "output_type": "display_data"
    }
   ],
   "source": [
    "OLS_poly_cont_ABn <- lm(purchase ~ discount, data = ABn_purchase_data)\n",
    "tidy(OLS_poly_cont_ABn) %>% mutate_if(is.numeric, round, 3)"
   ]
  },
  {
   "cell_type": "markdown",
   "id": "25a2c514",
   "metadata": {
    "slideshow": {
     "slide_type": "slide"
    }
   },
   "source": [
    "The `tidy()` output shows the corresponding estimate for the `(Intercept)` and the polynomial contrasts. The hypotheses to test these polynomial contrasts are different from the regular hypotheses to test regression terms.\n",
    "\n",
    "$$H_0\\text{: there is no GIVEN trend in the ordered data}$$\n",
    "$$H_a\\text{: there is a GIVEN trend in the ordered data.}$$\n",
    "\n",
    "The word **GIVEN** will be replaced accordingly: **LINEAR** (`discount.L`), **QUADRATIC** (`discount.Q`), and **CUBIC** (`discount.C`). With $\\alpha = 0.05$, we can conclude that our ordered `discount` data has **LINEAR** and **QUADRATIC** trends."
   ]
  },
  {
   "cell_type": "markdown",
   "id": "5c3af8bb",
   "metadata": {
    "slideshow": {
     "slide_type": "slide"
    }
   },
   "source": [
    "> **Heads-up:** Note the equal SEs by contrast. This is a modelling assumption in a balanced ANOVA **FOR ALL TYPES OF CONTRASTS IN GENERAL** (i.e., equal variability among the contrasts)."
   ]
  },
  {
   "cell_type": "markdown",
   "id": "36306204",
   "metadata": {
    "slideshow": {
     "slide_type": "slide"
    }
   },
   "source": [
    "Using **polynomial contrasts** in a regression model is analogous to fitting polynomial regression models. We can see below the graphical representation of our estimations using this example. Note how the **quadratic** and **cubic** in-sample predictions are practically overlapped."
   ]
  },
  {
   "cell_type": "code",
   "execution_count": 34,
   "id": "c3a2430d",
   "metadata": {
    "slideshow": {
     "slide_type": "skip"
    }
   },
   "outputs": [
    {
     "name": "stderr",
     "output_type": "stream",
     "text": [
      "\u001b[1m\u001b[22mScale for \u001b[32mcolour\u001b[39m is already present.\n",
      "Adding another scale for \u001b[32mcolour\u001b[39m, which will replace the existing scale.\n",
      "\u001b[1m\u001b[22mScale for \u001b[32mcolour\u001b[39m is already present.\n",
      "Adding another scale for \u001b[32mcolour\u001b[39m, which will replace the existing scale.\n"
     ]
    }
   ],
   "source": [
    "ABn_plot <- ABn_plot +\n",
    "  geom_smooth(aes(x = unclass(discount), color = \"1\"),\n",
    "    formula = y ~ x,\n",
    "    method = lm, se = FALSE, size = 0.8\n",
    "  ) +\n",
    "  geom_smooth(aes(x = unclass(discount), color = \"2\"),\n",
    "    formula = y ~ poly(x, 2),\n",
    "    method = lm, se = FALSE, size = 0.8\n",
    "  ) +\n",
    "  geom_smooth(aes(x = unclass(discount), color = \"3\"),\n",
    "    formula = y ~ poly(x, 3),\n",
    "    method = lm, se = FALSE, size = 0.8\n",
    "  ) +\n",
    "  scale_color_discrete(\"Trend\", labels = c(\"Linear\", \"Quadratic\", \"Cubic\")) +\n",
    "  ggtitle(\"Purchases versus Discounts by Polynomial Contrasts\") +\n",
    "  scale_x_discrete(labels = c(\"2.5% Off\", \"5% Off\", \"5% Off\", \"10% Off\")) + \n",
    "  scale_color_brewer(palette = \"Dark2\") +\n",
    "  scale_color_discrete(\"Trend\", labels = c(\"Linear\", \"Quadratic\", \"Cubic\"))"
   ]
  },
  {
   "cell_type": "code",
   "execution_count": 35,
   "id": "6ed258f1",
   "metadata": {
    "slideshow": {
     "slide_type": "fragment"
    }
   },
   "outputs": [
    {
     "data": {
      "image/png": "[encoded data removed]",
      "text/plain": [
       "plot without title"
      ]
     },
     "metadata": {
      "image/png": {
       "height": 480,
       "width": 840
      }
     },
     "output_type": "display_data"
    }
   ],
   "source": [
    "ABn_plot"
   ]
  },
  {
   "cell_type": "markdown",
   "id": "d1039398",
   "metadata": {
    "slideshow": {
     "slide_type": "slide"
    }
   },
   "source": [
    "For inferential purposes, these **polynomial contrasts** are suitable to test trends in our ordered data. Moreover, **they have the potential to be helpful in predictive inquiries**. However, they are hard to interpret in terms of our **main statistical inquiry**. The corresponding **design matrix** used in `OLS_poly_cont_ABn` is shown below. This matrix results from multiplicating a raw dummy variable **design matrix** times the previously shown three orthogonal vectors."
   ]
  },
  {
   "cell_type": "code",
   "execution_count": 36,
   "id": "7f1fac78",
   "metadata": {
    "slideshow": {
     "slide_type": "fragment"
    }
   },
   "outputs": [
    {
     "data": {
      "text/html": [
       "<table class=\"dataframe\">\n",
       "<caption>A matrix: 80 × 4 of type dbl</caption>\n",
       "<thead>\n",
       "\t<tr><th></th><th scope=col>(Intercept)</th><th scope=col>discount.L</th><th scope=col>discount.Q</th><th scope=col>discount.C</th></tr>\n",
       "</thead>\n",
       "<tbody>\n",
       "\t<tr><th scope=row>1</th><td>1</td><td>-0.6708204</td><td>0.5</td><td>-0.2236068</td></tr>\n",
       "\t<tr><th scope=row>2</th><td>1</td><td>-0.6708204</td><td>0.5</td><td>-0.2236068</td></tr>\n",
       "\t<tr><th scope=row>3</th><td>1</td><td>-0.6708204</td><td>0.5</td><td>-0.2236068</td></tr>\n",
       "\t<tr><th scope=row>4</th><td>1</td><td>-0.6708204</td><td>0.5</td><td>-0.2236068</td></tr>\n",
       "\t<tr><th scope=row>⋮</th><td>⋮</td><td>⋮</td><td>⋮</td><td>⋮</td></tr>\n",
       "\t<tr><th scope=row>77</th><td>1</td><td>0.6708204</td><td>0.5</td><td>0.2236068</td></tr>\n",
       "\t<tr><th scope=row>78</th><td>1</td><td>0.6708204</td><td>0.5</td><td>0.2236068</td></tr>\n",
       "\t<tr><th scope=row>79</th><td>1</td><td>0.6708204</td><td>0.5</td><td>0.2236068</td></tr>\n",
       "\t<tr><th scope=row>80</th><td>1</td><td>0.6708204</td><td>0.5</td><td>0.2236068</td></tr>\n",
       "</tbody>\n",
       "</table>\n"
      ],
      "text/latex": [
       "A matrix: 80 × 4 of type dbl\n",
       "\\begin{tabular}{r|llll}\n",
       "  & (Intercept) & discount.L & discount.Q & discount.C\\\\\n",
       "\\hline\n",
       "\t1 & 1 & -0.6708204 & 0.5 & -0.2236068\\\\\n",
       "\t2 & 1 & -0.6708204 & 0.5 & -0.2236068\\\\\n",
       "\t3 & 1 & -0.6708204 & 0.5 & -0.2236068\\\\\n",
       "\t4 & 1 & -0.6708204 & 0.5 & -0.2236068\\\\\n",
       "\t⋮ & ⋮ & ⋮ & ⋮ & ⋮\\\\\n",
       "\t77 & 1 & 0.6708204 & 0.5 & 0.2236068\\\\\n",
       "\t78 & 1 & 0.6708204 & 0.5 & 0.2236068\\\\\n",
       "\t79 & 1 & 0.6708204 & 0.5 & 0.2236068\\\\\n",
       "\t80 & 1 & 0.6708204 & 0.5 & 0.2236068\\\\\n",
       "\\end{tabular}\n"
      ],
      "text/markdown": [
       "\n",
       "A matrix: 80 × 4 of type dbl\n",
       "\n",
       "| <!--/--> | (Intercept) | discount.L | discount.Q | discount.C |\n",
       "|---|---|---|---|---|\n",
       "| 1 | 1 | -0.6708204 | 0.5 | -0.2236068 |\n",
       "| 2 | 1 | -0.6708204 | 0.5 | -0.2236068 |\n",
       "| 3 | 1 | -0.6708204 | 0.5 | -0.2236068 |\n",
       "| 4 | 1 | -0.6708204 | 0.5 | -0.2236068 |\n",
       "| ⋮ | ⋮ | ⋮ | ⋮ | ⋮ |\n",
       "| 77 | 1 | 0.6708204 | 0.5 | 0.2236068 |\n",
       "| 78 | 1 | 0.6708204 | 0.5 | 0.2236068 |\n",
       "| 79 | 1 | 0.6708204 | 0.5 | 0.2236068 |\n",
       "| 80 | 1 | 0.6708204 | 0.5 | 0.2236068 |\n",
       "\n"
      ],
      "text/plain": [
       "   (Intercept) discount.L discount.Q discount.C\n",
       "1  1           -0.6708204 0.5        -0.2236068\n",
       "2  1           -0.6708204 0.5        -0.2236068\n",
       "3  1           -0.6708204 0.5        -0.2236068\n",
       "4  1           -0.6708204 0.5        -0.2236068\n",
       "⋮  ⋮           ⋮          ⋮          ⋮         \n",
       "77 1           0.6708204  0.5        0.2236068 \n",
       "78 1           0.6708204  0.5        0.2236068 \n",
       "79 1           0.6708204  0.5        0.2236068 \n",
       "80 1           0.6708204  0.5        0.2236068 "
      ]
     },
     "metadata": {},
     "output_type": "display_data"
    }
   ],
   "source": [
    "OLS_poly_cont_ABn %>% model.matrix()"
   ]
  },
  {
   "cell_type": "markdown",
   "id": "f820ceff",
   "metadata": {
    "slideshow": {
     "slide_type": "fragment"
    }
   },
   "source": [
    "Alternatively to polynomial contrasts, let us explore **successive differences contrasts**."
   ]
  },
  {
   "cell_type": "markdown",
   "id": "e4b8a3e1",
   "metadata": {
    "slideshow": {
     "slide_type": "slide"
    }
   },
   "source": [
    "### 2.5. Regression Model and Succesive Differences Contrasts\n",
    "\n",
    "There is an alternative contrast modelling to address our main statistical inquiry and make inferential interpretations more straightforward. They are the **successive differences contrasts**. If we want to answer whether differences exist between the ordered levels, we will check these **successive differences contrasts**. "
   ]
  },
  {
   "cell_type": "markdown",
   "id": "9c24bece",
   "metadata": {
    "slideshow": {
     "slide_type": "slide"
    }
   },
   "source": [
    "The model estimates in these contrasts are the differences between the means of the second and first levels, the third and second levels, etc. We have to set up the `R` contrasts setting as follows:"
   ]
  },
  {
   "cell_type": "code",
   "execution_count": 37,
   "id": "5d7f47c4",
   "metadata": {
    "slideshow": {
     "slide_type": "fragment"
    }
   },
   "outputs": [],
   "source": [
    "options(contrasts = c(\"contr.treatment\", \"contr.sdif\"))"
   ]
  },
  {
   "cell_type": "markdown",
   "id": "a307ab7f",
   "metadata": {
    "slideshow": {
     "slide_type": "slide"
    }
   },
   "source": [
    "Then, we fit the OLS model."
   ]
  },
  {
   "cell_type": "code",
   "execution_count": 38,
   "id": "55a1bdd3",
   "metadata": {
    "slideshow": {
     "slide_type": "fragment"
    }
   },
   "outputs": [
    {
     "data": {
      "text/html": [
       "<table class=\"dataframe\">\n",
       "<caption>A tibble: 4 × 7</caption>\n",
       "<thead>\n",
       "\t<tr><th scope=col>term</th><th scope=col>estimate</th><th scope=col>std.error</th><th scope=col>statistic</th><th scope=col>p.value</th><th scope=col>conf.low</th><th scope=col>conf.high</th></tr>\n",
       "\t<tr><th scope=col>&lt;chr&gt;</th><th scope=col>&lt;dbl&gt;</th><th scope=col>&lt;dbl&gt;</th><th scope=col>&lt;dbl&gt;</th><th scope=col>&lt;dbl&gt;</th><th scope=col>&lt;dbl&gt;</th><th scope=col>&lt;dbl&gt;</th></tr>\n",
       "</thead>\n",
       "<tbody>\n",
       "\t<tr><td>(Intercept)   </td><td>1924.80</td><td>15.65</td><td>122.96</td><td>0</td><td>1893.63</td><td>1955.98</td></tr>\n",
       "\t<tr><td>discount5-2.5 </td><td> 474.84</td><td>44.27</td><td> 10.72</td><td>0</td><td> 386.66</td><td> 563.02</td></tr>\n",
       "\t<tr><td>discount7.5-5 </td><td>1148.69</td><td>44.27</td><td> 25.94</td><td>0</td><td>1060.51</td><td>1236.87</td></tr>\n",
       "\t<tr><td>discount10-7.5</td><td>2078.25</td><td>44.27</td><td> 46.94</td><td>0</td><td>1990.07</td><td>2166.43</td></tr>\n",
       "</tbody>\n",
       "</table>\n"
      ],
      "text/latex": [
       "A tibble: 4 × 7\n",
       "\\begin{tabular}{lllllll}\n",
       " term & estimate & std.error & statistic & p.value & conf.low & conf.high\\\\\n",
       " <chr> & <dbl> & <dbl> & <dbl> & <dbl> & <dbl> & <dbl>\\\\\n",
       "\\hline\n",
       "\t (Intercept)    & 1924.80 & 15.65 & 122.96 & 0 & 1893.63 & 1955.98\\\\\n",
       "\t discount5-2.5  &  474.84 & 44.27 &  10.72 & 0 &  386.66 &  563.02\\\\\n",
       "\t discount7.5-5  & 1148.69 & 44.27 &  25.94 & 0 & 1060.51 & 1236.87\\\\\n",
       "\t discount10-7.5 & 2078.25 & 44.27 &  46.94 & 0 & 1990.07 & 2166.43\\\\\n",
       "\\end{tabular}\n"
      ],
      "text/markdown": [
       "\n",
       "A tibble: 4 × 7\n",
       "\n",
       "| term &lt;chr&gt; | estimate &lt;dbl&gt; | std.error &lt;dbl&gt; | statistic &lt;dbl&gt; | p.value &lt;dbl&gt; | conf.low &lt;dbl&gt; | conf.high &lt;dbl&gt; |\n",
       "|---|---|---|---|---|---|---|\n",
       "| (Intercept)    | 1924.80 | 15.65 | 122.96 | 0 | 1893.63 | 1955.98 |\n",
       "| discount5-2.5  |  474.84 | 44.27 |  10.72 | 0 |  386.66 |  563.02 |\n",
       "| discount7.5-5  | 1148.69 | 44.27 |  25.94 | 0 | 1060.51 | 1236.87 |\n",
       "| discount10-7.5 | 2078.25 | 44.27 |  46.94 | 0 | 1990.07 | 2166.43 |\n",
       "\n"
      ],
      "text/plain": [
       "  term           estimate std.error statistic p.value conf.low conf.high\n",
       "1 (Intercept)    1924.80  15.65     122.96    0       1893.63  1955.98  \n",
       "2 discount5-2.5   474.84  44.27      10.72    0        386.66   563.02  \n",
       "3 discount7.5-5  1148.69  44.27      25.94    0       1060.51  1236.87  \n",
       "4 discount10-7.5 2078.25  44.27      46.94    0       1990.07  2166.43  "
      ]
     },
     "metadata": {},
     "output_type": "display_data"
    }
   ],
   "source": [
    "OLS_succesive_ABn <- lm(purchase ~ discount, data = ABn_purchase_data)\n",
    "tidy(OLS_succesive_ABn, conf.int = TRUE) %>% mutate_if(is.numeric, round, 2)"
   ]
  },
  {
   "cell_type": "markdown",
   "id": "e0f386b1",
   "metadata": {
    "slideshow": {
     "slide_type": "fragment"
    }
   },
   "source": [
    "In the `tidy()` output, we intepret the $p$-values of these contrasts as in a regular regression term. All these terms are statistically significant with $\\alpha = 0.05$. We can also obtain the corresponding 95% CIs. Our statistical inquiry can be answered as follows:\n",
    "\n",
    "- The mean customer spending increases by \\$474.84 when the discount increases from 2.5 to 5%.\n",
    "- The mean customer spending increases by \\$1148.69 when the discount increases from 5 to 7.5%.\n",
    "- The mean customer spending increases by \\$2078.25 when the discount increases from 7.5 to 10%."
   ]
  },
  {
   "cell_type": "markdown",
   "id": "de711660",
   "metadata": {
    "slideshow": {
     "slide_type": "slide"
    }
   },
   "source": [
    "## 3. Final Wrap-Up\n",
    "\n",
    "This course covered two fundamental classes of studies: **experimental** and **observational**. Additionally, we explored different ways to perform **Power Analysis** (i.e., adequate sample size computations)."
   ]
  },
  {
   "cell_type": "markdown",
   "id": "fb2cf1ef",
   "metadata": {
    "slideshow": {
     "slide_type": "fragment"
    }
   },
   "source": [
    "### 3.1. Experimental Versus Observational Studies\n",
    "\n",
    "In **experimental studies** (e.g., A/B or A/B/n testings), we fully control our **treatments** of interest. We can **randomize** our **experimental units** to either one of these treatments before running our experiment. Treatment **randomization** will get rid of any potential confounders that might damage the **accuracy** of our **effect** estimations (when compared to analyses where we do not take them into account)."
   ]
  },
  {
   "cell_type": "markdown",
   "id": "e3f6ce16",
   "metadata": {
    "slideshow": {
     "slide_type": "slide"
    }
   },
   "source": [
    "Thus, experimental **randomization** is a powerful tool that will allow you to infer causality between your $Y$ and a given set of $X$s. Recall that **treatment randomization** can be done via two fundamental **designs**:"
   ]
  },
  {
   "cell_type": "markdown",
   "id": "1cb00b0f",
   "metadata": {
    "slideshow": {
     "slide_type": "fragment"
    }
   },
   "source": [
    "- **Straightforward randomization.** We directly randomize our **experimental units** to either one of the **treatments** of interest. This design does not take into account any additional factors when randomizing."
   ]
  },
  {
   "cell_type": "markdown",
   "id": "07f97d18",
   "metadata": {
    "slideshow": {
     "slide_type": "fragment"
    }
   },
   "source": [
    "- **Blocking.** We group our **experimental units** by common characteristics (i.e., **homogeneous blocks**) before randomizing. This will ensure we obtain accurate and precise **estimated treatment effects**. The golden rule in this design strategy is the following: **\"block what you can, randomize what you cannot.\"**"
   ]
  },
  {
   "cell_type": "markdown",
   "id": "4ef1bdff",
   "metadata": {
    "slideshow": {
     "slide_type": "slide"
    }
   },
   "source": [
    "In **observational studies**, treatment randomization is infeasible. Therefore, we must use other statistical strategies to infer causality between a given $X$ and an outcome $Y$. Analogous to blocking in experimental designs, we use **stratification** via our identified **confounders**. "
   ]
  },
  {
   "cell_type": "markdown",
   "id": "b378e827",
   "metadata": {
    "slideshow": {
     "slide_type": "fragment"
    }
   },
   "source": [
    "Note we need to **temper our causal statements** in this class of studies since we need to fulfil many different modelling assumptions (some more challenging than others). Moreover, assessing these assumptions implies careful model selection and multiple testing corrections."
   ]
  },
  {
   "cell_type": "markdown",
   "id": "dfc16abe",
   "metadata": {
    "slideshow": {
     "slide_type": "slide"
    }
   },
   "source": [
    "There is more than one **sampling scheme** to execute an **observational study**. Using a **proxy ground truth** in different simulation studies, we checked the accuracy and precision of these schemes:"
   ]
  },
  {
   "cell_type": "markdown",
   "id": "0c21265e",
   "metadata": {
    "slideshow": {
     "slide_type": "fragment"
    }
   },
   "source": [
    "- **Cross-sectional (CS, a contemporaneuous scheme).**\n",
    "- **Case-control (CC, a restrospective scheme).** This scheme can be **unmatched** or **matched**.\n",
    "- **Cohort (CO, a prospective scheme).**"
   ]
  },
  {
   "cell_type": "markdown",
   "id": "08b743cb",
   "metadata": {
    "slideshow": {
     "slide_type": "fragment"
    }
   },
   "source": [
    "More specifically, in **matched CC**, we explored the importance of adapting our statistical analysis to how we collect our data. "
   ]
  },
  {
   "cell_type": "markdown",
   "id": "42c85b96",
   "metadata": {
    "slideshow": {
     "slide_type": "slide"
    }
   },
   "source": [
    "### 3.2. Causal Interpretations: It is all about making \"proper\" comparisons\n",
    "\n",
    "**This applies to both experimental and observational studies.** It should be proper to compare an $X = 0$ group of people to an $X = 1$ group of people in terms of $Y$. As previously stated, there has to be **homogeneity** - everyone in both groups is very similar to each other (confounders $C_j$). "
   ]
  },
  {
   "cell_type": "markdown",
   "id": "1ce211e3",
   "metadata": {
    "slideshow": {
     "slide_type": "fragment"
    }
   },
   "source": [
    "### 3.3. Strength of Story\n",
    "\n",
    "**Randomization** in **experimental studies** can lead to an airtight case that $X$ has a causal influence on $Y$. On the other hand with **observational studies**, **we can try our best to identify/collect/use confounding variables**. There is always a potential caveat!"
   ]
  },
  {
   "cell_type": "markdown",
   "id": "fc40b7a6",
   "metadata": {
    "slideshow": {
     "slide_type": "slide"
    }
   },
   "source": [
    "### 3.4. Statistical Thinking in Design of Studies\n",
    "\n",
    "Recall that study design is critical. Hence, we need to make the following decisions depending on the class of study:"
   ]
  },
  {
   "cell_type": "markdown",
   "id": "996d8d27",
   "metadata": {
    "slideshow": {
     "slide_type": "slide"
    }
   },
   "source": [
    "1. **Experimental studies** \n",
    "    - Deciding on **blocking** versus **non-blocking** our **experimental units** is critical. To take advantage of **blocking**, our blocks need to be well-defined (low within-block variation and high between-block variation). Otherwise, we might estimate biased effects along with a small power.\n",
    "    - We need to take **Power Analysis** into account. This is an a priori choice of how much data we need, so we can be convinced that $X$ has a causal effect on $Y$ (if, in fact, the magnitude of this effect is **weak** or **stronger**).\n",
    "    - **Early stopping** is another point to consider. We can consider it, but we need to be cautious and use **principled peeking** to avoid inflating type I error and decreasing power.\n",
    "2. **Observational studies** \n",
    "\n",
    "    - Note there is more than one way to collect a sample from a population. Furthermore, the sampling schemes are in function on different temporalities.\n",
    "    - A CS scheme is basically a **simple random sample**.\n",
    "    - A CC scheme can be **matched** or **non-matched**. Recall that oversampling cases is beneficial for the precision of our estimates.\n",
    "    - A CO scheme implies a careful follow-up."
   ]
  },
  {
   "cell_type": "markdown",
   "id": "7da5f8d6",
   "metadata": {
    "slideshow": {
     "slide_type": "slide"
    }
   },
   "source": [
    "In data analysis, methods of analysis must reflect the structure of data collection:"
   ]
  },
  {
   "cell_type": "markdown",
   "id": "2a2bcedf",
   "metadata": {
    "slideshow": {
     "slide_type": "fragment"
    }
   },
   "source": [
    "- If our study is making **multiple comparisons** and we are concerned about **family-wise error rate**, then our analysis needs to reflect this.\n",
    "- In **randomized A/B testing**, if we are going to intermittently **peek** at the incoming data and perhaps stop the experiment **early**, then our analysis needs to reflect this.\n",
    "- In the **matched case-control analysis**, the appropriate analysis looks **nothing** like the appropriate analysis of **unmatched case-control data**."
   ]
  },
  {
   "cell_type": "markdown",
   "id": "0417d6f5",
   "metadata": {
    "slideshow": {
     "slide_type": "slide"
    }
   },
   "source": [
    "### 3.5. A Final Statistical Reflection\n",
    "\n",
    "We need to think **holistically** when dealing with **statistical studies in Data Science**. The following data pipeline is clearly in play:"
   ]
  },
  {
   "cell_type": "markdown",
   "id": "aef2cff1",
   "metadata": {
    "slideshow": {
     "slide_type": "fragment"
    }
   },
   "source": [
    "- How data are collected.\n",
    "- How data are analyzed.\n",
    "- How conclusions are drawn.\n",
    "- The strength of the resulting story (i.e., how robust the data story-telling is)."
   ]
  },
  {
   "cell_type": "markdown",
   "id": "8263c8e7",
   "metadata": {
    "slideshow": {
     "slide_type": "slide"
    }
   },
   "source": [
    "This process relies on **solid expertise from a diverse team (not just Data Scientists)**. You will provide your statistical expertise via tools from the following courses:"
   ]
  },
  {
   "cell_type": "markdown",
   "id": "b0952b09",
   "metadata": {
    "slideshow": {
     "slide_type": "fragment"
    }
   },
   "source": [
    "- **DSCI 551:** Fundamentals of probability.\n",
    "- **DSCI 552:** Fundamentals of frequentist statistical inference.\n",
    "- **DSCI 561:** Fundamentals of OLS regression.\n",
    "- **DSCI 562:** Advanced frequentist regression techniques.\n",
    "- **DSCI 554:** How we applied the previous learning within a frequentist causal inference framework."
   ]
  },
  {
   "cell_type": "markdown",
   "id": "8b32b16d",
   "metadata": {
    "slideshow": {
     "slide_type": "fragment"
    }
   },
   "source": [
    "If we want to switch to Bayesian statistics, **DSCI 553** is the way to go."
   ]
  }
 ],
 "metadata": {
  "celltoolbar": "Tags",
  "kernelspec": {
   "display_name": "R",
   "language": "R",
   "name": "ir"
  },
  "language_info": {
   "codemirror_mode": "r",
   "file_extension": ".r",
   "mimetype": "text/x-r-source",
   "name": "R",
   "pygments_lexer": "r",
   "version": "4.4.1"
  }
 },
 "nbformat": 4,
 "nbformat_minor": 5
}
