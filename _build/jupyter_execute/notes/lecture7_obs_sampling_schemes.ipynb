{
 "cells": [
  {
   "cell_type": "markdown",
   "id": "181f849c",
   "metadata": {
    "slideshow": {
     "slide_type": "slide"
    }
   },
   "source": [
    "# Lecture 7 - Observational Data: Different Sampling Schemes"
   ]
  },
  {
   "cell_type": "markdown",
   "id": "ad321daa",
   "metadata": {
    "slideshow": {
     "slide_type": "slide"
    }
   },
   "source": [
    "## Today's Learning Objectives\n",
    "\n",
    "1. Introduce the use of different sampling schemes in observational studies.\n",
    "2. Illustrate the concept of the proxy ground truth to assess different sampling schemes.\n",
    "3. Apply complete simulation studies to a given sampling scheme via the proxy ground truth.\n",
    "4. Explore the efficiency of the Case-Control sampling scheme via a modified power analysis."
   ]
  },
  {
   "cell_type": "markdown",
   "id": "65c4928e",
   "metadata": {
    "slideshow": {
     "slide_type": "skip"
    }
   },
   "source": [
    "## Loading `R` Packages"
   ]
  },
  {
   "cell_type": "code",
   "execution_count": 1,
   "id": "4ee6b6a8",
   "metadata": {
    "slideshow": {
     "slide_type": "skip"
    },
    "tags": [
     "remove-output"
    ]
   },
   "outputs": [
    {
     "name": "stderr",
     "output_type": "stream",
     "text": [
      "── \u001b[1mAttaching core tidyverse packages\u001b[22m ───────────────────────────────────────────────────────────────────────────────────────────────────────────────────────────────────────────────────── tidyverse 2.0.0 ──\n",
      "\u001b[32m✔\u001b[39m \u001b[34mdplyr    \u001b[39m 1.1.4     \u001b[32m✔\u001b[39m \u001b[34mreadr    \u001b[39m 2.1.5\n",
      "\u001b[32m✔\u001b[39m \u001b[34mforcats  \u001b[39m 1.0.0     \u001b[32m✔\u001b[39m \u001b[34mstringr  \u001b[39m 1.5.1\n",
      "\u001b[32m✔\u001b[39m \u001b[34mggplot2  \u001b[39m 3.5.1     \u001b[32m✔\u001b[39m \u001b[34mtibble   \u001b[39m 3.2.1\n",
      "\u001b[32m✔\u001b[39m \u001b[34mlubridate\u001b[39m 1.9.3     \u001b[32m✔\u001b[39m \u001b[34mtidyr    \u001b[39m 1.3.1\n",
      "\u001b[32m✔\u001b[39m \u001b[34mpurrr    \u001b[39m 1.0.2     \n"
     ]
    },
    {
     "name": "stderr",
     "output_type": "stream",
     "text": [
      "── \u001b[1mConflicts\u001b[22m ─────────────────────────────────────────────────────────────────────────────────────────────────────────────────────────────────────────────────────────────────────── tidyverse_conflicts() ──\n",
      "\u001b[31m✖\u001b[39m \u001b[34mdplyr\u001b[39m::\u001b[32mfilter()\u001b[39m masks \u001b[34mstats\u001b[39m::filter()\n",
      "\u001b[31m✖\u001b[39m \u001b[34mdplyr\u001b[39m::\u001b[32mlag()\u001b[39m    masks \u001b[34mstats\u001b[39m::lag()\n",
      "\u001b[36mℹ\u001b[39m Use the conflicted package (\u001b[3m\u001b[34m<http://conflicted.r-lib.org/>\u001b[39m\u001b[23m) to force all conflicts to become errors\n"
     ]
    },
    {
     "name": "stderr",
     "output_type": "stream",
     "text": [
      "\n",
      "Attaching package: ‘reshape2’\n",
      "\n",
      "\n"
     ]
    },
    {
     "name": "stderr",
     "output_type": "stream",
     "text": [
      "The following object is masked from ‘package:tidyr’:\n",
      "\n",
      "    smiths\n",
      "\n",
      "\n"
     ]
    }
   ],
   "source": [
    "options(repr.matrix.max.rows = 8, repr.matrix.max.cols = 10)\n",
    "library(foreign)\n",
    "library(tidyverse)\n",
    "library(broom)\n",
    "library(reshape2)"
   ]
  },
  {
   "cell_type": "markdown",
   "id": "f23582bc",
   "metadata": {
    "slideshow": {
     "slide_type": "slide"
    }
   },
   "source": [
    "## Previously...\n",
    "\n",
    "We introduced **observational studies** to **assess causality** between a variable $X$ and a response $Y$. Moreover, we highlighted that observational studies are used when randomized experimentation is infeasible. Hence, an observational study would try to make the best for data involving $X$, $Y$, and $p$ confounders $C_j$ ($i = 1, \\dots, p$)."
   ]
  },
  {
   "cell_type": "markdown",
   "id": "41bac684",
   "metadata": {
    "slideshow": {
     "slide_type": "slide"
    }
   },
   "source": [
    "In {doc}`lecture6_obs_stratifying_modelling`, we reviewed a case study that followed two strategies:\n",
    "\n",
    "1. **Stratum-specific causal inference with multiple confounders.** We **stratified** our data according to the confounders $C_j$ to see how $X$ and $Y$ are related (primarily in a causation framework) within homogeneous strata. However, we encountered different estimation problems while following this approach **since not all strata had sufficient absolute frequencies by cell in their respective contingency tables**.\n",
    "2. **Overall Model-Based Causal Inference.** We pursued an overall model-based causal inference which is basically a regression of $Y$ using $X$ and $C_{1}, \\ldots, C_{p}$ as regressors. This approach proved to be more effective since we controlled for the possible confounders in our model. Therefore, we assumed that no matter what confounders a population of interest had as long as we control them in our **regression's systematic component**, all subjects would have the same effect of $X$ over $Y$."
   ]
  },
  {
   "cell_type": "markdown",
   "id": "59c07b5b",
   "metadata": {
    "slideshow": {
     "slide_type": "slide"
    }
   },
   "source": [
    "Recall the overall model-based causal inference required three fundamental assumptions:\n",
    "\n",
    "1. No interactions between strata, which implies a simple/smooth structure in how $Y$ varies across strata (i.e., not including all possible interactions between the $p$ confounders **at any degree**).\n",
    "2. No interactions involving $X$ and any confounder $C_j$, which implies that the strength of the $(X, Y)$ association within strata **does not vary across strata**.\n",
    "3. Have we captured all confounders in our selection of $C_{1}, \\ldots, C_{p}$? **A challenging assumption to fulfill!**\n",
    "\n",
    "As we can see, we have already seen **causal analysis** in observational studies. Therefore, it is time to check **causal design** in observational studies."
   ]
  },
  {
   "cell_type": "markdown",
   "id": "0390b130",
   "metadata": {
    "slideshow": {
     "slide_type": "slide"
    }
   },
   "source": [
    "## 1. Sampling Schemes in Observational Studies \n",
    "\n",
    "We will build on what we did in {doc}`lecture6_obs_stratifying_modelling` by looking at different sampling schemes for observational data. \n",
    "\n",
    "```{attention}\n",
    "This is an important lecture since this is the first time we dig deeper into the field of **statistical sampling**.\n",
    "```"
   ]
  },
  {
   "cell_type": "markdown",
   "id": "3ca88a15",
   "metadata": {
    "slideshow": {
     "slide_type": "fragment"
    }
   },
   "source": [
    "As in randomized experiments (i.e., non-blocking versus blocking), there are different ways we can gather our data in observational studies. Mainly, we must explore how to select our sample before executing the study. Moreover, **our subsequent statistical analysis needs to account for how we sample our data**."
   ]
  },
  {
   "cell_type": "markdown",
   "id": "f4b2f2f0",
   "metadata": {
    "slideshow": {
     "slide_type": "slide"
    }
   },
   "source": [
    "### 1.1. Sampling Assessment Via the Ground Truth\n",
    "\n",
    "Besides evaluating our statistical modelling (as we did via the three assumptions we explored in {doc}`lecture6_obs_stratifying_modelling`, **we also need to assess any given sampling scheme before executing it**. \n",
    "\n",
    "**Nonetheless, how are we supposed to evaluate these schemes?** We need to introduce a new concept to explain this matter. It is called the **ground truth**."
   ]
  },
  {
   "cell_type": "markdown",
   "id": "edd49046",
   "metadata": {
    "slideshow": {
     "slide_type": "fragment"
    }
   },
   "source": [
    "```{important}\n",
    "In Statistics and Machine Learning, the **ground truth** implicates checking the results of any given approach (e.g., a sampling scheme and its corresponding statistical model in the form of regression) in terms of its estimation accuracy against the **real-world**.\n",
    "```"
   ]
  },
  {
   "cell_type": "markdown",
   "id": "2ddfaaf1",
   "metadata": {
    "slideshow": {
     "slide_type": "slide"
    }
   },
   "source": [
    "Nevertheless, assessing our methods in statistical inference is challenging because we do not have a concrete **ground truth**! **Under the frequentist paradigm**, since we **DO NOT** have access to the population data, we only rely on a sample (hopefully representative!) which we use to estimate fixed population parameters. Hence, the **ground truth** will not be available!"
   ]
  },
  {
   "cell_type": "markdown",
   "id": "d50e5b5d",
   "metadata": {
    "slideshow": {
     "slide_type": "fragment"
    }
   },
   "source": [
    "Not having access to the **ground truth** will be especially problematic if we want to infer something more complex than variable association, i.e., we would like to infer causality between $X$ and $Y$. However, we are now familiar with a powerful tool to build a **proxy** of the **ground truth**: **simulation**."
   ]
  },
  {
   "cell_type": "markdown",
   "id": "d22cc4ed",
   "metadata": {
    "slideshow": {
     "slide_type": "slide"
    }
   },
   "source": [
    "### 1.2. Simulation: A Proxy of the Ground Truth\n",
    "\n",
    "We have been using basic Monte Carlo simulation throughout this block. However, we will use a more sophisticated simulation technique throughout this lecture. The core ideas of this technique are the following:"
   ]
  },
  {
   "cell_type": "markdown",
   "id": "9b461da5",
   "metadata": {
    "slideshow": {
     "slide_type": "fragment"
    }
   },
   "source": [
    "1. **Use a relevant sample dataset.** This step assumes a **previous sample dataset** as representative enough of our population of interest. Ideally, we want our sampling methods to work on data with the typical characteristics of this population.\n",
    "2. **Fit a model.** We will use the relevant sample dataset to fit a model of the response $Y$ versus the variable $X$ and a determined set of confounders $C_j$ (**as strata**).\n",
    "3. **Simulate a proxy ground truth.** This step will use the model from **step 2** to simulate new outcomes $Y$. Basically, we would keep the same regressors' ranges since we are using their corresponding fitted model to simulate new observations. These are the typical ranges we would encounter in real population data."
   ]
  },
  {
   "cell_type": "markdown",
   "id": "cb359c5a",
   "metadata": {
    "slideshow": {
     "slide_type": "slide"
    }
   },
   "source": [
    "```{attention}\n",
    "The previous steps will use the three assumptions from {doc}`lecture6_obs_stratifying_modelling` in two ways: \n",
    "\n",
    "- The first way will come in **step 2** since we will have to use the model we concluded was the \"best one\" ($Y$, $X$, and a given set of confounders as strata). \n",
    "- The second way will use these assumptions when generating new data in **step 3** via the model from **step 2**.\n",
    "```"
   ]
  },
  {
   "cell_type": "markdown",
   "id": "c443626a",
   "metadata": {
    "slideshow": {
     "slide_type": "slide"
    }
   },
   "source": [
    "```{exercise}\n",
    ":label: lecture7-q1\n",
    "\n",
    "**Answer TRUE or FALSE:**\n",
    "\n",
    "We could visualize the previous process of building a proxy ground truth as **a modified bootstrapping taken to a higher level**.\n",
    "\n",
    "**A.** TRUE\n",
    "\n",
    "**B.** FALSE\n",
    "```"
   ]
  },
  {
   "cell_type": "markdown",
   "id": "ca25f144",
   "metadata": {
    "slideshow": {
     "slide_type": "slide"
    }
   },
   "source": [
    "## 2. The Western Collaborative Group Study Data\n",
    "\n",
    "We will retake the Western Collaborative Group Study (WCGS) data to illustrate the previously defined three-step process. The WCGS data is a **prospective cohort study** that recruited **middle-aged men between the ages of 39 and 59 who were employees of ten Californian companies**. The data was collected on 3154 subjects between 1960 and 1961."
   ]
  },
  {
   "cell_type": "markdown",
   "id": "32e76761",
   "metadata": {
    "slideshow": {
     "slide_type": "fragment"
    }
   },
   "source": [
    "```{caution}\n",
    "Before continuing with our three-step process to build a proxy for the **ground truth**, we need to clarify that we will use it as representative data from our population of interest.\n",
    "```"
   ]
  },
  {
   "cell_type": "markdown",
   "id": "0ca479b9",
   "metadata": {
    "slideshow": {
     "slide_type": "slide"
    }
   },
   "source": [
    "### 2.1. Step 1: Use a Relevant Sample Dataset\n",
    "\n",
    "We initially load our data. Then, we will eliminate those rows with missing data via `na.omit()` (missing data will again not be the scope of today's lecture!). We end up with $3,101$ subjects."
   ]
  },
  {
   "cell_type": "code",
   "execution_count": 2,
   "id": "99f6c130",
   "metadata": {
    "slideshow": {
     "slide_type": "fragment"
    }
   },
   "outputs": [
    {
     "data": {
      "text/html": [
       "<table class=\"dataframe\">\n",
       "<caption>A tibble: 3101 × 22</caption>\n",
       "<thead>\n",
       "\t<tr><th scope=col>age</th><th scope=col>arcus</th><th scope=col>behpat</th><th scope=col>bmi</th><th scope=col>chd69</th><th scope=col>⋯</th><th scope=col>typchd69</th><th scope=col>uni</th><th scope=col>weight</th><th scope=col>wghtcat</th><th scope=col>agec</th></tr>\n",
       "\t<tr><th scope=col>&lt;int&gt;</th><th scope=col>&lt;int&gt;</th><th scope=col>&lt;fct&gt;</th><th scope=col>&lt;dbl&gt;</th><th scope=col>&lt;fct&gt;</th><th scope=col>⋯</th><th scope=col>&lt;int&gt;</th><th scope=col>&lt;dbl&gt;</th><th scope=col>&lt;int&gt;</th><th scope=col>&lt;fct&gt;</th><th scope=col>&lt;fct&gt;</th></tr>\n",
       "</thead>\n",
       "<tbody>\n",
       "\t<tr><td>50</td><td>1</td><td>A1</td><td>31.32101</td><td>No</td><td>⋯</td><td>0</td><td>0.4860738</td><td>200</td><td>170-200</td><td>46-50</td></tr>\n",
       "\t<tr><td>51</td><td>0</td><td>A1</td><td>25.32858</td><td>No</td><td>⋯</td><td>0</td><td>0.1859543</td><td>192</td><td>170-200</td><td>51-55</td></tr>\n",
       "\t<tr><td>59</td><td>1</td><td>A1</td><td>28.69388</td><td>No</td><td>⋯</td><td>0</td><td>0.7277991</td><td>200</td><td>170-200</td><td>56-60</td></tr>\n",
       "\t<tr><td>51</td><td>1</td><td>A1</td><td>22.14871</td><td>No</td><td>⋯</td><td>0</td><td>0.6244636</td><td>150</td><td>140-170</td><td>51-55</td></tr>\n",
       "\t<tr><td>⋮</td><td>⋮</td><td>⋮</td><td>⋮</td><td>⋮</td><td>⋱</td><td>⋮</td><td>⋮</td><td>⋮</td><td>⋮</td><td>⋮</td></tr>\n",
       "\t<tr><td>41</td><td>0</td><td>B4</td><td>25.03378</td><td>No</td><td>⋯</td><td>0</td><td>0.27816987</td><td>195</td><td>170-200</td><td>41-45</td></tr>\n",
       "\t<tr><td>53</td><td>0</td><td>B4</td><td>25.79944</td><td>No</td><td>⋯</td><td>0</td><td>0.95139700</td><td>185</td><td>170-200</td><td>51-55</td></tr>\n",
       "\t<tr><td>54</td><td>0</td><td>B4</td><td>23.49076</td><td>No</td><td>⋯</td><td>0</td><td>0.57082593</td><td>150</td><td>140-170</td><td>51-55</td></tr>\n",
       "\t<tr><td>48</td><td>0</td><td>B4</td><td>30.26990</td><td>No</td><td>⋯</td><td>0</td><td>0.08677829</td><td>205</td><td><span style=white-space:pre-wrap>&gt; 200  </span></td><td>46-50</td></tr>\n",
       "</tbody>\n",
       "</table>\n"
      ],
      "text/latex": [
       "A tibble: 3101 × 22\n",
       "\\begin{tabular}{lllllllllll}\n",
       " age & arcus & behpat & bmi & chd69 & ⋯ & typchd69 & uni & weight & wghtcat & agec\\\\\n",
       " <int> & <int> & <fct> & <dbl> & <fct> & ⋯ & <int> & <dbl> & <int> & <fct> & <fct>\\\\\n",
       "\\hline\n",
       "\t 50 & 1 & A1 & 31.32101 & No & ⋯ & 0 & 0.4860738 & 200 & 170-200 & 46-50\\\\\n",
       "\t 51 & 0 & A1 & 25.32858 & No & ⋯ & 0 & 0.1859543 & 192 & 170-200 & 51-55\\\\\n",
       "\t 59 & 1 & A1 & 28.69388 & No & ⋯ & 0 & 0.7277991 & 200 & 170-200 & 56-60\\\\\n",
       "\t 51 & 1 & A1 & 22.14871 & No & ⋯ & 0 & 0.6244636 & 150 & 140-170 & 51-55\\\\\n",
       "\t ⋮ & ⋮ & ⋮ & ⋮ & ⋮ & ⋱ & ⋮ & ⋮ & ⋮ & ⋮ & ⋮\\\\\n",
       "\t 41 & 0 & B4 & 25.03378 & No & ⋯ & 0 & 0.27816987 & 195 & 170-200 & 41-45\\\\\n",
       "\t 53 & 0 & B4 & 25.79944 & No & ⋯ & 0 & 0.95139700 & 185 & 170-200 & 51-55\\\\\n",
       "\t 54 & 0 & B4 & 23.49076 & No & ⋯ & 0 & 0.57082593 & 150 & 140-170 & 51-55\\\\\n",
       "\t 48 & 0 & B4 & 30.26990 & No & ⋯ & 0 & 0.08677829 & 205 & > 200   & 46-50\\\\\n",
       "\\end{tabular}\n"
      ],
      "text/markdown": [
       "\n",
       "A tibble: 3101 × 22\n",
       "\n",
       "| age &lt;int&gt; | arcus &lt;int&gt; | behpat &lt;fct&gt; | bmi &lt;dbl&gt; | chd69 &lt;fct&gt; | ⋯ ⋯ | typchd69 &lt;int&gt; | uni &lt;dbl&gt; | weight &lt;int&gt; | wghtcat &lt;fct&gt; | agec &lt;fct&gt; |\n",
       "|---|---|---|---|---|---|---|---|---|---|---|\n",
       "| 50 | 1 | A1 | 31.32101 | No | ⋯ | 0 | 0.4860738 | 200 | 170-200 | 46-50 |\n",
       "| 51 | 0 | A1 | 25.32858 | No | ⋯ | 0 | 0.1859543 | 192 | 170-200 | 51-55 |\n",
       "| 59 | 1 | A1 | 28.69388 | No | ⋯ | 0 | 0.7277991 | 200 | 170-200 | 56-60 |\n",
       "| 51 | 1 | A1 | 22.14871 | No | ⋯ | 0 | 0.6244636 | 150 | 140-170 | 51-55 |\n",
       "| ⋮ | ⋮ | ⋮ | ⋮ | ⋮ | ⋱ | ⋮ | ⋮ | ⋮ | ⋮ | ⋮ |\n",
       "| 41 | 0 | B4 | 25.03378 | No | ⋯ | 0 | 0.27816987 | 195 | 170-200 | 41-45 |\n",
       "| 53 | 0 | B4 | 25.79944 | No | ⋯ | 0 | 0.95139700 | 185 | 170-200 | 51-55 |\n",
       "| 54 | 0 | B4 | 23.49076 | No | ⋯ | 0 | 0.57082593 | 150 | 140-170 | 51-55 |\n",
       "| 48 | 0 | B4 | 30.26990 | No | ⋯ | 0 | 0.08677829 | 205 | &gt; 200   | 46-50 |\n",
       "\n"
      ],
      "text/plain": [
       "     age arcus behpat bmi      chd69 ⋯ typchd69 uni        weight wghtcat agec \n",
       "1    50  1     A1     31.32101 No    ⋯ 0        0.4860738  200    170-200 46-50\n",
       "2    51  0     A1     25.32858 No    ⋯ 0        0.1859543  192    170-200 51-55\n",
       "3    59  1     A1     28.69388 No    ⋯ 0        0.7277991  200    170-200 56-60\n",
       "4    51  1     A1     22.14871 No    ⋯ 0        0.6244636  150    140-170 51-55\n",
       "⋮    ⋮   ⋮     ⋮      ⋮        ⋮     ⋱ ⋮        ⋮          ⋮      ⋮       ⋮    \n",
       "3098 41  0     B4     25.03378 No    ⋯ 0        0.27816987 195    170-200 41-45\n",
       "3099 53  0     B4     25.79944 No    ⋯ 0        0.95139700 185    170-200 51-55\n",
       "3100 54  0     B4     23.49076 No    ⋯ 0        0.57082593 150    140-170 51-55\n",
       "3101 48  0     B4     30.26990 No    ⋯ 0        0.08677829 205    > 200   46-50"
      ]
     },
     "metadata": {},
     "output_type": "display_data"
    }
   ],
   "source": [
    "wcgs <- as_tibble(read.dta(\"../data/wcgs.dta\"))\n",
    "wcgs <- na.omit(wcgs)\n",
    "wcgs"
   ]
  },
  {
   "cell_type": "markdown",
   "id": "c5407f28",
   "metadata": {
    "slideshow": {
     "slide_type": "slide"
    }
   },
   "source": [
    "The three assumptions from {doc}`lecture6_obs_stratifying_modelling` will come into play in this part. **Suppose** the following model was the \"best one\" (note `age`, `bmi`, `smoke`, and `chol` are used as strata):\n",
    "\n",
    "```\n",
    "glm(chd69 ~ dibpat + age_bins + smoke + bmi_bins + chol_bins, family = \"binomial\", data = wcgs)\n",
    "```"
   ]
  },
  {
   "cell_type": "markdown",
   "id": "287d5854",
   "metadata": {
    "slideshow": {
     "slide_type": "fragment"
    }
   },
   "source": [
    "Thus, we select the following variables from `wcgs`:\n",
    "\n",
    "- `dibpat`: Dichotomous behaviour pattern, a factor-type variable with two levels (`Type A` and `Type B`).\n",
    "- `age`: Subject's age in years (a count-type variable).\n",
    "- `bmi`: Subject's body mass index (BMI) in $\\text{kg}/\\text{m}^2$ (a continuous-type variable).\n",
    "- `chol`: Subject's cholesterol levels in $\\text{mg}/100 \\text{ ml}$ (a continuous-type variable).\n",
    "- `smoke`: Whether the subject smokes or not, a factor-type variable with two levels (`Yes` and `No`).\n",
    "- `chd69`: Whether the subject experienced a coronary heart disease (CHD) event, a factor-type variable with two levels (`Yes` and `No`)."
   ]
  },
  {
   "cell_type": "code",
   "execution_count": 3,
   "id": "0bcf24fc",
   "metadata": {
    "slideshow": {
     "slide_type": "fragment"
    }
   },
   "outputs": [],
   "source": [
    "wcgs <- wcgs %>%\n",
    "  select(dibpat, age, bmi, chol, smoke, chd69)"
   ]
  },
  {
   "cell_type": "markdown",
   "id": "1606c804",
   "metadata": {
    "slideshow": {
     "slide_type": "slide"
    }
   },
   "source": [
    "Recall the main statistical inquiry of this **causal model**:\n",
    "\n",
    "> **Does a `Type A` behaviour pattern (`dibpat`) LEAD to a coronary heart disease (CHD) event (`chd69`)?**\n",
    "\n",
    "From [Brand et al. (1976)](https://www.ahajournals.org/doi/pdf/10.1161/01.CIR.53.2.348), the levels of `dibpat` are defined as follows:\n",
    "\n",
    "> *Methods for the assessment of the dichotomous behavior pattern by a structured psychological interview in the\n",
    "WCGS have been described elsewhere. **Type A** behavior is characterized by enhanced aggressiveness and competitive drive, preoccupation with deadlines, and chronic impatience and sense of time urgency, in contrast with the more relaxed and less hurried **Type B** behavior pattern.*"
   ]
  },
  {
   "cell_type": "markdown",
   "id": "7085c892",
   "metadata": {
    "slideshow": {
     "slide_type": "slide"
    }
   },
   "source": [
    "Therefore $Y$ will be `chd69` and $X$ will be `dibpat`, whereas `age`, `bmi`, `chol` and `smoke` will be confounders in the proxy of the **ground truth**."
   ]
  },
  {
   "cell_type": "markdown",
   "id": "73c64b9e",
   "metadata": {
    "slideshow": {
     "slide_type": "fragment"
    }
   },
   "source": [
    "Given the form of the model\n",
    "\n",
    "```\n",
    "glm(chd69 ~ dibpat + age_bins + smoke + bmi_bins + chol_bins, family = \"binomial\", data = wcgs)\n",
    "```\n",
    "\n",
    "we need to create strata by confounder (**except for `smoke` which is already categorical**). These strata will be formed on a quartile basis."
   ]
  },
  {
   "cell_type": "code",
   "execution_count": 4,
   "id": "0fc883f5",
   "metadata": {
    "slideshow": {
     "slide_type": "slide"
    }
   },
   "outputs": [
    {
     "data": {
      "text/html": [
       "<table class=\"dataframe\">\n",
       "<caption>A tibble: 3101 × 9</caption>\n",
       "<thead>\n",
       "\t<tr><th scope=col>dibpat</th><th scope=col>age</th><th scope=col>bmi</th><th scope=col>chol</th><th scope=col>smoke</th><th scope=col>chd69</th><th scope=col>age_bins</th><th scope=col>bmi_bins</th><th scope=col>chol_bins</th></tr>\n",
       "\t<tr><th scope=col>&lt;fct&gt;</th><th scope=col>&lt;int&gt;</th><th scope=col>&lt;dbl&gt;</th><th scope=col>&lt;int&gt;</th><th scope=col>&lt;fct&gt;</th><th scope=col>&lt;fct&gt;</th><th scope=col>&lt;fct&gt;</th><th scope=col>&lt;fct&gt;</th><th scope=col>&lt;fct&gt;</th></tr>\n",
       "</thead>\n",
       "<tbody>\n",
       "\t<tr><td>Type A</td><td>50</td><td>31.32101</td><td>249</td><td>Yes</td><td>No</td><td>(45,50]</td><td>(25.8,38.9]</td><td>(223,253]</td></tr>\n",
       "\t<tr><td>Type A</td><td>51</td><td>25.32858</td><td>194</td><td>Yes</td><td>No</td><td>(50,59]</td><td>(24.4,25.8]</td><td>[103,197]</td></tr>\n",
       "\t<tr><td>Type A</td><td>59</td><td>28.69388</td><td>258</td><td>No </td><td>No</td><td>(50,59]</td><td>(25.8,38.9]</td><td>(253,645]</td></tr>\n",
       "\t<tr><td>Type A</td><td>51</td><td>22.14871</td><td>173</td><td>No </td><td>No</td><td>(50,59]</td><td>[11.2,23]  </td><td>[103,197]</td></tr>\n",
       "\t<tr><td>⋮</td><td>⋮</td><td>⋮</td><td>⋮</td><td>⋮</td><td>⋮</td><td>⋮</td><td>⋮</td><td>⋮</td></tr>\n",
       "\t<tr><td>Type B</td><td>41</td><td>25.03378</td><td>180</td><td>No </td><td>No</td><td>[39,42]</td><td>(24.4,25.8]</td><td>[103,197]</td></tr>\n",
       "\t<tr><td>Type B</td><td>53</td><td>25.79944</td><td>167</td><td>No </td><td>No</td><td>(50,59]</td><td>(24.4,25.8]</td><td>[103,197]</td></tr>\n",
       "\t<tr><td>Type B</td><td>54</td><td>23.49076</td><td>242</td><td>Yes</td><td>No</td><td>(50,59]</td><td>(23,24.4]  </td><td>(223,253]</td></tr>\n",
       "\t<tr><td>Type B</td><td>48</td><td>30.26990</td><td>288</td><td>No </td><td>No</td><td>(45,50]</td><td>(25.8,38.9]</td><td>(253,645]</td></tr>\n",
       "</tbody>\n",
       "</table>\n"
      ],
      "text/latex": [
       "A tibble: 3101 × 9\n",
       "\\begin{tabular}{lllllllll}\n",
       " dibpat & age & bmi & chol & smoke & chd69 & age\\_bins & bmi\\_bins & chol\\_bins\\\\\n",
       " <fct> & <int> & <dbl> & <int> & <fct> & <fct> & <fct> & <fct> & <fct>\\\\\n",
       "\\hline\n",
       "\t Type A & 50 & 31.32101 & 249 & Yes & No & (45,50{]} & (25.8,38.9{]} & (223,253{]}\\\\\n",
       "\t Type A & 51 & 25.32858 & 194 & Yes & No & (50,59{]} & (24.4,25.8{]} & {[}103,197{]}\\\\\n",
       "\t Type A & 59 & 28.69388 & 258 & No  & No & (50,59{]} & (25.8,38.9{]} & (253,645{]}\\\\\n",
       "\t Type A & 51 & 22.14871 & 173 & No  & No & (50,59{]} & {[}11.2,23{]}   & {[}103,197{]}\\\\\n",
       "\t ⋮ & ⋮ & ⋮ & ⋮ & ⋮ & ⋮ & ⋮ & ⋮ & ⋮\\\\\n",
       "\t Type B & 41 & 25.03378 & 180 & No  & No & {[}39,42{]} & (24.4,25.8{]} & {[}103,197{]}\\\\\n",
       "\t Type B & 53 & 25.79944 & 167 & No  & No & (50,59{]} & (24.4,25.8{]} & {[}103,197{]}\\\\\n",
       "\t Type B & 54 & 23.49076 & 242 & Yes & No & (50,59{]} & (23,24.4{]}   & (223,253{]}\\\\\n",
       "\t Type B & 48 & 30.26990 & 288 & No  & No & (45,50{]} & (25.8,38.9{]} & (253,645{]}\\\\\n",
       "\\end{tabular}\n"
      ],
      "text/markdown": [
       "\n",
       "A tibble: 3101 × 9\n",
       "\n",
       "| dibpat &lt;fct&gt; | age &lt;int&gt; | bmi &lt;dbl&gt; | chol &lt;int&gt; | smoke &lt;fct&gt; | chd69 &lt;fct&gt; | age_bins &lt;fct&gt; | bmi_bins &lt;fct&gt; | chol_bins &lt;fct&gt; |\n",
       "|---|---|---|---|---|---|---|---|---|\n",
       "| Type A | 50 | 31.32101 | 249 | Yes | No | (45,50] | (25.8,38.9] | (223,253] |\n",
       "| Type A | 51 | 25.32858 | 194 | Yes | No | (50,59] | (24.4,25.8] | [103,197] |\n",
       "| Type A | 59 | 28.69388 | 258 | No  | No | (50,59] | (25.8,38.9] | (253,645] |\n",
       "| Type A | 51 | 22.14871 | 173 | No  | No | (50,59] | [11.2,23]   | [103,197] |\n",
       "| ⋮ | ⋮ | ⋮ | ⋮ | ⋮ | ⋮ | ⋮ | ⋮ | ⋮ |\n",
       "| Type B | 41 | 25.03378 | 180 | No  | No | [39,42] | (24.4,25.8] | [103,197] |\n",
       "| Type B | 53 | 25.79944 | 167 | No  | No | (50,59] | (24.4,25.8] | [103,197] |\n",
       "| Type B | 54 | 23.49076 | 242 | Yes | No | (50,59] | (23,24.4]   | (223,253] |\n",
       "| Type B | 48 | 30.26990 | 288 | No  | No | (45,50] | (25.8,38.9] | (253,645] |\n",
       "\n"
      ],
      "text/plain": [
       "     dibpat age bmi      chol smoke chd69 age_bins bmi_bins    chol_bins\n",
       "1    Type A 50  31.32101 249  Yes   No    (45,50]  (25.8,38.9] (223,253]\n",
       "2    Type A 51  25.32858 194  Yes   No    (50,59]  (24.4,25.8] [103,197]\n",
       "3    Type A 59  28.69388 258  No    No    (50,59]  (25.8,38.9] (253,645]\n",
       "4    Type A 51  22.14871 173  No    No    (50,59]  [11.2,23]   [103,197]\n",
       "⋮    ⋮      ⋮   ⋮        ⋮    ⋮     ⋮     ⋮        ⋮           ⋮        \n",
       "3098 Type B 41  25.03378 180  No    No    [39,42]  (24.4,25.8] [103,197]\n",
       "3099 Type B 53  25.79944 167  No    No    (50,59]  (24.4,25.8] [103,197]\n",
       "3100 Type B 54  23.49076 242  Yes   No    (50,59]  (23,24.4]   (223,253]\n",
       "3101 Type B 48  30.26990 288  No    No    (45,50]  (25.8,38.9] (253,645]"
      ]
     },
     "metadata": {},
     "output_type": "display_data"
    }
   ],
   "source": [
    "wcgs <- wcgs %>%\n",
    "  mutate(\n",
    "    age_bins = cut(age, breaks = c(min(age), quantile(age, (1:3) / 4), max(age)), include.lowest = TRUE),\n",
    "    bmi_bins = cut(bmi, breaks = c(min(bmi), quantile(bmi, (1:3) / 4), max(bmi)), include.lowest = TRUE),\n",
    "    chol_bins = cut(chol, breaks = c(min(chol), quantile(chol, (1:3) / 4), max(chol)), include.lowest = TRUE)\n",
    "  )\n",
    "wcgs"
   ]
  },
  {
   "cell_type": "markdown",
   "id": "43b3a892",
   "metadata": {
    "slideshow": {
     "slide_type": "slide"
    }
   },
   "source": [
    "Once we have all variables ready, we construct a **simulated population** called `sim_pop`. This population is based on the fact everyone in dataset `wcgs` contributes with twenty clones (in terms of  $X$ and $C_j$s). **We shuffle all rows at the end for subsequent sampling purposes.**\n",
    "\n",
    "```{attention}\n",
    "Note we are not using $Y$ (`ch69`) to make these clones. We will construct $Y$ in `step 2`.\n",
    "```"
   ]
  },
  {
   "cell_type": "code",
   "execution_count": 5,
   "id": "0f5cfb6d",
   "metadata": {
    "slideshow": {
     "slide_type": "fragment"
    }
   },
   "outputs": [
    {
     "data": {
      "text/html": [
       "<table class=\"dataframe\">\n",
       "<caption>A data.frame: 62020 × 5</caption>\n",
       "<thead>\n",
       "\t<tr><th></th><th scope=col>dibpat</th><th scope=col>age_bins</th><th scope=col>smoke</th><th scope=col>bmi_bins</th><th scope=col>chol_bins</th></tr>\n",
       "\t<tr><th></th><th scope=col>&lt;fct&gt;</th><th scope=col>&lt;fct&gt;</th><th scope=col>&lt;fct&gt;</th><th scope=col>&lt;fct&gt;</th><th scope=col>&lt;fct&gt;</th></tr>\n",
       "</thead>\n",
       "<tbody>\n",
       "\t<tr><th scope=row>46844</th><td>Type B</td><td>[39,42]</td><td>No</td><td>(24.4,25.8]</td><td>(197,223]</td></tr>\n",
       "\t<tr><th scope=row>36954</th><td>Type B</td><td>(50,59]</td><td>No</td><td>(25.8,38.9]</td><td>[103,197]</td></tr>\n",
       "\t<tr><th scope=row>47173</th><td>Type B</td><td>(42,45]</td><td>No</td><td>(23,24.4]  </td><td>[103,197]</td></tr>\n",
       "\t<tr><th scope=row>44779</th><td>Type B</td><td>(50,59]</td><td>No</td><td>(23,24.4]  </td><td>(197,223]</td></tr>\n",
       "\t<tr><th scope=row>⋮</th><td>⋮</td><td>⋮</td><td>⋮</td><td>⋮</td><td>⋮</td></tr>\n",
       "\t<tr><th scope=row>13998</th><td>Type A</td><td>(42,45]</td><td>No </td><td>(25.8,38.9]</td><td>[103,197]</td></tr>\n",
       "\t<tr><th scope=row>43487</th><td>Type B</td><td>[39,42]</td><td>No </td><td>[11.2,23]  </td><td>[103,197]</td></tr>\n",
       "\t<tr><th scope=row>14393</th><td>Type A</td><td>(42,45]</td><td>Yes</td><td>(25.8,38.9]</td><td>[103,197]</td></tr>\n",
       "\t<tr><th scope=row>45693</th><td>Type B</td><td>(50,59]</td><td>Yes</td><td>(25.8,38.9]</td><td>[103,197]</td></tr>\n",
       "</tbody>\n",
       "</table>\n"
      ],
      "text/latex": [
       "A data.frame: 62020 × 5\n",
       "\\begin{tabular}{r|lllll}\n",
       "  & dibpat & age\\_bins & smoke & bmi\\_bins & chol\\_bins\\\\\n",
       "  & <fct> & <fct> & <fct> & <fct> & <fct>\\\\\n",
       "\\hline\n",
       "\t46844 & Type B & {[}39,42{]} & No & (24.4,25.8{]} & (197,223{]}\\\\\n",
       "\t36954 & Type B & (50,59{]} & No & (25.8,38.9{]} & {[}103,197{]}\\\\\n",
       "\t47173 & Type B & (42,45{]} & No & (23,24.4{]}   & {[}103,197{]}\\\\\n",
       "\t44779 & Type B & (50,59{]} & No & (23,24.4{]}   & (197,223{]}\\\\\n",
       "\t⋮ & ⋮ & ⋮ & ⋮ & ⋮ & ⋮\\\\\n",
       "\t13998 & Type A & (42,45{]} & No  & (25.8,38.9{]} & {[}103,197{]}\\\\\n",
       "\t43487 & Type B & {[}39,42{]} & No  & {[}11.2,23{]}   & {[}103,197{]}\\\\\n",
       "\t14393 & Type A & (42,45{]} & Yes & (25.8,38.9{]} & {[}103,197{]}\\\\\n",
       "\t45693 & Type B & (50,59{]} & Yes & (25.8,38.9{]} & {[}103,197{]}\\\\\n",
       "\\end{tabular}\n"
      ],
      "text/markdown": [
       "\n",
       "A data.frame: 62020 × 5\n",
       "\n",
       "| <!--/--> | dibpat &lt;fct&gt; | age_bins &lt;fct&gt; | smoke &lt;fct&gt; | bmi_bins &lt;fct&gt; | chol_bins &lt;fct&gt; |\n",
       "|---|---|---|---|---|---|\n",
       "| 46844 | Type B | [39,42] | No | (24.4,25.8] | (197,223] |\n",
       "| 36954 | Type B | (50,59] | No | (25.8,38.9] | [103,197] |\n",
       "| 47173 | Type B | (42,45] | No | (23,24.4]   | [103,197] |\n",
       "| 44779 | Type B | (50,59] | No | (23,24.4]   | (197,223] |\n",
       "| ⋮ | ⋮ | ⋮ | ⋮ | ⋮ | ⋮ |\n",
       "| 13998 | Type A | (42,45] | No  | (25.8,38.9] | [103,197] |\n",
       "| 43487 | Type B | [39,42] | No  | [11.2,23]   | [103,197] |\n",
       "| 14393 | Type A | (42,45] | Yes | (25.8,38.9] | [103,197] |\n",
       "| 45693 | Type B | (50,59] | Yes | (25.8,38.9] | [103,197] |\n",
       "\n"
      ],
      "text/plain": [
       "      dibpat age_bins smoke bmi_bins    chol_bins\n",
       "46844 Type B [39,42]  No    (24.4,25.8] (197,223]\n",
       "36954 Type B (50,59]  No    (25.8,38.9] [103,197]\n",
       "47173 Type B (42,45]  No    (23,24.4]   [103,197]\n",
       "44779 Type B (50,59]  No    (23,24.4]   (197,223]\n",
       "⋮     ⋮      ⋮        ⋮     ⋮           ⋮        \n",
       "13998 Type A (42,45]  No    (25.8,38.9] [103,197]\n",
       "43487 Type B [39,42]  No    [11.2,23]   [103,197]\n",
       "14393 Type A (42,45]  Yes   (25.8,38.9] [103,197]\n",
       "45693 Type B (50,59]  Yes   (25.8,38.9] [103,197]"
      ]
     },
     "metadata": {},
     "output_type": "display_data"
    }
   ],
   "source": [
    "set.seed(554) # Reproducibility\n",
    "\n",
    "sim_pop <- data.frame(\n",
    "  dibpat = rep(wcgs$dibpat, each = 20),\n",
    "  age_bins = rep(wcgs$age_bins, each = 20),\n",
    "  smoke = rep(wcgs$smoke, each = 20),\n",
    "  bmi_bins = rep(wcgs$bmi_bins, each = 20),\n",
    "  chol_bins = rep(wcgs$chol_bins, each = 20)\n",
    ")\n",
    "# Shuffling rows!\n",
    "rows <- sample(nrow(sim_pop))\n",
    "sim_pop <- sim_pop[rows, ]\n",
    "sim_pop"
   ]
  },
  {
   "cell_type": "markdown",
   "id": "e2740a0d",
   "metadata": {
    "slideshow": {
     "slide_type": "slide"
    }
   },
   "source": [
    "### 2.2. Step 2: Fit a Model\n",
    "\n",
    "Now, **using the sample in `wcgs`**, we will fit a **Binary Logistic regression** as follows:"
   ]
  },
  {
   "cell_type": "code",
   "execution_count": 6,
   "id": "b335c8ee",
   "metadata": {
    "slideshow": {
     "slide_type": "fragment"
    }
   },
   "outputs": [],
   "source": [
    "wcgs_bin_log_model <- glm(chd69 ~ dibpat + age_bins + smoke + bmi_bins + chol_bins,\n",
    "  family = \"binomial\", data = wcgs\n",
    ")"
   ]
  },
  {
   "cell_type": "markdown",
   "id": "a965c946",
   "metadata": {
    "slideshow": {
     "slide_type": "fragment"
    }
   },
   "source": [
    "**To mimic the variable structure of the actual dataset `wcgs` into `sim_pop`**, we will use the estimated regression coefficients from `wcgs_bin_log_model` to set the \"true\" relationship between the $Y$ (`chd69`) and the $X$ (`dibpat`) along with the confounders as strata."
   ]
  },
  {
   "cell_type": "code",
   "execution_count": 7,
   "id": "70bfc2d3",
   "metadata": {
    "slideshow": {
     "slide_type": "fragment"
    }
   },
   "outputs": [
    {
     "data": {
      "text/html": [
       "<style>\n",
       ".dl-inline {width: auto; margin:0; padding: 0}\n",
       ".dl-inline>dt, .dl-inline>dd {float: none; width: auto; display: inline-block}\n",
       ".dl-inline>dt::after {content: \":\\0020\"; padding-right: .5ex}\n",
       ".dl-inline>dt:not(:first-of-type) {padding-left: .5ex}\n",
       "</style><dl class=dl-inline><dt>(Intercept)</dt><dd>-4.83</dd><dt>dibpatType A</dt><dd>0.72</dd><dt>age_bins(42,45]</dt><dd>0.16</dd><dt>age_bins(45,50]</dt><dd>0.63</dd><dt>age_bins(50,59]</dt><dd>0.94</dd><dt>smokeYes</dt><dd>0.64</dd><dt>bmi_bins(23,24.4]</dt><dd>0.33</dd><dt>bmi_bins(24.4,25.8]</dt><dd>0.48</dd><dt>bmi_bins(25.8,38.9]</dt><dd>0.68</dd><dt>chol_bins(197,223]</dt><dd>0.35</dd><dt>chol_bins(223,253]</dt><dd>0.88</dd><dt>chol_bins(253,645]</dt><dd>1.29</dd></dl>\n"
      ],
      "text/latex": [
       "\\begin{description*}\n",
       "\\item[(Intercept)] -4.83\n",
       "\\item[dibpatType A] 0.72\n",
       "\\item[age\\textbackslash{}\\_bins(42,45\\{{]}\\}] 0.16\n",
       "\\item[age\\textbackslash{}\\_bins(45,50\\{{]}\\}] 0.63\n",
       "\\item[age\\textbackslash{}\\_bins(50,59\\{{]}\\}] 0.94\n",
       "\\item[smokeYes] 0.64\n",
       "\\item[bmi\\textbackslash{}\\_bins(23,24.4\\{{]}\\}] 0.33\n",
       "\\item[bmi\\textbackslash{}\\_bins(24.4,25.8\\{{]}\\}] 0.48\n",
       "\\item[bmi\\textbackslash{}\\_bins(25.8,38.9\\{{]}\\}] 0.68\n",
       "\\item[chol\\textbackslash{}\\_bins(197,223\\{{]}\\}] 0.35\n",
       "\\item[chol\\textbackslash{}\\_bins(223,253\\{{]}\\}] 0.88\n",
       "\\item[chol\\textbackslash{}\\_bins(253,645\\{{]}\\}] 1.29\n",
       "\\end{description*}\n"
      ],
      "text/markdown": [
       "(Intercept)\n",
       ":   -4.83dibpatType A\n",
       ":   0.72age_bins(42,45]\n",
       ":   0.16age_bins(45,50]\n",
       ":   0.63age_bins(50,59]\n",
       ":   0.94smokeYes\n",
       ":   0.64bmi_bins(23,24.4]\n",
       ":   0.33bmi_bins(24.4,25.8]\n",
       ":   0.48bmi_bins(25.8,38.9]\n",
       ":   0.68chol_bins(197,223]\n",
       ":   0.35chol_bins(223,253]\n",
       ":   0.88chol_bins(253,645]\n",
       ":   1.29\n",
       "\n"
      ],
      "text/plain": [
       "        (Intercept)        dibpatType A     age_bins(42,45]     age_bins(45,50] \n",
       "              -4.83                0.72                0.16                0.63 \n",
       "    age_bins(50,59]            smokeYes   bmi_bins(23,24.4] bmi_bins(24.4,25.8] \n",
       "               0.94                0.64                0.33                0.48 \n",
       "bmi_bins(25.8,38.9]  chol_bins(197,223]  chol_bins(223,253]  chol_bins(253,645] \n",
       "               0.68                0.35                0.88                1.29 "
      ]
     },
     "metadata": {},
     "output_type": "display_data"
    }
   ],
   "source": [
    "wcgs_coef_pop <- coef(wcgs_bin_log_model)\n",
    "round(wcgs_coef_pop, 2)"
   ]
  },
  {
   "cell_type": "markdown",
   "id": "618a1804",
   "metadata": {
    "slideshow": {
     "slide_type": "slide"
    }
   },
   "source": [
    "### 2.3. Step 3: Simulate a Proxy Ground Truth\n",
    "\n",
    "**For the success event in the binary $Y_i$**, we know how to compute predicted probabilities $\\hat{\\pi}_i$ given the estimated regression coefficients coming from a trained logistic regression model (such as `wcgs_bin_log_model`) for the $i$th subject:\n",
    "\n",
    "$$\n",
    "\\hat{\\pi}_i = \\frac{\\exp\\big[\\mbox{logit}(\\pi_i)\\big]}{1 + \\exp\\big[\\mbox{logit}(\\pi_i)\\big]},\n",
    "$$\n",
    "\n",
    "where\n",
    "\n",
    "$$\n",
    "\\mbox{logit}(\\hat{\\pi}_i) = \\hat{\\beta}_0 + \\hat{\\beta}_X X_{i, 1} + \\hat{\\beta}_1 C_{i, 1} + \\ldots + \\hat{\\beta}_p C_{i, p}.\n",
    "$$\n",
    "\n",
    "Note that $\\hat{\\beta}_X$ corresponds to the estimated regression coefficient for $X$, whereas $\\hat{\\beta}_1, \\dots, \\hat{\\beta}_p$ correspond to the $p$ the estimated regression coefficients for the confounders. \n",
    "\n",
    "The previous computation can be put in a function as:"
   ]
  },
  {
   "cell_type": "code",
   "execution_count": 8,
   "id": "02cfe91a",
   "metadata": {
    "slideshow": {
     "slide_type": "fragment"
    }
   },
   "outputs": [],
   "source": [
    "pred_prob <- function(logit) {exp(logit) /(1 + exp(logit))}"
   ]
  },
  {
   "cell_type": "markdown",
   "id": "ca45c197",
   "metadata": {
    "slideshow": {
     "slide_type": "slide"
    }
   },
   "source": [
    "Now, using the estimated regression coefficients coming from `wcgs_bin_log_model` and stored in `coef_pop`, we will do the following in `sim_pop` to obtain the response $Y$ as our **proxy ground truth**:\n",
    "\n",
    "- Obtain the **design matrix** (via the function `model.matrix()`) of `sim_pop`. A **design matrix** is also called a regressor matrix. It will contain all the regressor values from `sim_pop` in matrix form. Since we only have dummy variables, it will contain `0`s and `1`s."
   ]
  },
  {
   "cell_type": "code",
   "execution_count": 9,
   "id": "b05bfb26",
   "metadata": {
    "slideshow": {
     "slide_type": "fragment"
    }
   },
   "outputs": [
    {
     "data": {
      "text/html": [
       "<table class=\"dataframe\">\n",
       "<caption>A matrix: 62020 × 12 of type dbl</caption>\n",
       "<thead>\n",
       "\t<tr><th></th><th scope=col>(Intercept)</th><th scope=col>dibpatType A</th><th scope=col>age_bins(42,45]</th><th scope=col>⋯</th><th scope=col>chol_bins(197,223]</th><th scope=col>chol_bins(223,253]</th><th scope=col>chol_bins(253,645]</th></tr>\n",
       "</thead>\n",
       "<tbody>\n",
       "\t<tr><th scope=row>46844</th><td>1</td><td>0</td><td>0</td><td>⋯</td><td>1</td><td>0</td><td>0</td></tr>\n",
       "\t<tr><th scope=row>36954</th><td>1</td><td>0</td><td>0</td><td>⋯</td><td>0</td><td>0</td><td>0</td></tr>\n",
       "\t<tr><th scope=row>47173</th><td>1</td><td>0</td><td>1</td><td>⋯</td><td>0</td><td>0</td><td>0</td></tr>\n",
       "\t<tr><th scope=row>44779</th><td>1</td><td>0</td><td>0</td><td>⋯</td><td>1</td><td>0</td><td>0</td></tr>\n",
       "\t<tr><th scope=row>⋮</th><td>⋮</td><td>⋮</td><td>⋮</td><td>⋱</td><td>⋮</td><td>⋮</td><td>⋮</td></tr>\n",
       "\t<tr><th scope=row>13998</th><td>1</td><td>1</td><td>1</td><td>⋯</td><td>0</td><td>0</td><td>0</td></tr>\n",
       "\t<tr><th scope=row>43487</th><td>1</td><td>0</td><td>0</td><td>⋯</td><td>0</td><td>0</td><td>0</td></tr>\n",
       "\t<tr><th scope=row>14393</th><td>1</td><td>1</td><td>1</td><td>⋯</td><td>0</td><td>0</td><td>0</td></tr>\n",
       "\t<tr><th scope=row>45693</th><td>1</td><td>0</td><td>0</td><td>⋯</td><td>0</td><td>0</td><td>0</td></tr>\n",
       "</tbody>\n",
       "</table>\n"
      ],
      "text/latex": [
       "A matrix: 62020 × 12 of type dbl\n",
       "\\begin{tabular}{r|lllllll}\n",
       "  & (Intercept) & dibpatType A & age\\_bins(42,45{]} & ⋯ & chol\\_bins(197,223{]} & chol\\_bins(223,253{]} & chol\\_bins(253,645{]}\\\\\n",
       "\\hline\n",
       "\t46844 & 1 & 0 & 0 & ⋯ & 1 & 0 & 0\\\\\n",
       "\t36954 & 1 & 0 & 0 & ⋯ & 0 & 0 & 0\\\\\n",
       "\t47173 & 1 & 0 & 1 & ⋯ & 0 & 0 & 0\\\\\n",
       "\t44779 & 1 & 0 & 0 & ⋯ & 1 & 0 & 0\\\\\n",
       "\t⋮ & ⋮ & ⋮ & ⋮ & ⋱ & ⋮ & ⋮ & ⋮\\\\\n",
       "\t13998 & 1 & 1 & 1 & ⋯ & 0 & 0 & 0\\\\\n",
       "\t43487 & 1 & 0 & 0 & ⋯ & 0 & 0 & 0\\\\\n",
       "\t14393 & 1 & 1 & 1 & ⋯ & 0 & 0 & 0\\\\\n",
       "\t45693 & 1 & 0 & 0 & ⋯ & 0 & 0 & 0\\\\\n",
       "\\end{tabular}\n"
      ],
      "text/markdown": [
       "\n",
       "A matrix: 62020 × 12 of type dbl\n",
       "\n",
       "| <!--/--> | (Intercept) | dibpatType A | age_bins(42,45] | ⋯ | chol_bins(197,223] | chol_bins(223,253] | chol_bins(253,645] |\n",
       "|---|---|---|---|---|---|---|---|\n",
       "| 46844 | 1 | 0 | 0 | ⋯ | 1 | 0 | 0 |\n",
       "| 36954 | 1 | 0 | 0 | ⋯ | 0 | 0 | 0 |\n",
       "| 47173 | 1 | 0 | 1 | ⋯ | 0 | 0 | 0 |\n",
       "| 44779 | 1 | 0 | 0 | ⋯ | 1 | 0 | 0 |\n",
       "| ⋮ | ⋮ | ⋮ | ⋮ | ⋱ | ⋮ | ⋮ | ⋮ |\n",
       "| 13998 | 1 | 1 | 1 | ⋯ | 0 | 0 | 0 |\n",
       "| 43487 | 1 | 0 | 0 | ⋯ | 0 | 0 | 0 |\n",
       "| 14393 | 1 | 1 | 1 | ⋯ | 0 | 0 | 0 |\n",
       "| 45693 | 1 | 0 | 0 | ⋯ | 0 | 0 | 0 |\n",
       "\n"
      ],
      "text/plain": [
       "      (Intercept) dibpatType A age_bins(42,45] ⋯ chol_bins(197,223]\n",
       "46844 1           0            0               ⋯ 1                 \n",
       "36954 1           0            0               ⋯ 0                 \n",
       "47173 1           0            1               ⋯ 0                 \n",
       "44779 1           0            0               ⋯ 1                 \n",
       "⋮     ⋮           ⋮            ⋮               ⋱ ⋮                 \n",
       "13998 1           1            1               ⋯ 0                 \n",
       "43487 1           0            0               ⋯ 0                 \n",
       "14393 1           1            1               ⋯ 0                 \n",
       "45693 1           0            0               ⋯ 0                 \n",
       "      chol_bins(223,253] chol_bins(253,645]\n",
       "46844 0                  0                 \n",
       "36954 0                  0                 \n",
       "47173 0                  0                 \n",
       "44779 0                  0                 \n",
       "⋮     ⋮                  ⋮                 \n",
       "13998 0                  0                 \n",
       "43487 0                  0                 \n",
       "14393 0                  0                 \n",
       "45693 0                  0                 "
      ]
     },
     "metadata": {},
     "output_type": "display_data"
    }
   ],
   "source": [
    "options(repr.matrix.max.rows = 8, repr.matrix.max.cols = 6)\n",
    "\n",
    "model_matrix_sim_pop <- model.matrix(~ dibpat + age_bins + smoke + bmi_bins + chol_bins, data = sim_pop)\n",
    "model_matrix_sim_pop"
   ]
  },
  {
   "cell_type": "markdown",
   "id": "77409acc",
   "metadata": {
    "slideshow": {
     "slide_type": "slide"
    }
   },
   "source": [
    "- To obtain the **proxy ground truth** of $Y$ (`chd69`) for each subject in `sim_pop`, we do the following:\n",
    "\n",
    "    - Obtain their corresponding predicted probabilities using the estimated regression coefficients stored in `wcgs_coef_pop` and the `model_matrix_sim_pop` (their multiplication will be the argument `logit` in function `pred_prob()`). \n",
    "    - Then, these estimated probabilities will be the argument `prob` in the random number generator `rbinom()`. We use `rbinom()` (with `size = 1`) **to add random noise to a Bernoulli trial** (i.e., each binary response $Y$ by subject in `sim_pop`)."
   ]
  },
  {
   "cell_type": "code",
   "execution_count": 10,
   "id": "da5d6feb",
   "metadata": {
    "slideshow": {
     "slide_type": "fragment"
    }
   },
   "outputs": [
    {
     "data": {
      "text/html": [
       "<table class=\"dataframe\">\n",
       "<caption>A data.frame: 62020 × 6</caption>\n",
       "<thead>\n",
       "\t<tr><th></th><th scope=col>dibpat</th><th scope=col>age_bins</th><th scope=col>smoke</th><th scope=col>bmi_bins</th><th scope=col>chol_bins</th><th scope=col>chd69</th></tr>\n",
       "\t<tr><th></th><th scope=col>&lt;fct&gt;</th><th scope=col>&lt;fct&gt;</th><th scope=col>&lt;fct&gt;</th><th scope=col>&lt;fct&gt;</th><th scope=col>&lt;fct&gt;</th><th scope=col>&lt;fct&gt;</th></tr>\n",
       "</thead>\n",
       "<tbody>\n",
       "\t<tr><th scope=row>46844</th><td>Type B</td><td>[39,42]</td><td>No</td><td>(24.4,25.8]</td><td>(197,223]</td><td>0</td></tr>\n",
       "\t<tr><th scope=row>36954</th><td>Type B</td><td>(50,59]</td><td>No</td><td>(25.8,38.9]</td><td>[103,197]</td><td>0</td></tr>\n",
       "\t<tr><th scope=row>47173</th><td>Type B</td><td>(42,45]</td><td>No</td><td>(23,24.4]  </td><td>[103,197]</td><td>0</td></tr>\n",
       "\t<tr><th scope=row>44779</th><td>Type B</td><td>(50,59]</td><td>No</td><td>(23,24.4]  </td><td>(197,223]</td><td>0</td></tr>\n",
       "\t<tr><th scope=row>⋮</th><td>⋮</td><td>⋮</td><td>⋮</td><td>⋮</td><td>⋮</td><td>⋮</td></tr>\n",
       "\t<tr><th scope=row>13998</th><td>Type A</td><td>(42,45]</td><td>No </td><td>(25.8,38.9]</td><td>[103,197]</td><td>0</td></tr>\n",
       "\t<tr><th scope=row>43487</th><td>Type B</td><td>[39,42]</td><td>No </td><td>[11.2,23]  </td><td>[103,197]</td><td>0</td></tr>\n",
       "\t<tr><th scope=row>14393</th><td>Type A</td><td>(42,45]</td><td>Yes</td><td>(25.8,38.9]</td><td>[103,197]</td><td>0</td></tr>\n",
       "\t<tr><th scope=row>45693</th><td>Type B</td><td>(50,59]</td><td>Yes</td><td>(25.8,38.9]</td><td>[103,197]</td><td>0</td></tr>\n",
       "</tbody>\n",
       "</table>\n"
      ],
      "text/latex": [
       "A data.frame: 62020 × 6\n",
       "\\begin{tabular}{r|llllll}\n",
       "  & dibpat & age\\_bins & smoke & bmi\\_bins & chol\\_bins & chd69\\\\\n",
       "  & <fct> & <fct> & <fct> & <fct> & <fct> & <fct>\\\\\n",
       "\\hline\n",
       "\t46844 & Type B & {[}39,42{]} & No & (24.4,25.8{]} & (197,223{]} & 0\\\\\n",
       "\t36954 & Type B & (50,59{]} & No & (25.8,38.9{]} & {[}103,197{]} & 0\\\\\n",
       "\t47173 & Type B & (42,45{]} & No & (23,24.4{]}   & {[}103,197{]} & 0\\\\\n",
       "\t44779 & Type B & (50,59{]} & No & (23,24.4{]}   & (197,223{]} & 0\\\\\n",
       "\t⋮ & ⋮ & ⋮ & ⋮ & ⋮ & ⋮ & ⋮\\\\\n",
       "\t13998 & Type A & (42,45{]} & No  & (25.8,38.9{]} & {[}103,197{]} & 0\\\\\n",
       "\t43487 & Type B & {[}39,42{]} & No  & {[}11.2,23{]}   & {[}103,197{]} & 0\\\\\n",
       "\t14393 & Type A & (42,45{]} & Yes & (25.8,38.9{]} & {[}103,197{]} & 0\\\\\n",
       "\t45693 & Type B & (50,59{]} & Yes & (25.8,38.9{]} & {[}103,197{]} & 0\\\\\n",
       "\\end{tabular}\n"
      ],
      "text/markdown": [
       "\n",
       "A data.frame: 62020 × 6\n",
       "\n",
       "| <!--/--> | dibpat &lt;fct&gt; | age_bins &lt;fct&gt; | smoke &lt;fct&gt; | bmi_bins &lt;fct&gt; | chol_bins &lt;fct&gt; | chd69 &lt;fct&gt; |\n",
       "|---|---|---|---|---|---|---|\n",
       "| 46844 | Type B | [39,42] | No | (24.4,25.8] | (197,223] | 0 |\n",
       "| 36954 | Type B | (50,59] | No | (25.8,38.9] | [103,197] | 0 |\n",
       "| 47173 | Type B | (42,45] | No | (23,24.4]   | [103,197] | 0 |\n",
       "| 44779 | Type B | (50,59] | No | (23,24.4]   | (197,223] | 0 |\n",
       "| ⋮ | ⋮ | ⋮ | ⋮ | ⋮ | ⋮ | ⋮ |\n",
       "| 13998 | Type A | (42,45] | No  | (25.8,38.9] | [103,197] | 0 |\n",
       "| 43487 | Type B | [39,42] | No  | [11.2,23]   | [103,197] | 0 |\n",
       "| 14393 | Type A | (42,45] | Yes | (25.8,38.9] | [103,197] | 0 |\n",
       "| 45693 | Type B | (50,59] | Yes | (25.8,38.9] | [103,197] | 0 |\n",
       "\n"
      ],
      "text/plain": [
       "      dibpat age_bins smoke bmi_bins    chol_bins chd69\n",
       "46844 Type B [39,42]  No    (24.4,25.8] (197,223] 0    \n",
       "36954 Type B (50,59]  No    (25.8,38.9] [103,197] 0    \n",
       "47173 Type B (42,45]  No    (23,24.4]   [103,197] 0    \n",
       "44779 Type B (50,59]  No    (23,24.4]   (197,223] 0    \n",
       "⋮     ⋮      ⋮        ⋮     ⋮           ⋮         ⋮    \n",
       "13998 Type A (42,45]  No    (25.8,38.9] [103,197] 0    \n",
       "43487 Type B [39,42]  No    [11.2,23]   [103,197] 0    \n",
       "14393 Type A (42,45]  Yes   (25.8,38.9] [103,197] 0    \n",
       "45693 Type B (50,59]  Yes   (25.8,38.9] [103,197] 0    "
      ]
     },
     "metadata": {},
     "output_type": "display_data"
    }
   ],
   "source": [
    "set.seed(554) # Reproducibility\n",
    "sim_pop$chd69 <- rbinom(\n",
    "  n = nrow(sim_pop), size = 1, prob = pred_prob(logit = model_matrix_sim_pop %*% wcgs_coef_pop)\n",
    ")\n",
    "sim_pop <- sim_pop %>% mutate(chd69 = as.factor(chd69))\n",
    "sim_pop"
   ]
  },
  {
   "cell_type": "markdown",
   "id": "f0e2ef48",
   "metadata": {
    "slideshow": {
     "slide_type": "slide"
    }
   },
   "source": [
    "**What just happened here?**\n",
    "\n",
    "Our simulated population `sim_pop` has the responses `chd69` as a **proxy ground truth**, which were generated using the estimated regression coefficients from the Binary Logistic regression model trained with the actual sample data `wcgs`. We ended up with an artificial population of $N = 62,020$ subjects where $1,537 + 3,480 = 5,017$ subjects **experience (or will experience!)** a CHD event (`0` for `No` and `1` for `Yes`):"
   ]
  },
  {
   "cell_type": "code",
   "execution_count": 11,
   "id": "e06493b6",
   "metadata": {
    "slideshow": {
     "slide_type": "fragment"
    }
   },
   "outputs": [
    {
     "data": {
      "text/plain": [
       "        \n",
       "             0     1\n",
       "  Type B 29203  1537\n",
       "  Type A 27800  3480"
      ]
     },
     "metadata": {},
     "output_type": "display_data"
    }
   ],
   "source": [
    "table(sim_pop$dibpat, sim_pop$chd69)"
   ]
  },
  {
   "cell_type": "markdown",
   "id": "8b23ef84",
   "metadata": {
    "slideshow": {
     "slide_type": "slide"
    }
   },
   "source": [
    "## 3. Running Three Sampling Schemes Using the Proxy Ground Truth\n",
    "\n",
    "Previously, we built an artificial population `sim_pop` with a proxy ground truth in our response $Y$. It is now time to use this simulated population to compare three sampling schemes:\n",
    "\n",
    "- **Cross-sectional**.\n",
    "- **Case-control**.\n",
    "- **Cohort**.\n",
    "\n",
    "These three sampling schemes will imply **different temporalities**."
   ]
  },
  {
   "cell_type": "markdown",
   "id": "6b51fb2c",
   "metadata": {
    "slideshow": {
     "slide_type": "fragment"
    }
   },
   "source": [
    "```{admonition} Main Statistical Inquiry\n",
    "If we want to run a **new observational study**, in terms of our **proxy ground truth** stored in `sim_pop`, **what sampling scheme would be the most accurate and precise?**\n",
    "\n",
    "**For our sampling schemes comparisons, we will begin with a common sample size of $n = 1000$ participants.**\n",
    "```"
   ]
  },
  {
   "cell_type": "code",
   "execution_count": 12,
   "id": "01cc523c",
   "metadata": {
    "slideshow": {
     "slide_type": "fragment"
    }
   },
   "outputs": [],
   "source": [
    "n_sample <- 1000 # Sample size\n",
    "N_pop <- nrow(sim_pop) # Population size"
   ]
  },
  {
   "cell_type": "markdown",
   "id": "a454c2f5",
   "metadata": {
    "slideshow": {
     "slide_type": "slide"
    }
   },
   "source": [
    "### 3.1. Cross-Sectional Sampling Scheme\n",
    "\n",
    "Cross-sectional (CS) is a **contemporaneous scheme**. It will reach the population and grab a **simple random sample** of size $n$ (i.e., it will not consider any variable of interest when sampling). It is analogous to taking an instantaneous snapshot of all the study variables."
   ]
  },
  {
   "cell_type": "code",
   "execution_count": 13,
   "id": "ea7ccce6",
   "metadata": {
    "slideshow": {
     "slide_type": "fragment"
    }
   },
   "outputs": [
    {
     "data": {
      "text/html": [
       "<table class=\"dataframe\">\n",
       "<caption>A data.frame: 1000 × 6</caption>\n",
       "<thead>\n",
       "\t<tr><th></th><th scope=col>dibpat</th><th scope=col>age_bins</th><th scope=col>smoke</th><th scope=col>bmi_bins</th><th scope=col>chol_bins</th><th scope=col>chd69</th></tr>\n",
       "\t<tr><th></th><th scope=col>&lt;fct&gt;</th><th scope=col>&lt;fct&gt;</th><th scope=col>&lt;fct&gt;</th><th scope=col>&lt;fct&gt;</th><th scope=col>&lt;fct&gt;</th><th scope=col>&lt;fct&gt;</th></tr>\n",
       "</thead>\n",
       "<tbody>\n",
       "\t<tr><th scope=row>9820</th><td>Type A</td><td>[39,42]</td><td>No </td><td>(24.4,25.8]</td><td>(197,223]</td><td>0</td></tr>\n",
       "\t<tr><th scope=row>2158</th><td>Type A</td><td>[39,42]</td><td>Yes</td><td>(23,24.4]  </td><td>(197,223]</td><td>0</td></tr>\n",
       "\t<tr><th scope=row>15091</th><td>Type A</td><td>(45,50]</td><td>No </td><td>[11.2,23]  </td><td>[103,197]</td><td>0</td></tr>\n",
       "\t<tr><th scope=row>23570</th><td>Type A</td><td>(45,50]</td><td>Yes</td><td>(24.4,25.8]</td><td>[103,197]</td><td>0</td></tr>\n",
       "\t<tr><th scope=row>⋮</th><td>⋮</td><td>⋮</td><td>⋮</td><td>⋮</td><td>⋮</td><td>⋮</td></tr>\n",
       "\t<tr><th scope=row>45944</th><td>Type B</td><td>(45,50]</td><td>No </td><td>(24.4,25.8]</td><td>(253,645]</td><td>0</td></tr>\n",
       "\t<tr><th scope=row>11099</th><td>Type A</td><td>[39,42]</td><td>No </td><td>(25.8,38.9]</td><td>(253,645]</td><td>0</td></tr>\n",
       "\t<tr><th scope=row>25793</th><td>Type A</td><td>(45,50]</td><td>Yes</td><td>(24.4,25.8]</td><td>[103,197]</td><td>0</td></tr>\n",
       "\t<tr><th scope=row>654</th><td>Type A</td><td>(50,59]</td><td>No </td><td>(25.8,38.9]</td><td>(253,645]</td><td>1</td></tr>\n",
       "</tbody>\n",
       "</table>\n"
      ],
      "text/latex": [
       "A data.frame: 1000 × 6\n",
       "\\begin{tabular}{r|llllll}\n",
       "  & dibpat & age\\_bins & smoke & bmi\\_bins & chol\\_bins & chd69\\\\\n",
       "  & <fct> & <fct> & <fct> & <fct> & <fct> & <fct>\\\\\n",
       "\\hline\n",
       "\t9820 & Type A & {[}39,42{]} & No  & (24.4,25.8{]} & (197,223{]} & 0\\\\\n",
       "\t2158 & Type A & {[}39,42{]} & Yes & (23,24.4{]}   & (197,223{]} & 0\\\\\n",
       "\t15091 & Type A & (45,50{]} & No  & {[}11.2,23{]}   & {[}103,197{]} & 0\\\\\n",
       "\t23570 & Type A & (45,50{]} & Yes & (24.4,25.8{]} & {[}103,197{]} & 0\\\\\n",
       "\t⋮ & ⋮ & ⋮ & ⋮ & ⋮ & ⋮ & ⋮\\\\\n",
       "\t45944 & Type B & (45,50{]} & No  & (24.4,25.8{]} & (253,645{]} & 0\\\\\n",
       "\t11099 & Type A & {[}39,42{]} & No  & (25.8,38.9{]} & (253,645{]} & 0\\\\\n",
       "\t25793 & Type A & (45,50{]} & Yes & (24.4,25.8{]} & {[}103,197{]} & 0\\\\\n",
       "\t654 & Type A & (50,59{]} & No  & (25.8,38.9{]} & (253,645{]} & 1\\\\\n",
       "\\end{tabular}\n"
      ],
      "text/markdown": [
       "\n",
       "A data.frame: 1000 × 6\n",
       "\n",
       "| <!--/--> | dibpat &lt;fct&gt; | age_bins &lt;fct&gt; | smoke &lt;fct&gt; | bmi_bins &lt;fct&gt; | chol_bins &lt;fct&gt; | chd69 &lt;fct&gt; |\n",
       "|---|---|---|---|---|---|---|\n",
       "| 9820 | Type A | [39,42] | No  | (24.4,25.8] | (197,223] | 0 |\n",
       "| 2158 | Type A | [39,42] | Yes | (23,24.4]   | (197,223] | 0 |\n",
       "| 15091 | Type A | (45,50] | No  | [11.2,23]   | [103,197] | 0 |\n",
       "| 23570 | Type A | (45,50] | Yes | (24.4,25.8] | [103,197] | 0 |\n",
       "| ⋮ | ⋮ | ⋮ | ⋮ | ⋮ | ⋮ | ⋮ |\n",
       "| 45944 | Type B | (45,50] | No  | (24.4,25.8] | (253,645] | 0 |\n",
       "| 11099 | Type A | [39,42] | No  | (25.8,38.9] | (253,645] | 0 |\n",
       "| 25793 | Type A | (45,50] | Yes | (24.4,25.8] | [103,197] | 0 |\n",
       "| 654 | Type A | (50,59] | No  | (25.8,38.9] | (253,645] | 1 |\n",
       "\n"
      ],
      "text/plain": [
       "      dibpat age_bins smoke bmi_bins    chol_bins chd69\n",
       "9820  Type A [39,42]  No    (24.4,25.8] (197,223] 0    \n",
       "2158  Type A [39,42]  Yes   (23,24.4]   (197,223] 0    \n",
       "15091 Type A (45,50]  No    [11.2,23]   [103,197] 0    \n",
       "23570 Type A (45,50]  Yes   (24.4,25.8] [103,197] 0    \n",
       "⋮     ⋮      ⋮        ⋮     ⋮           ⋮         ⋮    \n",
       "45944 Type B (45,50]  No    (24.4,25.8] (253,645] 0    \n",
       "11099 Type A [39,42]  No    (25.8,38.9] (253,645] 0    \n",
       "25793 Type A (45,50]  Yes   (24.4,25.8] [103,197] 0    \n",
       "654   Type A (50,59]  No    (25.8,38.9] (253,645] 1    "
      ]
     },
     "metadata": {},
     "output_type": "display_data"
    }
   ],
   "source": [
    "set.seed(554) # Reproducibility\n",
    "\n",
    "CS_sampled_subjects <- sample(1:N_pop, size = n_sample, replace = FALSE) # Sampling subjects without replacement\n",
    "CS_sample <- sim_pop[CS_sampled_subjects, ] # Collecting data from artificial population\n",
    "CS_sample"
   ]
  },
  {
   "cell_type": "markdown",
   "id": "4a02535b",
   "metadata": {
    "slideshow": {
     "slide_type": "slide"
    }
   },
   "source": [
    "### 3.2. Case-Control Sampling Scheme\n",
    "\n",
    "Case-control (CC) is a **retrospective scheme**. It will sample a group of subjects with the study's response success ($Y = 1$) and a group without ($Y = 0$). Half of the overall sample will correspond to subjects with $Y = 1$ and the other half to $Y = 0$. The researcher will ask each subject: *have you ever been exposed to the condition $X$ **in the past** ($X = 0$ never and $X = 1$ ever)*.\n",
    "\n",
    "```{attention}\n",
    "In this scheme, the **case** group is $Y = 1$ and the **control** group is $Y = 0$.\n",
    "```"
   ]
  },
  {
   "cell_type": "code",
   "execution_count": 14,
   "id": "10c3f2d5",
   "metadata": {
    "slideshow": {
     "slide_type": "fragment"
    }
   },
   "outputs": [
    {
     "data": {
      "text/html": [
       "<table class=\"dataframe\">\n",
       "<caption>A data.frame: 1000 × 6</caption>\n",
       "<thead>\n",
       "\t<tr><th></th><th scope=col>dibpat</th><th scope=col>age_bins</th><th scope=col>smoke</th><th scope=col>bmi_bins</th><th scope=col>chol_bins</th><th scope=col>chd69</th></tr>\n",
       "\t<tr><th></th><th scope=col>&lt;fct&gt;</th><th scope=col>&lt;fct&gt;</th><th scope=col>&lt;fct&gt;</th><th scope=col>&lt;fct&gt;</th><th scope=col>&lt;fct&gt;</th><th scope=col>&lt;fct&gt;</th></tr>\n",
       "</thead>\n",
       "<tbody>\n",
       "\t<tr><th scope=row>37462</th><td>Type B</td><td>(50,59]</td><td>Yes</td><td>[11.2,23]  </td><td>(223,253]</td><td>0</td></tr>\n",
       "\t<tr><th scope=row>20335</th><td>Type A</td><td>(45,50]</td><td>Yes</td><td>(23,24.4]  </td><td>(197,223]</td><td>0</td></tr>\n",
       "\t<tr><th scope=row>47457</th><td>Type B</td><td>(42,45]</td><td>Yes</td><td>[11.2,23]  </td><td>[103,197]</td><td>0</td></tr>\n",
       "\t<tr><th scope=row>46667</th><td>Type B</td><td>(45,50]</td><td>No </td><td>(25.8,38.9]</td><td>(253,645]</td><td>0</td></tr>\n",
       "\t<tr><th scope=row>⋮</th><td>⋮</td><td>⋮</td><td>⋮</td><td>⋮</td><td>⋮</td><td>⋮</td></tr>\n",
       "\t<tr><th scope=row>8388</th><td>Type A</td><td>[39,42]</td><td>Yes</td><td>[11.2,23]  </td><td>(253,645]</td><td>1</td></tr>\n",
       "\t<tr><th scope=row>158</th><td>Type A</td><td>[39,42]</td><td>Yes</td><td>[11.2,23]  </td><td>(197,223]</td><td>1</td></tr>\n",
       "\t<tr><th scope=row>12072</th><td>Type A</td><td>[39,42]</td><td>Yes</td><td>(25.8,38.9]</td><td>(253,645]</td><td>1</td></tr>\n",
       "\t<tr><th scope=row>33496</th><td>Type B</td><td>(45,50]</td><td>No </td><td>(24.4,25.8]</td><td>(253,645]</td><td>1</td></tr>\n",
       "</tbody>\n",
       "</table>\n"
      ],
      "text/latex": [
       "A data.frame: 1000 × 6\n",
       "\\begin{tabular}{r|llllll}\n",
       "  & dibpat & age\\_bins & smoke & bmi\\_bins & chol\\_bins & chd69\\\\\n",
       "  & <fct> & <fct> & <fct> & <fct> & <fct> & <fct>\\\\\n",
       "\\hline\n",
       "\t37462 & Type B & (50,59{]} & Yes & {[}11.2,23{]}   & (223,253{]} & 0\\\\\n",
       "\t20335 & Type A & (45,50{]} & Yes & (23,24.4{]}   & (197,223{]} & 0\\\\\n",
       "\t47457 & Type B & (42,45{]} & Yes & {[}11.2,23{]}   & {[}103,197{]} & 0\\\\\n",
       "\t46667 & Type B & (45,50{]} & No  & (25.8,38.9{]} & (253,645{]} & 0\\\\\n",
       "\t⋮ & ⋮ & ⋮ & ⋮ & ⋮ & ⋮ & ⋮\\\\\n",
       "\t8388 & Type A & {[}39,42{]} & Yes & {[}11.2,23{]}   & (253,645{]} & 1\\\\\n",
       "\t158 & Type A & {[}39,42{]} & Yes & {[}11.2,23{]}   & (197,223{]} & 1\\\\\n",
       "\t12072 & Type A & {[}39,42{]} & Yes & (25.8,38.9{]} & (253,645{]} & 1\\\\\n",
       "\t33496 & Type B & (45,50{]} & No  & (24.4,25.8{]} & (253,645{]} & 1\\\\\n",
       "\\end{tabular}\n"
      ],
      "text/markdown": [
       "\n",
       "A data.frame: 1000 × 6\n",
       "\n",
       "| <!--/--> | dibpat &lt;fct&gt; | age_bins &lt;fct&gt; | smoke &lt;fct&gt; | bmi_bins &lt;fct&gt; | chol_bins &lt;fct&gt; | chd69 &lt;fct&gt; |\n",
       "|---|---|---|---|---|---|---|\n",
       "| 37462 | Type B | (50,59] | Yes | [11.2,23]   | (223,253] | 0 |\n",
       "| 20335 | Type A | (45,50] | Yes | (23,24.4]   | (197,223] | 0 |\n",
       "| 47457 | Type B | (42,45] | Yes | [11.2,23]   | [103,197] | 0 |\n",
       "| 46667 | Type B | (45,50] | No  | (25.8,38.9] | (253,645] | 0 |\n",
       "| ⋮ | ⋮ | ⋮ | ⋮ | ⋮ | ⋮ | ⋮ |\n",
       "| 8388 | Type A | [39,42] | Yes | [11.2,23]   | (253,645] | 1 |\n",
       "| 158 | Type A | [39,42] | Yes | [11.2,23]   | (197,223] | 1 |\n",
       "| 12072 | Type A | [39,42] | Yes | (25.8,38.9] | (253,645] | 1 |\n",
       "| 33496 | Type B | (45,50] | No  | (24.4,25.8] | (253,645] | 1 |\n",
       "\n"
      ],
      "text/plain": [
       "      dibpat age_bins smoke bmi_bins    chol_bins chd69\n",
       "37462 Type B (50,59]  Yes   [11.2,23]   (223,253] 0    \n",
       "20335 Type A (45,50]  Yes   (23,24.4]   (197,223] 0    \n",
       "47457 Type B (42,45]  Yes   [11.2,23]   [103,197] 0    \n",
       "46667 Type B (45,50]  No    (25.8,38.9] (253,645] 0    \n",
       "⋮     ⋮      ⋮        ⋮     ⋮           ⋮         ⋮    \n",
       "8388  Type A [39,42]  Yes   [11.2,23]   (253,645] 1    \n",
       "158   Type A [39,42]  Yes   [11.2,23]   (197,223] 1    \n",
       "12072 Type A [39,42]  Yes   (25.8,38.9] (253,645] 1    \n",
       "33496 Type B (45,50]  No    (24.4,25.8] (253,645] 1    "
      ]
     },
     "metadata": {},
     "output_type": "display_data"
    }
   ],
   "source": [
    "set.seed(554) # Reproducibility\n",
    "\n",
    "CC_sampled_subjects <- c(sample((1:N_pop)[sim_pop$chd69 == \"0\"], size = n_sample / 2, replace = FALSE), # Sampling subjects without replacement\n",
    "  sample((1:N_pop)[sim_pop$chd69 == \"1\"], size = n_sample / 2, replace = F)\n",
    ") \n",
    "CC_sample <- sim_pop[CC_sampled_subjects, ] # Collecting data from artificial population\n",
    "CC_sample"
   ]
  },
  {
   "cell_type": "markdown",
   "id": "33798e31",
   "metadata": {
    "slideshow": {
     "slide_type": "slide"
    }
   },
   "source": [
    "### 3.3. Cohort Sampling Scheme\n",
    "\n",
    "Cohort (CO) is a **prospective scheme**. **It will sample a group $n$ of subjects who show $Y = 0$ when the study begins**. Half of the overall sample will correspond to subjects **currently** without exposure (i.e., $X = 0$) and the half with exposure (i.e., $X = 1$). The researcher will keep in touch with each subject for a given amount of time. **At the end of the study, the researcher will check who ended with $Y = 0$ or $Y = 1$.**"
   ]
  },
  {
   "cell_type": "markdown",
   "id": "01559053",
   "metadata": {
    "slideshow": {
     "slide_type": "slide"
    }
   },
   "source": [
    "```{attention}\n",
    "In this sampling scheme, using our **proxy ground truth**, the column `chd69` in `CO_sampled_subjects` is assumed as the recorded outcome **at the end of the time frame**.\n",
    "```"
   ]
  },
  {
   "cell_type": "code",
   "execution_count": 15,
   "id": "425f45d8",
   "metadata": {
    "slideshow": {
     "slide_type": "fragment"
    }
   },
   "outputs": [
    {
     "data": {
      "text/html": [
       "<table class=\"dataframe\">\n",
       "<caption>A data.frame: 1000 × 6</caption>\n",
       "<thead>\n",
       "\t<tr><th></th><th scope=col>dibpat</th><th scope=col>age_bins</th><th scope=col>smoke</th><th scope=col>bmi_bins</th><th scope=col>chol_bins</th><th scope=col>chd69</th></tr>\n",
       "\t<tr><th></th><th scope=col>&lt;fct&gt;</th><th scope=col>&lt;fct&gt;</th><th scope=col>&lt;fct&gt;</th><th scope=col>&lt;fct&gt;</th><th scope=col>&lt;fct&gt;</th><th scope=col>&lt;fct&gt;</th></tr>\n",
       "</thead>\n",
       "<tbody>\n",
       "\t<tr><th scope=row>59228</th><td>Type B</td><td>(45,50]</td><td>Yes</td><td>[11.2,23]  </td><td>(197,223]</td><td>0</td></tr>\n",
       "\t<tr><th scope=row>56210</th><td>Type B</td><td>[39,42]</td><td>No </td><td>(23,24.4]  </td><td>[103,197]</td><td>0</td></tr>\n",
       "\t<tr><th scope=row>61571</th><td>Type B</td><td>(45,50]</td><td>No </td><td>(23,24.4]  </td><td>(197,223]</td><td>0</td></tr>\n",
       "\t<tr><th scope=row>46283</th><td>Type B</td><td>[39,42]</td><td>No </td><td>(24.4,25.8]</td><td>(223,253]</td><td>0</td></tr>\n",
       "\t<tr><th scope=row>⋮</th><td>⋮</td><td>⋮</td><td>⋮</td><td>⋮</td><td>⋮</td><td>⋮</td></tr>\n",
       "\t<tr><th scope=row>20196</th><td>Type A</td><td>(50,59]</td><td>No </td><td>(24.4,25.8]</td><td>(197,223]</td><td>0</td></tr>\n",
       "\t<tr><th scope=row>30019</th><td>Type A</td><td>(50,59]</td><td>Yes</td><td>(23,24.4]  </td><td>[103,197]</td><td>0</td></tr>\n",
       "\t<tr><th scope=row>20563</th><td>Type A</td><td>(42,45]</td><td>No </td><td>(24.4,25.8]</td><td>(197,223]</td><td>0</td></tr>\n",
       "\t<tr><th scope=row>1146</th><td>Type A</td><td>(42,45]</td><td>No </td><td>[11.2,23]  </td><td>(197,223]</td><td>0</td></tr>\n",
       "</tbody>\n",
       "</table>\n"
      ],
      "text/latex": [
       "A data.frame: 1000 × 6\n",
       "\\begin{tabular}{r|llllll}\n",
       "  & dibpat & age\\_bins & smoke & bmi\\_bins & chol\\_bins & chd69\\\\\n",
       "  & <fct> & <fct> & <fct> & <fct> & <fct> & <fct>\\\\\n",
       "\\hline\n",
       "\t59228 & Type B & (45,50{]} & Yes & {[}11.2,23{]}   & (197,223{]} & 0\\\\\n",
       "\t56210 & Type B & {[}39,42{]} & No  & (23,24.4{]}   & {[}103,197{]} & 0\\\\\n",
       "\t61571 & Type B & (45,50{]} & No  & (23,24.4{]}   & (197,223{]} & 0\\\\\n",
       "\t46283 & Type B & {[}39,42{]} & No  & (24.4,25.8{]} & (223,253{]} & 0\\\\\n",
       "\t⋮ & ⋮ & ⋮ & ⋮ & ⋮ & ⋮ & ⋮\\\\\n",
       "\t20196 & Type A & (50,59{]} & No  & (24.4,25.8{]} & (197,223{]} & 0\\\\\n",
       "\t30019 & Type A & (50,59{]} & Yes & (23,24.4{]}   & {[}103,197{]} & 0\\\\\n",
       "\t20563 & Type A & (42,45{]} & No  & (24.4,25.8{]} & (197,223{]} & 0\\\\\n",
       "\t1146 & Type A & (42,45{]} & No  & {[}11.2,23{]}   & (197,223{]} & 0\\\\\n",
       "\\end{tabular}\n"
      ],
      "text/markdown": [
       "\n",
       "A data.frame: 1000 × 6\n",
       "\n",
       "| <!--/--> | dibpat &lt;fct&gt; | age_bins &lt;fct&gt; | smoke &lt;fct&gt; | bmi_bins &lt;fct&gt; | chol_bins &lt;fct&gt; | chd69 &lt;fct&gt; |\n",
       "|---|---|---|---|---|---|---|\n",
       "| 59228 | Type B | (45,50] | Yes | [11.2,23]   | (197,223] | 0 |\n",
       "| 56210 | Type B | [39,42] | No  | (23,24.4]   | [103,197] | 0 |\n",
       "| 61571 | Type B | (45,50] | No  | (23,24.4]   | (197,223] | 0 |\n",
       "| 46283 | Type B | [39,42] | No  | (24.4,25.8] | (223,253] | 0 |\n",
       "| ⋮ | ⋮ | ⋮ | ⋮ | ⋮ | ⋮ | ⋮ |\n",
       "| 20196 | Type A | (50,59] | No  | (24.4,25.8] | (197,223] | 0 |\n",
       "| 30019 | Type A | (50,59] | Yes | (23,24.4]   | [103,197] | 0 |\n",
       "| 20563 | Type A | (42,45] | No  | (24.4,25.8] | (197,223] | 0 |\n",
       "| 1146 | Type A | (42,45] | No  | [11.2,23]   | (197,223] | 0 |\n",
       "\n"
      ],
      "text/plain": [
       "      dibpat age_bins smoke bmi_bins    chol_bins chd69\n",
       "59228 Type B (45,50]  Yes   [11.2,23]   (197,223] 0    \n",
       "56210 Type B [39,42]  No    (23,24.4]   [103,197] 0    \n",
       "61571 Type B (45,50]  No    (23,24.4]   (197,223] 0    \n",
       "46283 Type B [39,42]  No    (24.4,25.8] (223,253] 0    \n",
       "⋮     ⋮      ⋮        ⋮     ⋮           ⋮         ⋮    \n",
       "20196 Type A (50,59]  No    (24.4,25.8] (197,223] 0    \n",
       "30019 Type A (50,59]  Yes   (23,24.4]   [103,197] 0    \n",
       "20563 Type A (42,45]  No    (24.4,25.8] (197,223] 0    \n",
       "1146  Type A (42,45]  No    [11.2,23]   (197,223] 0    "
      ]
     },
     "metadata": {},
     "output_type": "display_data"
    }
   ],
   "source": [
    "set.seed(554) # Reproducibility\n",
    "\n",
    "CO_sampled_subjects <- c(\n",
    "  sample((1:N_pop)[sim_pop$dibpat == \"Type B\"],\n",
    "    size = n_sample / 2, replace = FALSE\n",
    "  ),\n",
    "  sample((1:N_pop)[sim_pop$dibpat == \"Type A\"],\n",
    "    size = n_sample / 2, replace = FALSE\n",
    "  )\n",
    ")\n",
    "CO_sample <- sim_pop[CO_sampled_subjects, ]\n",
    "CO_sample"
   ]
  },
  {
   "cell_type": "markdown",
   "id": "33d1b0c5",
   "metadata": {
    "slideshow": {
     "slide_type": "slide"
    }
   },
   "source": [
    "### 3.4. When to Use What?\n",
    "\n",
    "This is an important question regarding CS, CC, and CO studies. In general, these are the guidelines:"
   ]
  },
  {
   "cell_type": "markdown",
   "id": "be906f57",
   "metadata": {
    "slideshow": {
     "slide_type": "fragment"
    }
   },
   "source": [
    "- CS studies are ideal in **early research stages**. This is because they are **faster to run** and offer **good preliminary insights** of causality between $X$ and $Y$, before conducting more complex **longitudinal studies** such as CO studies (i.e., studies that require following up patients over time)."
   ]
  },
  {
   "cell_type": "markdown",
   "id": "0045b9a4",
   "metadata": {
    "slideshow": {
     "slide_type": "slide"
    }
   },
   "source": [
    "- CC is ideal in situations where the outcome $Y = 1$ is **rare** in the population of interest; i.e., **we will not eventually have too many cases $Y = 1$** if we follow up the patients over time as in a CO. Hence, we recruit a considerable number of patients with $Y = 1$ for our CC study."
   ]
  },
  {
   "cell_type": "markdown",
   "id": "452388d7",
   "metadata": {
    "slideshow": {
     "slide_type": "slide"
    }
   },
   "source": [
    "- Compared to CC, CO studies are ideal in cases where the exposure $X = 1$ is **rare** in the population of interest; i.e,  **we will not have too many cases $X = 1$** if we implement a CC study by just recruiting as many patients as possible with $Y = 1$. Thus, for CO, we recruit a considerable number of patients with $X = 1$ at the beginning of the study and follow up their outcome status $Y$ over time."
   ]
  },
  {
   "cell_type": "markdown",
   "id": "b249fbf3",
   "metadata": {
    "slideshow": {
     "slide_type": "slide"
    }
   },
   "source": [
    "## 4. Sampling Scheme Assessment\n",
    "\n",
    "Recall that the estimated regression coefficients we used to obtain our **proxy ground truth** were the ones below. These coefficients were obtained using the real data stored in `wcgs`."
   ]
  },
  {
   "cell_type": "code",
   "execution_count": 16,
   "id": "82a6a6ef",
   "metadata": {
    "slideshow": {
     "slide_type": "fragment"
    }
   },
   "outputs": [
    {
     "data": {
      "text/html": [
       "<style>\n",
       ".dl-inline {width: auto; margin:0; padding: 0}\n",
       ".dl-inline>dt, .dl-inline>dd {float: none; width: auto; display: inline-block}\n",
       ".dl-inline>dt::after {content: \":\\0020\"; padding-right: .5ex}\n",
       ".dl-inline>dt:not(:first-of-type) {padding-left: .5ex}\n",
       "</style><dl class=dl-inline><dt>(Intercept)</dt><dd>-4.83</dd><dt>dibpatType A</dt><dd>0.72</dd><dt>age_bins(42,45]</dt><dd>0.16</dd><dt>age_bins(45,50]</dt><dd>0.63</dd><dt>age_bins(50,59]</dt><dd>0.94</dd><dt>smokeYes</dt><dd>0.64</dd><dt>bmi_bins(23,24.4]</dt><dd>0.33</dd><dt>bmi_bins(24.4,25.8]</dt><dd>0.48</dd><dt>bmi_bins(25.8,38.9]</dt><dd>0.68</dd><dt>chol_bins(197,223]</dt><dd>0.35</dd><dt>chol_bins(223,253]</dt><dd>0.88</dd><dt>chol_bins(253,645]</dt><dd>1.29</dd></dl>\n"
      ],
      "text/latex": [
       "\\begin{description*}\n",
       "\\item[(Intercept)] -4.83\n",
       "\\item[dibpatType A] 0.72\n",
       "\\item[age\\textbackslash{}\\_bins(42,45\\{{]}\\}] 0.16\n",
       "\\item[age\\textbackslash{}\\_bins(45,50\\{{]}\\}] 0.63\n",
       "\\item[age\\textbackslash{}\\_bins(50,59\\{{]}\\}] 0.94\n",
       "\\item[smokeYes] 0.64\n",
       "\\item[bmi\\textbackslash{}\\_bins(23,24.4\\{{]}\\}] 0.33\n",
       "\\item[bmi\\textbackslash{}\\_bins(24.4,25.8\\{{]}\\}] 0.48\n",
       "\\item[bmi\\textbackslash{}\\_bins(25.8,38.9\\{{]}\\}] 0.68\n",
       "\\item[chol\\textbackslash{}\\_bins(197,223\\{{]}\\}] 0.35\n",
       "\\item[chol\\textbackslash{}\\_bins(223,253\\{{]}\\}] 0.88\n",
       "\\item[chol\\textbackslash{}\\_bins(253,645\\{{]}\\}] 1.29\n",
       "\\end{description*}\n"
      ],
      "text/markdown": [
       "(Intercept)\n",
       ":   -4.83dibpatType A\n",
       ":   0.72age_bins(42,45]\n",
       ":   0.16age_bins(45,50]\n",
       ":   0.63age_bins(50,59]\n",
       ":   0.94smokeYes\n",
       ":   0.64bmi_bins(23,24.4]\n",
       ":   0.33bmi_bins(24.4,25.8]\n",
       ":   0.48bmi_bins(25.8,38.9]\n",
       ":   0.68chol_bins(197,223]\n",
       ":   0.35chol_bins(223,253]\n",
       ":   0.88chol_bins(253,645]\n",
       ":   1.29\n",
       "\n"
      ],
      "text/plain": [
       "        (Intercept)        dibpatType A     age_bins(42,45]     age_bins(45,50] \n",
       "              -4.83                0.72                0.16                0.63 \n",
       "    age_bins(50,59]            smokeYes   bmi_bins(23,24.4] bmi_bins(24.4,25.8] \n",
       "               0.94                0.64                0.33                0.48 \n",
       "bmi_bins(25.8,38.9]  chol_bins(197,223]  chol_bins(223,253]  chol_bins(253,645] \n",
       "               0.68                0.35                0.88                1.29 "
      ]
     },
     "metadata": {},
     "output_type": "display_data"
    }
   ],
   "source": [
    "round(wcgs_coef_pop, 2)"
   ]
  },
  {
   "cell_type": "markdown",
   "id": "a25f131f",
   "metadata": {
    "slideshow": {
     "slide_type": "fragment"
    }
   },
   "source": [
    "**Note that the log of the odds ratio (log-OR) for the variable `dipat` is $0.72$**. We used this estimated log-OR to build the outcomes in our **proxy ground truth** (i.e., `chd69` in `sim_pop`). Hence, we can evaluate how accurate the estimations are via `CS_sample`, `CC_sample`, and  `CO_sample`."
   ]
  },
  {
   "cell_type": "markdown",
   "id": "b0917719",
   "metadata": {
    "slideshow": {
     "slide_type": "slide"
    }
   },
   "source": [
    "### 4.1 Fitting the Models Using the Three Sampling Schemes\n",
    "\n",
    "We now proceed to fit the corresponding regression models with our three different sampling schemes. The summaries are also shown for our target $X$ (i.e., `dibpat`) along with their 95% confidence intervals (CIs)."
   ]
  },
  {
   "cell_type": "code",
   "execution_count": 17,
   "id": "66a69ca8",
   "metadata": {
    "slideshow": {
     "slide_type": "fragment"
    }
   },
   "outputs": [
    {
     "data": {
      "text/html": [
       "<table class=\"dataframe\">\n",
       "<caption>A tibble: 1 × 7</caption>\n",
       "<thead>\n",
       "\t<tr><th scope=col>term</th><th scope=col>estimate</th><th scope=col>std.error</th><th scope=col>⋯</th><th scope=col>p.value</th><th scope=col>conf.low</th><th scope=col>conf.high</th></tr>\n",
       "\t<tr><th scope=col>&lt;chr&gt;</th><th scope=col>&lt;dbl&gt;</th><th scope=col>&lt;dbl&gt;</th><th scope=col>⋯</th><th scope=col>&lt;dbl&gt;</th><th scope=col>&lt;dbl&gt;</th><th scope=col>&lt;dbl&gt;</th></tr>\n",
       "</thead>\n",
       "<tbody>\n",
       "\t<tr><td>dibpatType A</td><td>0.834</td><td>0.249</td><td>⋯</td><td>0.001</td><td>0.357</td><td>1.336</td></tr>\n",
       "</tbody>\n",
       "</table>\n"
      ],
      "text/latex": [
       "A tibble: 1 × 7\n",
       "\\begin{tabular}{lllllll}\n",
       " term & estimate & std.error & ⋯ & p.value & conf.low & conf.high\\\\\n",
       " <chr> & <dbl> & <dbl> & ⋯ & <dbl> & <dbl> & <dbl>\\\\\n",
       "\\hline\n",
       "\t dibpatType A & 0.834 & 0.249 & ⋯ & 0.001 & 0.357 & 1.336\\\\\n",
       "\\end{tabular}\n"
      ],
      "text/markdown": [
       "\n",
       "A tibble: 1 × 7\n",
       "\n",
       "| term &lt;chr&gt; | estimate &lt;dbl&gt; | std.error &lt;dbl&gt; | ⋯ ⋯ | p.value &lt;dbl&gt; | conf.low &lt;dbl&gt; | conf.high &lt;dbl&gt; |\n",
       "|---|---|---|---|---|---|---|\n",
       "| dibpatType A | 0.834 | 0.249 | ⋯ | 0.001 | 0.357 | 1.336 |\n",
       "\n"
      ],
      "text/plain": [
       "  term         estimate std.error ⋯ p.value conf.low conf.high\n",
       "1 dibpatType A 0.834    0.249     ⋯ 0.001   0.357    1.336    "
      ]
     },
     "metadata": {},
     "output_type": "display_data"
    }
   ],
   "source": [
    "CS_bin_log_model <- glm(chd69 ~ dibpat + age_bins + smoke + bmi_bins + chol_bins,\n",
    "                       family = \"binomial\", data = CS_sample\n",
    ")\n",
    "summary_CS <- tidy(CS_bin_log_model, conf.int = TRUE) %>% mutate_if(is.numeric, round, 3)\n",
    "summary_CS[2, ]"
   ]
  },
  {
   "cell_type": "code",
   "execution_count": 18,
   "id": "2ead4447",
   "metadata": {
    "slideshow": {
     "slide_type": "fragment"
    }
   },
   "outputs": [
    {
     "data": {
      "text/html": [
       "<table class=\"dataframe\">\n",
       "<caption>A tibble: 1 × 7</caption>\n",
       "<thead>\n",
       "\t<tr><th scope=col>term</th><th scope=col>estimate</th><th scope=col>std.error</th><th scope=col>⋯</th><th scope=col>p.value</th><th scope=col>conf.low</th><th scope=col>conf.high</th></tr>\n",
       "\t<tr><th scope=col>&lt;chr&gt;</th><th scope=col>&lt;dbl&gt;</th><th scope=col>&lt;dbl&gt;</th><th scope=col>⋯</th><th scope=col>&lt;dbl&gt;</th><th scope=col>&lt;dbl&gt;</th><th scope=col>&lt;dbl&gt;</th></tr>\n",
       "</thead>\n",
       "<tbody>\n",
       "\t<tr><td>dibpatType A</td><td>0.942</td><td>0.141</td><td>⋯</td><td>0</td><td>0.667</td><td>1.22</td></tr>\n",
       "</tbody>\n",
       "</table>\n"
      ],
      "text/latex": [
       "A tibble: 1 × 7\n",
       "\\begin{tabular}{lllllll}\n",
       " term & estimate & std.error & ⋯ & p.value & conf.low & conf.high\\\\\n",
       " <chr> & <dbl> & <dbl> & ⋯ & <dbl> & <dbl> & <dbl>\\\\\n",
       "\\hline\n",
       "\t dibpatType A & 0.942 & 0.141 & ⋯ & 0 & 0.667 & 1.22\\\\\n",
       "\\end{tabular}\n"
      ],
      "text/markdown": [
       "\n",
       "A tibble: 1 × 7\n",
       "\n",
       "| term &lt;chr&gt; | estimate &lt;dbl&gt; | std.error &lt;dbl&gt; | ⋯ ⋯ | p.value &lt;dbl&gt; | conf.low &lt;dbl&gt; | conf.high &lt;dbl&gt; |\n",
       "|---|---|---|---|---|---|---|\n",
       "| dibpatType A | 0.942 | 0.141 | ⋯ | 0 | 0.667 | 1.22 |\n",
       "\n"
      ],
      "text/plain": [
       "  term         estimate std.error ⋯ p.value conf.low conf.high\n",
       "1 dibpatType A 0.942    0.141     ⋯ 0       0.667    1.22     "
      ]
     },
     "metadata": {},
     "output_type": "display_data"
    }
   ],
   "source": [
    "CC_bin_log_model <- glm(chd69 ~ dibpat + age_bins + smoke + bmi_bins + chol_bins,\n",
    "                       family = \"binomial\", data = CC_sample\n",
    ")\n",
    "summary_CC <- tidy(CC_bin_log_model, conf.int = TRUE) %>% mutate_if(is.numeric, round, 3)\n",
    "summary_CC[2, ]"
   ]
  },
  {
   "cell_type": "code",
   "execution_count": 19,
   "id": "f8cb7cf4",
   "metadata": {
    "slideshow": {
     "slide_type": "slide"
    }
   },
   "outputs": [
    {
     "data": {
      "text/html": [
       "<table class=\"dataframe\">\n",
       "<caption>A tibble: 1 × 7</caption>\n",
       "<thead>\n",
       "\t<tr><th scope=col>term</th><th scope=col>estimate</th><th scope=col>std.error</th><th scope=col>⋯</th><th scope=col>p.value</th><th scope=col>conf.low</th><th scope=col>conf.high</th></tr>\n",
       "\t<tr><th scope=col>&lt;chr&gt;</th><th scope=col>&lt;dbl&gt;</th><th scope=col>&lt;dbl&gt;</th><th scope=col>⋯</th><th scope=col>&lt;dbl&gt;</th><th scope=col>&lt;dbl&gt;</th><th scope=col>&lt;dbl&gt;</th></tr>\n",
       "</thead>\n",
       "<tbody>\n",
       "\t<tr><td>dibpatType A</td><td>0.262</td><td>0.246</td><td>⋯</td><td>0.287</td><td>-0.217</td><td>0.751</td></tr>\n",
       "</tbody>\n",
       "</table>\n"
      ],
      "text/latex": [
       "A tibble: 1 × 7\n",
       "\\begin{tabular}{lllllll}\n",
       " term & estimate & std.error & ⋯ & p.value & conf.low & conf.high\\\\\n",
       " <chr> & <dbl> & <dbl> & ⋯ & <dbl> & <dbl> & <dbl>\\\\\n",
       "\\hline\n",
       "\t dibpatType A & 0.262 & 0.246 & ⋯ & 0.287 & -0.217 & 0.751\\\\\n",
       "\\end{tabular}\n"
      ],
      "text/markdown": [
       "\n",
       "A tibble: 1 × 7\n",
       "\n",
       "| term &lt;chr&gt; | estimate &lt;dbl&gt; | std.error &lt;dbl&gt; | ⋯ ⋯ | p.value &lt;dbl&gt; | conf.low &lt;dbl&gt; | conf.high &lt;dbl&gt; |\n",
       "|---|---|---|---|---|---|---|\n",
       "| dibpatType A | 0.262 | 0.246 | ⋯ | 0.287 | -0.217 | 0.751 |\n",
       "\n"
      ],
      "text/plain": [
       "  term         estimate std.error ⋯ p.value conf.low conf.high\n",
       "1 dibpatType A 0.262    0.246     ⋯ 0.287   -0.217   0.751    "
      ]
     },
     "metadata": {},
     "output_type": "display_data"
    }
   ],
   "source": [
    "CO_bin_log_model <- glm(chd69 ~ dibpat + age_bins + smoke + bmi_bins + chol_bins,\n",
    "                       family = \"binomial\", data = CO_sample\n",
    ")\n",
    "summary_CO <- tidy(CO_bin_log_model, conf.int = TRUE) %>% mutate_if(is.numeric, round, 3)\n",
    "summary_CO[2, ]"
   ]
  },
  {
   "cell_type": "markdown",
   "id": "58acf314",
   "metadata": {
    "slideshow": {
     "slide_type": "fragment"
    }
   },
   "source": [
    "**Using these SINGLE replicates by sampling scheme**, in terms of our main statistical inquiry, we highlight the following:\n",
    "\n",
    "- Both CS and CC schemes provide significant and accurate estimates of $X$ (compared to the value used to obtain our **proxy ground truth**, $0.72$). Nonetheless, CC shows a more precise estimate (i.e., a narrower 95% CI).\n",
    "- On the other hand, CO does not even provide a significant estimate!\n",
    "\n",
    "Nevertheless, recall these are just three replicates! We need to run a more comprehensive **simulation study** (as we did in previous lectures)."
   ]
  },
  {
   "cell_type": "markdown",
   "id": "c3a2943f",
   "metadata": {
    "slideshow": {
     "slide_type": "slide"
    }
   },
   "source": [
    "### 4.2 Running Simulation Studies Using the Three Sampling Schemes\n",
    "\n",
    "The previous results are merely single replicates of any given simulation study for each sampling scheme. Hence, let us build a function to run these studies automatically. The function `sim_study()` draws the corresponding samples by scheme. Then, it runs the corresponding regression models. It needs the following arguments:\n",
    "\n",
    "- `pop_data`: The population data from which we will draw the sample.\n",
    "- `n`: The sample size by scheme.\n",
    "- `alpha`: Significance level $\\alpha$.\n",
    "- `log_OR`: The \"true\" log-OR each scheme is willing to estimate.\n",
    "- `num_replicates`: The number of replicates by scheme."
   ]
  },
  {
   "cell_type": "code",
   "execution_count": 20,
   "id": "82f964ee",
   "metadata": {
    "slideshow": {
     "slide_type": "skip"
    }
   },
   "outputs": [],
   "source": [
    "sim_study <- function(pop_data, n, alpha, log_OR, num_replicates) {\n",
    "  res <- list(NULL) # Setting up matrix with metrics\n",
    "  res[[1]] <- res[[2]] <- res[[3]] <- matrix(NA, num_replicates, 3)\n",
    "\n",
    "  suppressMessages(for (lp in 1:num_replicates) { # Otherwise, we get \"Waiting for profiling to be done...\" \n",
    "    # Obtaining samples by scheme\n",
    "    # CS\n",
    "    CS_sampled_subjects <- sample(1:nrow(pop_data), size = n, replace = F)\n",
    "    CS_sample <- pop_data[CS_sampled_subjects, ]\n",
    "    # CC\n",
    "    CC_sampled_subjects <- c(\n",
    "      sample((1:nrow(pop_data))[pop_data$chd69 == \"0\"],\n",
    "        size = n / 2, replace = F\n",
    "      ),\n",
    "      sample((1:nrow(pop_data))[pop_data$chd69 == \"1\"],\n",
    "        size = n / 2, replace = F\n",
    "      )\n",
    "    )\n",
    "    CC_sample <- pop_data[CC_sampled_subjects, ]\n",
    "    # CO\n",
    "    CO_sampled_subjects <- c(\n",
    "      sample((1:nrow(pop_data))[pop_data$dibpat == \"Type B\"],\n",
    "        size = n / 2, replace = F\n",
    "      ),\n",
    "      sample((1:nrow(pop_data))[pop_data$dibpat == \"Type A\"],\n",
    "        size = n / 2, replace = F\n",
    "      )\n",
    "    )\n",
    "    CO_sample <- pop_data[CO_sampled_subjects, ]\n",
    "\n",
    "    # Do the three analyses\n",
    "    # CS\n",
    "    CS_bin_log_model <- glm(chd69 ~ dibpat + age_bins + smoke + bmi_bins + chol_bins,\n",
    "      family = \"binomial\", data = CS_sample\n",
    "    )\n",
    "    # CC\n",
    "    CC_bin_log_model <- glm(chd69 ~ dibpat + age_bins + smoke + bmi_bins + chol_bins,\n",
    "      family = \"binomial\", data = CC_sample\n",
    "    )\n",
    "    # CO\n",
    "    CO_bin_log_model <- glm(chd69 ~ dibpat + age_bins + smoke + bmi_bins + chol_bins,\n",
    "      family = \"binomial\", data = CO_sample\n",
    "    )\n",
    "\n",
    "    # and the takeaways\n",
    "    res[[1]][lp, ] <- c(coef(CS_bin_log_model)[\"dibpatType A\"], confint(CS_bin_log_model)[\"dibpatType A\", ])\n",
    "    res[[2]][lp, ] <- c(coef(CC_bin_log_model)[\"dibpatType A\"], confint(CC_bin_log_model)[\"dibpatType A\", ])\n",
    "    res[[3]][lp, ] <- c(coef(CO_bin_log_model)[\"dibpatType A\"], confint(CO_bin_log_model)[\"dibpatType A\", ])\n",
    "  })\n",
    "\n",
    "  # Summaries\n",
    "  BIAS <- sapply(\n",
    "    res,\n",
    "    function(mat) {\n",
    "      mean(mat[, 1]) - log_OR\n",
    "    }\n",
    "  )\n",
    "  vrnc <- sapply(res, function(mat) {\n",
    "    var(mat[, 1])\n",
    "  })\n",
    "  CVRG <- sapply(res,\n",
    "    function(mat, trg) {\n",
    "      mean((mat[, 2] < trg) & (trg < mat[, 3]))\n",
    "    },\n",
    "    trg = log_OR\n",
    "  )\n",
    "  PWR <- sapply(res, function(mat) {\n",
    "    mean(mat[, 2] > 0)\n",
    "  })\n",
    "  RMSE <- sqrt(BIAS^2 + vrnc)\n",
    "\n",
    "  opt <- cbind(BIAS, RMSE, CVRG, PWR)\n",
    "  rownames(opt) <- c(\"Cross-Sectional (CS)\", \"Case-Control (CC)\", \"Cohort (CO)\")\n",
    "\n",
    "  return(opt)\n",
    "}"
   ]
  },
  {
   "cell_type": "markdown",
   "id": "d8dba350",
   "metadata": {
    "slideshow": {
     "slide_type": "slide"
    }
   },
   "source": [
    "The function returns the following metrics:\n",
    "\n",
    "- **BIAS:** The average, over the `num_replicates`, of $\\hat{\\text{log-OR}} - \\text{log-OR}$. The larger the average, the less accuracy.\n",
    "- **ROOT-MEAN-SQUARED ERROR (RMSE):** The square root of the average (over the `num_replicates`) of $(\\hat{\\text{log-OR}} - \\text{log-OR})^{2}$.  It has the following characteristics:\n",
    "    - Interpretable as the typical magnitude of estimation error.\n",
    "    - Captures bias and variance involved in the procedure.\n",
    "- **COVERAGE (CVRG):** The proportion (among the `num_replicates`) of the 95% CIs that contain the \"true\" $\\log\\text{-OR}$.\n",
    "- **POWER (PWR):** It is applicable when $\\text{log-OR} \\neq 0$. The proportion of the `num_replicates` CIs that exclude zero."
   ]
  },
  {
   "cell_type": "markdown",
   "id": "b48d2954",
   "metadata": {
    "slideshow": {
     "slide_type": "slide"
    }
   },
   "source": [
    "We run the simulation studies with $n = 1000, 1500, 2000$."
   ]
  },
  {
   "cell_type": "code",
   "execution_count": 21,
   "id": "e55059ec",
   "metadata": {
    "slideshow": {
     "slide_type": "fragment"
    }
   },
   "outputs": [],
   "source": [
    "set.seed(554) # Reproducibility\n",
    "sim_study_n_1000 <- sim_study(\n",
    "  pop_data = sim_pop, n = 1000, alpha = 0.05,\n",
    "  log_OR = wcgs_coef_pop[\"dibpatType A\"], num_replicates = 500\n",
    ")"
   ]
  },
  {
   "cell_type": "code",
   "execution_count": 22,
   "id": "4028c891",
   "metadata": {
    "slideshow": {
     "slide_type": "fragment"
    }
   },
   "outputs": [],
   "source": [
    "set.seed(554) # Reproducibility\n",
    "sim_study_n_1500 <- sim_study(\n",
    "  pop_data = sim_pop, n = 1500, alpha = 0.05,\n",
    "  log_OR = wcgs_coef_pop[\"dibpatType A\"], num_replicates = 500\n",
    ")"
   ]
  },
  {
   "cell_type": "code",
   "execution_count": 23,
   "id": "61553e49",
   "metadata": {
    "slideshow": {
     "slide_type": "fragment"
    }
   },
   "outputs": [],
   "source": [
    "set.seed(554) # Reproducibility\n",
    "sim_study_n_2000 <- sim_study(\n",
    "  pop_data = sim_pop, n = 2000, alpha = 0.05,\n",
    "  log_OR = wcgs_coef_pop[\"dibpatType A\"], num_replicates = 500\n",
    ")"
   ]
  },
  {
   "cell_type": "markdown",
   "id": "7cb82565",
   "metadata": {
    "slideshow": {
     "slide_type": "slide"
    }
   },
   "source": [
    "Finally, we obtain the corresponding performance metrics."
   ]
  },
  {
   "cell_type": "code",
   "execution_count": 24,
   "id": "a5f1c89e",
   "metadata": {
    "slideshow": {
     "slide_type": "fragment"
    }
   },
   "outputs": [
    {
     "data": {
      "text/html": [
       "<table class=\"dataframe\">\n",
       "<caption>A matrix: 3 × 4 of type dbl</caption>\n",
       "<thead>\n",
       "\t<tr><th></th><th scope=col>BIAS</th><th scope=col>RMSE</th><th scope=col>CVRG</th><th scope=col>PWR</th></tr>\n",
       "</thead>\n",
       "<tbody>\n",
       "\t<tr><th scope=row>Cross-Sectional (CS)</th><td>0.0674</td><td>0.2740</td><td>0.956</td><td>0.860</td></tr>\n",
       "\t<tr><th scope=row>Case-Control (CC)</th><td>0.0329</td><td>0.1385</td><td>0.954</td><td>1.000</td></tr>\n",
       "\t<tr><th scope=row>Cohort (CO)</th><td>0.0573</td><td>0.2657</td><td>0.944</td><td>0.866</td></tr>\n",
       "</tbody>\n",
       "</table>\n"
      ],
      "text/latex": [
       "A matrix: 3 × 4 of type dbl\n",
       "\\begin{tabular}{r|llll}\n",
       "  & BIAS & RMSE & CVRG & PWR\\\\\n",
       "\\hline\n",
       "\tCross-Sectional (CS) & 0.0674 & 0.2740 & 0.956 & 0.860\\\\\n",
       "\tCase-Control (CC) & 0.0329 & 0.1385 & 0.954 & 1.000\\\\\n",
       "\tCohort (CO) & 0.0573 & 0.2657 & 0.944 & 0.866\\\\\n",
       "\\end{tabular}\n"
      ],
      "text/markdown": [
       "\n",
       "A matrix: 3 × 4 of type dbl\n",
       "\n",
       "| <!--/--> | BIAS | RMSE | CVRG | PWR |\n",
       "|---|---|---|---|---|\n",
       "| Cross-Sectional (CS) | 0.0674 | 0.2740 | 0.956 | 0.860 |\n",
       "| Case-Control (CC) | 0.0329 | 0.1385 | 0.954 | 1.000 |\n",
       "| Cohort (CO) | 0.0573 | 0.2657 | 0.944 | 0.866 |\n",
       "\n"
      ],
      "text/plain": [
       "                     BIAS   RMSE   CVRG  PWR  \n",
       "Cross-Sectional (CS) 0.0674 0.2740 0.956 0.860\n",
       "Case-Control (CC)    0.0329 0.1385 0.954 1.000\n",
       "Cohort (CO)          0.0573 0.2657 0.944 0.866"
      ]
     },
     "metadata": {},
     "output_type": "display_data"
    }
   ],
   "source": [
    "round(sim_study_n_1000, 4)"
   ]
  },
  {
   "cell_type": "code",
   "execution_count": 25,
   "id": "f4c8f560",
   "metadata": {
    "slideshow": {
     "slide_type": "fragment"
    }
   },
   "outputs": [
    {
     "data": {
      "text/html": [
       "<table class=\"dataframe\">\n",
       "<caption>A matrix: 3 × 4 of type dbl</caption>\n",
       "<thead>\n",
       "\t<tr><th></th><th scope=col>BIAS</th><th scope=col>RMSE</th><th scope=col>CVRG</th><th scope=col>PWR</th></tr>\n",
       "</thead>\n",
       "<tbody>\n",
       "\t<tr><th scope=row>Cross-Sectional (CS)</th><td>0.0455</td><td>0.2173</td><td>0.948</td><td>0.964</td></tr>\n",
       "\t<tr><th scope=row>Case-Control (CC)</th><td>0.0239</td><td>0.1110</td><td>0.960</td><td>1.000</td></tr>\n",
       "\t<tr><th scope=row>Cohort (CO)</th><td>0.0361</td><td>0.2047</td><td>0.966</td><td>0.972</td></tr>\n",
       "</tbody>\n",
       "</table>\n"
      ],
      "text/latex": [
       "A matrix: 3 × 4 of type dbl\n",
       "\\begin{tabular}{r|llll}\n",
       "  & BIAS & RMSE & CVRG & PWR\\\\\n",
       "\\hline\n",
       "\tCross-Sectional (CS) & 0.0455 & 0.2173 & 0.948 & 0.964\\\\\n",
       "\tCase-Control (CC) & 0.0239 & 0.1110 & 0.960 & 1.000\\\\\n",
       "\tCohort (CO) & 0.0361 & 0.2047 & 0.966 & 0.972\\\\\n",
       "\\end{tabular}\n"
      ],
      "text/markdown": [
       "\n",
       "A matrix: 3 × 4 of type dbl\n",
       "\n",
       "| <!--/--> | BIAS | RMSE | CVRG | PWR |\n",
       "|---|---|---|---|---|\n",
       "| Cross-Sectional (CS) | 0.0455 | 0.2173 | 0.948 | 0.964 |\n",
       "| Case-Control (CC) | 0.0239 | 0.1110 | 0.960 | 1.000 |\n",
       "| Cohort (CO) | 0.0361 | 0.2047 | 0.966 | 0.972 |\n",
       "\n"
      ],
      "text/plain": [
       "                     BIAS   RMSE   CVRG  PWR  \n",
       "Cross-Sectional (CS) 0.0455 0.2173 0.948 0.964\n",
       "Case-Control (CC)    0.0239 0.1110 0.960 1.000\n",
       "Cohort (CO)          0.0361 0.2047 0.966 0.972"
      ]
     },
     "metadata": {},
     "output_type": "display_data"
    }
   ],
   "source": [
    "round(sim_study_n_1500, 4)"
   ]
  },
  {
   "cell_type": "code",
   "execution_count": 26,
   "id": "a440923c",
   "metadata": {
    "slideshow": {
     "slide_type": "fragment"
    }
   },
   "outputs": [
    {
     "data": {
      "text/html": [
       "<table class=\"dataframe\">\n",
       "<caption>A matrix: 3 × 4 of type dbl</caption>\n",
       "<thead>\n",
       "\t<tr><th></th><th scope=col>BIAS</th><th scope=col>RMSE</th><th scope=col>CVRG</th><th scope=col>PWR</th></tr>\n",
       "</thead>\n",
       "<tbody>\n",
       "\t<tr><th scope=row>Cross-Sectional (CS)</th><td>0.0391</td><td>0.1883</td><td>0.944</td><td>0.994</td></tr>\n",
       "\t<tr><th scope=row>Case-Control (CC)</th><td>0.0194</td><td>0.1010</td><td>0.952</td><td>1.000</td></tr>\n",
       "\t<tr><th scope=row>Cohort (CO)</th><td>0.0269</td><td>0.1842</td><td>0.954</td><td>0.992</td></tr>\n",
       "</tbody>\n",
       "</table>\n"
      ],
      "text/latex": [
       "A matrix: 3 × 4 of type dbl\n",
       "\\begin{tabular}{r|llll}\n",
       "  & BIAS & RMSE & CVRG & PWR\\\\\n",
       "\\hline\n",
       "\tCross-Sectional (CS) & 0.0391 & 0.1883 & 0.944 & 0.994\\\\\n",
       "\tCase-Control (CC) & 0.0194 & 0.1010 & 0.952 & 1.000\\\\\n",
       "\tCohort (CO) & 0.0269 & 0.1842 & 0.954 & 0.992\\\\\n",
       "\\end{tabular}\n"
      ],
      "text/markdown": [
       "\n",
       "A matrix: 3 × 4 of type dbl\n",
       "\n",
       "| <!--/--> | BIAS | RMSE | CVRG | PWR |\n",
       "|---|---|---|---|---|\n",
       "| Cross-Sectional (CS) | 0.0391 | 0.1883 | 0.944 | 0.994 |\n",
       "| Case-Control (CC) | 0.0194 | 0.1010 | 0.952 | 1.000 |\n",
       "| Cohort (CO) | 0.0269 | 0.1842 | 0.954 | 0.992 |\n",
       "\n"
      ],
      "text/plain": [
       "                     BIAS   RMSE   CVRG  PWR  \n",
       "Cross-Sectional (CS) 0.0391 0.1883 0.944 0.994\n",
       "Case-Control (CC)    0.0194 0.1010 0.952 1.000\n",
       "Cohort (CO)          0.0269 0.1842 0.954 0.992"
      ]
     },
     "metadata": {},
     "output_type": "display_data"
    }
   ],
   "source": [
    "round(sim_study_n_2000, 4)"
   ]
  },
  {
   "cell_type": "markdown",
   "id": "354d7d91",
   "metadata": {
    "slideshow": {
     "slide_type": "slide"
    }
   },
   "source": [
    "```{exercise}\n",
    ":label: lecture7-q2\n",
    "\n",
    "What is the conclusion by looking at these metrics by sampling scheme?\n",
    "```"
   ]
  },
  {
   "cell_type": "markdown",
   "id": "794ee70d",
   "metadata": {
    "slideshow": {
     "slide_type": "slide"
    }
   },
   "source": [
    "## 5. Looking Further into the Case-Control Scheme\n",
    "\n",
    "Our previous simulation studies indicate that CC performs better when using our **proxy ground truth** to assess each sampling scheme. Nonetheless, we have  an artificial population of $N = 62,020$ subjects where $1,537 + 3,480 = 5,017$ subjects **experience (or will experience!)** a CHD event:"
   ]
  },
  {
   "cell_type": "code",
   "execution_count": 27,
   "id": "4255089d",
   "metadata": {
    "slideshow": {
     "slide_type": "fragment"
    }
   },
   "outputs": [
    {
     "data": {
      "text/plain": [
       "        \n",
       "             0     1\n",
       "  Type B 29203  1537\n",
       "  Type A 27800  3480"
      ]
     },
     "metadata": {},
     "output_type": "display_data"
    }
   ],
   "source": [
    "table(sim_pop$dibpat, sim_pop$chd69)"
   ]
  },
  {
   "cell_type": "markdown",
   "id": "0dfc55fa",
   "metadata": {
    "slideshow": {
     "slide_type": "slide"
    }
   },
   "source": [
    "In this case, we can see that only $\\frac{1,537 + 3,480}{62,020} \\times 100\\% = 8.09\\%$ of the $N$ subjects experience the \"success\" event in $Y$. Therefore, this event can be classified as **relatively rare**. Furthermore, recall the CC definition:\n",
    "\n",
    "> Case-control (CC) is a **retrospective scheme**. It will sample a group of subjects with the study's response success ($Y = 1$) and a group without ($Y = 0$). Half of the overall sample will correspond to subjects with $Y = 1$ and the other half to $Y = 0$. The researcher will ask each subject: *have you ever been exposed to the condition $X$ **in the past** ($X = 0$ never and $X = 1$ ever)*.\n"
   ]
  },
  {
   "cell_type": "markdown",
   "id": "2187f95c",
   "metadata": {
    "slideshow": {
     "slide_type": "slide"
    }
   },
   "source": [
    "Given the CC's nature, and the population's situation, this sampling scheme is clearly **oversampling cases ($Y = 1$)** and **undersampling controls ($Y = 0$)**. This matter will pave the way to a secondary statistical inquiry."
   ]
  },
  {
   "cell_type": "markdown",
   "id": "d2d4e1aa",
   "metadata": {
    "slideshow": {
     "slide_type": "slide"
    }
   },
   "source": [
    "```{admonition} Secondary Statistical Inquiry\n",
    "Using a CC sampling scheme, is oversampling **cases** and undersampling **controls** a **winning strategy** in terms of **precision**?\n",
    "```"
   ]
  },
  {
   "cell_type": "markdown",
   "id": "6903e2a0",
   "metadata": {
    "slideshow": {
     "slide_type": "fragment"
    }
   },
   "source": [
    "This statistical inquiry implies a **modified Power Analysis** but not with the overall sample size $n$. We will use the $\\text{Case:Control ratio}$ instead. This ratio behaves as follows:\n",
    "\n",
    "- $\\text{Case:Control ratio} = 1$ indicates we have the same number of cases and controls in our sample of size $n$.\n",
    "- $\\text{Case:Control ratio} > 1$ indicates we have more cases than controls in our sample of size $n$.\n",
    "- $\\text{Case:Control ratio} < 1$ indicates we have less cases than controls in our sample of size $n$."
   ]
  },
  {
   "cell_type": "markdown",
   "id": "0b39d4ee",
   "metadata": {
    "slideshow": {
     "slide_type": "fragment"
    }
   },
   "source": [
    "This **modified Power Analysis** will not directly involve the power of the test but the **standard error (SE)** of the estimate of the log-OR. The standard error is a crucial component of a CI; **the smaller the SE, the more precise our estimate is**."
   ]
  },
  {
   "cell_type": "markdown",
   "id": "10b61c20",
   "metadata": {
    "slideshow": {
     "slide_type": "slide"
    }
   },
   "source": [
    "Before explaining the components of our **modified Power Analysis**, let us review the components of the contingency table. Suppose both $X$ and $Y$ are binary variables. Then, the **absolute frequencies** by each combination of factor levels can be put in a **contingency table** as follows: \n",
    "\n",
    "|  |  $Y = 0$ |  $Y = 1$ |\n",
    "|:--------------------------------------------------------------------------------------------:|:------------------:|:----------------------:|\n",
    "|                                   $X = 0$                                   |       $n_{X = 0, Y = 0}$     |      $n_{X = 0,Y = 1}$     |\n",
    "|                                       $X = 1$                                       |    $n_{X = 1, Y = 0}$    |         $n_{X = 1, Y =1}$        |\n",
    "\n",
    "Furthermore let \n",
    "\n",
    "$$n_{Y = 1} = n_{X = 0, Y = 1} + n_{X = 1, Y = 1} \\quad \\text{and}$$\n",
    "\n",
    "$$n_{Y = 0} = n_{X = 0, Y = 0} + n_{X = 1, Y = 0}$$\n",
    "\n",
    "be the respective numbers of cases and controls in the sample of size $n$."
   ]
  },
  {
   "cell_type": "markdown",
   "id": "5c292013",
   "metadata": {
    "slideshow": {
     "slide_type": "slide"
    }
   },
   "source": [
    "We know that:"
   ]
  },
  {
   "cell_type": "markdown",
   "id": "75d674b9",
   "metadata": {
    "slideshow": {
     "slide_type": "fragment"
    }
   },
   "source": [
    "```{math}\n",
    "\\begin{align*}\n",
    "\\hat{\\text{log-OR}} &= \\log(n_{X = 1, Y = 1}) - \\log(n_{X = 1,Y = 0}) - \\big[ \\log(n_{X = 0, Y = 1}) - \\log(n_{X = 0,Y = 0}) \\big] \\\\\n",
    "&= \\underbrace{\\log(n_{X = 1, Y = 1})  - \\log(n_{X = 0, Y = 1})}_{\\text{Cases}} - \\underbrace{\\big[ \\log(n_{X = 1,Y = 0}) - \\log(n_{X = 0,Y = 0}) \\big]}_{\\text{Controls}}\n",
    "\\end{align*}\n",
    "```"
   ]
  },
  {
   "cell_type": "markdown",
   "id": "79a1da8f",
   "metadata": {
    "slideshow": {
     "slide_type": "slide"
    }
   },
   "source": [
    "Then, we rearrange the expression above using logarithmic properties:\n",
    "\n",
    "```{math}\n",
    "\\begin{align*}\n",
    "\\hat{\\text{log-OR}} &= \\log \\bigg( \\frac{n_{X = 1, Y = 1}}{n_{X = 0, Y = 1}} \\bigg) - \\log \\bigg( \\frac{n_{X = 1, Y = 0}}{n_{X = 0, Y = 0}} \\bigg) \\\\\n",
    "&= \\log \\bigg( \\frac{n_{X = 1, Y = 1} / n_{Y = 1}}{n_{X = 0, Y = 1} / n_{Y = 1}} \\bigg) - \\log \\bigg( \\frac{n_{X = 1, Y = 0} / n_{Y = 0}}{n_{X = 0, Y = 0} / n_{Y = 0}} \\bigg) \\\\\n",
    "&= \\log \\bigg( \\frac{n_{X = 1, Y = 1}}{n_{Y = 1}} \\bigg) - \\log \\bigg( \\frac{n_{X = 0, Y = 1}}{n_{Y = 1}} \\bigg) - \\bigg[ \\log \\bigg( \\frac{n_{X = 1, Y = 0}}{n_{Y = 0}} \\bigg) - \\log \\bigg( \\frac{n_{X = 0, Y = 0}}{n_{Y = 0}} \\bigg) \\bigg] \\\\\n",
    "&= \\log \\bigg( \\frac{n_{X = 1, Y = 1}}{n_{Y = 1}} \\bigg) - \\log \\bigg( 1 - \\frac{n_{X = 1, Y = 1}}{n_{Y = 1}} \\bigg) - \\bigg[ \\log \\bigg( \\frac{n_{X = 1, Y = 0}}{n_{Y = 0}} \\bigg) - \\log \\bigg( 1 - \\frac{n_{X = 1, Y = 0}}{n_{Y = 0}} \\bigg) \\bigg] \\\\\n",
    "&=\\log(p_{X = 1, Y = 1}) - \\log(1 - p_{X = 1, Y = 1}) - \\big[ \\log(p_{X = 1, Y = 0}) - \\log( 1- p_{X = 1, Y = 0}) \\big]\n",
    "\\end{align*}\n",
    "```"
   ]
  },
  {
   "cell_type": "markdown",
   "id": "96456641",
   "metadata": {
    "slideshow": {
     "slide_type": "fragment"
    }
   },
   "source": [
    "The previous arrangements set up the $\\text{log-OR}$ in terms of the proportion of cases $p_{X = 1, Y = 1}$ and $p_{X = 1, Y = 0}$ **with respect to $n_{Y = 1}$ and $n_{Y = 0}$**."
   ]
  },
  {
   "cell_type": "markdown",
   "id": "8f09600e",
   "metadata": {
    "slideshow": {
     "slide_type": "slide"
    }
   },
   "source": [
    "We name the previous proportions as **effects**. We will check the following combinations in our **modified power analysis**."
   ]
  },
  {
   "cell_type": "code",
   "execution_count": 28,
   "id": "1ffe452e",
   "metadata": {
    "slideshow": {
     "slide_type": "fragment"
    }
   },
   "outputs": [
    {
     "data": {
      "text/html": [
       "<table class=\"dataframe\">\n",
       "<caption>A matrix: 4 × 2 of type dbl</caption>\n",
       "<thead>\n",
       "\t<tr><th scope=col>p_X1_Y0</th><th scope=col>p_X1_Y1</th></tr>\n",
       "</thead>\n",
       "<tbody>\n",
       "\t<tr><td>0.25</td><td>0.3</td></tr>\n",
       "\t<tr><td>0.25</td><td>0.4</td></tr>\n",
       "\t<tr><td>0.25</td><td>0.5</td></tr>\n",
       "\t<tr><td>0.25</td><td>0.6</td></tr>\n",
       "</tbody>\n",
       "</table>\n"
      ],
      "text/latex": [
       "A matrix: 4 × 2 of type dbl\n",
       "\\begin{tabular}{ll}\n",
       " p\\_X1\\_Y0 & p\\_X1\\_Y1\\\\\n",
       "\\hline\n",
       "\t 0.25 & 0.3\\\\\n",
       "\t 0.25 & 0.4\\\\\n",
       "\t 0.25 & 0.5\\\\\n",
       "\t 0.25 & 0.6\\\\\n",
       "\\end{tabular}\n"
      ],
      "text/markdown": [
       "\n",
       "A matrix: 4 × 2 of type dbl\n",
       "\n",
       "| p_X1_Y0 | p_X1_Y1 |\n",
       "|---|---|\n",
       "| 0.25 | 0.3 |\n",
       "| 0.25 | 0.4 |\n",
       "| 0.25 | 0.5 |\n",
       "| 0.25 | 0.6 |\n",
       "\n"
      ],
      "text/plain": [
       "     p_X1_Y0 p_X1_Y1\n",
       "[1,] 0.25    0.3    \n",
       "[2,] 0.25    0.4    \n",
       "[3,] 0.25    0.5    \n",
       "[4,] 0.25    0.6    "
      ]
     },
     "metadata": {},
     "output_type": "display_data"
    }
   ],
   "source": [
    "p_effects <- matrix(0.0,4,2)\n",
    "p_effects[1,] <- c(0.25,0.3)\n",
    "p_effects[2,] <- c(0.25,0.4)\n",
    "p_effects[3,] <- c(0.25,0.5)\n",
    "p_effects[4,] <- c(0.25,0.6)\n",
    "colnames(p_effects) <- c(\"p_X1_Y0\", \"p_X1_Y1\")\n",
    "p_effects"
   ]
  },
  {
   "cell_type": "markdown",
   "id": "d9cb5b8f",
   "metadata": {
    "slideshow": {
     "slide_type": "fragment"
    }
   },
   "source": [
    "Note we gradually increase the $p_{X = 1, Y = 1}$ while keeping $p_{X = 1, Y = 0}$ constant and smaller."
   ]
  },
  {
   "cell_type": "markdown",
   "id": "ceed9eec",
   "metadata": {
    "slideshow": {
     "slide_type": "slide"
    }
   },
   "source": [
    "The matrix `p_effects` and our rearranged expression for $\\text{log-OR}$ yield the following estimates:"
   ]
  },
  {
   "cell_type": "code",
   "execution_count": 29,
   "id": "cfbc4419",
   "metadata": {
    "slideshow": {
     "slide_type": "fragment"
    }
   },
   "outputs": [
    {
     "data": {
      "text/html": [
       "<style>\n",
       ".list-inline {list-style: none; margin:0; padding: 0}\n",
       ".list-inline>li {display: inline-block}\n",
       ".list-inline>li:not(:last-child)::after {content: \"\\00b7\"; padding: 0 .5ex}\n",
       "</style>\n",
       "<ol class=list-inline><li>0.25</li><li>0.69</li><li>1.1</li><li>1.5</li></ol>\n"
      ],
      "text/latex": [
       "\\begin{enumerate*}\n",
       "\\item 0.25\n",
       "\\item 0.69\n",
       "\\item 1.1\n",
       "\\item 1.5\n",
       "\\end{enumerate*}\n"
      ],
      "text/markdown": [
       "1. 0.25\n",
       "2. 0.69\n",
       "3. 1.1\n",
       "4. 1.5\n",
       "\n",
       "\n"
      ],
      "text/plain": [
       "[1] 0.25 0.69 1.10 1.50"
      ]
     },
     "metadata": {},
     "output_type": "display_data"
    }
   ],
   "source": [
    "log_OR <- log(p_effects[, 2]) - log(1 - p_effects[, 2]) -\n",
    "  (log(p_effects[, 1]) - log(1 - p_effects[, 1]))\n",
    "round(log_OR, 2)"
   ]
  },
  {
   "cell_type": "markdown",
   "id": "2ffc0e14",
   "metadata": {
    "slideshow": {
     "slide_type": "fragment"
    }
   },
   "source": [
    "Since we are using the SE of the $\\text{log-OR}$ as our key metric, let us review its form (along with its `R` function):\n",
    "\n",
    "$$\\text{SE} = \\sqrt{\\frac{1}{n_{X = 1, Y = 1}} + \\frac{1}{n_{X = 1,Y = 0}} + \\frac{1}{n_{X = 0, Y = 1}} + \\frac{1}{n_{X = 0, Y =0}}}$$"
   ]
  },
  {
   "cell_type": "code",
   "execution_count": 30,
   "id": "bee5d44c",
   "metadata": {
    "slideshow": {
     "slide_type": "fragment"
    }
   },
   "outputs": [],
   "source": [
    "logOR_SE <- function(table) {\n",
    "  sqrt(sum(1 / table))\n",
    "}"
   ]
  },
  {
   "cell_type": "markdown",
   "id": "cf427fd4",
   "metadata": {
    "slideshow": {
     "slide_type": "slide"
    }
   },
   "source": [
    "We actually need to compute subsample sizes by cell in the contingency table. We will set up a constant number of controls $n_{Y = 0} = 500$ and an increasing number of cases from $n_{Y = 1} = 25$ to $750$. **This sequence eventually will EVENTUALLY reflect an oversampling of cases and undersampling of controls.**"
   ]
  },
  {
   "cell_type": "code",
   "execution_count": 31,
   "id": "9e7d588d",
   "metadata": {
    "slideshow": {
     "slide_type": "fragment"
    }
   },
   "outputs": [
    {
     "data": {
      "text/html": [
       "<style>\n",
       ".list-inline {list-style: none; margin:0; padding: 0}\n",
       ".list-inline>li {display: inline-block}\n",
       ".list-inline>li:not(:last-child)::after {content: \"\\00b7\"; padding: 0 .5ex}\n",
       "</style>\n",
       "<ol class=list-inline><li>25</li><li>50</li><li>75</li><li>100</li><li>125</li><li>150</li><li>175</li><li>200</li><li>225</li><li>250</li><li>275</li><li>300</li><li>325</li><li>350</li><li>375</li><li>400</li><li>425</li><li>450</li><li>475</li><li>500</li><li>525</li><li>550</li><li>575</li><li>600</li><li>625</li><li>650</li><li>675</li><li>700</li><li>725</li><li>750</li></ol>\n"
      ],
      "text/latex": [
       "\\begin{enumerate*}\n",
       "\\item 25\n",
       "\\item 50\n",
       "\\item 75\n",
       "\\item 100\n",
       "\\item 125\n",
       "\\item 150\n",
       "\\item 175\n",
       "\\item 200\n",
       "\\item 225\n",
       "\\item 250\n",
       "\\item 275\n",
       "\\item 300\n",
       "\\item 325\n",
       "\\item 350\n",
       "\\item 375\n",
       "\\item 400\n",
       "\\item 425\n",
       "\\item 450\n",
       "\\item 475\n",
       "\\item 500\n",
       "\\item 525\n",
       "\\item 550\n",
       "\\item 575\n",
       "\\item 600\n",
       "\\item 625\n",
       "\\item 650\n",
       "\\item 675\n",
       "\\item 700\n",
       "\\item 725\n",
       "\\item 750\n",
       "\\end{enumerate*}\n"
      ],
      "text/markdown": [
       "1. 25\n",
       "2. 50\n",
       "3. 75\n",
       "4. 100\n",
       "5. 125\n",
       "6. 150\n",
       "7. 175\n",
       "8. 200\n",
       "9. 225\n",
       "10. 250\n",
       "11. 275\n",
       "12. 300\n",
       "13. 325\n",
       "14. 350\n",
       "15. 375\n",
       "16. 400\n",
       "17. 425\n",
       "18. 450\n",
       "19. 475\n",
       "20. 500\n",
       "21. 525\n",
       "22. 550\n",
       "23. 575\n",
       "24. 600\n",
       "25. 625\n",
       "26. 650\n",
       "27. 675\n",
       "28. 700\n",
       "29. 725\n",
       "30. 750\n",
       "\n",
       "\n"
      ],
      "text/plain": [
       " [1]  25  50  75 100 125 150 175 200 225 250 275 300 325 350 375 400 425 450 475\n",
       "[20] 500 525 550 575 600 625 650 675 700 725 750"
      ]
     },
     "metadata": {},
     "output_type": "display_data"
    }
   ],
   "source": [
    "n_controls <- 500\n",
    "n_cases <- seq(from = 25, to = 750, by = 25)\n",
    "n_cases"
   ]
  },
  {
   "cell_type": "markdown",
   "id": "15790535",
   "metadata": {
    "slideshow": {
     "slide_type": "fragment"
    }
   },
   "source": [
    "The matrix `SE_log_OR` will store all the SEs by each value of the estimated $\\text{log-OR}$ in `log_OR` and number of cases $n_{Y = 1}$ in `n_cases`."
   ]
  },
  {
   "cell_type": "code",
   "execution_count": 32,
   "id": "0d2fa5ba",
   "metadata": {
    "slideshow": {
     "slide_type": "fragment"
    }
   },
   "outputs": [
    {
     "data": {
      "text/html": [
       "<table class=\"dataframe\">\n",
       "<caption>A matrix: 4 × 30 of type dbl</caption>\n",
       "<tbody>\n",
       "\t<tr><td>0</td><td>0</td><td>0</td><td>⋯</td><td>0</td><td>0</td><td>0</td></tr>\n",
       "\t<tr><td>0</td><td>0</td><td>0</td><td>⋯</td><td>0</td><td>0</td><td>0</td></tr>\n",
       "\t<tr><td>0</td><td>0</td><td>0</td><td>⋯</td><td>0</td><td>0</td><td>0</td></tr>\n",
       "\t<tr><td>0</td><td>0</td><td>0</td><td>⋯</td><td>0</td><td>0</td><td>0</td></tr>\n",
       "</tbody>\n",
       "</table>\n"
      ],
      "text/latex": [
       "A matrix: 4 × 30 of type dbl\n",
       "\\begin{tabular}{lllllll}\n",
       "\t 0 & 0 & 0 & ⋯ & 0 & 0 & 0\\\\\n",
       "\t 0 & 0 & 0 & ⋯ & 0 & 0 & 0\\\\\n",
       "\t 0 & 0 & 0 & ⋯ & 0 & 0 & 0\\\\\n",
       "\t 0 & 0 & 0 & ⋯ & 0 & 0 & 0\\\\\n",
       "\\end{tabular}\n"
      ],
      "text/markdown": [
       "\n",
       "A matrix: 4 × 30 of type dbl\n",
       "\n",
       "| 0 | 0 | 0 | ⋯ | 0 | 0 | 0 |\n",
       "| 0 | 0 | 0 | ⋯ | 0 | 0 | 0 |\n",
       "| 0 | 0 | 0 | ⋯ | 0 | 0 | 0 |\n",
       "| 0 | 0 | 0 | ⋯ | 0 | 0 | 0 |\n",
       "\n"
      ],
      "text/plain": [
       "     [,1] [,2] [,3] [,4] [,5] [,6] [,7]\n",
       "[1,] 0    0    0    ⋯    0    0    0   \n",
       "[2,] 0    0    0    ⋯    0    0    0   \n",
       "[3,] 0    0    0    ⋯    0    0    0   \n",
       "[4,] 0    0    0    ⋯    0    0    0   "
      ]
     },
     "metadata": {},
     "output_type": "display_data"
    }
   ],
   "source": [
    "SE_log_OR <- matrix(0.0, dim(p_effects)[1], length(n_cases))\n",
    "SE_log_OR"
   ]
  },
  {
   "cell_type": "markdown",
   "id": "09e9949e",
   "metadata": {
    "slideshow": {
     "slide_type": "slide"
    }
   },
   "source": [
    "Then function `table_n()` will compute the corresponding contingency tables with $n_{Y = 1}$ and $n_{Y = 0}$ stored in `n_type` along with the proportion **effects** $p_{X = 1, Y = 1}$ and $p_{X = 1, Y = 0}$ in `props`."
   ]
  },
  {
   "cell_type": "code",
   "execution_count": 33,
   "id": "3df96a6b",
   "metadata": {
    "slideshow": {
     "slide_type": "fragment"
    }
   },
   "outputs": [],
   "source": [
    "table_n <- function(n_type, props) {\n",
    "  table <- matrix(0, 2, 2)\n",
    "  table[, 2] <- (1 - matrix(props, 2, 1)) * n_type\n",
    "  table[, 1] <- matrix(props, 2, 1) * n_type\n",
    "  table\n",
    "}"
   ]
  },
  {
   "cell_type": "markdown",
   "id": "b7dfe841",
   "metadata": {
    "slideshow": {
     "slide_type": "slide"
    }
   },
   "source": [
    "Finally, we compute the SEs by setting combination in `SE_log_OR`."
   ]
  },
  {
   "cell_type": "code",
   "execution_count": 34,
   "id": "0572429e",
   "metadata": {
    "slideshow": {
     "slide_type": "fragment"
    }
   },
   "outputs": [
    {
     "data": {
      "text/html": [
       "<table class=\"dataframe\">\n",
       "<caption>A matrix: 4 × 30 of type dbl</caption>\n",
       "<tbody>\n",
       "\t<tr><td>0.45</td><td>0.33</td><td>0.27</td><td>⋯</td><td>0.13</td><td>0.13</td><td>0.13</td></tr>\n",
       "\t<tr><td>0.42</td><td>0.31</td><td>0.26</td><td>⋯</td><td>0.13</td><td>0.13</td><td>0.13</td></tr>\n",
       "\t<tr><td>0.41</td><td>0.30</td><td>0.25</td><td>⋯</td><td>0.13</td><td>0.13</td><td>0.13</td></tr>\n",
       "\t<tr><td>0.42</td><td>0.31</td><td>0.26</td><td>⋯</td><td>0.13</td><td>0.13</td><td>0.13</td></tr>\n",
       "</tbody>\n",
       "</table>\n"
      ],
      "text/latex": [
       "A matrix: 4 × 30 of type dbl\n",
       "\\begin{tabular}{lllllll}\n",
       "\t 0.45 & 0.33 & 0.27 & ⋯ & 0.13 & 0.13 & 0.13\\\\\n",
       "\t 0.42 & 0.31 & 0.26 & ⋯ & 0.13 & 0.13 & 0.13\\\\\n",
       "\t 0.41 & 0.30 & 0.25 & ⋯ & 0.13 & 0.13 & 0.13\\\\\n",
       "\t 0.42 & 0.31 & 0.26 & ⋯ & 0.13 & 0.13 & 0.13\\\\\n",
       "\\end{tabular}\n"
      ],
      "text/markdown": [
       "\n",
       "A matrix: 4 × 30 of type dbl\n",
       "\n",
       "| 0.45 | 0.33 | 0.27 | ⋯ | 0.13 | 0.13 | 0.13 |\n",
       "| 0.42 | 0.31 | 0.26 | ⋯ | 0.13 | 0.13 | 0.13 |\n",
       "| 0.41 | 0.30 | 0.25 | ⋯ | 0.13 | 0.13 | 0.13 |\n",
       "| 0.42 | 0.31 | 0.26 | ⋯ | 0.13 | 0.13 | 0.13 |\n",
       "\n"
      ],
      "text/plain": [
       "     [,1] [,2] [,3] [,4] [,5] [,6] [,7]\n",
       "[1,] 0.45 0.33 0.27 ⋯    0.13 0.13 0.13\n",
       "[2,] 0.42 0.31 0.26 ⋯    0.13 0.13 0.13\n",
       "[3,] 0.41 0.30 0.25 ⋯    0.13 0.13 0.13\n",
       "[4,] 0.42 0.31 0.26 ⋯    0.13 0.13 0.13"
      ]
     },
     "metadata": {},
     "output_type": "display_data"
    }
   ],
   "source": [
    "for (p in 1:dim(p_effects)[1]) {\n",
    "  for (n in 1:length(n_cases)) {\n",
    "    SE_log_OR[p, n] <- logOR_SE(table_n(\n",
    "      matrix(c(n_controls, n_cases[n])),\n",
    "      p_effects[p, ]\n",
    "    ))\n",
    "  }\n",
    "}\n",
    "round(SE_log_OR, 2)"
   ]
  },
  {
   "cell_type": "markdown",
   "id": "37d6038f",
   "metadata": {
    "slideshow": {
     "slide_type": "slide"
    }
   },
   "source": [
    "The plot below shows the $\\text{Case:Control ratios}$. The vertical dashed black line indicates the $\\text{Case:Control ratio} = 1$. The $y$-axis indicates the corresponding SEs. Finally, the legend on a colour scale incorporates the different $\\text{log-OR}$s we used to compute each SE along with the `p_effects` $p_{X = 1, Y = 1}$ and $p_{X = 1, Y = 0}$."
   ]
  },
  {
   "cell_type": "code",
   "execution_count": 35,
   "id": "36c5e84f",
   "metadata": {
    "slideshow": {
     "slide_type": "skip"
    }
   },
   "outputs": [],
   "source": [
    "options(repr.plot.height = 8, repr.plot.width = 14)\n",
    "\n",
    "# Wrangling our results before plotting\n",
    "dat_plot <- data.frame(log_OR = log_OR, SE = SE_log_OR)\n",
    "dat_plot <- melt(dat_plot, id.vars = c(\"log_OR\"), value.name = \"SE\")\n",
    "dat_plot$ratio <- n_cases[as.integer(\n",
    "  dat_plot %>%\n",
    "    separate(variable, into = c(\"pre\", \"post\")) %>%\n",
    "    pull(\"post\")\n",
    ")] / n_controls\n",
    "\n",
    "# Plotting\n",
    "CC_power_analysis <- ggplot(data = dat_plot, mapping = aes(x = ratio, y = SE, colour = as.factor(round(log_OR, 2)))) +\n",
    "  geom_point(size = 5) +\n",
    "  geom_vline(xintercept = 1, linetype = \"dashed\") +\n",
    "  xlab(\"Case:Control Ratio\") +\n",
    "  ylab(\"Standard Error (SE)\") +\n",
    "  labs(color = \"Estimated Log-OR\") +\n",
    "  theme(\n",
    "    plot.title = element_text(size = 24, face = \"bold\"),\n",
    "    axis.text = element_text(size = 17),\n",
    "    axis.title = element_text(size = 21),\n",
    "    legend.position = \"right\",\n",
    "    legend.title = element_text(size = 21, face = \"bold\", margin = margin(r = 1, unit = \"cm\")), \n",
    "    legend.text = element_text(size = 17, margin = margin(r = 3, unit = \"cm\")),\n",
    "    legend.key.size = unit(1, 'cm'),\n",
    "    legend.box.margin = margin(100, 100, 100, 100)\n",
    "  ) +\n",
    "  ggtitle(\"Evolution of SE by Case:Control Ratio and Estimated Log-OR\") +\n",
    "  scale_x_continuous(breaks = seq(0, 1.5, 0.25)) +\n",
    "  scale_color_brewer(palette = \"Dark2\")"
   ]
  },
  {
   "cell_type": "code",
   "execution_count": 36,
   "id": "1c03cf50",
   "metadata": {
    "slideshow": {
     "slide_type": "fragment"
    }
   },
   "outputs": [
    {
     "data": {
      "image/png": "[encoded data removed]",
      "text/plain": [
       "plot without title"
      ]
     },
     "metadata": {
      "image/png": {
       "height": 480,
       "width": 840
      }
     },
     "output_type": "display_data"
    }
   ],
   "source": [
    "CC_power_analysis"
   ]
  },
  {
   "cell_type": "markdown",
   "id": "afb573ca",
   "metadata": {
    "slideshow": {
     "slide_type": "slide"
    }
   },
   "source": [
    "```{admonition} What is the main takeaway from this plot?\n",
    ":class: hint\n",
    "According to the SE behaviour, in populations where the event $Y = 1$ is rare, we get a **more precise** estimate of the $\\text{log-OR}$ when we oversample cases and undersample controls. This is even more beneficial in situations where the estimated $\\text{log-OR}$ is low (as shown in our colour scale). Ideally, we might keep the $\\text{Case:Control ratio}$ in $1$ or slightly above in a CC scheme if $Y = 1$ is extremely rare.\n",
    "```"
   ]
  },
  {
   "cell_type": "markdown",
   "id": "90933fc5",
   "metadata": {
    "slideshow": {
     "slide_type": "slide"
    }
   },
   "source": [
    "## 6. Wrapping Up\n",
    "\n",
    "- We have learned a new way to assess a given sampling scheme by relying on previously sampled data.\n",
    "- This sampled data would allow building a **proxy ground truth** so we can run whole simulation studies for each sampling scheme. This **proxy ground truth** is assumed to be governed by a **population regression model**.\n",
    "- Note there is a constant tool we use in our simulations: **adding random noise**.\n",
    "- From the three sampling schemes we explored, CC can provide a boost in accuracy and precision."
   ]
  }
 ],
 "metadata": {
  "celltoolbar": "Tags",
  "kernelspec": {
   "display_name": "R",
   "language": "R",
   "name": "ir"
  },
  "language_info": {
   "codemirror_mode": "r",
   "file_extension": ".r",
   "mimetype": "text/x-r-source",
   "name": "R",
   "pygments_lexer": "r",
   "version": "4.4.1"
  }
 },
 "nbformat": 4,
 "nbformat_minor": 5
}