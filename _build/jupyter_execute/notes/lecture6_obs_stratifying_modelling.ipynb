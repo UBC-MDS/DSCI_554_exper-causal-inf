{
 "cells": [
  {
   "cell_type": "markdown",
   "id": "952a9d33",
   "metadata": {
    "slideshow": {
     "slide_type": "slide"
    }
   },
   "source": [
    "# Lecture 6 - Observational Data: Stratifying and Modelling"
   ]
  },
  {
   "cell_type": "markdown",
   "id": "5b800bc2",
   "metadata": {
    "slideshow": {
     "slide_type": "slide"
    }
   },
   "source": [
    "## Today's Learning Objectives\n",
    "\n",
    "1. Define a set of variables that control for confounding.\n",
    "2. Analyze stratified observational data.\n",
    "3. Interpret regression models fittings for observational data.\n",
    "4. Supply appropriate caveats for causal claims from fitting regression models to observational data.\n",
    "5. Comment on the differing goals of regression for prediction versus regression for explanation."
   ]
  },
  {
   "cell_type": "markdown",
   "id": "65c4928e",
   "metadata": {
    "slideshow": {
     "slide_type": "skip"
    }
   },
   "source": [
    "## Loading `R` Packages"
   ]
  },
  {
   "cell_type": "code",
   "execution_count": 1,
   "id": "20ea02ec",
   "metadata": {
    "slideshow": {
     "slide_type": "skip"
    },
    "tags": [
     "remove-output"
    ]
   },
   "outputs": [
    {
     "name": "stderr",
     "output_type": "stream",
     "text": [
      "── \u001b[1mAttaching core tidyverse packages\u001b[22m ───────────────────────────────────────────────────────────────────────────────────────────────────────────────────────────────────────────────────── tidyverse 2.0.0 ──\n",
      "\u001b[32m✔\u001b[39m \u001b[34mdplyr    \u001b[39m 1.1.4     \u001b[32m✔\u001b[39m \u001b[34mreadr    \u001b[39m 2.1.5\n",
      "\u001b[32m✔\u001b[39m \u001b[34mforcats  \u001b[39m 1.0.0     \u001b[32m✔\u001b[39m \u001b[34mstringr  \u001b[39m 1.5.1\n",
      "\u001b[32m✔\u001b[39m \u001b[34mggplot2  \u001b[39m 3.5.1     \u001b[32m✔\u001b[39m \u001b[34mtibble   \u001b[39m 3.2.1\n",
      "\u001b[32m✔\u001b[39m \u001b[34mlubridate\u001b[39m 1.9.3     \u001b[32m✔\u001b[39m \u001b[34mtidyr    \u001b[39m 1.3.1\n",
      "\u001b[32m✔\u001b[39m \u001b[34mpurrr    \u001b[39m 1.0.2     \n"
     ]
    },
    {
     "name": "stderr",
     "output_type": "stream",
     "text": [
      "── \u001b[1mConflicts\u001b[22m ─────────────────────────────────────────────────────────────────────────────────────────────────────────────────────────────────────────────────────────────────────── tidyverse_conflicts() ──\n",
      "\u001b[31m✖\u001b[39m \u001b[34mdplyr\u001b[39m::\u001b[32mfilter()\u001b[39m masks \u001b[34mstats\u001b[39m::filter()\n",
      "\u001b[31m✖\u001b[39m \u001b[34mdplyr\u001b[39m::\u001b[32mlag()\u001b[39m    masks \u001b[34mstats\u001b[39m::lag()\n",
      "\u001b[36mℹ\u001b[39m Use the conflicted package (\u001b[3m\u001b[34m<http://conflicted.r-lib.org/>\u001b[39m\u001b[23m) to force all conflicts to become errors\n"
     ]
    },
    {
     "name": "stderr",
     "output_type": "stream",
     "text": [
      "\n",
      "Attaching package: ‘scales’\n",
      "\n",
      "\n"
     ]
    },
    {
     "name": "stderr",
     "output_type": "stream",
     "text": [
      "The following object is masked from ‘package:purrr’:\n",
      "\n",
      "    discard\n",
      "\n",
      "\n"
     ]
    },
    {
     "name": "stderr",
     "output_type": "stream",
     "text": [
      "The following object is masked from ‘package:readr’:\n",
      "\n",
      "    col_factor\n",
      "\n",
      "\n"
     ]
    }
   ],
   "source": [
    "options(repr.matrix.max.rows = 8, repr.matrix.max.cols = 10)\n",
    "library(foreign)\n",
    "library(tidyverse)\n",
    "library(broom)\n",
    "library(scales)"
   ]
  },
  {
   "cell_type": "markdown",
   "id": "e4f81516",
   "metadata": {
    "slideshow": {
     "slide_type": "slide"
    }
   },
   "source": [
    "## Where are we at?\n",
    "\n",
    "We have been devoting most of our time to randomized experiments (i.e., **A/B** or **A/B/n testing**). This is the ideal setting where we actually have control over the data collection and **treatment randomization**. Moreover, this class of statistical framework certainly allows us **to draw causal conclusions on a given outcome of interest**."
   ]
  },
  {
   "cell_type": "markdown",
   "id": "d192b2fb",
   "metadata": {
    "slideshow": {
     "slide_type": "fragment"
    }
   },
   "source": [
    "Recall that if we can **randomize experimental units** to the two groups of conditions being compared (e.g, **control treatment A** and **experimental treatment B**), then data analysis and causal interpretation can be clear. Hence, **we can be confident in our A/B testing decisions**. Furthermore, this **treatment randomization** setting will be crucial **to control for confounding variables on a high level**."
   ]
  },
  {
   "cell_type": "markdown",
   "id": "750a9818",
   "metadata": {
    "slideshow": {
     "slide_type": "slide"
    }
   },
   "source": [
    "For example, **as long as we have an adequate overall sample size (via Power Analysis!) and randomize properly**, we can gather statistical evidence to state that website version B directly **causes** better sales than website version A. Consequently, we will be convinced that a permanent switch to website version B will be profitable."
   ]
  },
  {
   "cell_type": "markdown",
   "id": "50f9a1b6",
   "metadata": {
    "slideshow": {
     "slide_type": "fragment"
    }
   },
   "source": [
    "Why are we allowed to make this class of statements? Because treatment randomization balances out all confounding variables, so that the two groups formed differ **only** in which websitsite they see."
   ]
  },
  {
   "cell_type": "markdown",
   "id": "c5098469",
   "metadata": {
    "slideshow": {
     "slide_type": "fragment"
    }
   },
   "source": [
    "Moreover, suppose all website visitors could hypothetically be labelled as either \"fussy\" or \"easy-to-please.\" Therefore, it is tremendously unlikely to end up with a much higher proportion of fussy people in the website version A than in B via treatment randomization.\n",
    "\n",
    "Consequently, excuses like **\"A did not win because it was faced with a harder-to-please crowd\"** will not stand up."
   ]
  },
  {
   "cell_type": "markdown",
   "id": "17eb2e25",
   "metadata": {
    "slideshow": {
     "slide_type": "slide"
    }
   },
   "source": [
    "## 1.  Overview of Observational Studies\n",
    "\n",
    "We will shift gears to **observational studies**. Unlike randomized experiments, we can only gather data from a population of interest via a proper and representative sample. In observational studies, the researcher **WILL NOT** have control over the variable of interest $X$."
   ]
  },
  {
   "cell_type": "markdown",
   "id": "b9c2af23",
   "metadata": {
    "slideshow": {
     "slide_type": "fragment"
    }
   },
   "source": [
    "### 1.1. Without randomization, life is much harder!\n",
    "\n",
    "For instance, if people self-select whether to see the A or B website version (such as one of our examples in {doc}`lecture2_simpson_confounding` where we needed to account for `gender` and `age` in our **TikTok® Simulation** of an observational study), you would really want to measure their fussiness level and use this when analyzing the data. This practice will allow you **to estimate accurate and precise effect estimates of your variable $X$ on the response $Y$**."
   ]
  },
  {
   "cell_type": "markdown",
   "id": "a20a9555",
   "metadata": {
    "slideshow": {
     "slide_type": "slide"
    }
   },
   "source": [
    "In general, **the observational study strategy includes**:\n",
    "\n",
    "1. To the extent possible, **recording potential confounding variables** as part of the data collection process.\n",
    "2. Using these potential confounding variables **as part of the data analysis**.\n",
    "3. Tempering the causal strength of claims in light of the inherent challenges in (1) and (2).\n",
    "\n",
    "Furthermore, note that (1) implicates a **careful data collection planning**."
   ]
  },
  {
   "cell_type": "markdown",
   "id": "c443626a",
   "metadata": {
    "slideshow": {
     "slide_type": "slide"
    }
   },
   "source": [
    "```{exercise}\n",
    ":label: lecture6-q1\n",
    "\n",
    "**Answer TRUE or FALSE:**\n",
    "\n",
    "Identifying potential confounding variables is not an integral part of a careful data collection planning in an observational study.\n",
    "\n",
    "**A.** TRUE\n",
    "\n",
    "**B.** FALSE\n",
    "```"
   ]
  },
  {
   "cell_type": "markdown",
   "id": "9c2dd59d",
   "metadata": {
    "slideshow": {
     "slide_type": "slide"
    }
   },
   "source": [
    "### 1.2. Where are observational studies in a Data Science pipeline?  \n",
    "\n",
    "Observational studies are heavily used in **pharmaco-epidemiology** where we can find massive healthcare databases for population health research. For instance, insurance companies and healthcare systems collect this class of data in the US. \n",
    "\n",
    "On the other hand, countries like Canada use their national healthcare system to gather this data. You can check www.popdata.bc.ca for some rough flavour."
   ]
  },
  {
   "cell_type": "markdown",
   "id": "2c53a154",
   "metadata": {
    "slideshow": {
     "slide_type": "fragment"
    }
   },
   "source": [
    "In addition to statistical methodology issues, this sort of work heavily involves:\n",
    "\n",
    "- Database and data wrangling issues (defining and extracting populations/samples/variables).\n",
    "- Privacy, ethics, and security (you already addressed these matters in **DSCI 541**). For a sense of how high the stakes are on this, you can google \"*BC health researchers fired*.\""
   ]
  },
  {
   "cell_type": "markdown",
   "id": "8626eb4a",
   "metadata": {
    "slideshow": {
     "slide_type": "slide"
    }
   },
   "source": [
    "Therefore, we generally have an outcome $Y$ (which could be continuous **OR** discrete) subject to a variable of interest $X$ and many confounders $C_j$ which will vary in their nature: continuous **OR** discrete."
   ]
  },
  {
   "cell_type": "markdown",
   "id": "e0320bfe",
   "metadata": {
    "slideshow": {
     "slide_type": "fragment"
    }
   },
   "source": [
    "For instance, in a pharmaco-epidemiology problem:\n",
    "\n",
    "- $Y$ is a binary indicator of **bad disease state** two years after initial diagnosis.\n",
    "- $X$ is a binary indicator of initiated **drug A** versus **drug B** within three months of initial diagnosis.\n",
    "- $C_j$ is all sorts of demographic variables and health-status variables."
   ]
  },
  {
   "cell_type": "markdown",
   "id": "6f076f63",
   "metadata": {
    "slideshow": {
     "slide_type": "slide"
    }
   },
   "source": [
    "We aspire to use these observational data to determine what we would see if we could do a randomized trial with this $X$ and $Y$."
   ]
  },
  {
   "cell_type": "markdown",
   "id": "802cc4cc",
   "metadata": {
    "slideshow": {
     "slide_type": "fragment"
    }
   },
   "source": [
    "```{warning}\n",
    "Merely addressing whether $X$ is associated with $Y$ **IS NOT HELPFUL ANYMORE**. In the previous pharmaco-epidemiology problem, the relevant policy question is: **would fewer patients reach the bad disease state in a world where all were given drug B compared to a world where all were given drug A?**\n",
    "```"
   ]
  },
  {
   "cell_type": "markdown",
   "id": "6aa5a5dc",
   "metadata": {
    "slideshow": {
     "slide_type": "slide"
    }
   },
   "source": [
    "## 2. The Western Collaborative Group Study Data\n",
    "\n",
    "As in the case of A/B testing data, pharmaco-epidemiology data is hard to come by! Hence, we will work with a more traditional biostatistics example from [Vitinghoff et al. (2012)](https://gw2jh3xr2c.search.serialssolutions.com/?sid=sersol&SS_jc=TC0000658343&title=Regression%20Methods%20in%20Biostatistics%3A%20Linear%2C%20Logistic%2C%20Survival%2C%20and%20Repeated%20Measures%20Models). This dataset is called the Western Collaborative Group Study (WCGS) data."
   ]
  },
  {
   "cell_type": "markdown",
   "id": "2b16f48f",
   "metadata": {
    "slideshow": {
     "slide_type": "fragment"
    }
   },
   "source": [
    "The WCGS data is a **prospective cohort study** that recruited **middle-aged men between the ages of 39 and 59 who were employees of ten Californian companies** (this is the population for which we will draw our conclusions!). The data was collected on 3154 subjects between 1960 and 1961.\n",
    "\n",
    "```{important}\n",
    "A **prospective cohort study** involves following $n$ subjects over time. Certain confounding variables can group these subjects. Nonetheless, these groups will vary by a certain variable of interest (i.e., the $X$ as a factor-type variable with certain levels of interest). We will assess whether the changes from one level to another in $X$ cause the change of a particular outcome $Y$.\n",
    "```"
   ]
  },
  {
   "cell_type": "markdown",
   "id": "c65a2da9",
   "metadata": {
    "slideshow": {
     "slide_type": "slide"
    }
   },
   "source": [
    "### 2.1. Data Wrangling\n",
    "\n",
    "The data `wcgs.dta` is in Stata format. We will use the function `read.dta()` from `foreign` as a tibble. We will eliminate those rows with missing data via `na.omit()` (missing data will not be the scope of today's lecture!). We end up with $n = 3,101$ subjects."
   ]
  },
  {
   "cell_type": "code",
   "execution_count": 2,
   "id": "aec562e7",
   "metadata": {
    "slideshow": {
     "slide_type": "fragment"
    }
   },
   "outputs": [
    {
     "data": {
      "text/html": [
       "<table class=\"dataframe\">\n",
       "<caption>A tibble: 3101 × 22</caption>\n",
       "<thead>\n",
       "\t<tr><th scope=col>age</th><th scope=col>arcus</th><th scope=col>behpat</th><th scope=col>bmi</th><th scope=col>chd69</th><th scope=col>⋯</th><th scope=col>typchd69</th><th scope=col>uni</th><th scope=col>weight</th><th scope=col>wghtcat</th><th scope=col>agec</th></tr>\n",
       "\t<tr><th scope=col>&lt;int&gt;</th><th scope=col>&lt;int&gt;</th><th scope=col>&lt;fct&gt;</th><th scope=col>&lt;dbl&gt;</th><th scope=col>&lt;fct&gt;</th><th scope=col>⋯</th><th scope=col>&lt;int&gt;</th><th scope=col>&lt;dbl&gt;</th><th scope=col>&lt;int&gt;</th><th scope=col>&lt;fct&gt;</th><th scope=col>&lt;fct&gt;</th></tr>\n",
       "</thead>\n",
       "<tbody>\n",
       "\t<tr><td>50</td><td>1</td><td>A1</td><td>31.32101</td><td>No</td><td>⋯</td><td>0</td><td>0.4860738</td><td>200</td><td>170-200</td><td>46-50</td></tr>\n",
       "\t<tr><td>51</td><td>0</td><td>A1</td><td>25.32858</td><td>No</td><td>⋯</td><td>0</td><td>0.1859543</td><td>192</td><td>170-200</td><td>51-55</td></tr>\n",
       "\t<tr><td>59</td><td>1</td><td>A1</td><td>28.69388</td><td>No</td><td>⋯</td><td>0</td><td>0.7277991</td><td>200</td><td>170-200</td><td>56-60</td></tr>\n",
       "\t<tr><td>51</td><td>1</td><td>A1</td><td>22.14871</td><td>No</td><td>⋯</td><td>0</td><td>0.6244636</td><td>150</td><td>140-170</td><td>51-55</td></tr>\n",
       "\t<tr><td>⋮</td><td>⋮</td><td>⋮</td><td>⋮</td><td>⋮</td><td>⋱</td><td>⋮</td><td>⋮</td><td>⋮</td><td>⋮</td><td>⋮</td></tr>\n",
       "\t<tr><td>41</td><td>0</td><td>B4</td><td>25.03378</td><td>No</td><td>⋯</td><td>0</td><td>0.27816987</td><td>195</td><td>170-200</td><td>41-45</td></tr>\n",
       "\t<tr><td>53</td><td>0</td><td>B4</td><td>25.79944</td><td>No</td><td>⋯</td><td>0</td><td>0.95139700</td><td>185</td><td>170-200</td><td>51-55</td></tr>\n",
       "\t<tr><td>54</td><td>0</td><td>B4</td><td>23.49076</td><td>No</td><td>⋯</td><td>0</td><td>0.57082593</td><td>150</td><td>140-170</td><td>51-55</td></tr>\n",
       "\t<tr><td>48</td><td>0</td><td>B4</td><td>30.26990</td><td>No</td><td>⋯</td><td>0</td><td>0.08677829</td><td>205</td><td><span style=white-space:pre-wrap>&gt; 200  </span></td><td>46-50</td></tr>\n",
       "</tbody>\n",
       "</table>\n"
      ],
      "text/latex": [
       "A tibble: 3101 × 22\n",
       "\\begin{tabular}{lllllllllll}\n",
       " age & arcus & behpat & bmi & chd69 & ⋯ & typchd69 & uni & weight & wghtcat & agec\\\\\n",
       " <int> & <int> & <fct> & <dbl> & <fct> & ⋯ & <int> & <dbl> & <int> & <fct> & <fct>\\\\\n",
       "\\hline\n",
       "\t 50 & 1 & A1 & 31.32101 & No & ⋯ & 0 & 0.4860738 & 200 & 170-200 & 46-50\\\\\n",
       "\t 51 & 0 & A1 & 25.32858 & No & ⋯ & 0 & 0.1859543 & 192 & 170-200 & 51-55\\\\\n",
       "\t 59 & 1 & A1 & 28.69388 & No & ⋯ & 0 & 0.7277991 & 200 & 170-200 & 56-60\\\\\n",
       "\t 51 & 1 & A1 & 22.14871 & No & ⋯ & 0 & 0.6244636 & 150 & 140-170 & 51-55\\\\\n",
       "\t ⋮ & ⋮ & ⋮ & ⋮ & ⋮ & ⋱ & ⋮ & ⋮ & ⋮ & ⋮ & ⋮\\\\\n",
       "\t 41 & 0 & B4 & 25.03378 & No & ⋯ & 0 & 0.27816987 & 195 & 170-200 & 41-45\\\\\n",
       "\t 53 & 0 & B4 & 25.79944 & No & ⋯ & 0 & 0.95139700 & 185 & 170-200 & 51-55\\\\\n",
       "\t 54 & 0 & B4 & 23.49076 & No & ⋯ & 0 & 0.57082593 & 150 & 140-170 & 51-55\\\\\n",
       "\t 48 & 0 & B4 & 30.26990 & No & ⋯ & 0 & 0.08677829 & 205 & > 200   & 46-50\\\\\n",
       "\\end{tabular}\n"
      ],
      "text/markdown": [
       "\n",
       "A tibble: 3101 × 22\n",
       "\n",
       "| age &lt;int&gt; | arcus &lt;int&gt; | behpat &lt;fct&gt; | bmi &lt;dbl&gt; | chd69 &lt;fct&gt; | ⋯ ⋯ | typchd69 &lt;int&gt; | uni &lt;dbl&gt; | weight &lt;int&gt; | wghtcat &lt;fct&gt; | agec &lt;fct&gt; |\n",
       "|---|---|---|---|---|---|---|---|---|---|---|\n",
       "| 50 | 1 | A1 | 31.32101 | No | ⋯ | 0 | 0.4860738 | 200 | 170-200 | 46-50 |\n",
       "| 51 | 0 | A1 | 25.32858 | No | ⋯ | 0 | 0.1859543 | 192 | 170-200 | 51-55 |\n",
       "| 59 | 1 | A1 | 28.69388 | No | ⋯ | 0 | 0.7277991 | 200 | 170-200 | 56-60 |\n",
       "| 51 | 1 | A1 | 22.14871 | No | ⋯ | 0 | 0.6244636 | 150 | 140-170 | 51-55 |\n",
       "| ⋮ | ⋮ | ⋮ | ⋮ | ⋮ | ⋱ | ⋮ | ⋮ | ⋮ | ⋮ | ⋮ |\n",
       "| 41 | 0 | B4 | 25.03378 | No | ⋯ | 0 | 0.27816987 | 195 | 170-200 | 41-45 |\n",
       "| 53 | 0 | B4 | 25.79944 | No | ⋯ | 0 | 0.95139700 | 185 | 170-200 | 51-55 |\n",
       "| 54 | 0 | B4 | 23.49076 | No | ⋯ | 0 | 0.57082593 | 150 | 140-170 | 51-55 |\n",
       "| 48 | 0 | B4 | 30.26990 | No | ⋯ | 0 | 0.08677829 | 205 | &gt; 200   | 46-50 |\n",
       "\n"
      ],
      "text/plain": [
       "     age arcus behpat bmi      chd69 ⋯ typchd69 uni        weight wghtcat agec \n",
       "1    50  1     A1     31.32101 No    ⋯ 0        0.4860738  200    170-200 46-50\n",
       "2    51  0     A1     25.32858 No    ⋯ 0        0.1859543  192    170-200 51-55\n",
       "3    59  1     A1     28.69388 No    ⋯ 0        0.7277991  200    170-200 56-60\n",
       "4    51  1     A1     22.14871 No    ⋯ 0        0.6244636  150    140-170 51-55\n",
       "⋮    ⋮   ⋮     ⋮      ⋮        ⋮     ⋱ ⋮        ⋮          ⋮      ⋮       ⋮    \n",
       "3098 41  0     B4     25.03378 No    ⋯ 0        0.27816987 195    170-200 41-45\n",
       "3099 53  0     B4     25.79944 No    ⋯ 0        0.95139700 185    170-200 51-55\n",
       "3100 54  0     B4     23.49076 No    ⋯ 0        0.57082593 150    140-170 51-55\n",
       "3101 48  0     B4     30.26990 No    ⋯ 0        0.08677829 205    > 200   46-50"
      ]
     },
     "metadata": {},
     "output_type": "display_data"
    }
   ],
   "source": [
    "wcgs <- as_tibble(read.dta(\"../data/wcgs.dta\"))\n",
    "wcgs <- na.omit(wcgs)\n",
    "wcgs"
   ]
  },
  {
   "cell_type": "markdown",
   "id": "36635d8f",
   "metadata": {
    "slideshow": {
     "slide_type": "slide"
    }
   },
   "source": [
    "Our raw data `wcgs` has 22 demographic and health-related variables in total. However, our statistical modelling will focus on the following ones:\n",
    "\n",
    "- `dibpat`: Dichotomous behaviour pattern, a factor-type variable with two levels (`Type A` and `Type B`).\n",
    "- `age`: Subject's age in years (a count-type variable).\n",
    "- `bmi`: Subject's body mass index (BMI) in $\\text{kg}/\\text{m}^2$ (a continuous-type variable).\n",
    "- `chol`: Subject's cholesterol levels in $\\text{mg}/100 \\text{ ml}$ (a continuous-type variable).\n",
    "- `smoke`: Whether the subject smokes or not, a factor-type variable with two levels (`Yes` and `No`).\n",
    "- `chd69`: Whether the subject experienced a **coronary heart disease (CHD) event**, a factor-type variable with two levels (`Yes` and `No`)."
   ]
  },
  {
   "cell_type": "markdown",
   "id": "08565ee1",
   "metadata": {
    "slideshow": {
     "slide_type": "slide"
    }
   },
   "source": [
    "These variables are stored in `training_data`."
   ]
  },
  {
   "cell_type": "code",
   "execution_count": 3,
   "id": "cc50e99a",
   "metadata": {
    "slideshow": {
     "slide_type": "fragment"
    }
   },
   "outputs": [
    {
     "data": {
      "text/html": [
       "<table class=\"dataframe\">\n",
       "<caption>A tibble: 3101 × 6</caption>\n",
       "<thead>\n",
       "\t<tr><th scope=col>dibpat</th><th scope=col>age</th><th scope=col>bmi</th><th scope=col>chol</th><th scope=col>smoke</th><th scope=col>chd69</th></tr>\n",
       "\t<tr><th scope=col>&lt;fct&gt;</th><th scope=col>&lt;int&gt;</th><th scope=col>&lt;dbl&gt;</th><th scope=col>&lt;int&gt;</th><th scope=col>&lt;fct&gt;</th><th scope=col>&lt;fct&gt;</th></tr>\n",
       "</thead>\n",
       "<tbody>\n",
       "\t<tr><td>Type A</td><td>50</td><td>31.32101</td><td>249</td><td>Yes</td><td>No</td></tr>\n",
       "\t<tr><td>Type A</td><td>51</td><td>25.32858</td><td>194</td><td>Yes</td><td>No</td></tr>\n",
       "\t<tr><td>Type A</td><td>59</td><td>28.69388</td><td>258</td><td>No </td><td>No</td></tr>\n",
       "\t<tr><td>Type A</td><td>51</td><td>22.14871</td><td>173</td><td>No </td><td>No</td></tr>\n",
       "\t<tr><td>⋮</td><td>⋮</td><td>⋮</td><td>⋮</td><td>⋮</td><td>⋮</td></tr>\n",
       "\t<tr><td>Type B</td><td>41</td><td>25.03378</td><td>180</td><td>No </td><td>No</td></tr>\n",
       "\t<tr><td>Type B</td><td>53</td><td>25.79944</td><td>167</td><td>No </td><td>No</td></tr>\n",
       "\t<tr><td>Type B</td><td>54</td><td>23.49076</td><td>242</td><td>Yes</td><td>No</td></tr>\n",
       "\t<tr><td>Type B</td><td>48</td><td>30.26990</td><td>288</td><td>No </td><td>No</td></tr>\n",
       "</tbody>\n",
       "</table>\n"
      ],
      "text/latex": [
       "A tibble: 3101 × 6\n",
       "\\begin{tabular}{llllll}\n",
       " dibpat & age & bmi & chol & smoke & chd69\\\\\n",
       " <fct> & <int> & <dbl> & <int> & <fct> & <fct>\\\\\n",
       "\\hline\n",
       "\t Type A & 50 & 31.32101 & 249 & Yes & No\\\\\n",
       "\t Type A & 51 & 25.32858 & 194 & Yes & No\\\\\n",
       "\t Type A & 59 & 28.69388 & 258 & No  & No\\\\\n",
       "\t Type A & 51 & 22.14871 & 173 & No  & No\\\\\n",
       "\t ⋮ & ⋮ & ⋮ & ⋮ & ⋮ & ⋮\\\\\n",
       "\t Type B & 41 & 25.03378 & 180 & No  & No\\\\\n",
       "\t Type B & 53 & 25.79944 & 167 & No  & No\\\\\n",
       "\t Type B & 54 & 23.49076 & 242 & Yes & No\\\\\n",
       "\t Type B & 48 & 30.26990 & 288 & No  & No\\\\\n",
       "\\end{tabular}\n"
      ],
      "text/markdown": [
       "\n",
       "A tibble: 3101 × 6\n",
       "\n",
       "| dibpat &lt;fct&gt; | age &lt;int&gt; | bmi &lt;dbl&gt; | chol &lt;int&gt; | smoke &lt;fct&gt; | chd69 &lt;fct&gt; |\n",
       "|---|---|---|---|---|---|\n",
       "| Type A | 50 | 31.32101 | 249 | Yes | No |\n",
       "| Type A | 51 | 25.32858 | 194 | Yes | No |\n",
       "| Type A | 59 | 28.69388 | 258 | No  | No |\n",
       "| Type A | 51 | 22.14871 | 173 | No  | No |\n",
       "| ⋮ | ⋮ | ⋮ | ⋮ | ⋮ | ⋮ |\n",
       "| Type B | 41 | 25.03378 | 180 | No  | No |\n",
       "| Type B | 53 | 25.79944 | 167 | No  | No |\n",
       "| Type B | 54 | 23.49076 | 242 | Yes | No |\n",
       "| Type B | 48 | 30.26990 | 288 | No  | No |\n",
       "\n"
      ],
      "text/plain": [
       "     dibpat age bmi      chol smoke chd69\n",
       "1    Type A 50  31.32101 249  Yes   No   \n",
       "2    Type A 51  25.32858 194  Yes   No   \n",
       "3    Type A 59  28.69388 258  No    No   \n",
       "4    Type A 51  22.14871 173  No    No   \n",
       "⋮    ⋮      ⋮   ⋮        ⋮    ⋮     ⋮    \n",
       "3098 Type B 41  25.03378 180  No    No   \n",
       "3099 Type B 53  25.79944 167  No    No   \n",
       "3100 Type B 54  23.49076 242  Yes   No   \n",
       "3101 Type B 48  30.26990 288  No    No   "
      ]
     },
     "metadata": {},
     "output_type": "display_data"
    }
   ],
   "source": [
    "training_data <- wcgs %>%\n",
    "  select(dibpat, age, bmi, chol, smoke, chd69)\n",
    "training_data"
   ]
  },
  {
   "cell_type": "markdown",
   "id": "9dfb63d1",
   "metadata": {
    "slideshow": {
     "slide_type": "slide"
    }
   },
   "source": [
    "### 2.2. Main Statistical Inquiry\n",
    "\n",
    "We are interested in the following: **does a `Type A` behaviour pattern (`dibpat`) LEAD to a CHD event (`chd69`)?** From [Brand et al. (1976)](https://www.ahajournals.org/doi/pdf/10.1161/01.CIR.53.2.348), the levels of `dibpat` are defined as follows:\n",
    "\n",
    "> *Methods for the assessment of the dichotomous behavior pattern by a structured psychological interview in the\n",
    "WCGS have been described elsewhere. **Type A** behavior is characterized by enhanced aggressiveness and competitive drive, preoccupation with deadlines, and chronic impatience and sense of time urgency, in contrast with the more relaxed and less hurried **Type B** behavior pattern.*"
   ]
  },
  {
   "cell_type": "markdown",
   "id": "aad87e51",
   "metadata": {
    "slideshow": {
     "slide_type": "fragment"
    }
   },
   "source": [
    "Hence, we have an $X$ variable, a $Y$ variable, and different potential $C_j$ variables. Which variables are we focusing on?\n",
    "\n",
    "- $Y$ is binary indicator of coronary heart disease (`chd69`).\n",
    "- $X$ is binary indicator of `Type A` behaviour (`dibpat`)."
   ]
  },
  {
   "cell_type": "markdown",
   "id": "b12796ea",
   "metadata": {
    "slideshow": {
     "slide_type": "slide"
    }
   },
   "source": [
    "### 2.3. Exploratory Data Analysis\n",
    "\n",
    "Before proceeding with the statistical analysis, let us do a quick exploratory data analysis (EDA). Since we have two binary variables of interest, **stacked bar charts by proportions** are a suitable choice. The plot shows a slight increase in CHD in `Type A` behaviour (at least graphically!). Nevertheless, as usual, we need to dig deeper into the data via some suitable regression model!"
   ]
  },
  {
   "cell_type": "code",
   "execution_count": 4,
   "id": "e9cf4461",
   "metadata": {
    "slideshow": {
     "slide_type": "skip"
    }
   },
   "outputs": [],
   "source": [
    "options(repr.plot.height = 8, repr.plot.width = 14)\n",
    "\n",
    "wcgs_prop_summary <- as.data.frame(xtabs(\n",
    "  ~ dibpat + chd69,\n",
    "  training_data\n",
    ") / rowSums(xtabs(\n",
    "  ~ dibpat + chd69,\n",
    "  training_data\n",
    ")), responseName = \"prop\")\n",
    "\n",
    "wcgs_data_stacked_bars <- ggplot(wcgs_prop_summary, aes(x = dibpat, y = prop, fill = chd69)) +\n",
    "  geom_bar(stat = \"identity\", width = 0.7, colour = \"black\", linewidth = 0.1) +\n",
    "  geom_text(aes(label = ifelse(prop >= 0.05, paste0(sprintf(\"%.0f\", prop*100),\"%\"),\"\")),\n",
    "            position = position_stack(vjust = 0.5), colour = \"firebrick3\", fontface = \"bold\", size = 6) +\n",
    "  scale_y_continuous(labels = percent_format()) +\n",
    "  labs(y = \"Percentage\", x = \"Dichotomous Behavior Pattern\", fill = \"\") +\n",
    "  ggtitle(\"Stacked Bar Charts\")  +\n",
    "  theme(plot.title = element_text(size = 24, face = \"bold\"),\n",
    "        axis.text.x = element_text(size = 17, angle = 0),\n",
    "        axis.text.y = element_text(size = 17, angle = 0),\n",
    "        axis.title = element_text(size = 21),\n",
    "        legend.text = element_text(size = 17, margin = margin(r = 1, unit = \"cm\")), \n",
    "        legend.title = element_text(size = 21, face = \"bold\")) +\n",
    "  guides(fill = guide_legend(title = \"Coronary Heart Disease Event\")) + scale_fill_brewer(palette = \"Blues\")"
   ]
  },
  {
   "cell_type": "code",
   "execution_count": 5,
   "id": "90fa948d",
   "metadata": {
    "slideshow": {
     "slide_type": "fragment"
    }
   },
   "outputs": [
    {
     "data": {
      "image/png": "[encoded data removed]",
      "text/plain": [
       "plot without title"
      ]
     },
     "metadata": {
      "image/png": {
       "height": 480,
       "width": 840
      }
     },
     "output_type": "display_data"
    }
   ],
   "source": [
    "wcgs_data_stacked_bars"
   ]
  },
  {
   "cell_type": "markdown",
   "id": "4f69df2f",
   "metadata": {
    "slideshow": {
     "slide_type": "slide"
    }
   },
   "source": [
    "## 3. Key Statistical Concepts\n",
    "\n",
    "Let us mathematically define $Y$ and $X$ as an initial setup. Then, for the $i$th subject, the response `chd69` is defined as:\n",
    "\n",
    "$$\n",
    "Y_i =\n",
    "\\begin{cases}\n",
    "1 \\; \\; \\; \\; \\mbox{if the $i$th subject experienced a CHD event},\\\\\n",
    "0 \\; \\; \\; \\; \t\\mbox{otherwise.}\n",
    "\\end{cases}\n",
    "$$\n",
    "\n",
    "The variable `dibpat` is defined as:\n",
    "\n",
    "$$\n",
    "X_i =\n",
    "\\begin{cases}\n",
    "1 \\; \\; \\; \\; \\mbox{if the $i$th subject has a Type A behaviour pattern},\\\\\n",
    "0 \\; \\; \\; \\; \t\\mbox{otherwise.}\n",
    "\\end{cases}\n",
    "$$\n",
    "\n",
    "Once we have defined these variables of interest, let us continue with some key statistical concepts."
   ]
  },
  {
   "cell_type": "markdown",
   "id": "b82a01a6",
   "metadata": {
    "slideshow": {
     "slide_type": "slide"
    }
   },
   "source": [
    "### 3.1. Log-odds\n",
    "\n",
    "Recall the \"1\" category in $Y_i$ is referred as *success*. Note each $Y_i$ is a Bernoulli trial whose probability of success is $\\pi_i$, i.e., $Y_i \\sim \\text{Bernoulli}(\\pi_i)$. We are already familiar with the **log-odds**:\n",
    "\n",
    "$$\n",
    "\\log\\left( \\frac{\\pi_i}{1 - \\pi_i}  \\right).\n",
    "$$\n",
    "\n",
    "This is the **natural logarithm** of the **ratio of the probability of the event to the probability of the non-event** (i.e., the **odds**!) in $Y_i$. Moreover, **in Binary Logistic regression**, our regression coefficients can be interpreted in terms of the **log-odds**.\n",
    "\n",
    "```{important}\n",
    "The **log-odds** is to binary variables what correlation is to continuous variables.\n",
    "```"
   ]
  },
  {
   "cell_type": "markdown",
   "id": "f0674ba1",
   "metadata": {
    "slideshow": {
     "slide_type": "slide"
    }
   },
   "source": [
    "### 3.2. Estimator of the Log-Odds for One Group\n",
    "\n",
    "In a simple case with a sample size $n$, if we just have one variable (e.g., **CHD or not**), we can estimate the log-odds by just taking the logarithm of the ratio of the number of patients with CHD to those without CHD:\n",
    "\n",
    "$$\n",
    "\\text{log-odds} = \\log\\left( \\frac{n_{\\text{yes}}/n}{n_{\\text{no}}/n} \\right) = \\log\\left( \\frac{n_{\\text{yes}}}{n_{\\text{no}}} \\right).\n",
    "$$"
   ]
  },
  {
   "cell_type": "markdown",
   "id": "51cd7925",
   "metadata": {
    "slideshow": {
     "slide_type": "slide"
    }
   },
   "source": [
    "### 3.3. Estimator of the Log-Odds Ratio for Two Groups\n",
    "\n",
    "Now, let us add the variable $X$ to our statistical metrics besides the outcome $Y$. Suppose both $X$ and $Y$ are binary variables. Then, the **absolute frequencies** by each combination of factor levels can be put in a **contingency table** as follows: \n",
    "\n",
    "|  |  $Y = 1$ |  $Y = 0$ |\n",
    "|:--------------------------------------------------------------------------------------------:|:------------------:|:----------------------:|\n",
    "|                                   $X = 1$                                   |       $n_{X = 1, Y = 1}$     |      $n_{X = 1,Y = 0}$     |\n",
    "|                                       $X = 0$                                       |    $n_{X = 0, Y = 1}$    |         $n_{X = 0, Y =0}$        |\n",
    "\n",
    "```{attention}\n",
    "A **contingency table** (i.e., cross-tabulation) is merely a way to summarize the absolute frequencies between two categorical variables.\n",
    "```"
   ]
  },
  {
   "cell_type": "markdown",
   "id": "23257408",
   "metadata": {
    "slideshow": {
     "slide_type": "slide"
    }
   },
   "source": [
    "The **odds ratio (OR)** measures the **association/causation** between the binary **exposure variable** $X$ and the binary **outcome** $Y$. It will indicate the **odds** that the outcome $Y$ will happen **given** that the exposure $X$ is **present** compared to the **odds** the outcome $Y$ will happen if the exposure $X$ is **absent**. It can be represented as follows:\n",
    "\n",
    "$$\\text{OR} = \\frac{\\frac{n_{X = 1, Y = 1}/ n}{n_{X = 1,Y = 0} / n}}{\\frac{n_{X = 0, Y = 1}/ n}{n_{X = 0,Y = 0} / n}} = \\frac{\\frac{n_{X = 1, Y = 1}}{n_{X = 1,Y = 0}}}{\\frac{n_{X = 0, Y = 1}}{n_{X = 0,Y = 0}}} = \\frac{n_{X = 1, Y = 1} \\times n_{X = 0,Y = 0}}{n_{X = 1,Y = 0} \\times n_{X = 0, Y = 1}}.$$"
   ]
  },
  {
   "cell_type": "markdown",
   "id": "d849b8c7",
   "metadata": {
    "slideshow": {
     "slide_type": "fragment"
    }
   },
   "source": [
    "The OR can be interpreted as follows:\n",
    "\n",
    "- $\\text{OR} = 1$ indicates the binary exposure $X$ **DOES NOT AFFECT** the odds of the binary outcome $Y$.\n",
    "- $\\text{OR} > 1$ indicates the binary exposure $X$ **IS ASSOCIATED WITH** (**OR CAUSES!**) **higher odds** of the binary outcome $Y$.\n",
    "- $\\text{OR} < 1$ indicates the binary exposure $X$ **IS ASSOCIATED WITH** (**OR CAUSES!**) **lower odds** of the binary outcome $Y$."
   ]
  },
  {
   "cell_type": "markdown",
   "id": "4679c681",
   "metadata": {
    "slideshow": {
     "slide_type": "slide"
    }
   },
   "source": [
    "Analogously to the estimator of the log-odds for one group, we can also have an estimator of the log-OR as follows:\n",
    "    \n",
    "$$\\hat{\\text{log-OR}} = \\log \\left( \\frac{\\frac{n_{X = 1, Y = 1}}{n_{X = 1,Y = 0}}}{\\frac{n_{X = 0, Y = 1}}{n_{X = 0,Y = 0}}} \\right) = \\log \\left( \\frac{n_{X = 1, Y = 1}}{n_{X = 1,Y = 0}} \\right) - \\log \\left( \\frac{n_{X = 0, Y = 1}}{n_{X = 0,Y = 0}} \\right)$$ \n",
    "$$\\hat{\\text{log-OR}} = \\log(n_{X = 1, Y = 1}) - \\log(n_{X = 1,Y = 0}) - \\big[ \\log(n_{X = 0, Y = 1}) - \\log(n_{X = 0,Y = 0}) \\big].$$\n",
    "\n",
    "This estimator is **approximately Normal** with a large enough sample size $n$. Its standard error (SE) is:\n",
    "\n",
    "$$\\text{SE} = \\sqrt{\\frac{1}{n_{X = 1, Y = 1}} + \\frac{1}{n_{X = 1,Y = 0}} + \\frac{1}{n_{X = 0, Y = 1}} + \\frac{1}{n_{X = 0, Y =0}}}.$$"
   ]
  },
  {
   "cell_type": "markdown",
   "id": "87148c0a",
   "metadata": {
    "slideshow": {
     "slide_type": "slide"
    }
   },
   "source": [
    "We can set up the following `R` functions with a contingency `table` as an input following the previous formulas. The last function, `logOR_z`, is the test statistic `logOR_z` associated to the hypothesis:\n",
    "\n",
    "$$H_0\\text{: log-OR} = 0$$\n",
    "$$H_a\\text{: log-OR} \\neq 0$$\n",
    "\n",
    "Failing to reject $H_0$ gives statistical evidence that the binary exposure $X$ **DOES NOT AFFECT** the odds of the binary outcome $Y$ with a significance level $\\alpha$."
   ]
  },
  {
   "cell_type": "code",
   "execution_count": 6,
   "id": "b3911256",
   "metadata": {
    "slideshow": {
     "slide_type": "fragment"
    }
   },
   "outputs": [],
   "source": [
    "logOR_est <- function(table) {\n",
    "  log(table[2, 2]) - log(table[2, 1]) - (log(table[1, 2]) - log(table[1, 1]))\n",
    "}\n",
    "\n",
    "logOR_se <- function(table) {\n",
    "  sqrt(sum(1 / table))\n",
    "}\n",
    "\n",
    "logOR_z <- function(table) {\n",
    "  logOR_est(table) / logOR_se(table)\n",
    "}"
   ]
  },
  {
   "cell_type": "markdown",
   "id": "12f94830",
   "metadata": {
    "slideshow": {
     "slide_type": "slide"
    }
   },
   "source": [
    "### 3.4. Applying the log-OR to the WCGS Case\n",
    "\n",
    "Let us apply the concept of the log-OR to our training data for our two target variables: the exposure $X$ called behaviour pattern (`dibpat`) and the outcome $Y$ called CHD event (`chd69`). Function `table()` computes the corresponding contingency tables."
   ]
  },
  {
   "cell_type": "code",
   "execution_count": 7,
   "id": "9f3e6c73",
   "metadata": {
    "slideshow": {
     "slide_type": "fragment"
    }
   },
   "outputs": [
    {
     "data": {
      "text/plain": [
       "        \n",
       "           No  Yes\n",
       "  Type B 1459   78\n",
       "  Type A 1391  173"
      ]
     },
     "metadata": {},
     "output_type": "display_data"
    }
   ],
   "source": [
    "cont_table <- table(training_data$dibpat, training_data$chd69)\n",
    "cont_table"
   ]
  },
  {
   "cell_type": "markdown",
   "id": "de58e4d4",
   "metadata": {
    "slideshow": {
     "slide_type": "fragment"
    }
   },
   "source": [
    "Then, we use the function `logOR_est()`."
   ]
  },
  {
   "cell_type": "code",
   "execution_count": 8,
   "id": "980a7800",
   "metadata": {
    "slideshow": {
     "slide_type": "fragment"
    }
   },
   "outputs": [
    {
     "data": {
      "text/html": [
       "0.844"
      ],
      "text/latex": [
       "0.844"
      ],
      "text/markdown": [
       "0.844"
      ],
      "text/plain": [
       "[1] 0.844"
      ]
     },
     "metadata": {},
     "output_type": "display_data"
    }
   ],
   "source": [
    "round(logOR_est(cont_table), 3)"
   ]
  },
  {
   "cell_type": "markdown",
   "id": "c68cd477",
   "metadata": {
    "slideshow": {
     "slide_type": "slide"
    }
   },
   "source": [
    "We can obtain the interpretation of the OR by exponentiating the log-OR.\n",
    "\n",
    "An $OR > 1$ indicates the `Type A` behaviour pattern **IS ASSOCIATED WITH** (**OR POSSIBLY CAUSES!**) **higher odds** of having a CHD event."
   ]
  },
  {
   "cell_type": "code",
   "execution_count": 9,
   "id": "27fa53a5",
   "metadata": {
    "slideshow": {
     "slide_type": "fragment"
    }
   },
   "outputs": [
    {
     "data": {
      "text/html": [
       "2.326"
      ],
      "text/latex": [
       "2.326"
      ],
      "text/markdown": [
       "2.326"
      ],
      "text/plain": [
       "[1] 2.326"
      ]
     },
     "metadata": {},
     "output_type": "display_data"
    }
   ],
   "source": [
    "round(exp(logOR_est(cont_table)), 3)"
   ]
  },
  {
   "cell_type": "markdown",
   "id": "fa1175ea",
   "metadata": {
    "slideshow": {
     "slide_type": "fragment"
    }
   },
   "source": [
    "We will also obtain the corresponding SE and test statistic associated with the estimated log-OR."
   ]
  },
  {
   "cell_type": "code",
   "execution_count": 10,
   "id": "b21b851f",
   "metadata": {
    "slideshow": {
     "slide_type": "fragment"
    }
   },
   "outputs": [
    {
     "data": {
      "text/html": [
       "0.141"
      ],
      "text/latex": [
       "0.141"
      ],
      "text/markdown": [
       "0.141"
      ],
      "text/plain": [
       "[1] 0.141"
      ]
     },
     "metadata": {},
     "output_type": "display_data"
    }
   ],
   "source": [
    "round(logOR_se(cont_table), 3)"
   ]
  },
  {
   "cell_type": "code",
   "execution_count": 11,
   "id": "c160bd7c",
   "metadata": {
    "slideshow": {
     "slide_type": "fragment"
    }
   },
   "outputs": [
    {
     "data": {
      "text/html": [
       "5.969"
      ],
      "text/latex": [
       "5.969"
      ],
      "text/markdown": [
       "5.969"
      ],
      "text/plain": [
       "[1] 5.969"
      ]
     },
     "metadata": {},
     "output_type": "display_data"
    }
   ],
   "source": [
    "round(logOR_z(cont_table), 3)"
   ]
  },
  {
   "cell_type": "markdown",
   "id": "c0570a54",
   "metadata": {
    "slideshow": {
     "slide_type": "slide"
    }
   },
   "source": [
    "Finally, it can be proved that the previous estimated log-OR, SE, and test statistic can be obtained with a **Binomial Logistic regression model with a single binary regressor $X$**. We fit this model and call it `initial_bin_log`."
   ]
  },
  {
   "cell_type": "code",
   "execution_count": 12,
   "id": "c825d7b7",
   "metadata": {
    "slideshow": {
     "slide_type": "fragment"
    }
   },
   "outputs": [
    {
     "data": {
      "text/html": [
       "<table class=\"dataframe\">\n",
       "<caption>A tibble: 2 × 7</caption>\n",
       "<thead>\n",
       "\t<tr><th scope=col>term</th><th scope=col>estimate</th><th scope=col>std.error</th><th scope=col>statistic</th><th scope=col>p.value</th><th scope=col>conf.low</th><th scope=col>conf.high</th></tr>\n",
       "\t<tr><th scope=col>&lt;chr&gt;</th><th scope=col>&lt;dbl&gt;</th><th scope=col>&lt;dbl&gt;</th><th scope=col>&lt;dbl&gt;</th><th scope=col>&lt;dbl&gt;</th><th scope=col>&lt;dbl&gt;</th><th scope=col>&lt;dbl&gt;</th></tr>\n",
       "</thead>\n",
       "<tbody>\n",
       "\t<tr><td>(Intercept) </td><td>-2.929</td><td>0.116</td><td>-25.203</td><td>0</td><td>-3.165</td><td>-2.708</td></tr>\n",
       "\t<tr><td>dibpatType A</td><td> 0.844</td><td>0.141</td><td>  5.970</td><td>0</td><td> 0.571</td><td> 1.126</td></tr>\n",
       "</tbody>\n",
       "</table>\n"
      ],
      "text/latex": [
       "A tibble: 2 × 7\n",
       "\\begin{tabular}{lllllll}\n",
       " term & estimate & std.error & statistic & p.value & conf.low & conf.high\\\\\n",
       " <chr> & <dbl> & <dbl> & <dbl> & <dbl> & <dbl> & <dbl>\\\\\n",
       "\\hline\n",
       "\t (Intercept)  & -2.929 & 0.116 & -25.203 & 0 & -3.165 & -2.708\\\\\n",
       "\t dibpatType A &  0.844 & 0.141 &   5.970 & 0 &  0.571 &  1.126\\\\\n",
       "\\end{tabular}\n"
      ],
      "text/markdown": [
       "\n",
       "A tibble: 2 × 7\n",
       "\n",
       "| term &lt;chr&gt; | estimate &lt;dbl&gt; | std.error &lt;dbl&gt; | statistic &lt;dbl&gt; | p.value &lt;dbl&gt; | conf.low &lt;dbl&gt; | conf.high &lt;dbl&gt; |\n",
       "|---|---|---|---|---|---|---|\n",
       "| (Intercept)  | -2.929 | 0.116 | -25.203 | 0 | -3.165 | -2.708 |\n",
       "| dibpatType A |  0.844 | 0.141 |   5.970 | 0 |  0.571 |  1.126 |\n",
       "\n"
      ],
      "text/plain": [
       "  term         estimate std.error statistic p.value conf.low conf.high\n",
       "1 (Intercept)  -2.929   0.116     -25.203   0       -3.165   -2.708   \n",
       "2 dibpatType A  0.844   0.141       5.970   0        0.571    1.126   "
      ]
     },
     "metadata": {},
     "output_type": "display_data"
    }
   ],
   "source": [
    "initial_bin_log <- glm(chd69 ~ dibpat, data = training_data, family = binomial)\n",
    "tidy(initial_bin_log, conf.int = 0.95) %>% mutate_if(is.numeric, round, 3)"
   ]
  },
  {
   "cell_type": "markdown",
   "id": "66e6de1a",
   "metadata": {
    "slideshow": {
     "slide_type": "slide"
    }
   },
   "source": [
    "```{exercise}\n",
    ":label: lecture6-q2\n",
    "\n",
    "Can we infer causality between `dibpat` and `chd69` with this `initial_bin_log`?\n",
    "\n",
    "**A.** Yes.\n",
    "\n",
    "**B.** No.\n",
    "```"
   ]
  },
  {
   "cell_type": "markdown",
   "id": "40133a19",
   "metadata": {
    "slideshow": {
     "slide_type": "slide"
    }
   },
   "source": [
    "## 4. Stratified Analysis for Causality\n",
    "\n",
    "Stratification implicates slicing our data based on different confounding variables. This will yield a stratified analysis for causality. \n",
    "\n",
    "```{attention}\n",
    "Often, one sees the term **stratification** as a short-hand for stratified sampling (i.e., collecting subsamples within each stratum). However, this will not be the case in this analysis.\n",
    "```"
   ]
  },
  {
   "cell_type": "markdown",
   "id": "baa6efa0",
   "metadata": {
    "slideshow": {
     "slide_type": "slide"
    }
   },
   "source": [
    "### 4.1. Stratum-Specific Inference with a Single Counfounder\n",
    "\n",
    "In a stratified analysis for causality, we can make bins with a given continuous confounder. Then, we will stratify our sampled subjects by each confounder bin according to their observed value. **In an observational study, this is the PROXY to blocking in an experiment.**"
   ]
  },
  {
   "cell_type": "markdown",
   "id": "08779f80",
   "metadata": {
    "slideshow": {
     "slide_type": "fragment"
    }
   },
   "source": [
    "A fair stratifying practice with a continuous confounder is to build **quartile stratum**, i.e., split the ordered data into four parts (as we do in boxplots!). We will do it for `age` in `training_data`."
   ]
  },
  {
   "cell_type": "code",
   "execution_count": 13,
   "id": "4a4debab",
   "metadata": {
    "slideshow": {
     "slide_type": "fragment"
    }
   },
   "outputs": [
    {
     "data": {
      "text/html": [
       "<style>\n",
       ".list-inline {list-style: none; margin:0; padding: 0}\n",
       ".list-inline>li {display: inline-block}\n",
       ".list-inline>li:not(:last-child)::after {content: \"\\00b7\"; padding: 0 .5ex}\n",
       "</style>\n",
       "<ol class=list-inline><li>'[39,42]'</li><li>'(42,45]'</li><li>'(45,50]'</li><li>'(50,59]'</li></ol>\n"
      ],
      "text/latex": [
       "\\begin{enumerate*}\n",
       "\\item '{[}39,42{]}'\n",
       "\\item '(42,45{]}'\n",
       "\\item '(45,50{]}'\n",
       "\\item '(50,59{]}'\n",
       "\\end{enumerate*}\n"
      ],
      "text/markdown": [
       "1. '[39,42]'\n",
       "2. '(42,45]'\n",
       "3. '(45,50]'\n",
       "4. '(50,59]'\n",
       "\n",
       "\n"
      ],
      "text/plain": [
       "[1] \"[39,42]\" \"(42,45]\" \"(45,50]\" \"(50,59]\""
      ]
     },
     "metadata": {},
     "output_type": "display_data"
    }
   ],
   "source": [
    "training_data <- training_data %>%\n",
    "  mutate(age_bins = cut(age, breaks = c(min(age), quantile(age, (1:3) / 4), max(age)), include.lowest = TRUE))\n",
    "levels(training_data$age_bins)"
   ]
  },
  {
   "cell_type": "code",
   "execution_count": 14,
   "id": "90fa5bf5",
   "metadata": {
    "slideshow": {
     "slide_type": "fragment"
    }
   },
   "outputs": [
    {
     "data": {
      "text/html": [
       "<table class=\"dataframe\">\n",
       "<caption>A tibble: 6 × 7</caption>\n",
       "<thead>\n",
       "\t<tr><th scope=col>dibpat</th><th scope=col>age</th><th scope=col>bmi</th><th scope=col>chol</th><th scope=col>smoke</th><th scope=col>chd69</th><th scope=col>age_bins</th></tr>\n",
       "\t<tr><th scope=col>&lt;fct&gt;</th><th scope=col>&lt;int&gt;</th><th scope=col>&lt;dbl&gt;</th><th scope=col>&lt;int&gt;</th><th scope=col>&lt;fct&gt;</th><th scope=col>&lt;fct&gt;</th><th scope=col>&lt;fct&gt;</th></tr>\n",
       "</thead>\n",
       "<tbody>\n",
       "\t<tr><td>Type A</td><td>50</td><td>31.32101</td><td>249</td><td>Yes</td><td>No</td><td>(45,50]</td></tr>\n",
       "\t<tr><td>Type A</td><td>51</td><td>25.32858</td><td>194</td><td>Yes</td><td>No</td><td>(50,59]</td></tr>\n",
       "\t<tr><td>Type A</td><td>59</td><td>28.69388</td><td>258</td><td>No </td><td>No</td><td>(50,59]</td></tr>\n",
       "\t<tr><td>Type A</td><td>51</td><td>22.14871</td><td>173</td><td>No </td><td>No</td><td>(50,59]</td></tr>\n",
       "\t<tr><td>Type A</td><td>44</td><td>22.31303</td><td>214</td><td>No </td><td>No</td><td>(42,45]</td></tr>\n",
       "\t<tr><td>Type A</td><td>47</td><td>27.11768</td><td>206</td><td>Yes</td><td>No</td><td>(45,50]</td></tr>\n",
       "</tbody>\n",
       "</table>\n"
      ],
      "text/latex": [
       "A tibble: 6 × 7\n",
       "\\begin{tabular}{lllllll}\n",
       " dibpat & age & bmi & chol & smoke & chd69 & age\\_bins\\\\\n",
       " <fct> & <int> & <dbl> & <int> & <fct> & <fct> & <fct>\\\\\n",
       "\\hline\n",
       "\t Type A & 50 & 31.32101 & 249 & Yes & No & (45,50{]}\\\\\n",
       "\t Type A & 51 & 25.32858 & 194 & Yes & No & (50,59{]}\\\\\n",
       "\t Type A & 59 & 28.69388 & 258 & No  & No & (50,59{]}\\\\\n",
       "\t Type A & 51 & 22.14871 & 173 & No  & No & (50,59{]}\\\\\n",
       "\t Type A & 44 & 22.31303 & 214 & No  & No & (42,45{]}\\\\\n",
       "\t Type A & 47 & 27.11768 & 206 & Yes & No & (45,50{]}\\\\\n",
       "\\end{tabular}\n"
      ],
      "text/markdown": [
       "\n",
       "A tibble: 6 × 7\n",
       "\n",
       "| dibpat &lt;fct&gt; | age &lt;int&gt; | bmi &lt;dbl&gt; | chol &lt;int&gt; | smoke &lt;fct&gt; | chd69 &lt;fct&gt; | age_bins &lt;fct&gt; |\n",
       "|---|---|---|---|---|---|---|\n",
       "| Type A | 50 | 31.32101 | 249 | Yes | No | (45,50] |\n",
       "| Type A | 51 | 25.32858 | 194 | Yes | No | (50,59] |\n",
       "| Type A | 59 | 28.69388 | 258 | No  | No | (50,59] |\n",
       "| Type A | 51 | 22.14871 | 173 | No  | No | (50,59] |\n",
       "| Type A | 44 | 22.31303 | 214 | No  | No | (42,45] |\n",
       "| Type A | 47 | 27.11768 | 206 | Yes | No | (45,50] |\n",
       "\n"
      ],
      "text/plain": [
       "  dibpat age bmi      chol smoke chd69 age_bins\n",
       "1 Type A 50  31.32101 249  Yes   No    (45,50] \n",
       "2 Type A 51  25.32858 194  Yes   No    (50,59] \n",
       "3 Type A 59  28.69388 258  No    No    (50,59] \n",
       "4 Type A 51  22.14871 173  No    No    (50,59] \n",
       "5 Type A 44  22.31303 214  No    No    (42,45] \n",
       "6 Type A 47  27.11768 206  Yes   No    (45,50] "
      ]
     },
     "metadata": {},
     "output_type": "display_data"
    }
   ],
   "source": [
    "head(training_data)"
   ]
  },
  {
   "cell_type": "markdown",
   "id": "ec04a7b9",
   "metadata": {
    "slideshow": {
     "slide_type": "slide"
    }
   },
   "source": [
    "Then, as we did it previously with the **overall contingency table**, we will build four specific contingency tables by each `age` stratum of the $X$ `dibpat` versus the $Y$ `chd69`."
   ]
  },
  {
   "cell_type": "code",
   "execution_count": 15,
   "id": "2275e58b",
   "metadata": {
    "slideshow": {
     "slide_type": "fragment"
    }
   },
   "outputs": [
    {
     "data": {
      "text/plain": [
       ", , age_bins = [39,42]\n",
       "\n",
       "        chd69\n",
       "dibpat    No Yes\n",
       "  Type B 504  17\n",
       "  Type A 432  30\n",
       "\n",
       ", , age_bins = (42,45]\n",
       "\n",
       "        chd69\n",
       "dibpat    No Yes\n",
       "  Type B 326  15\n",
       "  Type A 262  21\n",
       "\n",
       ", , age_bins = (45,50]\n",
       "\n",
       "        chd69\n",
       "dibpat    No Yes\n",
       "  Type B 340  21\n",
       "  Type A 332  49\n",
       "\n",
       ", , age_bins = (50,59]\n",
       "\n",
       "        chd69\n",
       "dibpat    No Yes\n",
       "  Type B 289  25\n",
       "  Type A 365  73\n"
      ]
     },
     "metadata": {},
     "output_type": "display_data"
    }
   ],
   "source": [
    "attach(training_data)\n",
    "table(dibpat, chd69, age_bins)"
   ]
  },
  {
   "cell_type": "markdown",
   "id": "d72ee9a3",
   "metadata": {
    "slideshow": {
     "slide_type": "slide"
    }
   },
   "source": [
    "Then, we obtain the estimate log-OR by `age` stratum."
   ]
  },
  {
   "cell_type": "code",
   "execution_count": 16,
   "id": "d8af98af",
   "metadata": {
    "slideshow": {
     "slide_type": "fragment"
    }
   },
   "outputs": [
    {
     "data": {
      "text/html": [
       "<table class=\"dataframe\">\n",
       "<caption>A matrix: 1 × 4 of type dbl</caption>\n",
       "<thead>\n",
       "\t<tr><th scope=col>[39,42]</th><th scope=col>(42,45]</th><th scope=col>(45,50]</th><th scope=col>(50,59]</th></tr>\n",
       "</thead>\n",
       "<tbody>\n",
       "\t<tr><td>0.722</td><td>0.555</td><td>0.871</td><td>0.838</td></tr>\n",
       "</tbody>\n",
       "</table>\n"
      ],
      "text/latex": [
       "A matrix: 1 × 4 of type dbl\n",
       "\\begin{tabular}{llll}\n",
       " {[}39,42{]} & (42,45{]} & (45,50{]} & (50,59{]}\\\\\n",
       "\\hline\n",
       "\t 0.722 & 0.555 & 0.871 & 0.838\\\\\n",
       "\\end{tabular}\n"
      ],
      "text/markdown": [
       "\n",
       "A matrix: 1 × 4 of type dbl\n",
       "\n",
       "| [39,42] | (42,45] | (45,50] | (50,59] |\n",
       "|---|---|---|---|\n",
       "| 0.722 | 0.555 | 0.871 | 0.838 |\n",
       "\n"
      ],
      "text/plain": [
       "     [39,42] (42,45] (45,50] (50,59]\n",
       "[1,] 0.722   0.555   0.871   0.838  "
      ]
     },
     "metadata": {},
     "output_type": "display_data"
    }
   ],
   "source": [
    "log_OR_age <- matrix(round(apply(table(dibpat, chd69, age_bins), 3, logOR_est), 3), ncol = 4)\n",
    "colnames(log_OR_age) <- levels(training_data$age_bins)\n",
    "log_OR_age"
   ]
  },
  {
   "cell_type": "markdown",
   "id": "3f72d9a6",
   "metadata": {
    "slideshow": {
     "slide_type": "fragment"
    }
   },
   "source": [
    "If we exponentiate the previous estimates, we obtain the corresponding ORs by age stratum. Note that all ORs are larger than 1."
   ]
  },
  {
   "cell_type": "code",
   "execution_count": 17,
   "id": "42dfc54f",
   "metadata": {
    "slideshow": {
     "slide_type": "fragment"
    }
   },
   "outputs": [
    {
     "data": {
      "text/html": [
       "<table class=\"dataframe\">\n",
       "<caption>A matrix: 1 × 4 of type dbl</caption>\n",
       "<thead>\n",
       "\t<tr><th scope=col>[39,42]</th><th scope=col>(42,45]</th><th scope=col>(45,50]</th><th scope=col>(50,59]</th></tr>\n",
       "</thead>\n",
       "<tbody>\n",
       "\t<tr><td>2.059</td><td>1.742</td><td>2.39</td><td>2.312</td></tr>\n",
       "</tbody>\n",
       "</table>\n"
      ],
      "text/latex": [
       "A matrix: 1 × 4 of type dbl\n",
       "\\begin{tabular}{llll}\n",
       " {[}39,42{]} & (42,45{]} & (45,50{]} & (50,59{]}\\\\\n",
       "\\hline\n",
       "\t 2.059 & 1.742 & 2.39 & 2.312\\\\\n",
       "\\end{tabular}\n"
      ],
      "text/markdown": [
       "\n",
       "A matrix: 1 × 4 of type dbl\n",
       "\n",
       "| [39,42] | (42,45] | (45,50] | (50,59] |\n",
       "|---|---|---|---|\n",
       "| 2.059 | 1.742 | 2.39 | 2.312 |\n",
       "\n"
      ],
      "text/plain": [
       "     [39,42] (42,45] (45,50] (50,59]\n",
       "[1,] 2.059   1.742   2.39    2.312  "
      ]
     },
     "metadata": {},
     "output_type": "display_data"
    }
   ],
   "source": [
    "OR_age <- matrix(round(exp(apply(table(dibpat, chd69, age_bins), 3, logOR_est)), 3), ncol = 4)\n",
    "colnames(OR_age) <- levels(training_data$age_bins)\n",
    "OR_age"
   ]
  },
  {
   "cell_type": "markdown",
   "id": "33f2ba5e",
   "metadata": {
    "slideshow": {
     "slide_type": "slide"
    }
   },
   "source": [
    "We also obtain the SEs and test statistics by `age` stratum."
   ]
  },
  {
   "cell_type": "code",
   "execution_count": 18,
   "id": "33bd63bb",
   "metadata": {
    "slideshow": {
     "slide_type": "fragment"
    }
   },
   "outputs": [
    {
     "data": {
      "text/html": [
       "<table class=\"dataframe\">\n",
       "<caption>A matrix: 1 × 4 of type dbl</caption>\n",
       "<thead>\n",
       "\t<tr><th scope=col>[39,42]</th><th scope=col>(42,45]</th><th scope=col>(45,50]</th><th scope=col>(50,59]</th></tr>\n",
       "</thead>\n",
       "<tbody>\n",
       "\t<tr><td>0.311</td><td>0.348</td><td>0.272</td><td>0.245</td></tr>\n",
       "</tbody>\n",
       "</table>\n"
      ],
      "text/latex": [
       "A matrix: 1 × 4 of type dbl\n",
       "\\begin{tabular}{llll}\n",
       " {[}39,42{]} & (42,45{]} & (45,50{]} & (50,59{]}\\\\\n",
       "\\hline\n",
       "\t 0.311 & 0.348 & 0.272 & 0.245\\\\\n",
       "\\end{tabular}\n"
      ],
      "text/markdown": [
       "\n",
       "A matrix: 1 × 4 of type dbl\n",
       "\n",
       "| [39,42] | (42,45] | (45,50] | (50,59] |\n",
       "|---|---|---|---|\n",
       "| 0.311 | 0.348 | 0.272 | 0.245 |\n",
       "\n"
      ],
      "text/plain": [
       "     [39,42] (42,45] (45,50] (50,59]\n",
       "[1,] 0.311   0.348   0.272   0.245  "
      ]
     },
     "metadata": {},
     "output_type": "display_data"
    }
   ],
   "source": [
    "sd_log_OR_age <- matrix(round(apply(table(dibpat, chd69, age_bins), 3, logOR_se), 3), ncol = 4)\n",
    "colnames(sd_log_OR_age) <- levels(training_data$age_bins)\n",
    "sd_log_OR_age"
   ]
  },
  {
   "cell_type": "markdown",
   "id": "430a6d35",
   "metadata": {
    "slideshow": {
     "slide_type": "fragment"
    }
   },
   "source": [
    "With $\\alpha = 0.05$ and a two-sided test\n",
    "\n",
    "$$H_0\\text{: log-OR} = 0$$\n",
    "$$H_a\\text{: log-OR} \\neq 0,$$\n",
    "\n",
    "our quantile cuttoff value $z_{1 - \\alpha/2} = 1.96$. Therefore, we have statistical evidence to reject $H_0$ (recall $H_0$ indicates the binary exposure $X$ **DOES NOT AFFECT** the odds of the binary outcome $Y$) for all `age` stratum except for `(42,45]`."
   ]
  },
  {
   "cell_type": "code",
   "execution_count": 19,
   "id": "d4412d97",
   "metadata": {
    "slideshow": {
     "slide_type": "fragment"
    }
   },
   "outputs": [
    {
     "data": {
      "text/html": [
       "<table class=\"dataframe\">\n",
       "<caption>A matrix: 1 × 4 of type dbl</caption>\n",
       "<thead>\n",
       "\t<tr><th scope=col>[39,42]</th><th scope=col>(42,45]</th><th scope=col>(45,50]</th><th scope=col>(50,59]</th></tr>\n",
       "</thead>\n",
       "<tbody>\n",
       "\t<tr><td>2.325</td><td>1.594</td><td>3.203</td><td>3.424</td></tr>\n",
       "</tbody>\n",
       "</table>\n"
      ],
      "text/latex": [
       "A matrix: 1 × 4 of type dbl\n",
       "\\begin{tabular}{llll}\n",
       " {[}39,42{]} & (42,45{]} & (45,50{]} & (50,59{]}\\\\\n",
       "\\hline\n",
       "\t 2.325 & 1.594 & 3.203 & 3.424\\\\\n",
       "\\end{tabular}\n"
      ],
      "text/markdown": [
       "\n",
       "A matrix: 1 × 4 of type dbl\n",
       "\n",
       "| [39,42] | (42,45] | (45,50] | (50,59] |\n",
       "|---|---|---|---|\n",
       "| 2.325 | 1.594 | 3.203 | 3.424 |\n",
       "\n"
      ],
      "text/plain": [
       "     [39,42] (42,45] (45,50] (50,59]\n",
       "[1,] 2.325   1.594   3.203   3.424  "
      ]
     },
     "metadata": {},
     "output_type": "display_data"
    }
   ],
   "source": [
    "test_log_OR_age <- matrix(round(apply(table(dibpat, chd69, age_bins), 3, logOR_z), 3), ncol = 4)\n",
    "colnames(test_log_OR_age) <- levels(training_data$age_bins)\n",
    "test_log_OR_age"
   ]
  },
  {
   "cell_type": "markdown",
   "id": "cf4fdd2c",
   "metadata": {
    "slideshow": {
     "slide_type": "slide"
    }
   },
   "source": [
    "```{admonition} What did we just do in this whole analysis?\n",
    ":class: hint\n",
    "Assuming `age` is the only possible confounder in this population, we take away its potential of biasing our effect estimates of $X$ on $Y$. Ideally, this stratification technique will yield more accurate estimates in the form of log-ORs.\n",
    "\n",
    "Note you can make different `age` strata if necessary. This will depend on what is specifically of interest for your main statistical inquiry.\n",
    "```"
   ]
  },
  {
   "cell_type": "markdown",
   "id": "6989448e",
   "metadata": {
    "slideshow": {
     "slide_type": "slide"
    }
   },
   "source": [
    "### 4.2. Stratum-Specific Causal Inference with Multiple Counfounders\n",
    "\n",
    "Now that we have done this stratified analysis by `age`, it is also possible to expand it to multiple confounders $C_j$. Hence, let us incorporate `bmi` as another confounder in the form of four strata by quartile."
   ]
  },
  {
   "cell_type": "code",
   "execution_count": 20,
   "id": "fd4c3bd9",
   "metadata": {
    "slideshow": {
     "slide_type": "fragment"
    }
   },
   "outputs": [],
   "source": [
    "detach(training_data)"
   ]
  },
  {
   "cell_type": "code",
   "execution_count": 21,
   "id": "34a023c4",
   "metadata": {
    "slideshow": {
     "slide_type": "fragment"
    }
   },
   "outputs": [
    {
     "data": {
      "text/html": [
       "<style>\n",
       ".list-inline {list-style: none; margin:0; padding: 0}\n",
       ".list-inline>li {display: inline-block}\n",
       ".list-inline>li:not(:last-child)::after {content: \"\\00b7\"; padding: 0 .5ex}\n",
       "</style>\n",
       "<ol class=list-inline><li>'[11.2,23]'</li><li>'(23,24.4]'</li><li>'(24.4,25.8]'</li><li>'(25.8,38.9]'</li></ol>\n"
      ],
      "text/latex": [
       "\\begin{enumerate*}\n",
       "\\item '{[}11.2,23{]}'\n",
       "\\item '(23,24.4{]}'\n",
       "\\item '(24.4,25.8{]}'\n",
       "\\item '(25.8,38.9{]}'\n",
       "\\end{enumerate*}\n"
      ],
      "text/markdown": [
       "1. '[11.2,23]'\n",
       "2. '(23,24.4]'\n",
       "3. '(24.4,25.8]'\n",
       "4. '(25.8,38.9]'\n",
       "\n",
       "\n"
      ],
      "text/plain": [
       "[1] \"[11.2,23]\"   \"(23,24.4]\"   \"(24.4,25.8]\" \"(25.8,38.9]\""
      ]
     },
     "metadata": {},
     "output_type": "display_data"
    }
   ],
   "source": [
    "training_data <- training_data %>%\n",
    "  mutate(bmi_bins = cut(bmi, breaks = c(min(bmi), quantile(bmi, (1:3) / 4), max(bmi)), include.lowest = TRUE))\n",
    "levels(training_data$bmi_bins)"
   ]
  },
  {
   "cell_type": "markdown",
   "id": "70d69402",
   "metadata": {
    "slideshow": {
     "slide_type": "slide"
    }
   },
   "source": [
    "If we stratify by age group (4 levels), smoking status (2 levels), BMI quartile (4 levels); we will end with following possible combinations of stratum levels:\n",
    "\n",
    "$$4 \\times 2 \\times 4 = 32$$"
   ]
  },
  {
   "cell_type": "code",
   "execution_count": 22,
   "id": "ef28e8e4",
   "metadata": {
    "slideshow": {
     "slide_type": "fragment"
    }
   },
   "outputs": [
    {
     "data": {
      "text/html": [
       "<table class=\"dataframe\">\n",
       "<caption>A tibble: 6 × 8</caption>\n",
       "<thead>\n",
       "\t<tr><th scope=col>dibpat</th><th scope=col>age</th><th scope=col>bmi</th><th scope=col>chol</th><th scope=col>smoke</th><th scope=col>chd69</th><th scope=col>age_bins</th><th scope=col>bmi_bins</th></tr>\n",
       "\t<tr><th scope=col>&lt;fct&gt;</th><th scope=col>&lt;int&gt;</th><th scope=col>&lt;dbl&gt;</th><th scope=col>&lt;int&gt;</th><th scope=col>&lt;fct&gt;</th><th scope=col>&lt;fct&gt;</th><th scope=col>&lt;fct&gt;</th><th scope=col>&lt;fct&gt;</th></tr>\n",
       "</thead>\n",
       "<tbody>\n",
       "\t<tr><td>Type A</td><td>50</td><td>31.32101</td><td>249</td><td>Yes</td><td>No</td><td>(45,50]</td><td>(25.8,38.9]</td></tr>\n",
       "\t<tr><td>Type A</td><td>51</td><td>25.32858</td><td>194</td><td>Yes</td><td>No</td><td>(50,59]</td><td>(24.4,25.8]</td></tr>\n",
       "\t<tr><td>Type A</td><td>59</td><td>28.69388</td><td>258</td><td>No </td><td>No</td><td>(50,59]</td><td>(25.8,38.9]</td></tr>\n",
       "\t<tr><td>Type A</td><td>51</td><td>22.14871</td><td>173</td><td>No </td><td>No</td><td>(50,59]</td><td>[11.2,23]  </td></tr>\n",
       "\t<tr><td>Type A</td><td>44</td><td>22.31303</td><td>214</td><td>No </td><td>No</td><td>(42,45]</td><td>[11.2,23]  </td></tr>\n",
       "\t<tr><td>Type A</td><td>47</td><td>27.11768</td><td>206</td><td>Yes</td><td>No</td><td>(45,50]</td><td>(25.8,38.9]</td></tr>\n",
       "</tbody>\n",
       "</table>\n"
      ],
      "text/latex": [
       "A tibble: 6 × 8\n",
       "\\begin{tabular}{llllllll}\n",
       " dibpat & age & bmi & chol & smoke & chd69 & age\\_bins & bmi\\_bins\\\\\n",
       " <fct> & <int> & <dbl> & <int> & <fct> & <fct> & <fct> & <fct>\\\\\n",
       "\\hline\n",
       "\t Type A & 50 & 31.32101 & 249 & Yes & No & (45,50{]} & (25.8,38.9{]}\\\\\n",
       "\t Type A & 51 & 25.32858 & 194 & Yes & No & (50,59{]} & (24.4,25.8{]}\\\\\n",
       "\t Type A & 59 & 28.69388 & 258 & No  & No & (50,59{]} & (25.8,38.9{]}\\\\\n",
       "\t Type A & 51 & 22.14871 & 173 & No  & No & (50,59{]} & {[}11.2,23{]}  \\\\\n",
       "\t Type A & 44 & 22.31303 & 214 & No  & No & (42,45{]} & {[}11.2,23{]}  \\\\\n",
       "\t Type A & 47 & 27.11768 & 206 & Yes & No & (45,50{]} & (25.8,38.9{]}\\\\\n",
       "\\end{tabular}\n"
      ],
      "text/markdown": [
       "\n",
       "A tibble: 6 × 8\n",
       "\n",
       "| dibpat &lt;fct&gt; | age &lt;int&gt; | bmi &lt;dbl&gt; | chol &lt;int&gt; | smoke &lt;fct&gt; | chd69 &lt;fct&gt; | age_bins &lt;fct&gt; | bmi_bins &lt;fct&gt; |\n",
       "|---|---|---|---|---|---|---|---|\n",
       "| Type A | 50 | 31.32101 | 249 | Yes | No | (45,50] | (25.8,38.9] |\n",
       "| Type A | 51 | 25.32858 | 194 | Yes | No | (50,59] | (24.4,25.8] |\n",
       "| Type A | 59 | 28.69388 | 258 | No  | No | (50,59] | (25.8,38.9] |\n",
       "| Type A | 51 | 22.14871 | 173 | No  | No | (50,59] | [11.2,23]   |\n",
       "| Type A | 44 | 22.31303 | 214 | No  | No | (42,45] | [11.2,23]   |\n",
       "| Type A | 47 | 27.11768 | 206 | Yes | No | (45,50] | (25.8,38.9] |\n",
       "\n"
      ],
      "text/plain": [
       "  dibpat age bmi      chol smoke chd69 age_bins bmi_bins   \n",
       "1 Type A 50  31.32101 249  Yes   No    (45,50]  (25.8,38.9]\n",
       "2 Type A 51  25.32858 194  Yes   No    (50,59]  (24.4,25.8]\n",
       "3 Type A 59  28.69388 258  No    No    (50,59]  (25.8,38.9]\n",
       "4 Type A 51  22.14871 173  No    No    (50,59]  [11.2,23]  \n",
       "5 Type A 44  22.31303 214  No    No    (42,45]  [11.2,23]  \n",
       "6 Type A 47  27.11768 206  Yes   No    (45,50]  (25.8,38.9]"
      ]
     },
     "metadata": {},
     "output_type": "display_data"
    }
   ],
   "source": [
    "head(training_data)"
   ]
  },
  {
   "cell_type": "markdown",
   "id": "73c76d2f",
   "metadata": {
    "slideshow": {
     "slide_type": "slide"
    }
   },
   "source": [
    "Then, we build **32 specific contingency tables** by each stratum of the $X$ `dibpat` versus the $Y$ `chd69`."
   ]
  },
  {
   "cell_type": "code",
   "execution_count": 23,
   "id": "d6ebcb09",
   "metadata": {
    "slideshow": {
     "slide_type": "fragment"
    }
   },
   "outputs": [],
   "source": [
    "attach(training_data)\n",
    "\n",
    "mult_cont_tables <- table(dibpat, chd69, age_bins, smoke, bmi_bins)"
   ]
  },
  {
   "cell_type": "markdown",
   "id": "9fdc92f6",
   "metadata": {
    "slideshow": {
     "slide_type": "slide"
    }
   },
   "source": [
    "The object `mult_cont_tables` is multidimensional as follows:"
   ]
  },
  {
   "cell_type": "code",
   "execution_count": 24,
   "id": "39c5df6f",
   "metadata": {
    "slideshow": {
     "slide_type": "fragment"
    }
   },
   "outputs": [
    {
     "data": {
      "text/html": [
       "<style>\n",
       ".list-inline {list-style: none; margin:0; padding: 0}\n",
       ".list-inline>li {display: inline-block}\n",
       ".list-inline>li:not(:last-child)::after {content: \"\\00b7\"; padding: 0 .5ex}\n",
       "</style>\n",
       "<ol class=list-inline><li>2</li><li>2</li><li>4</li><li>2</li><li>4</li></ol>\n"
      ],
      "text/latex": [
       "\\begin{enumerate*}\n",
       "\\item 2\n",
       "\\item 2\n",
       "\\item 4\n",
       "\\item 2\n",
       "\\item 4\n",
       "\\end{enumerate*}\n"
      ],
      "text/markdown": [
       "1. 2\n",
       "2. 2\n",
       "3. 4\n",
       "4. 2\n",
       "5. 4\n",
       "\n",
       "\n"
      ],
      "text/plain": [
       "[1] 2 2 4 2 4"
      ]
     },
     "metadata": {},
     "output_type": "display_data"
    }
   ],
   "source": [
    "dim(mult_cont_tables)"
   ]
  },
  {
   "cell_type": "markdown",
   "id": "c33cfcd2",
   "metadata": {
    "slideshow": {
     "slide_type": "fragment"
    }
   },
   "source": [
    "We can access a given contingency table with the syntax below (for instance, for stratum `(45,50]` in `age`, `Yes` in `smoke`, and `(25.8,38.9]` in `bmi`)."
   ]
  },
  {
   "cell_type": "code",
   "execution_count": 25,
   "id": "06a0b215",
   "metadata": {
    "slideshow": {
     "slide_type": "fragment"
    }
   },
   "outputs": [
    {
     "data": {
      "text/plain": [
       "        chd69\n",
       "dibpat   No Yes\n",
       "  Type B 30   4\n",
       "  Type A 36   5"
      ]
     },
     "metadata": {},
     "output_type": "display_data"
    }
   ],
   "source": [
    "mult_cont_tables[ , , 3, 2, 4]"
   ]
  },
  {
   "cell_type": "markdown",
   "id": "dbbdd6c8",
   "metadata": {
    "slideshow": {
     "slide_type": "fragment"
    }
   },
   "source": [
    "Note, that is also possible to check how many subjects we have in each one stratum."
   ]
  },
  {
   "cell_type": "code",
   "execution_count": 26,
   "id": "c4dc92e9",
   "metadata": {
    "slideshow": {
     "slide_type": "fragment"
    }
   },
   "outputs": [
    {
     "data": {
      "text/html": [
       "<style>\n",
       ".list-inline {list-style: none; margin:0; padding: 0}\n",
       ".list-inline>li {display: inline-block}\n",
       ".list-inline>li:not(:last-child)::after {content: \"\\00b7\"; padding: 0 .5ex}\n",
       "</style>\n",
       "<ol class=list-inline><li>119</li><li>79</li><li>69</li><li>76</li><li>147</li><li>84</li><li>121</li><li>115</li><li>136</li><li>64</li><li>96</li><li>93</li><li>107</li><li>73</li><li>81</li><li>99</li><li>136</li><li>97</li><li>107</li><li>99</li><li>115</li><li>72</li><li>83</li><li>69</li><li>131</li><li>93</li><li>110</li><li>124</li><li>92</li><li>62</li><li>75</li><li>77</li></ol>\n"
      ],
      "text/latex": [
       "\\begin{enumerate*}\n",
       "\\item 119\n",
       "\\item 79\n",
       "\\item 69\n",
       "\\item 76\n",
       "\\item 147\n",
       "\\item 84\n",
       "\\item 121\n",
       "\\item 115\n",
       "\\item 136\n",
       "\\item 64\n",
       "\\item 96\n",
       "\\item 93\n",
       "\\item 107\n",
       "\\item 73\n",
       "\\item 81\n",
       "\\item 99\n",
       "\\item 136\n",
       "\\item 97\n",
       "\\item 107\n",
       "\\item 99\n",
       "\\item 115\n",
       "\\item 72\n",
       "\\item 83\n",
       "\\item 69\n",
       "\\item 131\n",
       "\\item 93\n",
       "\\item 110\n",
       "\\item 124\n",
       "\\item 92\n",
       "\\item 62\n",
       "\\item 75\n",
       "\\item 77\n",
       "\\end{enumerate*}\n"
      ],
      "text/markdown": [
       "1. 119\n",
       "2. 79\n",
       "3. 69\n",
       "4. 76\n",
       "5. 147\n",
       "6. 84\n",
       "7. 121\n",
       "8. 115\n",
       "9. 136\n",
       "10. 64\n",
       "11. 96\n",
       "12. 93\n",
       "13. 107\n",
       "14. 73\n",
       "15. 81\n",
       "16. 99\n",
       "17. 136\n",
       "18. 97\n",
       "19. 107\n",
       "20. 99\n",
       "21. 115\n",
       "22. 72\n",
       "23. 83\n",
       "24. 69\n",
       "25. 131\n",
       "26. 93\n",
       "27. 110\n",
       "28. 124\n",
       "29. 92\n",
       "30. 62\n",
       "31. 75\n",
       "32. 77\n",
       "\n",
       "\n"
      ],
      "text/plain": [
       ", , bmi_bins = [11.2,23]\n",
       "\n",
       "         smoke\n",
       "age_bins   No Yes\n",
       "  [39,42] 119 147\n",
       "  (42,45]  79  84\n",
       "  (45,50]  69 121\n",
       "  (50,59]  76 115\n",
       "\n",
       ", , bmi_bins = (23,24.4]\n",
       "\n",
       "         smoke\n",
       "age_bins   No Yes\n",
       "  [39,42] 136 107\n",
       "  (42,45]  64  73\n",
       "  (45,50]  96  81\n",
       "  (50,59]  93  99\n",
       "\n",
       ", , bmi_bins = (24.4,25.8]\n",
       "\n",
       "         smoke\n",
       "age_bins   No Yes\n",
       "  [39,42] 136 115\n",
       "  (42,45]  97  72\n",
       "  (45,50] 107  83\n",
       "  (50,59]  99  69\n",
       "\n",
       ", , bmi_bins = (25.8,38.9]\n",
       "\n",
       "         smoke\n",
       "age_bins   No Yes\n",
       "  [39,42] 131  92\n",
       "  (42,45]  93  62\n",
       "  (45,50] 110  75\n",
       "  (50,59] 124  77\n"
      ]
     },
     "metadata": {},
     "output_type": "display_data"
    }
   ],
   "source": [
    "# Subjects in each one of the strata\n",
    "n_strata <- apply(mult_cont_tables, 3:5, sum)\n",
    "n_strata"
   ]
  },
  {
   "cell_type": "markdown",
   "id": "fd165731",
   "metadata": {
    "slideshow": {
     "slide_type": "slide"
    }
   },
   "source": [
    "For each one of these 32 strata, we can obtain their corresponding estimates for the log-ORs, their SEs, and test statistics. Note that some strata show `NaN`, `Inf`, or `-Inf`; this happens because some contingency tables had cells with the value of zero as an absolute frequency. Hence, computations are not possible.\n",
    "\n",
    "```{attention}\n",
    "We can already see we are running into issues. The more variables we stratify, the smaller the subsample size within each stratum. Therefore, we might not have enough sampled subjects by strata!\n",
    "```"
   ]
  },
  {
   "cell_type": "code",
   "execution_count": 27,
   "id": "fbef3281",
   "metadata": {
    "slideshow": {
     "slide_type": "fragment"
    }
   },
   "outputs": [
    {
     "data": {
      "text/html": [
       "<style>\n",
       ".list-inline {list-style: none; margin:0; padding: 0}\n",
       ".list-inline>li {display: inline-block}\n",
       ".list-inline>li:not(:last-child)::after {content: \"\\00b7\"; padding: 0 .5ex}\n",
       "</style>\n",
       "<ol class=list-inline><li>Inf</li><li>NaN</li><li>1.634</li><li>0.611</li><li>-0.294</li><li>0.583</li><li>0.182</li><li>0.4</li><li>1.099</li><li>NaN</li><li>0.321</li><li>0.635</li><li>0.775</li><li>0.405</li><li>2.253</li><li>0.361</li><li>0.972</li><li>-Inf</li><li>-0.405</li><li>0.981</li><li>1.643</li><li>0.405</li><li>0.889</li><li>0.734</li><li>0.209</li><li>1.245</li><li>2.099</li><li>1.887</li><li>0.74</li><li>0.511</li><li>0.041</li><li>0.934</li></ol>\n"
      ],
      "text/latex": [
       "\\begin{enumerate*}\n",
       "\\item Inf\n",
       "\\item NaN\n",
       "\\item 1.634\n",
       "\\item 0.611\n",
       "\\item -0.294\n",
       "\\item 0.583\n",
       "\\item 0.182\n",
       "\\item 0.4\n",
       "\\item 1.099\n",
       "\\item NaN\n",
       "\\item 0.321\n",
       "\\item 0.635\n",
       "\\item 0.775\n",
       "\\item 0.405\n",
       "\\item 2.253\n",
       "\\item 0.361\n",
       "\\item 0.972\n",
       "\\item -Inf\n",
       "\\item -0.405\n",
       "\\item 0.981\n",
       "\\item 1.643\n",
       "\\item 0.405\n",
       "\\item 0.889\n",
       "\\item 0.734\n",
       "\\item 0.209\n",
       "\\item 1.245\n",
       "\\item 2.099\n",
       "\\item 1.887\n",
       "\\item 0.74\n",
       "\\item 0.511\n",
       "\\item 0.041\n",
       "\\item 0.934\n",
       "\\end{enumerate*}\n"
      ],
      "text/markdown": [
       "1. Inf\n",
       "2. NaN\n",
       "3. 1.634\n",
       "4. 0.611\n",
       "5. -0.294\n",
       "6. 0.583\n",
       "7. 0.182\n",
       "8. 0.4\n",
       "9. 1.099\n",
       "10. NaN\n",
       "11. 0.321\n",
       "12. 0.635\n",
       "13. 0.775\n",
       "14. 0.405\n",
       "15. 2.253\n",
       "16. 0.361\n",
       "17. 0.972\n",
       "18. -Inf\n",
       "19. -0.405\n",
       "20. 0.981\n",
       "21. 1.643\n",
       "22. 0.405\n",
       "23. 0.889\n",
       "24. 0.734\n",
       "25. 0.209\n",
       "26. 1.245\n",
       "27. 2.099\n",
       "28. 1.887\n",
       "29. 0.74\n",
       "30. 0.511\n",
       "31. 0.041\n",
       "32. 0.934\n",
       "\n",
       "\n"
      ],
      "text/plain": [
       ", , bmi_bins = [11.2,23]\n",
       "\n",
       "         smoke\n",
       "age_bins     No    Yes\n",
       "  [39,42]   Inf -0.294\n",
       "  (42,45]   NaN  0.583\n",
       "  (45,50] 1.634  0.182\n",
       "  (50,59] 0.611  0.400\n",
       "\n",
       ", , bmi_bins = (23,24.4]\n",
       "\n",
       "         smoke\n",
       "age_bins     No   Yes\n",
       "  [39,42] 1.099 0.775\n",
       "  (42,45]   NaN 0.405\n",
       "  (45,50] 0.321 2.253\n",
       "  (50,59] 0.635 0.361\n",
       "\n",
       ", , bmi_bins = (24.4,25.8]\n",
       "\n",
       "         smoke\n",
       "age_bins      No   Yes\n",
       "  [39,42]  0.972 1.643\n",
       "  (42,45]   -Inf 0.405\n",
       "  (45,50] -0.405 0.889\n",
       "  (50,59]  0.981 0.734\n",
       "\n",
       ", , bmi_bins = (25.8,38.9]\n",
       "\n",
       "         smoke\n",
       "age_bins     No   Yes\n",
       "  [39,42] 0.209 0.740\n",
       "  (42,45] 1.245 0.511\n",
       "  (45,50] 2.099 0.041\n",
       "  (50,59] 1.887 0.934\n"
      ]
     },
     "metadata": {},
     "output_type": "display_data"
    }
   ],
   "source": [
    "est_strata_or <- apply(mult_cont_tables, 3:5, logOR_est)\n",
    "round(est_strata_or, 3)"
   ]
  },
  {
   "cell_type": "code",
   "execution_count": 28,
   "id": "deace241",
   "metadata": {
    "slideshow": {
     "slide_type": "fragment"
    }
   },
   "outputs": [
    {
     "data": {
      "text/html": [
       "<style>\n",
       ".list-inline {list-style: none; margin:0; padding: 0}\n",
       ".list-inline>li {display: inline-block}\n",
       ".list-inline>li:not(:last-child)::after {content: \"\\00b7\"; padding: 0 .5ex}\n",
       "</style>\n",
       "<ol class=list-inline><li>Inf</li><li>Inf</li><li>1.183</li><li>1.247</li><li>0.75</li><li>0.94</li><li>0.786</li><li>0.577</li><li>1.168</li><li>Inf</li><li>0.739</li><li>0.865</li><li>0.758</li><li>1.248</li><li>1.072</li><li>0.554</li><li>0.884</li><li>Inf</li><li>0.934</li><li>0.71</li><li>1.097</li><li>0.694</li><li>0.627</li><li>0.857</li><li>0.836</li><li>0.865</li><li>1.079</li><li>0.771</li><li>0.892</li><li>0.779</li><li>0.715</li><li>0.632</li></ol>\n"
      ],
      "text/latex": [
       "\\begin{enumerate*}\n",
       "\\item Inf\n",
       "\\item Inf\n",
       "\\item 1.183\n",
       "\\item 1.247\n",
       "\\item 0.75\n",
       "\\item 0.94\n",
       "\\item 0.786\n",
       "\\item 0.577\n",
       "\\item 1.168\n",
       "\\item Inf\n",
       "\\item 0.739\n",
       "\\item 0.865\n",
       "\\item 0.758\n",
       "\\item 1.248\n",
       "\\item 1.072\n",
       "\\item 0.554\n",
       "\\item 0.884\n",
       "\\item Inf\n",
       "\\item 0.934\n",
       "\\item 0.71\n",
       "\\item 1.097\n",
       "\\item 0.694\n",
       "\\item 0.627\n",
       "\\item 0.857\n",
       "\\item 0.836\n",
       "\\item 0.865\n",
       "\\item 1.079\n",
       "\\item 0.771\n",
       "\\item 0.892\n",
       "\\item 0.779\n",
       "\\item 0.715\n",
       "\\item 0.632\n",
       "\\end{enumerate*}\n"
      ],
      "text/markdown": [
       "1. Inf\n",
       "2. Inf\n",
       "3. 1.183\n",
       "4. 1.247\n",
       "5. 0.75\n",
       "6. 0.94\n",
       "7. 0.786\n",
       "8. 0.577\n",
       "9. 1.168\n",
       "10. Inf\n",
       "11. 0.739\n",
       "12. 0.865\n",
       "13. 0.758\n",
       "14. 1.248\n",
       "15. 1.072\n",
       "16. 0.554\n",
       "17. 0.884\n",
       "18. Inf\n",
       "19. 0.934\n",
       "20. 0.71\n",
       "21. 1.097\n",
       "22. 0.694\n",
       "23. 0.627\n",
       "24. 0.857\n",
       "25. 0.836\n",
       "26. 0.865\n",
       "27. 1.079\n",
       "28. 0.771\n",
       "29. 0.892\n",
       "30. 0.779\n",
       "31. 0.715\n",
       "32. 0.632\n",
       "\n",
       "\n"
      ],
      "text/plain": [
       ", , bmi_bins = [11.2,23]\n",
       "\n",
       "         smoke\n",
       "age_bins     No   Yes\n",
       "  [39,42]   Inf 0.750\n",
       "  (42,45]   Inf 0.940\n",
       "  (45,50] 1.183 0.786\n",
       "  (50,59] 1.247 0.577\n",
       "\n",
       ", , bmi_bins = (23,24.4]\n",
       "\n",
       "         smoke\n",
       "age_bins     No   Yes\n",
       "  [39,42] 1.168 0.758\n",
       "  (42,45]   Inf 1.248\n",
       "  (45,50] 0.739 1.072\n",
       "  (50,59] 0.865 0.554\n",
       "\n",
       ", , bmi_bins = (24.4,25.8]\n",
       "\n",
       "         smoke\n",
       "age_bins     No   Yes\n",
       "  [39,42] 0.884 1.097\n",
       "  (42,45]   Inf 0.694\n",
       "  (45,50] 0.934 0.627\n",
       "  (50,59] 0.710 0.857\n",
       "\n",
       ", , bmi_bins = (25.8,38.9]\n",
       "\n",
       "         smoke\n",
       "age_bins     No   Yes\n",
       "  [39,42] 0.836 0.892\n",
       "  (42,45] 0.865 0.779\n",
       "  (45,50] 1.079 0.715\n",
       "  (50,59] 0.771 0.632\n"
      ]
     },
     "metadata": {},
     "output_type": "display_data"
    }
   ],
   "source": [
    "se_strata <- apply(mult_cont_tables, 3:5, logOR_se)\n",
    "round(se_strata, 3)"
   ]
  },
  {
   "cell_type": "code",
   "execution_count": 29,
   "id": "a38086ed",
   "metadata": {
    "slideshow": {
     "slide_type": "fragment"
    }
   },
   "outputs": [
    {
     "data": {
      "text/html": [
       "28"
      ],
      "text/latex": [
       "28"
      ],
      "text/markdown": [
       "28"
      ],
      "text/plain": [
       "[1] 28"
      ]
     },
     "metadata": {},
     "output_type": "display_data"
    }
   ],
   "source": [
    "# Which strata have no empty cells?\n",
    "no_empty_strata <- (as.vector(se_strata) < Inf)\n",
    "sum(no_empty_strata)"
   ]
  },
  {
   "cell_type": "markdown",
   "id": "d8f559f9",
   "metadata": {
    "slideshow": {
     "slide_type": "slide"
    }
   },
   "source": [
    "For those 28 strata where computations were possible, we will obtain their corresponding 95% confidence intervals (CIs). Plotting these CIs will identify how many log-OR estimates were statistically significant out of those 28."
   ]
  },
  {
   "cell_type": "code",
   "execution_count": 30,
   "id": "c7b97c75",
   "metadata": {
    "slideshow": {
     "slide_type": "fragment"
    }
   },
   "outputs": [],
   "source": [
    "CI_strata <- matrix(0.0, length(se_strata), 2)\n",
    "sig_strata <- rep(FALSE, length(se_strata))\n",
    "\n",
    "z_alpha <- qnorm(0.975)\n",
    "\n",
    "# Compute 95% CIs\n",
    "for (i in 1:length(no_empty_strata)) {\n",
    "  if (no_empty_strata[i]) {\n",
    "    CI_strata[i, ] <- est_strata_or[i] + z_alpha * c(-1, 1) * se_strata[i]\n",
    "    sig_strata[i] <- ((CI_strata[i, 1] > 0) || (CI_strata[i, 2] < 0))\n",
    "  }\n",
    "}"
   ]
  },
  {
   "cell_type": "code",
   "execution_count": 31,
   "id": "9b6e321a",
   "metadata": {
    "slideshow": {
     "slide_type": "fragment"
    }
   },
   "outputs": [
    {
     "data": {
      "text/html": [
       "<table class=\"dataframe\">\n",
       "<caption>A matrix: 32 × 2 of type dbl</caption>\n",
       "<tbody>\n",
       "\t<tr><td> 0.0000000</td><td>0.000000</td></tr>\n",
       "\t<tr><td> 0.0000000</td><td>0.000000</td></tr>\n",
       "\t<tr><td>-0.6844251</td><td>3.952686</td></tr>\n",
       "\t<tr><td>-1.8330703</td><td>3.054888</td></tr>\n",
       "\t<tr><td>⋮</td><td>⋮</td></tr>\n",
       "\t<tr><td>-1.0095793</td><td>2.488914</td></tr>\n",
       "\t<tr><td>-1.0166987</td><td>2.038350</td></tr>\n",
       "\t<tr><td>-1.3603961</td><td>1.442040</td></tr>\n",
       "\t<tr><td>-0.3042743</td><td>2.172893</td></tr>\n",
       "</tbody>\n",
       "</table>\n"
      ],
      "text/latex": [
       "A matrix: 32 × 2 of type dbl\n",
       "\\begin{tabular}{ll}\n",
       "\t  0.0000000 & 0.000000\\\\\n",
       "\t  0.0000000 & 0.000000\\\\\n",
       "\t -0.6844251 & 3.952686\\\\\n",
       "\t -1.8330703 & 3.054888\\\\\n",
       "\t ⋮ & ⋮\\\\\n",
       "\t -1.0095793 & 2.488914\\\\\n",
       "\t -1.0166987 & 2.038350\\\\\n",
       "\t -1.3603961 & 1.442040\\\\\n",
       "\t -0.3042743 & 2.172893\\\\\n",
       "\\end{tabular}\n"
      ],
      "text/markdown": [
       "\n",
       "A matrix: 32 × 2 of type dbl\n",
       "\n",
       "|  0.0000000 | 0.000000 |\n",
       "|  0.0000000 | 0.000000 |\n",
       "| -0.6844251 | 3.952686 |\n",
       "| -1.8330703 | 3.054888 |\n",
       "| ⋮ | ⋮ |\n",
       "| -1.0095793 | 2.488914 |\n",
       "| -1.0166987 | 2.038350 |\n",
       "| -1.3603961 | 1.442040 |\n",
       "| -0.3042743 | 2.172893 |\n",
       "\n"
      ],
      "text/plain": [
       "      [,1]       [,2]    \n",
       " [1,]  0.0000000 0.000000\n",
       " [2,]  0.0000000 0.000000\n",
       " [3,] -0.6844251 3.952686\n",
       " [4,] -1.8330703 3.054888\n",
       " [5,] ⋮          ⋮       \n",
       " [6,] -1.0095793 2.488914\n",
       " [7,] -1.0166987 2.038350\n",
       " [8,] -1.3603961 1.442040\n",
       " [9,] -0.3042743 2.172893"
      ]
     },
     "metadata": {},
     "output_type": "display_data"
    }
   ],
   "source": [
    "CI_strata"
   ]
  },
  {
   "cell_type": "markdown",
   "id": "c0a77965",
   "metadata": {
    "slideshow": {
     "slide_type": "slide"
    }
   },
   "source": [
    "The plot below shows the 95% CIs for the 28 estimated log-ORs (i.e., those strata whose contingency tables had absolute frequencies different from zero across all their cells). We arrange the CIs from left to right in increasing order by stratum size (i.e., number of subjects by stratum). The dots correspond to the estimated log-ORs. We colour the CIs by significance status (i.e., whether the interval includes zero or not)."
   ]
  },
  {
   "cell_type": "code",
   "execution_count": 32,
   "id": "d7ac2566",
   "metadata": {
    "slideshow": {
     "slide_type": "skip"
    }
   },
   "outputs": [],
   "source": [
    "strata_log_OR_95_CI <- data.frame(\n",
    "  logORest = est_strata_or[no_empty_strata],\n",
    "  no_empty_strata = n_strata[no_empty_strata],\n",
    "  CI = CI_strata[no_empty_strata, ], Significant = sig_strata[no_empty_strata]\n",
    ") %>%\n",
    "  ggplot(aes(x = no_empty_strata, y = logORest, colour = Significant)) +\n",
    "  geom_pointrange(aes(ymin = CI.1, ymax = CI.2)) +\n",
    "  ylab(\"Estimated log-OR\") +\n",
    "  xlab(\"Stratum Size\") +\n",
    "  geom_hline(yintercept = 0, linetype = \"dotted\", linewidth = 1.3) +\n",
    "  theme(\n",
    "    plot.title = element_text(size = 24, face = \"bold\"),\n",
    "    axis.text = element_text(size = 17),\n",
    "    axis.title = element_text(size = 21),\n",
    "    legend.position = \"right\",\n",
    "    legend.title = element_text(size = 21, face = \"bold\", margin = margin(r = 1, unit = \"cm\")), \n",
    "    legend.text = element_text(size = 17, margin = margin(r = 1, unit = \"cm\")),\n",
    "    legend.key.size = unit(2, 'cm')\n",
    "  ) +\n",
    "  ggtitle(\"95% Confidence Intervals for Estimates of Log-OR by Stratum\") +\n",
    "  scale_color_brewer(palette = \"Dark2\")"
   ]
  },
  {
   "cell_type": "code",
   "execution_count": 33,
   "id": "d2176182",
   "metadata": {
    "slideshow": {
     "slide_type": "fragment"
    }
   },
   "outputs": [
    {
     "data": {
      "image/png": "[encoded data removed]",
      "text/plain": [
       "plot without title"
      ]
     },
     "metadata": {
      "image/png": {
       "height": 480,
       "width": 840
      }
     },
     "output_type": "display_data"
    }
   ],
   "source": [
    "strata_log_OR_95_CI"
   ]
  },
  {
   "cell_type": "markdown",
   "id": "6efcd6e7",
   "metadata": {
    "slideshow": {
     "slide_type": "slide"
    }
   },
   "source": [
    "```{admonition} What is the main takeaway from this CI plot?\n",
    ":class: hint\n",
    "Only two strata had significant results in terms of the estimated log-OR! Moreover, we can see some other strata were close to being significant (but not yet!).\n",
    "```"
   ]
  },
  {
   "cell_type": "markdown",
   "id": "125a7976",
   "metadata": {
    "slideshow": {
     "slide_type": "slide"
    }
   },
   "source": [
    "```{exercise}\n",
    ":label: lecture6-q3\n",
    "\n",
    "Is there anything invalid from a statistical standpoint? Or, if it is not invalid, is there anything that we might want to do differently?\n",
    "```"
   ]
  },
  {
   "cell_type": "markdown",
   "id": "21e4aa40",
   "metadata": {
    "slideshow": {
     "slide_type": "slide"
    }
   },
   "source": [
    "### 4.3. Causal Inference via an Overall Binomial Logistic Regression\n",
    "\n",
    "The **overall Binomial Logistic regression** would be our more clever approach. It will include the binary variables $X$ and $Y$ **and the corresponding confounders $C_j$ AS STRATA**. This is our proxy for blocking in a randomized experiment! Note all regressors are modelled are **standalone variables**."
   ]
  },
  {
   "cell_type": "code",
   "execution_count": 34,
   "id": "6723d89f",
   "metadata": {
    "slideshow": {
     "slide_type": "fragment"
    }
   },
   "outputs": [
    {
     "data": {
      "text/html": [
       "<table class=\"dataframe\">\n",
       "<caption>A tibble: 9 × 8</caption>\n",
       "<thead>\n",
       "\t<tr><th scope=col>term</th><th scope=col>estimate</th><th scope=col>std.error</th><th scope=col>statistic</th><th scope=col>p.value</th><th scope=col>conf.low</th><th scope=col>conf.high</th><th scope=col>exp.estimate</th></tr>\n",
       "\t<tr><th scope=col>&lt;chr&gt;</th><th scope=col>&lt;dbl&gt;</th><th scope=col>&lt;dbl&gt;</th><th scope=col>&lt;dbl&gt;</th><th scope=col>&lt;dbl&gt;</th><th scope=col>&lt;dbl&gt;</th><th scope=col>&lt;dbl&gt;</th><th scope=col>&lt;dbl&gt;</th></tr>\n",
       "</thead>\n",
       "<tbody>\n",
       "\t<tr><td>(Intercept)    </td><td>-4.241</td><td>0.246</td><td>-17.215</td><td>0.000</td><td>-4.739</td><td>-3.772</td><td>0.014</td></tr>\n",
       "\t<tr><td>dibpatType A   </td><td> 0.730</td><td>0.144</td><td>  5.084</td><td>0.000</td><td> 0.452</td><td> 1.015</td><td>2.075</td></tr>\n",
       "\t<tr><td>age_bins(42,45]</td><td> 0.190</td><td>0.230</td><td>  0.826</td><td>0.409</td><td>-0.266</td><td> 0.638</td><td>1.209</td></tr>\n",
       "\t<tr><td>age_bins(45,50]</td><td> 0.687</td><td>0.197</td><td>  3.483</td><td>0.000</td><td> 0.304</td><td> 1.079</td><td>1.989</td></tr>\n",
       "\t<tr><td>⋮</td><td>⋮</td><td>⋮</td><td>⋮</td><td>⋮</td><td>⋮</td><td>⋮</td><td>⋮</td></tr>\n",
       "\t<tr><td>bmi_bins(23,24.4]  </td><td>0.413</td><td>0.208</td><td>1.981</td><td>0.048</td><td>0.006</td><td>0.826</td><td>1.511</td></tr>\n",
       "\t<tr><td>bmi_bins(24.4,25.8]</td><td>0.569</td><td>0.205</td><td>2.778</td><td>0.005</td><td>0.171</td><td>0.975</td><td>1.766</td></tr>\n",
       "\t<tr><td>bmi_bins(25.8,38.9]</td><td>0.796</td><td>0.199</td><td>4.008</td><td>0.000</td><td>0.412</td><td>1.192</td><td>2.217</td></tr>\n",
       "\t<tr><td>smokeYes           </td><td>0.704</td><td>0.139</td><td>5.050</td><td>0.000</td><td>0.433</td><td>0.979</td><td>2.021</td></tr>\n",
       "</tbody>\n",
       "</table>\n"
      ],
      "text/latex": [
       "A tibble: 9 × 8\n",
       "\\begin{tabular}{llllllll}\n",
       " term & estimate & std.error & statistic & p.value & conf.low & conf.high & exp.estimate\\\\\n",
       " <chr> & <dbl> & <dbl> & <dbl> & <dbl> & <dbl> & <dbl> & <dbl>\\\\\n",
       "\\hline\n",
       "\t (Intercept)     & -4.241 & 0.246 & -17.215 & 0.000 & -4.739 & -3.772 & 0.014\\\\\n",
       "\t dibpatType A    &  0.730 & 0.144 &   5.084 & 0.000 &  0.452 &  1.015 & 2.075\\\\\n",
       "\t age\\_bins(42,45{]} &  0.190 & 0.230 &   0.826 & 0.409 & -0.266 &  0.638 & 1.209\\\\\n",
       "\t age\\_bins(45,50{]} &  0.687 & 0.197 &   3.483 & 0.000 &  0.304 &  1.079 & 1.989\\\\\n",
       "\t ⋮ & ⋮ & ⋮ & ⋮ & ⋮ & ⋮ & ⋮ & ⋮\\\\\n",
       "\t bmi\\_bins(23,24.4{]}   & 0.413 & 0.208 & 1.981 & 0.048 & 0.006 & 0.826 & 1.511\\\\\n",
       "\t bmi\\_bins(24.4,25.8{]} & 0.569 & 0.205 & 2.778 & 0.005 & 0.171 & 0.975 & 1.766\\\\\n",
       "\t bmi\\_bins(25.8,38.9{]} & 0.796 & 0.199 & 4.008 & 0.000 & 0.412 & 1.192 & 2.217\\\\\n",
       "\t smokeYes            & 0.704 & 0.139 & 5.050 & 0.000 & 0.433 & 0.979 & 2.021\\\\\n",
       "\\end{tabular}\n"
      ],
      "text/markdown": [
       "\n",
       "A tibble: 9 × 8\n",
       "\n",
       "| term &lt;chr&gt; | estimate &lt;dbl&gt; | std.error &lt;dbl&gt; | statistic &lt;dbl&gt; | p.value &lt;dbl&gt; | conf.low &lt;dbl&gt; | conf.high &lt;dbl&gt; | exp.estimate &lt;dbl&gt; |\n",
       "|---|---|---|---|---|---|---|---|\n",
       "| (Intercept)     | -4.241 | 0.246 | -17.215 | 0.000 | -4.739 | -3.772 | 0.014 |\n",
       "| dibpatType A    |  0.730 | 0.144 |   5.084 | 0.000 |  0.452 |  1.015 | 2.075 |\n",
       "| age_bins(42,45] |  0.190 | 0.230 |   0.826 | 0.409 | -0.266 |  0.638 | 1.209 |\n",
       "| age_bins(45,50] |  0.687 | 0.197 |   3.483 | 0.000 |  0.304 |  1.079 | 1.989 |\n",
       "| ⋮ | ⋮ | ⋮ | ⋮ | ⋮ | ⋮ | ⋮ | ⋮ |\n",
       "| bmi_bins(23,24.4]   | 0.413 | 0.208 | 1.981 | 0.048 | 0.006 | 0.826 | 1.511 |\n",
       "| bmi_bins(24.4,25.8] | 0.569 | 0.205 | 2.778 | 0.005 | 0.171 | 0.975 | 1.766 |\n",
       "| bmi_bins(25.8,38.9] | 0.796 | 0.199 | 4.008 | 0.000 | 0.412 | 1.192 | 2.217 |\n",
       "| smokeYes            | 0.704 | 0.139 | 5.050 | 0.000 | 0.433 | 0.979 | 2.021 |\n",
       "\n"
      ],
      "text/plain": [
       "  term                estimate std.error statistic p.value conf.low conf.high\n",
       "1 (Intercept)         -4.241   0.246     -17.215   0.000   -4.739   -3.772   \n",
       "2 dibpatType A         0.730   0.144       5.084   0.000    0.452    1.015   \n",
       "3 age_bins(42,45]      0.190   0.230       0.826   0.409   -0.266    0.638   \n",
       "4 age_bins(45,50]      0.687   0.197       3.483   0.000    0.304    1.079   \n",
       "⋮ ⋮                   ⋮        ⋮         ⋮         ⋮       ⋮        ⋮        \n",
       "6 bmi_bins(23,24.4]   0.413    0.208     1.981     0.048   0.006    0.826    \n",
       "7 bmi_bins(24.4,25.8] 0.569    0.205     2.778     0.005   0.171    0.975    \n",
       "8 bmi_bins(25.8,38.9] 0.796    0.199     4.008     0.000   0.412    1.192    \n",
       "9 smokeYes            0.704    0.139     5.050     0.000   0.433    0.979    \n",
       "  exp.estimate\n",
       "1 0.014       \n",
       "2 2.075       \n",
       "3 1.209       \n",
       "4 1.989       \n",
       "⋮ ⋮           \n",
       "6 1.511       \n",
       "7 1.766       \n",
       "8 2.217       \n",
       "9 2.021       "
      ]
     },
     "metadata": {},
     "output_type": "display_data"
    }
   ],
   "source": [
    "bin_log_model <-  glm(chd69 ~ dibpat + age_bins + bmi_bins + smoke, family = \"binomial\")\n",
    "tidy(bin_log_model, conf.int = 0.95) %>% \n",
    "  mutate(exp.estimate = exp(estimate)) %>%\n",
    "  mutate_if(is.numeric, round, 3)"
   ]
  },
  {
   "cell_type": "markdown",
   "id": "cdd54094",
   "metadata": {
    "slideshow": {
     "slide_type": "slide"
    }
   },
   "source": [
    "Using the same log-OR plot with the 95% CIs, we illustrate the 95% CI for the regression coefficient `estimate` `dibpatType A` (as dashed horizontal blue lines). The `estimate` corresponds to the solid horizontal blue line (**it is significant!**). If we compare this blue 95% CI with the other 26 95% CIs, we get a **more precise estimate** of $X$ with this overall Binomial Logistic regression model."
   ]
  },
  {
   "cell_type": "code",
   "execution_count": 35,
   "id": "10fcafb4",
   "metadata": {
    "slideshow": {
     "slide_type": "fragment"
    }
   },
   "outputs": [
    {
     "name": "stderr",
     "output_type": "stream",
     "text": [
      "Waiting for profiling to be done...\n",
      "\n"
     ]
    },
    {
     "data": {
      "image/png": "[encoded data removed]",
      "text/plain": [
       "plot without title"
      ]
     },
     "metadata": {
      "image/png": {
       "height": 480,
       "width": 840
      }
     },
     "output_type": "display_data"
    }
   ],
   "source": [
    "strata_log_OR_95_CI + geom_hline(yintercept = bin_log_model$coeff[2], colour = \"blue\") +\n",
    "  geom_hline(yintercept = confint(bin_log_model)[2, ], linetype = \"dashed\", colour = \"blue\", linewidth = 1)"
   ]
  },
  {
   "cell_type": "markdown",
   "id": "becb339b",
   "metadata": {
    "slideshow": {
     "slide_type": "slide"
    }
   },
   "source": [
    "```{admonition} If we REALLY want to put a causal spin on our estimate for the $X$ coefficient, what must we assume?\n",
    ":class: hint\n",
    "By controlling for possible confounders such as age, BMI, and smoking status in our regression model; we are assuming that no matter what age, smoking status, or BMI this population of interest has, all subjects have the same effect of $X$ over $Y$:\n",
    "\n",
    "> *Being a middle-aged man between the ages of 39 and 59 (and an employee of a Californian company) **with a `Type A` behaviour (when compared to `Type B`)** LEADS to being 2.075 times more likely to experience a CHD event.*\n",
    "```"
   ]
  },
  {
   "cell_type": "markdown",
   "id": "fb22abfb",
   "metadata": {
    "slideshow": {
     "slide_type": "fragment"
    }
   },
   "source": [
    "However, **unlike a stratum-specific inference with multiple confounders**, this class of causal conclusions must take various **assumptions** into account. Hence, bearing in mind that we fit\n",
    "\n",
    "```\n",
    "glm(chd69 ~ dibpat + age_bins + bmi_bins + smoke, family = \"binomial\")\n",
    "```\n",
    "\n",
    "we will explore these assumptions."
   ]
  },
  {
   "cell_type": "markdown",
   "id": "cc676903",
   "metadata": {
    "slideshow": {
     "slide_type": "slide"
    }
   },
   "source": [
    "### 4.4. Assumptions for the Causal Overall Binomial Logistic Regression\n",
    "\n",
    "The big idea of our `bin_log_model` is that this model is enough to assess causality of $X$ on $Y$. Nevertheless, this idea involves the following strong assumptions:\n",
    "\n",
    "1. There is a **simple/smooth structure** in how the $Y$-specific log-OR varies across the strata.\n",
    "2. The strength of the $(X, Y)$ association within each of the 32 strata defined by the confounders is the same (i.e., we **DO NOT HAVE** any double interactions between $X$ and each confounder).\n",
    "3. This example assumes **we have included all of our confounding variables in our regression model**. Hence, there are only three for this model: age, smoking status, and BMI."
   ]
  },
  {
   "cell_type": "markdown",
   "id": "e4b25dda",
   "metadata": {
    "slideshow": {
     "slide_type": "slide"
    }
   },
   "source": [
    "#### 4.4.1.  Stress test of the FIRST assumption (simple structure)\n",
    "\n",
    "We will use **model selection** to assess this assumption. Since our `bin_log_model` is a maximum likelihood-based approach, we can the run a **likelihood ratio test (LRT)** to assess goodness of fit between two models: $\\text{model 1}$ and $\\text{model 2}$:\n",
    "\n",
    "- $\\text{model 1}$: It is a simpler model. This model is nested in $\\text{model 2}$.\n",
    "- $\\text{model 2}$: It is a more complex model."
   ]
  },
  {
   "cell_type": "markdown",
   "id": "e07c97fe",
   "metadata": {
    "slideshow": {
     "slide_type": "fragment"
    }
   },
   "source": [
    "The hypotheses are:\n",
    "\n",
    "```{math}\n",
    "\\begin{gather*}\n",
    "H_0 \\text{: model 1 fits the data better than model 2} \\\\\n",
    "H_a \\text{: otherwise}\n",
    "\\end{gather*}\n",
    "```"
   ]
  },
  {
   "cell_type": "markdown",
   "id": "61c74d90",
   "metadata": {
    "slideshow": {
     "slide_type": "slide"
    }
   },
   "source": [
    "For this assumption, the complex model will be one with **all possible interactions between the confounders up to the triple one**:"
   ]
  },
  {
   "cell_type": "code",
   "execution_count": 36,
   "id": "cec74a5c",
   "metadata": {
    "slideshow": {
     "slide_type": "fragment"
    }
   },
   "outputs": [
    {
     "data": {
      "text/html": [
       "<table class=\"dataframe\">\n",
       "<caption>A tibble: 33 × 5</caption>\n",
       "<thead>\n",
       "\t<tr><th scope=col>term</th><th scope=col>estimate</th><th scope=col>std.error</th><th scope=col>statistic</th><th scope=col>p.value</th></tr>\n",
       "\t<tr><th scope=col>&lt;chr&gt;</th><th scope=col>&lt;dbl&gt;</th><th scope=col>&lt;dbl&gt;</th><th scope=col>&lt;dbl&gt;</th><th scope=col>&lt;dbl&gt;</th></tr>\n",
       "</thead>\n",
       "<tbody>\n",
       "\t<tr><td>(Intercept)    </td><td> -4.447</td><td>  0.719</td><td>-6.183</td><td>0.000</td></tr>\n",
       "\t<tr><td>dibpatType A   </td><td>  0.732</td><td>  0.144</td><td> 5.069</td><td>0.000</td></tr>\n",
       "\t<tr><td>age_bins(42,45]</td><td>-13.404</td><td>440.895</td><td>-0.030</td><td>0.976</td></tr>\n",
       "\t<tr><td>age_bins(45,50]</td><td>  1.315</td><td>  0.882</td><td> 1.491</td><td>0.136</td></tr>\n",
       "\t<tr><td>⋮</td><td>⋮</td><td>⋮</td><td>⋮</td><td>⋮</td></tr>\n",
       "\t<tr><td>age_bins(50,59]:bmi_bins(24.4,25.8]:smokeYes</td><td> -0.384</td><td>  1.281</td><td>-0.300</td><td>0.764</td></tr>\n",
       "\t<tr><td>age_bins(42,45]:bmi_bins(25.8,38.9]:smokeYes</td><td>-13.273</td><td>440.896</td><td>-0.030</td><td>0.976</td></tr>\n",
       "\t<tr><td>age_bins(45,50]:bmi_bins(25.8,38.9]:smokeYes</td><td>  1.387</td><td>  1.292</td><td> 1.074</td><td>0.283</td></tr>\n",
       "\t<tr><td>age_bins(50,59]:bmi_bins(25.8,38.9]:smokeYes</td><td> -0.109</td><td>  1.250</td><td>-0.088</td><td>0.930</td></tr>\n",
       "</tbody>\n",
       "</table>\n"
      ],
      "text/latex": [
       "A tibble: 33 × 5\n",
       "\\begin{tabular}{lllll}\n",
       " term & estimate & std.error & statistic & p.value\\\\\n",
       " <chr> & <dbl> & <dbl> & <dbl> & <dbl>\\\\\n",
       "\\hline\n",
       "\t (Intercept)     &  -4.447 &   0.719 & -6.183 & 0.000\\\\\n",
       "\t dibpatType A    &   0.732 &   0.144 &  5.069 & 0.000\\\\\n",
       "\t age\\_bins(42,45{]} & -13.404 & 440.895 & -0.030 & 0.976\\\\\n",
       "\t age\\_bins(45,50{]} &   1.315 &   0.882 &  1.491 & 0.136\\\\\n",
       "\t ⋮ & ⋮ & ⋮ & ⋮ & ⋮\\\\\n",
       "\t age\\_bins(50,59{]}:bmi\\_bins(24.4,25.8{]}:smokeYes &  -0.384 &   1.281 & -0.300 & 0.764\\\\\n",
       "\t age\\_bins(42,45{]}:bmi\\_bins(25.8,38.9{]}:smokeYes & -13.273 & 440.896 & -0.030 & 0.976\\\\\n",
       "\t age\\_bins(45,50{]}:bmi\\_bins(25.8,38.9{]}:smokeYes &   1.387 &   1.292 &  1.074 & 0.283\\\\\n",
       "\t age\\_bins(50,59{]}:bmi\\_bins(25.8,38.9{]}:smokeYes &  -0.109 &   1.250 & -0.088 & 0.930\\\\\n",
       "\\end{tabular}\n"
      ],
      "text/markdown": [
       "\n",
       "A tibble: 33 × 5\n",
       "\n",
       "| term &lt;chr&gt; | estimate &lt;dbl&gt; | std.error &lt;dbl&gt; | statistic &lt;dbl&gt; | p.value &lt;dbl&gt; |\n",
       "|---|---|---|---|---|\n",
       "| (Intercept)     |  -4.447 |   0.719 | -6.183 | 0.000 |\n",
       "| dibpatType A    |   0.732 |   0.144 |  5.069 | 0.000 |\n",
       "| age_bins(42,45] | -13.404 | 440.895 | -0.030 | 0.976 |\n",
       "| age_bins(45,50] |   1.315 |   0.882 |  1.491 | 0.136 |\n",
       "| ⋮ | ⋮ | ⋮ | ⋮ | ⋮ |\n",
       "| age_bins(50,59]:bmi_bins(24.4,25.8]:smokeYes |  -0.384 |   1.281 | -0.300 | 0.764 |\n",
       "| age_bins(42,45]:bmi_bins(25.8,38.9]:smokeYes | -13.273 | 440.896 | -0.030 | 0.976 |\n",
       "| age_bins(45,50]:bmi_bins(25.8,38.9]:smokeYes |   1.387 |   1.292 |  1.074 | 0.283 |\n",
       "| age_bins(50,59]:bmi_bins(25.8,38.9]:smokeYes |  -0.109 |   1.250 | -0.088 | 0.930 |\n",
       "\n"
      ],
      "text/plain": [
       "   term                                         estimate std.error statistic\n",
       "1  (Intercept)                                   -4.447    0.719   -6.183   \n",
       "2  dibpatType A                                   0.732    0.144    5.069   \n",
       "3  age_bins(42,45]                              -13.404  440.895   -0.030   \n",
       "4  age_bins(45,50]                                1.315    0.882    1.491   \n",
       "⋮  ⋮                                            ⋮        ⋮         ⋮        \n",
       "30 age_bins(50,59]:bmi_bins(24.4,25.8]:smokeYes  -0.384    1.281   -0.300   \n",
       "31 age_bins(42,45]:bmi_bins(25.8,38.9]:smokeYes -13.273  440.896   -0.030   \n",
       "32 age_bins(45,50]:bmi_bins(25.8,38.9]:smokeYes   1.387    1.292    1.074   \n",
       "33 age_bins(50,59]:bmi_bins(25.8,38.9]:smokeYes  -0.109    1.250   -0.088   \n",
       "   p.value\n",
       "1  0.000  \n",
       "2  0.000  \n",
       "3  0.976  \n",
       "4  0.136  \n",
       "⋮  ⋮      \n",
       "30 0.764  \n",
       "31 0.976  \n",
       "32 0.283  \n",
       "33 0.930  "
      ]
     },
     "metadata": {},
     "output_type": "display_data"
    }
   ],
   "source": [
    "triple_bin_log_model <- glm(chd69 ~ dibpat + age_bins * bmi_bins * smoke, family = \"binomial\")\n",
    "tidy(triple_bin_log_model) %>% mutate_if(is.numeric, round, 3)"
   ]
  },
  {
   "cell_type": "markdown",
   "id": "36df80bf",
   "metadata": {
    "slideshow": {
     "slide_type": "slide"
    }
   },
   "source": [
    "Note the estimate for `dibpatType A` is similar compared to `bin_log_model` (**both estimates and their standard errors are practically equal!**):"
   ]
  },
  {
   "cell_type": "code",
   "execution_count": 37,
   "id": "9f821604",
   "metadata": {
    "slideshow": {
     "slide_type": "fragment"
    }
   },
   "outputs": [
    {
     "data": {
      "text/html": [
       "<table class=\"dataframe\">\n",
       "<caption>A tibble: 9 × 5</caption>\n",
       "<thead>\n",
       "\t<tr><th scope=col>term</th><th scope=col>estimate</th><th scope=col>std.error</th><th scope=col>statistic</th><th scope=col>p.value</th></tr>\n",
       "\t<tr><th scope=col>&lt;chr&gt;</th><th scope=col>&lt;dbl&gt;</th><th scope=col>&lt;dbl&gt;</th><th scope=col>&lt;dbl&gt;</th><th scope=col>&lt;dbl&gt;</th></tr>\n",
       "</thead>\n",
       "<tbody>\n",
       "\t<tr><td>(Intercept)    </td><td>-4.241</td><td>0.246</td><td>-17.215</td><td>0.000</td></tr>\n",
       "\t<tr><td>dibpatType A   </td><td> 0.730</td><td>0.144</td><td>  5.084</td><td>0.000</td></tr>\n",
       "\t<tr><td>age_bins(42,45]</td><td> 0.190</td><td>0.230</td><td>  0.826</td><td>0.409</td></tr>\n",
       "\t<tr><td>age_bins(45,50]</td><td> 0.687</td><td>0.197</td><td>  3.483</td><td>0.000</td></tr>\n",
       "\t<tr><td>⋮</td><td>⋮</td><td>⋮</td><td>⋮</td><td>⋮</td></tr>\n",
       "\t<tr><td>bmi_bins(23,24.4]  </td><td>0.413</td><td>0.208</td><td>1.981</td><td>0.048</td></tr>\n",
       "\t<tr><td>bmi_bins(24.4,25.8]</td><td>0.569</td><td>0.205</td><td>2.778</td><td>0.005</td></tr>\n",
       "\t<tr><td>bmi_bins(25.8,38.9]</td><td>0.796</td><td>0.199</td><td>4.008</td><td>0.000</td></tr>\n",
       "\t<tr><td>smokeYes           </td><td>0.704</td><td>0.139</td><td>5.050</td><td>0.000</td></tr>\n",
       "</tbody>\n",
       "</table>\n"
      ],
      "text/latex": [
       "A tibble: 9 × 5\n",
       "\\begin{tabular}{lllll}\n",
       " term & estimate & std.error & statistic & p.value\\\\\n",
       " <chr> & <dbl> & <dbl> & <dbl> & <dbl>\\\\\n",
       "\\hline\n",
       "\t (Intercept)     & -4.241 & 0.246 & -17.215 & 0.000\\\\\n",
       "\t dibpatType A    &  0.730 & 0.144 &   5.084 & 0.000\\\\\n",
       "\t age\\_bins(42,45{]} &  0.190 & 0.230 &   0.826 & 0.409\\\\\n",
       "\t age\\_bins(45,50{]} &  0.687 & 0.197 &   3.483 & 0.000\\\\\n",
       "\t ⋮ & ⋮ & ⋮ & ⋮ & ⋮\\\\\n",
       "\t bmi\\_bins(23,24.4{]}   & 0.413 & 0.208 & 1.981 & 0.048\\\\\n",
       "\t bmi\\_bins(24.4,25.8{]} & 0.569 & 0.205 & 2.778 & 0.005\\\\\n",
       "\t bmi\\_bins(25.8,38.9{]} & 0.796 & 0.199 & 4.008 & 0.000\\\\\n",
       "\t smokeYes            & 0.704 & 0.139 & 5.050 & 0.000\\\\\n",
       "\\end{tabular}\n"
      ],
      "text/markdown": [
       "\n",
       "A tibble: 9 × 5\n",
       "\n",
       "| term &lt;chr&gt; | estimate &lt;dbl&gt; | std.error &lt;dbl&gt; | statistic &lt;dbl&gt; | p.value &lt;dbl&gt; |\n",
       "|---|---|---|---|---|\n",
       "| (Intercept)     | -4.241 | 0.246 | -17.215 | 0.000 |\n",
       "| dibpatType A    |  0.730 | 0.144 |   5.084 | 0.000 |\n",
       "| age_bins(42,45] |  0.190 | 0.230 |   0.826 | 0.409 |\n",
       "| age_bins(45,50] |  0.687 | 0.197 |   3.483 | 0.000 |\n",
       "| ⋮ | ⋮ | ⋮ | ⋮ | ⋮ |\n",
       "| bmi_bins(23,24.4]   | 0.413 | 0.208 | 1.981 | 0.048 |\n",
       "| bmi_bins(24.4,25.8] | 0.569 | 0.205 | 2.778 | 0.005 |\n",
       "| bmi_bins(25.8,38.9] | 0.796 | 0.199 | 4.008 | 0.000 |\n",
       "| smokeYes            | 0.704 | 0.139 | 5.050 | 0.000 |\n",
       "\n"
      ],
      "text/plain": [
       "  term                estimate std.error statistic p.value\n",
       "1 (Intercept)         -4.241   0.246     -17.215   0.000  \n",
       "2 dibpatType A         0.730   0.144       5.084   0.000  \n",
       "3 age_bins(42,45]      0.190   0.230       0.826   0.409  \n",
       "4 age_bins(45,50]      0.687   0.197       3.483   0.000  \n",
       "⋮ ⋮                   ⋮        ⋮         ⋮         ⋮      \n",
       "6 bmi_bins(23,24.4]   0.413    0.208     1.981     0.048  \n",
       "7 bmi_bins(24.4,25.8] 0.569    0.205     2.778     0.005  \n",
       "8 bmi_bins(25.8,38.9] 0.796    0.199     4.008     0.000  \n",
       "9 smokeYes            0.704    0.139     5.050     0.000  "
      ]
     },
     "metadata": {},
     "output_type": "display_data"
    }
   ],
   "source": [
    "tidy(bin_log_model) %>% mutate_if(is.numeric, round, 3)"
   ]
  },
  {
   "cell_type": "markdown",
   "id": "13391bc8",
   "metadata": {
    "slideshow": {
     "slide_type": "slide"
    }
   },
   "source": [
    "Then, we use the function `anova()` with the parameter `test = \"LRT\"`. Note that we will be storing different $p$-values in vector `p_values`."
   ]
  },
  {
   "cell_type": "code",
   "execution_count": 38,
   "id": "390b3b01",
   "metadata": {
    "slideshow": {
     "slide_type": "fragment"
    }
   },
   "outputs": [
    {
     "data": {
      "text/html": [
       "<table class=\"dataframe\">\n",
       "<caption>A anova: 2 × 5</caption>\n",
       "<thead>\n",
       "\t<tr><th></th><th scope=col>Resid. Df</th><th scope=col>Resid. Dev</th><th scope=col>Df</th><th scope=col>Deviance</th><th scope=col>Pr(&gt;Chi)</th></tr>\n",
       "\t<tr><th></th><th scope=col>&lt;dbl&gt;</th><th scope=col>&lt;dbl&gt;</th><th scope=col>&lt;dbl&gt;</th><th scope=col>&lt;dbl&gt;</th><th scope=col>&lt;dbl&gt;</th></tr>\n",
       "</thead>\n",
       "<tbody>\n",
       "\t<tr><th scope=row>1</th><td>3092</td><td>1628.780</td><td>NA</td><td>    NA</td><td>   NA</td></tr>\n",
       "\t<tr><th scope=row>2</th><td>3068</td><td>1599.836</td><td>24</td><td>28.944</td><td>0.222</td></tr>\n",
       "</tbody>\n",
       "</table>\n"
      ],
      "text/latex": [
       "A anova: 2 × 5\n",
       "\\begin{tabular}{r|lllll}\n",
       "  & Resid. Df & Resid. Dev & Df & Deviance & Pr(>Chi)\\\\\n",
       "  & <dbl> & <dbl> & <dbl> & <dbl> & <dbl>\\\\\n",
       "\\hline\n",
       "\t1 & 3092 & 1628.780 & NA &     NA &    NA\\\\\n",
       "\t2 & 3068 & 1599.836 & 24 & 28.944 & 0.222\\\\\n",
       "\\end{tabular}\n"
      ],
      "text/markdown": [
       "\n",
       "A anova: 2 × 5\n",
       "\n",
       "| <!--/--> | Resid. Df &lt;dbl&gt; | Resid. Dev &lt;dbl&gt; | Df &lt;dbl&gt; | Deviance &lt;dbl&gt; | Pr(&gt;Chi) &lt;dbl&gt; |\n",
       "|---|---|---|---|---|---|\n",
       "| 1 | 3092 | 1628.780 | NA |     NA |    NA |\n",
       "| 2 | 3068 | 1599.836 | 24 | 28.944 | 0.222 |\n",
       "\n"
      ],
      "text/plain": [
       "  Resid. Df Resid. Dev Df Deviance Pr(>Chi)\n",
       "1 3092      1628.780   NA     NA      NA   \n",
       "2 3068      1599.836   24 28.944   0.222   "
      ]
     },
     "metadata": {},
     "output_type": "display_data"
    }
   ],
   "source": [
    "anova(bin_log_model, triple_bin_log_model, test = \"LRT\")  %>% mutate_if(is.numeric, round, 3)\n",
    "p_values <- c(anova(bin_log_model, triple_bin_log_model, test = \"LRT\")$`Pr(>Chi)`[2]) # Storing p-value"
   ]
  },
  {
   "cell_type": "markdown",
   "id": "6a258bee",
   "metadata": {
    "slideshow": {
     "slide_type": "fragment"
    }
   },
   "source": [
    "Given the $p$-value above for the LRT, our simple model suffices."
   ]
  },
  {
   "cell_type": "markdown",
   "id": "a51b3af4",
   "metadata": {
    "slideshow": {
     "slide_type": "slide"
    }
   },
   "source": [
    "#### 4.4.2. Stress tests of the SECOND assumption (no interactions between $X$ and the confounders)"
   ]
  },
  {
   "cell_type": "markdown",
   "id": "766239ad",
   "metadata": {
    "slideshow": {
     "slide_type": "fragment"
    }
   },
   "source": [
    "For the second assumption, we will fit three other models. Each of them will include the terms of our simple model `bin_log_model` plus one double interaction between $X$ and a given confounder. Then, we run the corresponding LRT via `anova()`. Given the $p$-values below for the LRT, our simple model suffices."
   ]
  },
  {
   "cell_type": "code",
   "execution_count": 39,
   "id": "c14bd6b5",
   "metadata": {
    "slideshow": {
     "slide_type": "fragment"
    }
   },
   "outputs": [
    {
     "data": {
      "text/html": [
       "<table class=\"dataframe\">\n",
       "<caption>A anova: 2 × 5</caption>\n",
       "<thead>\n",
       "\t<tr><th></th><th scope=col>Resid. Df</th><th scope=col>Resid. Dev</th><th scope=col>Df</th><th scope=col>Deviance</th><th scope=col>Pr(&gt;Chi)</th></tr>\n",
       "\t<tr><th></th><th scope=col>&lt;dbl&gt;</th><th scope=col>&lt;dbl&gt;</th><th scope=col>&lt;dbl&gt;</th><th scope=col>&lt;dbl&gt;</th><th scope=col>&lt;dbl&gt;</th></tr>\n",
       "</thead>\n",
       "<tbody>\n",
       "\t<tr><th scope=row>1</th><td>3092</td><td>1628.780</td><td>NA</td><td>   NA</td><td>   NA</td></tr>\n",
       "\t<tr><th scope=row>2</th><td>3089</td><td>1627.929</td><td> 3</td><td>0.852</td><td>0.837</td></tr>\n",
       "</tbody>\n",
       "</table>\n"
      ],
      "text/latex": [
       "A anova: 2 × 5\n",
       "\\begin{tabular}{r|lllll}\n",
       "  & Resid. Df & Resid. Dev & Df & Deviance & Pr(>Chi)\\\\\n",
       "  & <dbl> & <dbl> & <dbl> & <dbl> & <dbl>\\\\\n",
       "\\hline\n",
       "\t1 & 3092 & 1628.780 & NA &    NA &    NA\\\\\n",
       "\t2 & 3089 & 1627.929 &  3 & 0.852 & 0.837\\\\\n",
       "\\end{tabular}\n"
      ],
      "text/markdown": [
       "\n",
       "A anova: 2 × 5\n",
       "\n",
       "| <!--/--> | Resid. Df &lt;dbl&gt; | Resid. Dev &lt;dbl&gt; | Df &lt;dbl&gt; | Deviance &lt;dbl&gt; | Pr(&gt;Chi) &lt;dbl&gt; |\n",
       "|---|---|---|---|---|---|\n",
       "| 1 | 3092 | 1628.780 | NA |    NA |    NA |\n",
       "| 2 | 3089 | 1627.929 |  3 | 0.852 | 0.837 |\n",
       "\n"
      ],
      "text/plain": [
       "  Resid. Df Resid. Dev Df Deviance Pr(>Chi)\n",
       "1 3092      1628.780   NA    NA       NA   \n",
       "2 3089      1627.929    3 0.852    0.837   "
      ]
     },
     "metadata": {},
     "output_type": "display_data"
    }
   ],
   "source": [
    "int_bin_log_model <-  glm(chd69 ~ dibpat + smoke + age_bins + bmi_bins + dibpat:age_bins, family = \"binomial\")\n",
    "anova(bin_log_model, int_bin_log_model, test = \"LRT\")  %>% mutate_if(is.numeric, round, 3)\n",
    "p_values <- c(p_values, anova(bin_log_model, int_bin_log_model, test = \"Chi\")$`Pr(>Chi)`[2]) # Storing p-value"
   ]
  },
  {
   "cell_type": "code",
   "execution_count": 40,
   "id": "c59b555d",
   "metadata": {
    "slideshow": {
     "slide_type": "fragment"
    }
   },
   "outputs": [
    {
     "data": {
      "text/html": [
       "<table class=\"dataframe\">\n",
       "<caption>A anova: 2 × 5</caption>\n",
       "<thead>\n",
       "\t<tr><th></th><th scope=col>Resid. Df</th><th scope=col>Resid. Dev</th><th scope=col>Df</th><th scope=col>Deviance</th><th scope=col>Pr(&gt;Chi)</th></tr>\n",
       "\t<tr><th></th><th scope=col>&lt;dbl&gt;</th><th scope=col>&lt;dbl&gt;</th><th scope=col>&lt;dbl&gt;</th><th scope=col>&lt;dbl&gt;</th><th scope=col>&lt;dbl&gt;</th></tr>\n",
       "</thead>\n",
       "<tbody>\n",
       "\t<tr><th scope=row>1</th><td>3092</td><td>1628.780</td><td>NA</td><td>   NA</td><td>   NA</td></tr>\n",
       "\t<tr><th scope=row>2</th><td>3091</td><td>1627.647</td><td> 1</td><td>1.133</td><td>0.287</td></tr>\n",
       "</tbody>\n",
       "</table>\n"
      ],
      "text/latex": [
       "A anova: 2 × 5\n",
       "\\begin{tabular}{r|lllll}\n",
       "  & Resid. Df & Resid. Dev & Df & Deviance & Pr(>Chi)\\\\\n",
       "  & <dbl> & <dbl> & <dbl> & <dbl> & <dbl>\\\\\n",
       "\\hline\n",
       "\t1 & 3092 & 1628.780 & NA &    NA &    NA\\\\\n",
       "\t2 & 3091 & 1627.647 &  1 & 1.133 & 0.287\\\\\n",
       "\\end{tabular}\n"
      ],
      "text/markdown": [
       "\n",
       "A anova: 2 × 5\n",
       "\n",
       "| <!--/--> | Resid. Df &lt;dbl&gt; | Resid. Dev &lt;dbl&gt; | Df &lt;dbl&gt; | Deviance &lt;dbl&gt; | Pr(&gt;Chi) &lt;dbl&gt; |\n",
       "|---|---|---|---|---|---|\n",
       "| 1 | 3092 | 1628.780 | NA |    NA |    NA |\n",
       "| 2 | 3091 | 1627.647 |  1 | 1.133 | 0.287 |\n",
       "\n"
      ],
      "text/plain": [
       "  Resid. Df Resid. Dev Df Deviance Pr(>Chi)\n",
       "1 3092      1628.780   NA    NA       NA   \n",
       "2 3091      1627.647    1 1.133    0.287   "
      ]
     },
     "metadata": {},
     "output_type": "display_data"
    }
   ],
   "source": [
    "int_bin_log_model_2 <-  glm(chd69 ~ dibpat + smoke + age_bins + bmi_bins + dibpat:smoke, family = \"binomial\")\n",
    "anova(bin_log_model, int_bin_log_model_2, test = \"LRT\") %>% mutate_if(is.numeric, round, 3)\n",
    "p_values <- c(p_values, anova(bin_log_model, int_bin_log_model_2, test = \"LRT\")$`Pr(>Chi)`[2]) # Storing p-value"
   ]
  },
  {
   "cell_type": "code",
   "execution_count": 41,
   "id": "aad6b677",
   "metadata": {
    "slideshow": {
     "slide_type": "slide"
    }
   },
   "outputs": [
    {
     "data": {
      "text/html": [
       "<table class=\"dataframe\">\n",
       "<caption>A anova: 2 × 5</caption>\n",
       "<thead>\n",
       "\t<tr><th></th><th scope=col>Resid. Df</th><th scope=col>Resid. Dev</th><th scope=col>Df</th><th scope=col>Deviance</th><th scope=col>Pr(&gt;Chi)</th></tr>\n",
       "\t<tr><th></th><th scope=col>&lt;dbl&gt;</th><th scope=col>&lt;dbl&gt;</th><th scope=col>&lt;dbl&gt;</th><th scope=col>&lt;dbl&gt;</th><th scope=col>&lt;dbl&gt;</th></tr>\n",
       "</thead>\n",
       "<tbody>\n",
       "\t<tr><th scope=row>1</th><td>3092</td><td>1628.780</td><td>NA</td><td>  NA</td><td>   NA</td></tr>\n",
       "\t<tr><th scope=row>2</th><td>3089</td><td>1627.111</td><td> 3</td><td>1.67</td><td>0.644</td></tr>\n",
       "</tbody>\n",
       "</table>\n"
      ],
      "text/latex": [
       "A anova: 2 × 5\n",
       "\\begin{tabular}{r|lllll}\n",
       "  & Resid. Df & Resid. Dev & Df & Deviance & Pr(>Chi)\\\\\n",
       "  & <dbl> & <dbl> & <dbl> & <dbl> & <dbl>\\\\\n",
       "\\hline\n",
       "\t1 & 3092 & 1628.780 & NA &   NA &    NA\\\\\n",
       "\t2 & 3089 & 1627.111 &  3 & 1.67 & 0.644\\\\\n",
       "\\end{tabular}\n"
      ],
      "text/markdown": [
       "\n",
       "A anova: 2 × 5\n",
       "\n",
       "| <!--/--> | Resid. Df &lt;dbl&gt; | Resid. Dev &lt;dbl&gt; | Df &lt;dbl&gt; | Deviance &lt;dbl&gt; | Pr(&gt;Chi) &lt;dbl&gt; |\n",
       "|---|---|---|---|---|---|\n",
       "| 1 | 3092 | 1628.780 | NA |   NA |    NA |\n",
       "| 2 | 3089 | 1627.111 |  3 | 1.67 | 0.644 |\n",
       "\n"
      ],
      "text/plain": [
       "  Resid. Df Resid. Dev Df Deviance Pr(>Chi)\n",
       "1 3092      1628.780   NA   NA        NA   \n",
       "2 3089      1627.111    3 1.67     0.644   "
      ]
     },
     "metadata": {},
     "output_type": "display_data"
    }
   ],
   "source": [
    "int_bin_log_model_3 <-  glm(chd69 ~ dibpat + smoke + age_bins + bmi_bins + dibpat:bmi_bins, family = \"binomial\")\n",
    "anova(bin_log_model, int_bin_log_model_3, test = \"LRT\") %>% mutate_if(is.numeric, round, 3)\n",
    "p_values <- c(p_values, anova(bin_log_model, int_bin_log_model_3, test = \"LRT\")$`Pr(>Chi)`[2]) # Storing p-value"
   ]
  },
  {
   "cell_type": "markdown",
   "id": "f22c7f2d",
   "metadata": {
    "slideshow": {
     "slide_type": "fragment"
    }
   },
   "source": [
    "#### 4.4.3. Stress test of the THIRD assumption (no additional confounders are necessary)"
   ]
  },
  {
   "cell_type": "markdown",
   "id": "10054292",
   "metadata": {
    "slideshow": {
     "slide_type": "fragment"
    }
   },
   "source": [
    "Suppose we want to use the subject's cholesterol levels (`chol`) as an additional confounder besides the three ones already included in the simple `bin_log_model`. We will create another quartile strata for `chol` and fit another model called `chol_bin_log_model`. Then we run the corresponding LRT."
   ]
  },
  {
   "cell_type": "code",
   "execution_count": 42,
   "id": "82c403ea",
   "metadata": {
    "slideshow": {
     "slide_type": "fragment"
    }
   },
   "outputs": [
    {
     "data": {
      "text/html": [
       "<style>\n",
       ".list-inline {list-style: none; margin:0; padding: 0}\n",
       ".list-inline>li {display: inline-block}\n",
       ".list-inline>li:not(:last-child)::after {content: \"\\00b7\"; padding: 0 .5ex}\n",
       "</style>\n",
       "<ol class=list-inline><li>'[103,197]'</li><li>'(197,223]'</li><li>'(223,253]'</li><li>'(253,645]'</li></ol>\n"
      ],
      "text/latex": [
       "\\begin{enumerate*}\n",
       "\\item '{[}103,197{]}'\n",
       "\\item '(197,223{]}'\n",
       "\\item '(223,253{]}'\n",
       "\\item '(253,645{]}'\n",
       "\\end{enumerate*}\n"
      ],
      "text/markdown": [
       "1. '[103,197]'\n",
       "2. '(197,223]'\n",
       "3. '(223,253]'\n",
       "4. '(253,645]'\n",
       "\n",
       "\n"
      ],
      "text/plain": [
       "[1] \"[103,197]\" \"(197,223]\" \"(223,253]\" \"(253,645]\""
      ]
     },
     "metadata": {},
     "output_type": "display_data"
    }
   ],
   "source": [
    "detach(training_data)\n",
    "\n",
    "training_data <- training_data %>%\n",
    "  mutate(chol_bins = cut(chol, breaks = c(min(chol), quantile(chol, (1:3) / 4), max(chol)), include.lowest = TRUE))\n",
    "levels(training_data$chol_bins)"
   ]
  },
  {
   "cell_type": "code",
   "execution_count": 43,
   "id": "7f0b8cc0",
   "metadata": {
    "slideshow": {
     "slide_type": "slide"
    }
   },
   "outputs": [
    {
     "data": {
      "text/html": [
       "<table class=\"dataframe\">\n",
       "<caption>A anova: 2 × 5</caption>\n",
       "<thead>\n",
       "\t<tr><th></th><th scope=col>Resid. Df</th><th scope=col>Resid. Dev</th><th scope=col>Df</th><th scope=col>Deviance</th><th scope=col>Pr(&gt;Chi)</th></tr>\n",
       "\t<tr><th></th><th scope=col>&lt;dbl&gt;</th><th scope=col>&lt;dbl&gt;</th><th scope=col>&lt;dbl&gt;</th><th scope=col>&lt;dbl&gt;</th><th scope=col>&lt;dbl&gt;</th></tr>\n",
       "</thead>\n",
       "<tbody>\n",
       "\t<tr><th scope=row>1</th><td>3092</td><td>1628.780</td><td>NA</td><td>    NA</td><td>NA</td></tr>\n",
       "\t<tr><th scope=row>2</th><td>3089</td><td>1580.257</td><td> 3</td><td>48.523</td><td> 0</td></tr>\n",
       "</tbody>\n",
       "</table>\n"
      ],
      "text/latex": [
       "A anova: 2 × 5\n",
       "\\begin{tabular}{r|lllll}\n",
       "  & Resid. Df & Resid. Dev & Df & Deviance & Pr(>Chi)\\\\\n",
       "  & <dbl> & <dbl> & <dbl> & <dbl> & <dbl>\\\\\n",
       "\\hline\n",
       "\t1 & 3092 & 1628.780 & NA &     NA & NA\\\\\n",
       "\t2 & 3089 & 1580.257 &  3 & 48.523 &  0\\\\\n",
       "\\end{tabular}\n"
      ],
      "text/markdown": [
       "\n",
       "A anova: 2 × 5\n",
       "\n",
       "| <!--/--> | Resid. Df &lt;dbl&gt; | Resid. Dev &lt;dbl&gt; | Df &lt;dbl&gt; | Deviance &lt;dbl&gt; | Pr(&gt;Chi) &lt;dbl&gt; |\n",
       "|---|---|---|---|---|---|\n",
       "| 1 | 3092 | 1628.780 | NA |     NA | NA |\n",
       "| 2 | 3089 | 1580.257 |  3 | 48.523 |  0 |\n",
       "\n"
      ],
      "text/plain": [
       "  Resid. Df Resid. Dev Df Deviance Pr(>Chi)\n",
       "1 3092      1628.780   NA     NA   NA      \n",
       "2 3089      1580.257    3 48.523    0      "
      ]
     },
     "metadata": {},
     "output_type": "display_data"
    }
   ],
   "source": [
    "attach(training_data)\n",
    "\n",
    "chol_bin_log_model <- glm(chd69 ~ dibpat + age_bins + smoke + bmi_bins + chol_bins, family = \"binomial\")\n",
    "anova(bin_log_model, chol_bin_log_model, test = \"LRT\") %>% mutate_if(is.numeric, round, 3)\n",
    "p_values <- c(p_values, anova(bin_log_model, chol_bin_log_model, test = \"LRT\")$`Pr(>Chi)`[2]) # Storing p-value"
   ]
  },
  {
   "cell_type": "markdown",
   "id": "19e78d63",
   "metadata": {
    "slideshow": {
     "slide_type": "fragment"
    }
   },
   "source": [
    "Note that in this case, we reject $H_0$ in our LRT. Hence we need to consider `chol` in our logistic regression model! Therefore, `bin_log_model` **DOES NOT** fulfil this assumption."
   ]
  },
  {
   "cell_type": "markdown",
   "id": "37d106d7",
   "metadata": {
    "slideshow": {
     "slide_type": "slide"
    }
   },
   "source": [
    "Testing the third assumption is challenging when assessing causation in observational studies involving many different confounders, such as the WCGS case. Hence, we can think about a practical solution: **automating the model building process and selection (confounder by confounder) while testing the three assumptions**."
   ]
  },
  {
   "cell_type": "markdown",
   "id": "f13649ff",
   "metadata": {
    "slideshow": {
     "slide_type": "fragment"
    }
   },
   "source": [
    "```{attention}\n",
    "The above idea is a crucial part of your work as a Data Scientist when doing **model building and selection** in observational studies to detect causation. Moreover, **this process involves multiple testing**! Hence, you need to use the concepts of {doc}`lecture1_multiple_comparisons`. This is the reason we stored all the previous `p_values`.\n",
    "```"
   ]
  },
  {
   "cell_type": "code",
   "execution_count": 44,
   "id": "d49f9041",
   "metadata": {
    "slideshow": {
     "slide_type": "fragment"
    }
   },
   "outputs": [
    {
     "data": {
      "text/html": [
       "<table class=\"dataframe\">\n",
       "<caption>A matrix: 1 × 5 of type dbl</caption>\n",
       "<tbody>\n",
       "\t<tr><td>1</td><td>1</td><td>1</td><td>1</td><td>8.239119e-10</td></tr>\n",
       "</tbody>\n",
       "</table>\n"
      ],
      "text/latex": [
       "A matrix: 1 × 5 of type dbl\n",
       "\\begin{tabular}{lllll}\n",
       "\t 1 & 1 & 1 & 1 & 8.239119e-10\\\\\n",
       "\\end{tabular}\n"
      ],
      "text/markdown": [
       "\n",
       "A matrix: 1 × 5 of type dbl\n",
       "\n",
       "| 1 | 1 | 1 | 1 | 8.239119e-10 |\n",
       "\n"
      ],
      "text/plain": [
       "     [,1] [,2] [,3] [,4] [,5]        \n",
       "[1,] 1    1    1    1    8.239119e-10"
      ]
     },
     "metadata": {},
     "output_type": "display_data"
    }
   ],
   "source": [
    "adj_p_values <- matrix(data = p.adjust(p_values, method = \"bonferroni\"), nrow = 1, ncol = length(p_values))\n",
    "adj_p_values"
   ]
  },
  {
   "cell_type": "markdown",
   "id": "98945936",
   "metadata": {
    "slideshow": {
     "slide_type": "fragment"
    }
   },
   "source": [
    "The last adjusted $p$-value from left to right involves the LRT of `bin_log_model` versus `chol_bin_log_model`. We would need to proceed with `chol_bin_log_model` and restart the model checking since the first assumption. Testing the third assumption will involve an additional confounder from `wcgs`."
   ]
  },
  {
   "cell_type": "markdown",
   "id": "2d23039e",
   "metadata": {
    "slideshow": {
     "slide_type": "slide"
    }
   },
   "source": [
    "## 5. Wrapping Up\n",
    "\n",
    "We have the following parting thoughts for today:\n",
    "\n",
    "- We have made a connection between **stratification** and **regression**.\n",
    "- In some contexts, we build regression models with **prediction** as the main goal.\n",
    "- In others (like today!), we build regression models with **explanation** as the main goal.\n",
    "- For **causal** interpretations, various assumptions must be met. These assumptions are pretty strong!\n",
    "- Some of them are testable/checkable (typically having to do with appropriate model specification issues like smoothness, lack of interactions between the variable of interest and confounders, etc.).\n",
    "- We almost always have at least one **untestable** assumption, e.g., **no unobserved confounders**."
   ]
  }
 ],
 "metadata": {
  "celltoolbar": "Tags",
  "kernelspec": {
   "display_name": "R",
   "language": "R",
   "name": "ir"
  },
  "language_info": {
   "codemirror_mode": "r",
   "file_extension": ".r",
   "mimetype": "text/x-r-source",
   "name": "R",
   "pygments_lexer": "r",
   "version": "4.4.1"
  }
 },
 "nbformat": 4,
 "nbformat_minor": 5
}